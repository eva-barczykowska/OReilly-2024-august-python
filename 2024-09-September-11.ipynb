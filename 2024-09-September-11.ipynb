{
 "cells": [
  {
   "cell_type": "markdown",
   "metadata": {},
   "source": [
    "# Agenda, week 3\n",
    "\n",
    "- Q&A\n",
    "- Dictionaries\n",
    "    - Creating them\n",
    "    - Working with them (in several ways)\n",
    "    - Modifying and updating them\n",
    "    - How are dictionaries implemented?\n",
    "- Files\n",
    "    - Reading from text files\n",
    "    - Reading from text files in a `for` loop\n",
    "    - (A little bit) about writing to text files\n",
    "    - Please download https://files.lerner.co.il/exercise-files.zip to your computer"
   ]
  },
  {
   "cell_type": "code",
   "execution_count": 3,
   "metadata": {
    "scrolled": true
   },
   "outputs": [
    {
     "name": "stdin",
     "output_type": "stream",
     "text": [
      "Enter number 0:  10\n",
      "Enter number 1:  11\n",
      "Enter number 2:  14\n",
      "Enter number 3:  15\n",
      "Enter number 4:  16\n"
     ]
    },
    {
     "name": "stdout",
     "output_type": "stream",
     "text": [
      "Even [10, 14, 16] Odd [11, 15]\n"
     ]
    }
   ],
   "source": [
    "odds = []\n",
    "evens = []\n",
    "\n",
    "for one_char in range(5):  # iterate 5 times, putting the numbers 0-4 into the one_char variable\n",
    "    num = input(f\"Enter number {one_char}: \") \n",
    "\n",
    "    if not num.isdigit():\n",
    "        print(\"Not a number, try again..\")\n",
    "    else:\n",
    "        num = int(num)\n",
    "        if (num % 2) == 0:\n",
    "            evens.append(num)\n",
    "        else:\n",
    "            odds.append(num)\n",
    "\n",
    "print(f'Even {evens} Odd {odds}')"
   ]
  },
  {
   "cell_type": "code",
   "execution_count": null,
   "metadata": {},
   "outputs": [],
   "source": []
  },
  {
   "cell_type": "code",
   "execution_count": null,
   "metadata": {},
   "outputs": [],
   "source": []
  },
  {
   "cell_type": "code",
   "execution_count": 4,
   "metadata": {},
   "outputs": [],
   "source": [
    "# 2. Also can you explain what you mena by immutable and mutable, you used it in List and tuples?\n",
    "\n",
    "\n"
   ]
  },
  {
   "cell_type": "markdown",
   "metadata": {},
   "source": [
    "# Mutable vs. immutable\n",
    "\n",
    "- Mutable data is a value that we can change. We can replace existing values, we can add new values, and we can remove existing values. If we can modify the contents of the data structure, without creating a new one,\n",
    "then that is considered to be mutable. So far, the only mutable value we've encountered is the *list*. Today, we'll be looking at\n",
    "dicts, which are also mutable.\n",
    "- Immutable data is a value that can never change. You cannot replace any of its values, you cannot make it longer, and you cannot make it shorter. Strings and tuples are both immutable values in Python.\n",
    "\n",
    "Some questions:\n",
    "- Why do we want immutable data? "
   ]
  },
  {
   "cell_type": "code",
   "execution_count": null,
   "metadata": {},
   "outputs": [],
   "source": []
  }
 ],
 "metadata": {
  "kernelspec": {
   "display_name": "Python 3 (ipykernel)",
   "language": "python",
   "name": "python3"
  },
  "language_info": {
   "codemirror_mode": {
    "name": "ipython",
    "version": 3
   },
   "file_extension": ".py",
   "mimetype": "text/x-python",
   "name": "python",
   "nbconvert_exporter": "python",
   "pygments_lexer": "ipython3",
   "version": "3.12.5"
  }
 },
 "nbformat": 4,
 "nbformat_minor": 4
}
