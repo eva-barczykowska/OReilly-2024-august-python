{
 "cells": [
  {
   "cell_type": "markdown",
   "metadata": {},
   "source": [
    "# Agenda: Welcome!\n",
    "\n",
    "1. Fundamentals and core concepts\n",
    "    - What is a programming language? What is Python? (Why Python?)\n",
    "    - Jupyter, the Web-based environment I use (and you can, too)\n",
    "    - Basic integers and strings (text)\n",
    "    - Variables and assignment\n",
    "    - Printing things on the screen\n",
    "    - Getting input from the user\n",
    "    - Comparing values with `==`\n",
    "    - Making decisions with `if`/`elif`/`else`\n",
    "    - Working with numbers\n",
    "    - Working with text\n",
    "    - Methods vs. functions\n",
    "2. Loops, lists, and tuples\n",
    "    - Looping with `for` and `while`\n",
    "    - Lists -- creating them and working with them\n",
    "    - Turning strings into lists, and vice versa\n",
    "    - Tuples and tuple unpacking\n",
    "3. Dictionaries and files\n",
    "    - Dicts -- what are they, and how can we use them?\n",
    "    - Files -- reading from them, and (a little bit of) writing to them\n",
    "4. Functions\n",
    "    - Defining functions\n",
    "    - Arguments and parameters\n",
    "    - Return values\n",
    "5. Modules and packages\n",
    "    - Using Python's standard library\n",
    "    - Writing our own modules\n",
    "    - Downloading and installing modules from the Internet using `pip`"
   ]
  },
  {
   "cell_type": "code",
   "execution_count": null,
   "metadata": {},
   "outputs": [],
   "source": []
  }
 ],
 "metadata": {
  "kernelspec": {
   "display_name": "Python 3 (ipykernel)",
   "language": "python",
   "name": "python3"
  },
  "language_info": {
   "codemirror_mode": {
    "name": "ipython",
    "version": 3
   },
   "file_extension": ".py",
   "mimetype": "text/x-python",
   "name": "python",
   "nbconvert_exporter": "python",
   "pygments_lexer": "ipython3",
   "version": "3.12.5"
  }
 },
 "nbformat": 4,
 "nbformat_minor": 4
}
