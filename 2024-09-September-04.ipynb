{
 "cells": [
  {
   "cell_type": "markdown",
   "metadata": {},
   "source": [
    "# Agenda: Loops, lists, and tuples\n",
    "\n",
    "1. Q&A\n",
    "2. Loops\n",
    "    - `for`\n",
    "    - Looping a number of times with `range`\n",
    "    - Indexes (or the lack thereof)\n",
    "    - `while`\n",
    "    - `break` and `continue`\n",
    "3. Lists\n",
    "    - Creating lists\n",
    "    - Retrieving from lists\n",
    "    - Lists are mutable -- what that means, and list methods\n",
    "4. Strings to lists, and back\n",
    "    - Turning a string into a list with `str.split`\n",
    "    - Turning a list into a string with `str.join`\n",
    "5. Tuples\n",
    "    - What are they?\n",
    "    - How are they similar to / different from lists and strings?\n",
    "    - Tuple unpacking"
   ]
  },
  {
   "cell_type": "markdown",
   "metadata": {},
   "source": [
    "# Loops\n",
    "\n",
    "One of the most important ideas in programming is DRY (don't repeat yourself). If you see that you're repeating code, or semi-repeating code, then you should think again about how you're writing things."
   ]
  },
  {
   "cell_type": "code",
   "execution_count": 1,
   "metadata": {},
   "outputs": [
    {
     "name": "stdout",
     "output_type": "stream",
     "text": [
      "a\n",
      "b\n",
      "c\n",
      "d\n"
     ]
    }
   ],
   "source": [
    "# I want to print all of the characters in s. How can I do that?\n",
    "\n",
    "s = 'abcd'\n",
    "\n",
    "print(s[0])\n",
    "print(s[1])\n",
    "print(s[2])\n",
    "print(s[3])"
   ]
  },
  {
   "cell_type": "code",
   "execution_count": 3,
   "metadata": {},
   "outputs": [
    {
     "name": "stdout",
     "output_type": "stream",
     "text": [
      "Before\n",
      "a\n",
      "b\n",
      "c\n",
      "d\n",
      "After\n"
     ]
    }
   ],
   "source": [
    "# if I can find a way to tell it:\n",
    "# go through each character in s, and print it\n",
    "\n",
    "# that's what a loop is -- especially a \"for\" loop\n",
    "\n",
    "# let's see how a for loop would look in this case\n",
    "\n",
    "s = 'abcd'\n",
    "\n",
    "print('Before')\n",
    "for one_character in s:\n",
    "    print(one_character)\n",
    "print('After')    "
   ]
  },
  {
   "cell_type": "markdown",
   "metadata": {},
   "source": [
    "# The `for` loop's syntax\n",
    "\n",
    "- `for` VARIABLE `if` in OBJECT\n",
    "- At the end of that line, we have a `:`\n",
    "- Then we have an indented block, the loop body\n",
    "\n",
    "# What's happening inside\n",
    "\n",
    "1. `for` turns to the object at the end of the line (`s`) and asks it: Are you iterable?\n",
    "    - If the answer is \"no,\" then the loop exits with an error.\n",
    "2. `for` asks the object for its next value.\n",
    "    - If there are no more values, then the loop exits (normally, no error).\n",
    "3. The value we got is assigned to the loop variable (in this case, `one_character`)\n",
    "4. The loop body (in this case, just one line containing `print`) is executed. It's an indented block, just like we saw last week with `if` and `else`.\n",
    "5. At the end of the loop body's execution, we return to step 2.\n",
    "\n",
    "Many people think that we're getting one character at a time because I called my loop variable `one_character`. That is COMPLETELY BACKWARDS. I called that variable `one_character` because I know that strings will give me one character at a time inside of a loop.\n",
    "\n",
    "I can call that variable anything I want; the fact that `s` is a string dictates our getting one character in each iteration.\n",
    "\n",
    "`one_character` is a variable that is assigned to once per iteration.\n",
    "\n",
    "What code can we put inside of a loop body? ANYTHING WE WANT:\n",
    "\n",
    "- `print`\n",
    "- `input`\n",
    "- assignment\n",
    "- `if`\n",
    "- `for` loops inside of `for` loops -- these are known as \"nested loops.\""
   ]
  },
  {
   "cell_type": "markdown",
   "metadata": {},
   "source": [
    "# Exercise: Vowels, digits, and others\n",
    "\n",
    "1. Define three variables (`vowels`, `digits`, and `others`), and set them all to be 0.\n",
    "2. Ask the user to enter some text.\n",
    "3. Go over each character in the user's input:\n",
    "    - If it's a vowel, add 1 to `vowels`\n",
    "    - If it's a digit, add 1 to `digits`\n",
    "    - If it's something else, add 1 to `others`\n",
    "4. At the end of the loop, print all three values.\n",
    "\n",
    "Example:\n",
    "\n",
    "    Enter text: hello!! 123\n",
    "    vowels: 2\n",
    "    digits: 3\n",
    "    others: 6"
   ]
  },
  {
   "cell_type": "code",
   "execution_count": 4,
   "metadata": {},
   "outputs": [
    {
     "data": {
      "text/plain": [
       "True"
      ]
     },
     "execution_count": 4,
     "metadata": {},
     "output_type": "execute_result"
    }
   ],
   "source": [
    "# one way to find out if a character is a vowel is with the \"in\" operator\n",
    "\n",
    "'a' in 'aeiou'   # is the thing on the left in the thing on the right? This will return True/False"
   ]
  },
  {
   "cell_type": "code",
   "execution_count": 5,
   "metadata": {},
   "outputs": [
    {
     "data": {
      "text/plain": [
       "True"
      ]
     },
     "execution_count": 5,
     "metadata": {},
     "output_type": "execute_result"
    }
   ],
   "source": [
    "one_letter = 'a'\n",
    "\n",
    "one_letter in 'aeiou'"
   ]
  },
  {
   "cell_type": "markdown",
   "metadata": {},
   "source": [
    "# Strategy \n",
    "\n",
    "1. Define the three variables (`vowels`, `digits`, and `others`) to be 0.\n",
    "2. Use `input` to get input from the user.  This will be returned as a string; assign it to a variable.\n",
    "3. Use a `for` loop to iterate over each character in the user's input string.\n",
    "4. Check each character:\n",
    "    - if the current character is `in 'aeiou'`, then it's a vowel\n",
    "    - elif the current character `.isdigit()`, then it's a digit\n",
    "    - otherwise, add 1 to `others`\n",
    "5. Print the three variables."
   ]
  },
  {
   "cell_type": "code",
   "execution_count": 6,
   "metadata": {},
   "outputs": [
    {
     "name": "stdin",
     "output_type": "stream",
     "text": [
      "Enter text:  hello!! 123\n"
     ]
    },
    {
     "name": "stdout",
     "output_type": "stream",
     "text": [
      "vowels = 2\n",
      "digits = 3\n",
      "others = 6\n"
     ]
    }
   ],
   "source": [
    "vowels = 0\n",
    "digits = 0\n",
    "others = 0\n",
    "\n",
    "s = input('Enter text: ').strip()    # we get input from the user, then immediately remove leading/trailing whitespace, then assign to s\n",
    "\n",
    "for one_character in s:\n",
    "    if one_character in 'aeiou':     # if the current character is a vowel, add 1 to the \"vowels\" variable\n",
    "        vowels += 1\n",
    "    elif one_character.isdigit():    # if the current character is 0-9, then add 1 to the \"digits\" variable\n",
    "        digits += 1\n",
    "    else:\n",
    "        others += 1\n",
    "\n",
    "print(f'vowels = {vowels}')\n",
    "print(f'digits = {digits}')\n",
    "print(f'others = {others}')\n"
   ]
  },
  {
   "cell_type": "code",
   "execution_count": 7,
   "metadata": {},
   "outputs": [
    {
     "name": "stdin",
     "output_type": "stream",
     "text": [
      "Enter some text : hello!! 123\n"
     ]
    },
    {
     "name": "stdout",
     "output_type": "stream",
     "text": [
      "Vowels=2 , Digits=3, Others=6\n"
     ]
    }
   ],
   "source": [
    "# GK\n",
    "\n",
    "vowels =0\n",
    "digits = 0\n",
    "others = 0\n",
    "some_text = input('Enter some text :')\n",
    "\n",
    "for a_character in some_text:\n",
    "    if a_character in 'aeuio':\n",
    "        vowels=vowels+1\n",
    "    elif a_character in '0123456789':\n",
    "        digits=digits+1\n",
    "    else:\n",
    "        others=others+1\n",
    "\n",
    "print(f\"Vowels={vowels} , Digits={digits}, Others={others}\")\n"
   ]
  },
  {
   "cell_type": "code",
   "execution_count": null,
   "metadata": {},
   "outputs": [],
   "source": []
  }
 ],
 "metadata": {
  "kernelspec": {
   "display_name": "Python 3 (ipykernel)",
   "language": "python",
   "name": "python3"
  },
  "language_info": {
   "codemirror_mode": {
    "name": "ipython",
    "version": 3
   },
   "file_extension": ".py",
   "mimetype": "text/x-python",
   "name": "python",
   "nbconvert_exporter": "python",
   "pygments_lexer": "ipython3",
   "version": "3.12.5"
  }
 },
 "nbformat": 4,
 "nbformat_minor": 4
}
