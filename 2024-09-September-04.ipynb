{
 "cells": [
  {
   "cell_type": "markdown",
   "metadata": {},
   "source": [
    "# Agenda: Loops, lists, and tuples\n",
    "\n",
    "1. Q&A\n",
    "2. Loops\n",
    "    - `for`\n",
    "    - Looping a number of times with `range`\n",
    "    - Indexes (or the lack thereof)\n",
    "    - `while`\n",
    "    - `break` and `continue`\n",
    "3. Lists\n",
    "    - Creating lists\n",
    "    - Retrieving from lists\n",
    "    - Lists are mutable -- what that means, and list methods\n",
    "4. Strings to lists, and back\n",
    "    - Turning a string into a list with `str.split`\n",
    "    - Turning a list into a string with `str.join`\n",
    "5. Tuples\n",
    "    - What are they?\n",
    "    - How are they similar to / different from lists and strings?\n",
    "    - Tuple unpacking"
   ]
  },
  {
   "cell_type": "markdown",
   "metadata": {},
   "source": [
    "# Loops\n",
    "\n",
    "One of the most important ideas in programming is DRY (don't repeat yourself). If you see that you're repeating code, or semi-repeating code, then you should think again about how you're writing things."
   ]
  },
  {
   "cell_type": "code",
   "execution_count": 1,
   "metadata": {},
   "outputs": [
    {
     "name": "stdout",
     "output_type": "stream",
     "text": [
      "a\n",
      "b\n",
      "c\n",
      "d\n"
     ]
    }
   ],
   "source": [
    "# I want to print all of the characters in s. How can I do that?\n",
    "\n",
    "s = 'abcd'\n",
    "\n",
    "print(s[0])\n",
    "print(s[1])\n",
    "print(s[2])\n",
    "print(s[3])"
   ]
  },
  {
   "cell_type": "code",
   "execution_count": 3,
   "metadata": {},
   "outputs": [
    {
     "name": "stdout",
     "output_type": "stream",
     "text": [
      "Before\n",
      "a\n",
      "b\n",
      "c\n",
      "d\n",
      "After\n"
     ]
    }
   ],
   "source": [
    "# if I can find a way to tell it:\n",
    "# go through each character in s, and print it\n",
    "\n",
    "# that's what a loop is -- especially a \"for\" loop\n",
    "\n",
    "# let's see how a for loop would look in this case\n",
    "\n",
    "s = 'abcd'\n",
    "\n",
    "print('Before')\n",
    "for one_character in s:\n",
    "    print(one_character)\n",
    "print('After')    "
   ]
  },
  {
   "cell_type": "markdown",
   "metadata": {},
   "source": [
    "# The `for` loop's syntax\n",
    "\n",
    "1. `for` turns to the object at the end of the line (`s`) and asks it: Are you iterable?\n",
    "    - If the answer is \"no,\" then the loop exits with an error.\n",
    "2. `for` asks the object for its next value.\n",
    "    - If there are no more values, then the loop exits (normally, no error).\n",
    "3. The value we got is assigned to the loop variable (in this case, `one_character`)\n",
    "4. The loop body (in this case, just one line containing `print`) is executed. It's an indented block, just like we saw last week with `if` and `else`.\n",
    "5. At the end of the loop body's execution, we return to step 2.\n",
    "\n",
    "Many people think that we're getting one character at a time because I called my loop variable `one_character`. That is COMPLETELY BACKWARDS. I called that variable `one_character` because I know that strings will give me one character at a time inside of a loop.\n",
    "\n",
    "I can call that variable anything I want; the fact that `s` is a string dictates our getting one character in each iteration.\n",
    "\n",
    "`one_character` is a variable that is assigned to once per iteration."
   ]
  },
  {
   "cell_type": "code",
   "execution_count": null,
   "metadata": {},
   "outputs": [],
   "source": []
  }
 ],
 "metadata": {
  "kernelspec": {
   "display_name": "Python 3 (ipykernel)",
   "language": "python",
   "name": "python3"
  },
  "language_info": {
   "codemirror_mode": {
    "name": "ipython",
    "version": 3
   },
   "file_extension": ".py",
   "mimetype": "text/x-python",
   "name": "python",
   "nbconvert_exporter": "python",
   "pygments_lexer": "ipython3",
   "version": "3.12.5"
  }
 },
 "nbformat": 4,
 "nbformat_minor": 4
}
