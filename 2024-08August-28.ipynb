{
 "cells": [
  {
   "cell_type": "markdown",
   "metadata": {},
   "source": [
    "# Agenda: Welcome!\n",
    "\n",
    "1. Fundamentals and core concepts\n",
    "    - What is a programming language? What is Python? (Why Python?)\n",
    "    - Jupyter, the Web-based environment I use (and you can, too)\n",
    "    - Basic integers and strings (text)\n",
    "    - Variables and assignment\n",
    "    - Printing things on the screen\n",
    "    - Getting input from the user\n",
    "    - Comparing values with `==`\n",
    "    - Making decisions with `if`/`elif`/`else`\n",
    "    - Working with numbers\n",
    "    - Working with text\n",
    "    - Methods vs. functions\n",
    "2. Loops, lists, and tuples\n",
    "    - Looping with `for` and `while`\n",
    "    - Lists -- creating them and working with them\n",
    "    - Turning strings into lists, and vice versa\n",
    "    - Tuples and tuple unpacking\n",
    "3. Dictionaries and files\n",
    "    - Dicts -- what are they, and how can we use them?\n",
    "    - Files -- reading from them, and (a little bit of) writing to them\n",
    "4. Functions\n",
    "    - Defining functions\n",
    "    - Arguments and parameters\n",
    "    - Return values\n",
    "5. Modules and packages\n",
    "    - Using Python's standard library\n",
    "    - Writing our own modules\n",
    "    - Downloading and installing modules from the Internet using `pip`"
   ]
  },
  {
   "cell_type": "markdown",
   "metadata": {},
   "source": [
    "# What is a programming language? How does Python fit into this?\n",
    "\n",
    "When computers were first invented, each computer could solve a single problem. If you wanted to change the problem you were solving, or how you were solving it, you needed to build a new computer.\n",
    "\n",
    "At a certain point, computers then became general purpose. The idea was that you could use the same computer to solve many different problems. This was done by allowing us to write programs. These first programs were just 1s and 0s. But at a certain point, it became clear that no one wants to write with 1s and 0s. The idea of a programming language started. \n",
    "\n",
    "Fast forward to today, and there are tens of thousands (or hundreds of thousands) of programming langauges. All of them allow us to express problems we want to solve, and how we want to solve them, in different ways. However, they're all translated into 1s and 0s.\n",
    "\n",
    "Different languages give us different advantages and disadvantages:\n",
    "\n",
    "- C: Runs very quickly, but we have to write code in a way that's very close to the 1s and 0s. (The translator, known as a compiler, doesn't need to do that much work.)\n",
    "- Java: Runs almost as quickly as C, but is \"higher level,\" meaning that people don't have to work as hard to write it.\n",
    "- Python: Runs very slowly, but is as high-level as you can get -- meaning that it's easy for people to write, easy for people to read (and thus debug), and also handles solving many different problems.\n",
    "\n",
    "Python is 30 years old now, but it's very very popular nowadays. It's used in a wide variety of applications:\n",
    "- Web applications\n",
    "- System administ"
   ]
  }
 ],
 "metadata": {
  "kernelspec": {
   "display_name": "Python 3 (ipykernel)",
   "language": "python",
   "name": "python3"
  },
  "language_info": {
   "codemirror_mode": {
    "name": "ipython",
    "version": 3
   },
   "file_extension": ".py",
   "mimetype": "text/x-python",
   "name": "python",
   "nbconvert_exporter": "python",
   "pygments_lexer": "ipython3",
   "version": "3.12.5"
  }
 },
 "nbformat": 4,
 "nbformat_minor": 4
}
