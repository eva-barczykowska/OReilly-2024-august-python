{
 "cells": [
  {
   "cell_type": "markdown",
   "metadata": {},
   "source": [
    "# Agenda: Welcome!\n",
    "\n",
    "1. Fundamentals and core concepts\n",
    "    - What is a programming language? What is Python? (Why Python?)\n",
    "    - Jupyter, the Web-based environment I use (and you can, too)\n",
    "    - Basic integers and strings (text)\n",
    "    - Variables and assignment\n",
    "    - Printing things on the screen\n",
    "    - Getting input from the user\n",
    "    - Comparing values with `==`\n",
    "    - Making decisions with `if`/`elif`/`else`\n",
    "    - Working with numbers\n",
    "    - Working with text\n",
    "    - Methods vs. functions\n",
    "2. Loops, lists, and tuples\n",
    "    - Looping with `for` and `while`\n",
    "    - Lists -- creating them and working with them\n",
    "    - Turning strings into lists, and vice versa\n",
    "    - Tuples and tuple unpacking\n",
    "3. Dictionaries and files\n",
    "    - Dicts -- what are they, and how can we use them?\n",
    "    - Files -- reading from them, and (a little bit of) writing to them\n",
    "4. Functions\n",
    "    - Defining functions\n",
    "    - Arguments and parameters\n",
    "    - Return values\n",
    "5. Modules and packages\n",
    "    - Using Python's standard library\n",
    "    - Writing our own modules\n",
    "    - Downloading and installing modules from the Internet using `pip`"
   ]
  },
  {
   "cell_type": "markdown",
   "metadata": {},
   "source": [
    "# What is a programming language? How does Python fit into this?\n",
    "\n",
    "When computers were first invented, each computer could solve a single problem. If you wanted to change the problem you were solving, or how you were solving it, you needed to build a new computer.\n",
    "\n",
    "At a certain point, computers then became general purpose. The idea was that you could use the same computer to solve many different problems. This was done by allowing us to write programs. These first programs were just 1s and 0s. But at a certain point, it became clear that no one wants to write with 1s and 0s. The idea of a programming language started. \n",
    "\n",
    "Fast forward to today, and there are tens of thousands (or hundreds of thousands) of programming langauges. All of them allow us to express problems we want to solve, and how we want to solve them, in different ways. However, they're all translated into 1s and 0s.\n",
    "\n",
    "Different languages give us different advantages and disadvantages:\n",
    "\n",
    "- C: Runs very quickly, but we have to write code in a way that's very close to the 1s and 0s. (The translator, known as a compiler, doesn't need to do that much work.)\n",
    "- Java: Runs almost as quickly as C, but is \"higher level,\" meaning that people don't have to work as hard to write it.\n",
    "- Python: Runs very slowly, but is as high-level as you can get -- meaning that it's easy for people to write, easy for people to read (and thus debug), and also handles solving many different problems.\n",
    "\n",
    "Python is 30 years old now, but it's very very popular nowadays. It's used in a wide variety of applications:\n",
    "- Web applications\n",
    "- System administration and devops\n",
    "- Data analysis\n",
    "- Machine learning and data science\n",
    "- Education\n",
    "- Testing\n",
    "\n",
    "Python is popular in no small part because it tries to be readable and clear. Once you learn a rule in Python, you can apply it for the rest of your career. There very very few exceptional cases in the language. "
   ]
  },
  {
   "cell_type": "markdown",
   "metadata": {},
   "source": [
    "# Jupyter (the environment I'm using)\n",
    "\n",
    "You can write Python code using an editor (sometimes known as an IDE), and that's fine -- if you have VSCode and/or PyCharm on your computer, you can use that. However, you'll also need to install Python.\n",
    "\n",
    "You can, if you want to, install Python by going to Python.org, downloading it, and installing it (for free).  But then you'll need to install an editor as well... and it can get complex.\n",
    "\n",
    "I use Jupyter, which is a Web-based Python system. Installing Jupyter is a little complex (you need to have Python + the Jupyter package). You don't have to! You can use Jupyter via Google Colab, or another Jupyter test system online.\n",
    "\n",
    "You need a way to write Python and execute it. It doesn't really matter (for this course) if you use a Web-based notebook, your own Jupyter installation, PyCharm, VSCode, or anything else. The bottom line is you should be able to write Python and run it.\n",
    "\n",
    "Another good way to install Python + Jupyter is with Anaconda!"
   ]
  },
  {
   "cell_type": "markdown",
   "metadata": {},
   "source": [
    "# A 2-3 minute introduction to Jupyter\n",
    "\n",
    "I'm typing into what Jupyter calls a \"cell.\" A notebook contains many cells. A cell can be in Markdown mode (for writing documentation) or in Python/code mode (for writing code).\n",
    "\n",
    "This cell is currently in Markdown mode.\n",
    "\n",
    "When I type into a cell, one of two things can happen:\n",
    "\n",
    "- If the cell is currently being run for editing, then what I type is entered. I can enter \"edit mode\" by pressing ENTER or by clicking inside of the cell. When that happens, you see a blue outline.\n",
    "- If the cell is currently being run for commands, then what I type is *NOT* seen, but goes to Jupyter to tell it what to do. I can enter \"command mode\" by pressing ESC or by clicking to the left of the cell.\n",
    "\n",
    "In command mode, I can use a bunch of one-character commands to modify my notebook:\n",
    "- `c` -- copies the current cell\n",
    "- `x` -- cuts the current cell\n",
    "- `v` -- pastes the most recent cut/copy\n",
    "- `a` -- adds a new blank cell above the current one\n",
    "- `b` -- adds a new blank cell below the current one\n",
    "- `m` -- turns the current cell into a documentation/Markdown cell\n",
    "- `y` -- turns the current cell into a Python/code cell\n",
    "\n",
    "When you're done typing into a cell, you can use shift+ENTER together to \"run\" the cell. If it's Python code, it'll run/execute. If it's Markdown documentation (like I'm typing now), then it'll be formatted."
   ]
  },
  {
   "cell_type": "code",
   "execution_count": null,
   "metadata": {},
   "outputs": [],
   "source": []
  },
  {
   "cell_type": "code",
   "execution_count": 1,
   "metadata": {},
   "outputs": [
    {
     "name": "stdout",
     "output_type": "stream",
     "text": [
      "Hello!\n"
     ]
    }
   ],
   "source": [
    "# this is a Python/code cell that I'm going to program in, and then execute\n",
    "# these first lines are comments. They start with a # and go to the end of the line.\n",
    "# Python ignores these comments completely. They are for other humans to read and\n",
    "# understand (hopefully!) what we have written in our code\n",
    "\n",
    "print('Hello!')     # this is the \"print\" function, and here I'm going to print the greeting \"Hello!\""
   ]
  },
  {
   "cell_type": "markdown",
   "metadata": {},
   "source": [
    "# What did I just do?\n",
    "\n",
    "- I invoked a function, which is a verb\n",
    "- I invoked it with `()`, which tell the function to execute\n",
    "- Inside of the `()`, I gave an *argument*, a value that is passed to the function\n",
    "- The argument here was text, the *string* `'Hello!', which `print` then printed on the screen.\n",
    "- Strings in Python must have quotes around them, you can choose either `''` or `\"\"`"
   ]
  },
  {
   "cell_type": "code",
   "execution_count": 2,
   "metadata": {},
   "outputs": [
    {
     "name": "stdout",
     "output_type": "stream",
     "text": [
      "a\n",
      "b\n",
      "c\n"
     ]
    }
   ],
   "source": [
    "# in Jupyter, a cell can contain as many lines of code as I want\n",
    "# when I do shift+ENTER, all of them will be run\n",
    "\n",
    "print('a')\n",
    "print('b')\n",
    "print('c')"
   ]
  },
  {
   "cell_type": "code",
   "execution_count": 3,
   "metadata": {},
   "outputs": [
    {
     "name": "stdout",
     "output_type": "stream",
     "text": [
      "10\n"
     ]
    }
   ],
   "source": [
    "# can I print numbers? Or perform mathematical calculations?\n",
    "\n",
    "print(10)"
   ]
  },
  {
   "cell_type": "code",
   "execution_count": 4,
   "metadata": {},
   "outputs": [
    {
     "name": "stdout",
     "output_type": "stream",
     "text": [
      "13\n",
      "5\n"
     ]
    }
   ],
   "source": [
    "print(10 + 3)\n",
    "print(10 - 5)"
   ]
  },
  {
   "cell_type": "markdown",
   "metadata": {},
   "source": [
    "# Things to notice so far\n",
    "\n",
    "1. You can have (basically) one statement per line in Python -- the end of the line is the end of the command\n",
    "2. Other programming languages often require that you end a command with `;` or the like; not in Python"
   ]
  },
  {
   "cell_type": "markdown",
   "metadata": {},
   "source": [
    "This is kind of boring... instead of saying each time what I want to print, can I store a value somewhere, and then refer to that storage?\n",
    "\n",
    "Yes! This is known as a variable.\n",
    "\n",
    "# Assignment and variables\n",
    "\n",
    "If we want to store a value, we can use a *variable*. That is a named storage facility. We assign to a variable using the `=` operator, known as \"the assignment operator.\"\n",
    "\n",
    "Assignment in Python means: Take the value on the right side of `=`, and assign it to the variable on the left side of `=`.\n",
    "\n",
    "Note that we don't have to declare variables in advance, and that any variable can contain any value of any type.\n",
    "\n",
    "The first time that you assign to a variable in Python, the variable is created. Subsequent assignments replace the old value with a new value."
   ]
  },
  {
   "cell_type": "code",
   "execution_count": 5,
   "metadata": {},
   "outputs": [
    {
     "name": "stdout",
     "output_type": "stream",
     "text": [
      "100\n"
     ]
    }
   ],
   "source": [
    "x = 100     # assign the integer 100 to x\n",
    "\n",
    "print(x)    # print the value of x"
   ]
  },
  {
   "cell_type": "code",
   "execution_count": 6,
   "metadata": {},
   "outputs": [
    {
     "name": "stdout",
     "output_type": "stream",
     "text": [
      "105\n"
     ]
    }
   ],
   "source": [
    "print(x + 5)   # add 5 to x, and print the result"
   ]
  },
  {
   "cell_type": "markdown",
   "metadata": {},
   "source": [
    "How does Python know that x is a variable, and not a text string?\n",
    "\n",
    "No quotes.\n",
    "\n"
   ]
  },
  {
   "cell_type": "code",
   "execution_count": 7,
   "metadata": {},
   "outputs": [
    {
     "name": "stdout",
     "output_type": "stream",
     "text": [
      "x\n"
     ]
    }
   ],
   "source": [
    "print('x')   # this is totally different -- this means, print the one-character string 'x'"
   ]
  },
  {
   "cell_type": "markdown",
   "metadata": {},
   "source": [
    "# Variable names\n",
    "\n",
    "A variable can contain almost any combination of:\n",
    "- Letters\n",
    "- Digits\n",
    "- Underscore `_`\n",
    "\n",
    "A few things to keep in mind:\n",
    "- Capital letters and lowercase letters are *COMPLETELY DIFFERENT*. So the variable `x` and the variable `X` have nothing in common, and asking for one when you have defined the other, will give you an error message.\n",
    "- Traditionally, we only use lowercase letters in variable names.\n",
    "- Try to make your variable names long enough to be meaningful\n",
    "- You cannot start a variable name with a digit.\n",
    "- You can, but shouldn't, start or end a variable name with `_`, because Python people have certain guidelines about when to do that"
   ]
  },
  {
   "cell_type": "code",
   "execution_count": 8,
   "metadata": {},
   "outputs": [
    {
     "name": "stdout",
     "output_type": "stream",
     "text": [
      "Reuven\n"
     ]
    }
   ],
   "source": [
    "name = 'Reuven'\n",
    "\n",
    "print(name)"
   ]
  },
  {
   "cell_type": "code",
   "execution_count": 9,
   "metadata": {},
   "outputs": [
    {
     "name": "stdout",
     "output_type": "stream",
     "text": [
      "Hello, Reuven\n"
     ]
    }
   ],
   "source": [
    "# what if I want to print a greeting?\n",
    "\n",
    "print('Hello, ' + name)   # we can use + on two strings, or on variables containing strings"
   ]
  },
  {
   "cell_type": "code",
   "execution_count": 10,
   "metadata": {},
   "outputs": [
    {
     "name": "stdout",
     "output_type": "stream",
     "text": [
      "Hello, Reuven!\n"
     ]
    }
   ],
   "source": [
    "print('Hello, ' + name + '!')"
   ]
  },
  {
   "cell_type": "code",
   "execution_count": 11,
   "metadata": {},
   "outputs": [
    {
     "name": "stdout",
     "output_type": "stream",
     "text": [
      "30\n"
     ]
    }
   ],
   "source": [
    "# what if we have integers?\n",
    "\n",
    "x = 10\n",
    "y = 20\n",
    "\n",
    "print(x + y)"
   ]
  },
  {
   "cell_type": "code",
   "execution_count": 12,
   "metadata": {},
   "outputs": [
    {
     "ename": "TypeError",
     "evalue": "unsupported operand type(s) for +: 'int' and 'str'",
     "output_type": "error",
     "traceback": [
      "\u001b[0;31m---------------------------------------------------------------------------\u001b[0m",
      "\u001b[0;31mTypeError\u001b[0m                                 Traceback (most recent call last)",
      "Cell \u001b[0;32mIn[12], line 6\u001b[0m\n\u001b[1;32m      3\u001b[0m x \u001b[38;5;241m=\u001b[39m \u001b[38;5;241m10\u001b[39m\n\u001b[1;32m      4\u001b[0m y \u001b[38;5;241m=\u001b[39m \u001b[38;5;124m'\u001b[39m\u001b[38;5;124m20\u001b[39m\u001b[38;5;124m'\u001b[39m   \u001b[38;5;66;03m# notice -- this is a text string containing '20', not the integer 20!\u001b[39;00m\n\u001b[0;32m----> 6\u001b[0m \u001b[38;5;28mprint\u001b[39m(\u001b[43mx\u001b[49m\u001b[43m \u001b[49m\u001b[38;5;241;43m+\u001b[39;49m\u001b[43m \u001b[49m\u001b[43my\u001b[49m)\n",
      "\u001b[0;31mTypeError\u001b[0m: unsupported operand type(s) for +: 'int' and 'str'"
     ]
    }
   ],
   "source": [
    "# what if I try to mix them up a bit?\n",
    "\n",
    "x = 10\n",
    "y = '20'   # notice -- this is a text string containing '20', not the integer 20!\n",
    "\n",
    "print(x + y)"
   ]
  },
  {
   "cell_type": "code",
   "execution_count": 13,
   "metadata": {},
   "outputs": [
    {
     "ename": "SyntaxError",
     "evalue": "invalid syntax. Perhaps you forgot a comma? (4092214543.py, line 1)",
     "output_type": "error",
     "traceback": [
      "\u001b[0;36m  Cell \u001b[0;32mIn[13], line 1\u001b[0;36m\u001b[0m\n\u001b[0;31m    print(x y)\u001b[0m\n\u001b[0m          ^\u001b[0m\n\u001b[0;31mSyntaxError\u001b[0m\u001b[0;31m:\u001b[0m invalid syntax. Perhaps you forgot a comma?\n"
     ]
    }
   ],
   "source": [
    "print(x y)"
   ]
  },
  {
   "cell_type": "code",
   "execution_count": 16,
   "metadata": {},
   "outputs": [
    {
     "name": "stdout",
     "output_type": "stream",
     "text": [
      "HelloReuven\n"
     ]
    }
   ],
   "source": [
    "print('Hello' + name)"
   ]
  },
  {
   "cell_type": "markdown",
   "metadata": {},
   "source": [
    "# Always remember\n",
    "\n",
    "Computers do what you tell them to do, not what you want them to do."
   ]
  },
  {
   "cell_type": "code",
   "execution_count": 17,
   "metadata": {},
   "outputs": [
    {
     "ename": "SyntaxError",
     "evalue": "invalid syntax. Perhaps you forgot a comma? (2580141536.py, line 1)",
     "output_type": "error",
     "traceback": [
      "\u001b[0;36m  Cell \u001b[0;32mIn[17], line 1\u001b[0;36m\u001b[0m\n\u001b[0;31m    print('Hello' name)\u001b[0m\n\u001b[0m          ^\u001b[0m\n\u001b[0;31mSyntaxError\u001b[0m\u001b[0;31m:\u001b[0m invalid syntax. Perhaps you forgot a comma?\n"
     ]
    }
   ],
   "source": [
    "print('Hello' name)"
   ]
  },
  {
   "cell_type": "markdown",
   "metadata": {},
   "source": [
    "# Exercises: Practice with assignment and printing\n",
    "\n",
    "1. Define a variable `name` with your name, and print a nice greeting to yourself on the screen.\n",
    "2. Define two variables, `x` and `y`, with integer values, and print their sum (using `+`). Note that because we still haven't seen how to combine text strings and integers, we'll need to just print the result, not anything fancy around it."
   ]
  },
  {
   "cell_type": "code",
   "execution_count": 18,
   "metadata": {},
   "outputs": [],
   "source": [
    "x = 10"
   ]
  },
  {
   "cell_type": "code",
   "execution_count": 19,
   "metadata": {},
   "outputs": [
    {
     "name": "stdout",
     "output_type": "stream",
     "text": [
      "10\n"
     ]
    }
   ],
   "source": [
    "print(x)"
   ]
  },
  {
   "cell_type": "code",
   "execution_count": 26,
   "metadata": {},
   "outputs": [
    {
     "name": "stdout",
     "output_type": "stream",
     "text": [
      "Hello, Reuven!\n"
     ]
    }
   ],
   "source": [
    "# Define a variable name with your name, and print a nice greeting to yourself on the screen.\n",
    "\n",
    "name = 'Reuven'\n",
    "\n",
    "print('Hello, ' + name + '!')"
   ]
  },
  {
   "cell_type": "code",
   "execution_count": 27,
   "metadata": {},
   "outputs": [
    {
     "name": "stdout",
     "output_type": "stream",
     "text": [
      "-333\n"
     ]
    }
   ],
   "source": [
    "# Define two variables, x and y, with integer values, and print their sum (using +). Note that \n",
    "# because we still haven't seen how to combine text strings and integers, we'll need to just print \n",
    "# the result, not anything fancy around it.\n",
    "\n",
    "x = 123\n",
    "y = -456\n",
    "\n",
    "print(x + y)"
   ]
  },
  {
   "cell_type": "markdown",
   "metadata": {},
   "source": [
    "# Typing of variables?\n",
    "\n",
    "In many languages (\"statically typed languages\"), a variable has a type, and you declare that type when you create the variable. Trying to assign the wrong type of value to the wrong variable will result in an error -- often at \"compile time,\" when the language is doing its translation work."
   ]
  },
  {
   "cell_type": "code",
   "execution_count": 28,
   "metadata": {},
   "outputs": [
    {
     "data": {
      "text/plain": [
       "int"
      ]
     },
     "execution_count": 28,
     "metadata": {},
     "output_type": "execute_result"
    }
   ],
   "source": [
    "x = 100\n",
    "\n",
    "type(x)   # what is the type of x?"
   ]
  },
  {
   "cell_type": "code",
   "execution_count": 29,
   "metadata": {},
   "outputs": [
    {
     "data": {
      "text/plain": [
       "15"
      ]
     },
     "execution_count": 29,
     "metadata": {},
     "output_type": "execute_result"
    }
   ],
   "source": [
    "# in Jupyter, if the final line of a cell has a value, we don't need to print it -- Jupyter will print it for us\n",
    "\n",
    "10 + 5"
   ]
  },
  {
   "cell_type": "code",
   "execution_count": 30,
   "metadata": {},
   "outputs": [
    {
     "data": {
      "text/plain": [
       "str"
      ]
     },
     "execution_count": 30,
     "metadata": {},
     "output_type": "execute_result"
    }
   ],
   "source": [
    "x = 'abcd'\n",
    "\n",
    "type(x)"
   ]
  },
  {
   "cell_type": "markdown",
   "metadata": {},
   "source": [
    "# What's going on here?\n",
    "\n",
    "Python is a \"dynamically typed\" language. Values have types, but variables don't. There is no such thing as \"an integer variable\" or a \"a string variable.\" \n",
    "\n",
    "Any variable can contain any value at any time in the program's run.\n",
    "\n",
    "That's why we don't need to declare our variables in advance. Values do have types, and Python does enforce them (as we saw when trying to add integers and strings). This is known as \"strong typing.\"\n",
    "\n",
    "You can say, then, that Python is both dynamically typed and strongly typed."
   ]
  },
  {
   "cell_type": "markdown",
   "metadata": {},
   "source": [
    "# Next up\n",
    "\n",
    "- Getting input from the user\n",
    "- Comparisons\n",
    "- Making decisions in our programs with `if`\n"
   ]
  },
  {
   "cell_type": "markdown",
   "metadata": {},
   "source": [
    "# Can we get input from the user?\n",
    "\n",
    "Yes! We can ask the user to enter a value, and then get that value into our Python program and use it, including storing it in a variable.\n",
    "\n",
    "The function we'll use is called `input`:\n",
    "\n",
    "- You call `input`\n",
    "- You pass it a string argument, meaning text inside of quotes. This text will be presented to the user as a prompt / question.\n",
    "- The program will then wait for the user to enter some text, pressing ENTER at the end\n",
    "- The function *returns* a value to its caller"
   ]
  }
 ],
 "metadata": {
  "kernelspec": {
   "display_name": "Python 3 (ipykernel)",
   "language": "python",
   "name": "python3"
  },
  "language_info": {
   "codemirror_mode": {
    "name": "ipython",
    "version": 3
   },
   "file_extension": ".py",
   "mimetype": "text/x-python",
   "name": "python",
   "nbconvert_exporter": "python",
   "pygments_lexer": "ipython3",
   "version": "3.12.5"
  }
 },
 "nbformat": 4,
 "nbformat_minor": 4
}
