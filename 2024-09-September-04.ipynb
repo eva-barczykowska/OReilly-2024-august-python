{
 "cells": [
  {
   "cell_type": "markdown",
   "metadata": {},
   "source": [
    "# Agenda: Loops, lists, and tuples\n",
    "\n",
    "1. Q&A\n",
    "2. Loops\n",
    "    - `for`\n",
    "    - Looping a number of times with `range`\n",
    "    - Indexes (or the lack thereof)\n",
    "    - `while`\n",
    "    - `break` and `continue`\n",
    "3. Lists\n",
    "    - Creating lists\n",
    "    - Retrieving from lists\n",
    "    - Lists are mutable -- what that means, and list methods\n",
    "4. Strings to lists, and back\n",
    "    - Turning a string into a list with `str.split`\n",
    "    - Turning a list into a string with `str.join`\n",
    "5. Tuples\n",
    "    - What are they?\n",
    "    - How are they similar to / different from lists and strings?\n",
    "    - Tuple unpacking"
   ]
  },
  {
   "cell_type": "markdown",
   "metadata": {},
   "source": [
    "# Loops\n",
    "\n",
    "One of the most important ideas in programming is DRY (don't repeat yourself). If you see that you're repeating code, or semi-repeating code, then you should think again about how you're writing things."
   ]
  },
  {
   "cell_type": "code",
   "execution_count": null,
   "metadata": {},
   "outputs": [],
   "source": [
    "# I want to print all of the characters in s. How can I do that?\n",
    "\n",
    "s = 'abcd'\n",
    "\n",
    "print(s[0])\n",
    "print("
   ]
  }
 ],
 "metadata": {
  "kernelspec": {
   "display_name": "Python 3 (ipykernel)",
   "language": "python",
   "name": "python3"
  },
  "language_info": {
   "codemirror_mode": {
    "name": "ipython",
    "version": 3
   },
   "file_extension": ".py",
   "mimetype": "text/x-python",
   "name": "python",
   "nbconvert_exporter": "python",
   "pygments_lexer": "ipython3",
   "version": "3.12.5"
  }
 },
 "nbformat": 4,
 "nbformat_minor": 4
}
