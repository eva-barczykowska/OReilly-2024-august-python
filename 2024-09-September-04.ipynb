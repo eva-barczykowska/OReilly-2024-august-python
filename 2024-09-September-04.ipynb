{
 "cells": [
  {
   "cell_type": "markdown",
   "metadata": {},
   "source": [
    "# Agenda: Loops, lists, and tuples\n",
    "\n",
    "1. Q&A\n",
    "2. Loops\n",
    "    - `for`\n",
    "    - Looping a number of times with `range`\n",
    "    - Indexes (or the lack thereof)\n",
    "    - `while`\n",
    "    - `break` and `continue`\n",
    "3. Lists\n",
    "    - Creating lists\n",
    "    - Retrieving from lists\n",
    "    - Lists are mutable -- what that means, and list methods\n",
    "4. Strings to lists, and back\n",
    "    - Turning a string into a list with `str.split`\n",
    "    - Turning a list into a string with `str.join`\n",
    "5. Tuples\n",
    "    - What are they?\n",
    "    - How are they similar to / different from lists and strings?\n",
    "    - Tuple unpacking"
   ]
  },
  {
   "cell_type": "markdown",
   "metadata": {},
   "source": [
    "# Loops\n",
    "\n",
    "One of the most important ideas in programming is DRY (don't repeat yourself). If you see that you're repeating code, or semi-repeating code, then you should think again about how you're writing things."
   ]
  },
  {
   "cell_type": "code",
   "execution_count": 1,
   "metadata": {},
   "outputs": [
    {
     "name": "stdout",
     "output_type": "stream",
     "text": [
      "a\n",
      "b\n",
      "c\n",
      "d\n"
     ]
    }
   ],
   "source": [
    "# I want to print all of the characters in s. How can I do that?\n",
    "\n",
    "s = 'abcd'\n",
    "\n",
    "print(s[0])\n",
    "print(s[1])\n",
    "print(s[2])\n",
    "print(s[3])"
   ]
  },
  {
   "cell_type": "code",
   "execution_count": 3,
   "metadata": {},
   "outputs": [
    {
     "name": "stdout",
     "output_type": "stream",
     "text": [
      "Before\n",
      "a\n",
      "b\n",
      "c\n",
      "d\n",
      "After\n"
     ]
    }
   ],
   "source": [
    "# if I can find a way to tell it:\n",
    "# go through each character in s, and print it\n",
    "\n",
    "# that's what a loop is -- especially a \"for\" loop\n",
    "\n",
    "# let's see how a for loop would look in this case\n",
    "\n",
    "s = 'abcd'\n",
    "\n",
    "print('Before')\n",
    "for one_character in s:\n",
    "    print(one_character)\n",
    "print('After')    "
   ]
  },
  {
   "cell_type": "markdown",
   "metadata": {},
   "source": [
    "# The `for` loop's syntax\n",
    "\n",
    "- `for` VARIABLE `if` in OBJECT\n",
    "- At the end of that line, we have a `:`\n",
    "- Then we have an indented block, the loop body\n",
    "\n",
    "# What's happening inside\n",
    "\n",
    "1. `for` turns to the object at the end of the line (`s`) and asks it: Are you iterable?\n",
    "    - If the answer is \"no,\" then the loop exits with an error.\n",
    "2. `for` asks the object for its next value.\n",
    "    - If there are no more values, then the loop exits (normally, no error).\n",
    "3. The value we got is assigned to the loop variable (in this case, `one_character`)\n",
    "4. The loop body (in this case, just one line containing `print`) is executed. It's an indented block, just like we saw last week with `if` and `else`.\n",
    "5. At the end of the loop body's execution, we return to step 2.\n",
    "\n",
    "Many people think that we're getting one character at a time because I called my loop variable `one_character`. That is COMPLETELY BACKWARDS. I called that variable `one_character` because I know that strings will give me one character at a time inside of a loop.\n",
    "\n",
    "I can call that variable anything I want; the fact that `s` is a string dictates our getting one character in each iteration.\n",
    "\n",
    "`one_character` is a variable that is assigned to once per iteration.\n",
    "\n",
    "What code can we put inside of a loop body? ANYTHING WE WANT:\n",
    "\n",
    "- `print`\n",
    "- `input`\n",
    "- assignment\n",
    "- `if`\n",
    "- `for` loops inside of `for` loops -- these are known as \"nested loops.\""
   ]
  },
  {
   "cell_type": "markdown",
   "metadata": {},
   "source": [
    "# Exercise: Vowels, digits, and others\n",
    "\n",
    "1. Define three variables (`vowels`, `digits`, and `others`), and set them all to be 0.\n",
    "2. Ask the user to enter some text.\n",
    "3. Go over each character in the user's input:\n",
    "    - If it's a vowel, add 1 to `vowels`\n",
    "    - If it's a digit, add 1 to `digits`\n",
    "    - If it's something else, add 1 to `others`\n",
    "4. At the end of the loop, print all three values.\n",
    "\n",
    "Example:\n",
    "\n",
    "    Enter text: hello!! 123\n",
    "    vowels: 2\n",
    "    digits: 3\n",
    "    others: 6"
   ]
  },
  {
   "cell_type": "code",
   "execution_count": 4,
   "metadata": {},
   "outputs": [
    {
     "data": {
      "text/plain": [
       "True"
      ]
     },
     "execution_count": 4,
     "metadata": {},
     "output_type": "execute_result"
    }
   ],
   "source": [
    "# one way to find out if a character is a vowel is with the \"in\" operator\n",
    "\n",
    "'a' in 'aeiou'   # is the thing on the left in the thing on the right? This will return True/False"
   ]
  },
  {
   "cell_type": "code",
   "execution_count": 5,
   "metadata": {},
   "outputs": [
    {
     "data": {
      "text/plain": [
       "True"
      ]
     },
     "execution_count": 5,
     "metadata": {},
     "output_type": "execute_result"
    }
   ],
   "source": [
    "one_letter = 'a'\n",
    "\n",
    "one_letter in 'aeiou'"
   ]
  },
  {
   "cell_type": "markdown",
   "metadata": {},
   "source": [
    "# Strategy \n",
    "\n",
    "1. Define the three variables (`vowels`, `digits`, and `others`) to be 0.\n",
    "2. Use `input` to get input from the user.  This will be returned as a string; assign it to a variable.\n",
    "3. Use a `for` loop to iterate over each character in the user's input string.\n",
    "4. Check each character:\n",
    "    - if the current character is `in 'aeiou'`, then it's a vowel\n",
    "    - elif the current character `.isdigit()`, then it's a digit\n",
    "    - otherwise, add 1 to `others`\n",
    "5. Print the three variables."
   ]
  },
  {
   "cell_type": "code",
   "execution_count": 6,
   "metadata": {},
   "outputs": [
    {
     "name": "stdin",
     "output_type": "stream",
     "text": [
      "Enter text:  hello!! 123\n"
     ]
    },
    {
     "name": "stdout",
     "output_type": "stream",
     "text": [
      "vowels = 2\n",
      "digits = 3\n",
      "others = 6\n"
     ]
    }
   ],
   "source": [
    "vowels = 0\n",
    "digits = 0\n",
    "others = 0\n",
    "\n",
    "s = input('Enter text: ').strip()    # we get input from the user, then immediately remove leading/trailing whitespace, then assign to s\n",
    "\n",
    "for one_character in s:\n",
    "    if one_character in 'aeiou':     # if the current character is a vowel, add 1 to the \"vowels\" variable\n",
    "        vowels += 1\n",
    "    elif one_character.isdigit():    # if the current character is 0-9, then add 1 to the \"digits\" variable\n",
    "        digits += 1\n",
    "    else:\n",
    "        others += 1\n",
    "\n",
    "print(f'vowels = {vowels}')\n",
    "print(f'digits = {digits}')\n",
    "print(f'others = {others}')\n"
   ]
  },
  {
   "cell_type": "code",
   "execution_count": 7,
   "metadata": {},
   "outputs": [
    {
     "name": "stdin",
     "output_type": "stream",
     "text": [
      "Enter some text : hello!! 123\n"
     ]
    },
    {
     "name": "stdout",
     "output_type": "stream",
     "text": [
      "Vowels=2 , Digits=3, Others=6\n"
     ]
    }
   ],
   "source": [
    "# GK\n",
    "\n",
    "vowels =0\n",
    "digits = 0\n",
    "others = 0\n",
    "some_text = input('Enter some text :')\n",
    "\n",
    "for a_character in some_text:\n",
    "    if a_character in 'aeuio':\n",
    "        vowels=vowels+1\n",
    "    elif a_character in '0123456789':\n",
    "        digits=digits+1\n",
    "    else:\n",
    "        others=others+1\n",
    "\n",
    "print(f\"Vowels={vowels} , Digits={digits}, Others={others}\")\n"
   ]
  },
  {
   "cell_type": "code",
   "execution_count": 8,
   "metadata": {},
   "outputs": [
    {
     "name": "stdin",
     "output_type": "stream",
     "text": [
      "Enter Text:  hello!! 123\n"
     ]
    },
    {
     "name": "stdout",
     "output_type": "stream",
     "text": [
      "Count of Vowels 2\n",
      "Count of Digits 3\n",
      "Count of Others 6\n"
     ]
    }
   ],
   "source": [
    "# SS\n",
    "\n",
    "vowels = 0\n",
    "digits = 0\n",
    "others = 0\n",
    "\n",
    "text = input('Enter Text: ')\n",
    "\n",
    "for txt in text:\n",
    "  if txt in 'aeiou':\n",
    "    vowels +=1\n",
    "  elif txt.isdigit():\n",
    "    digits += 1\n",
    "  else:\n",
    "    others += 1\n",
    "print('Count of Vowels',vowels)        \n",
    "print('Count of Digits',digits)        \n",
    "print('Count of Others', others) "
   ]
  },
  {
   "cell_type": "code",
   "execution_count": 9,
   "metadata": {},
   "outputs": [
    {
     "name": "stdin",
     "output_type": "stream",
     "text": [
      "Enter a string hello!! 123\n"
     ]
    },
    {
     "name": "stdout",
     "output_type": "stream",
     "text": [
      "vowels = 2 digits =  3 others =  6\n"
     ]
    }
   ],
   "source": [
    "# KK \n",
    "\n",
    "vowels = 0\n",
    "digits = 0\n",
    "others = 0\n",
    "user_string = input ('Enter a string')\n",
    "for one_char in user_string:\n",
    "    if one_char in 'aeiou':\n",
    "        vowels += 1\n",
    "    elif one_char in '0123456789':\n",
    "        digits += 1\n",
    "    else:\n",
    "        others += 1\n",
    "print('vowels =', vowels, 'digits = ', digits, 'others = ', others)"
   ]
  },
  {
   "cell_type": "code",
   "execution_count": 11,
   "metadata": {},
   "outputs": [
    {
     "data": {
      "text/plain": [
       "'3'"
      ]
     },
     "execution_count": 11,
     "metadata": {},
     "output_type": "execute_result"
    }
   ],
   "source": [
    "# the end of a for loop does *not* remove the variables defined/assigned/changed inside of the loop\n",
    "\n",
    "one_character"
   ]
  },
  {
   "cell_type": "code",
   "execution_count": 12,
   "metadata": {},
   "outputs": [
    {
     "name": "stdin",
     "output_type": "stream",
     "text": [
      "enter some text.  hello!! 123\n"
     ]
    },
    {
     "name": "stdout",
     "output_type": "stream",
     "text": [
      "2\n",
      "3\n",
      "6\n"
     ]
    }
   ],
   "source": [
    "# JH\n",
    "\n",
    "vowels = 0\n",
    "digits = 0\n",
    "others = 0 \n",
    "\n",
    "user_text = input('enter some text. ')    # the user's input will now be in \"user_text\"\n",
    "\n",
    "for one_character in user_text:\n",
    "    if one_character in 'aeiou':\n",
    "        vowels += 1   # add 1 to the previous value of vowels\n",
    "    elif one_character in '1234567890':\n",
    "        digits += 1\n",
    "    else:\n",
    "        others += 1 \n",
    "\n",
    "print(vowels)\n",
    "print(digits)\n",
    "print(others)"
   ]
  },
  {
   "cell_type": "code",
   "execution_count": 18,
   "metadata": {},
   "outputs": [
    {
     "name": "stdout",
     "output_type": "stream",
     "text": [
      " others = 6yyyyyyyyyyy, xxxxxxxxx, \n"
     ]
    }
   ],
   "source": [
    "# KK\n",
    "\n",
    "# If I print this I only print others, why? \n",
    "print( f'vowels = {vowels}xxxxxxxxxxxxxxxxxxxxxxx, \\r digits = {digits}yyyyyyyyyyy, \\r others = {others}')      "
   ]
  },
  {
   "cell_type": "markdown",
   "metadata": {},
   "source": [
    "# Computer history time!\n",
    "\n",
    "When people used printers (and not screens), a new line on the printer required two different commands for the printhead\n",
    "\n",
    "- line feed/newline (go down one)\n",
    "- carriage return (move the printhead to the far left)\n",
    "\n",
    "If you just used line feed, you could print a vertical line.\n",
    "\n",
    "If you used carriage return multiple times, you would overwrite what you had previously written.\n",
    "\n",
    "In Python, we normally use `\\n` for a new line. However, on Windows, that is silently translated into `\\r\\n`, because Windows retains this historical need to have two characters at the end of the line. On Unix, we know that just line feed is enough to do both.\n",
    "\n",
    "You used `\\r`, which returns the print head (virtual) to the start of the line."
   ]
  },
  {
   "cell_type": "code",
   "execution_count": 19,
   "metadata": {},
   "outputs": [
    {
     "name": "stdout",
     "output_type": "stream",
     "text": [
      "vowels = 2xxxxxxxxxxxxxxxxxxxxxxx, \n",
      " digits = 3yyyyyyyyyyy, \n",
      " others = 6\n"
     ]
    }
   ],
   "source": [
    "print( f'vowels = {vowels}xxxxxxxxxxxxxxxxxxxxxxx, \\n digits = {digits}yyyyyyyyyyy, \\n others = {others}')      "
   ]
  },
  {
   "cell_type": "markdown",
   "metadata": {},
   "source": [
    "# What if I want to iterate a number of times?\n",
    "\n",
    "We've seen that we can iterate over a string, and get each character. What if I just want to do something 3 times?"
   ]
  },
  {
   "cell_type": "code",
   "execution_count": 20,
   "metadata": {},
   "outputs": [
    {
     "name": "stdout",
     "output_type": "stream",
     "text": [
      "Hooray!\n",
      "Hooray!\n",
      "Hooray!\n"
     ]
    }
   ],
   "source": [
    "# I'm teaching Python. I want to express my sheer joy!\n",
    "\n",
    "print('Hooray!')\n",
    "print('Hooray!')\n",
    "print('Hooray!')\n"
   ]
  },
  {
   "cell_type": "code",
   "execution_count": null,
   "metadata": {},
   "outputs": [],
   "source": [
    "# isn't there a w"
   ]
  }
 ],
 "metadata": {
  "kernelspec": {
   "display_name": "Python 3 (ipykernel)",
   "language": "python",
   "name": "python3"
  },
  "language_info": {
   "codemirror_mode": {
    "name": "ipython",
    "version": 3
   },
   "file_extension": ".py",
   "mimetype": "text/x-python",
   "name": "python",
   "nbconvert_exporter": "python",
   "pygments_lexer": "ipython3",
   "version": "3.12.5"
  }
 },
 "nbformat": 4,
 "nbformat_minor": 4
}
