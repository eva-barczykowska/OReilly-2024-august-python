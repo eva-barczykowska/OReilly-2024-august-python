{
 "cells": [
  {
   "cell_type": "markdown",
   "metadata": {},
   "source": [
    "# Agenda, week 3\n",
    "\n",
    "- Q&A\n",
    "- Dictionaries\n",
    "    - Creating them\n",
    "    - Working with them (in several ways)\n",
    "    - Modifying and updating them\n",
    "    - How are dictionaries implemented?\n",
    "- Files\n",
    "    - Reading from text files\n",
    "    - Reading from text files in a `for` loop\n",
    "    - (A little bit) about writing to text files\n",
    "    - Please download https://files.lerner.co.il/exercise-files.zip to your computer"
   ]
  },
  {
   "cell_type": "code",
   "execution_count": null,
   "metadata": {},
   "outputs": [],
   "source": [
    "odds = []\n",
    "evens = []\n",
    "\n",
    "for one_char in range(5):  # iterate 5 times, putting the numbers 0-4 into the one_char variable\n",
    "    num = input(f\"Enter number {one_char}: \") \n",
    "\n",
    "if not num.isdigit():\n",
    "    print(\"Not a number, try again..\")\n",
    "else:\n",
    "    num = int(num)\n",
    "    if((num % 2) == 0):\n",
    "        evens.append(num)\n",
    "    else:\n",
    "        odds.append(num)\n",
    "\n",
    "print(f'Even {evens} Odd {odds}')"
   ]
  },
  {
   "cell_type": "code",
   "execution_count": null,
   "metadata": {},
   "outputs": [],
   "source": [
    "2. Also can you explain what you mena by immutable and mutable, you used it in List and tuples?\n",
    "Thank you"
   ]
  }
 ],
 "metadata": {
  "kernelspec": {
   "display_name": "Python 3 (ipykernel)",
   "language": "python",
   "name": "python3"
  },
  "language_info": {
   "codemirror_mode": {
    "name": "ipython",
    "version": 3
   },
   "file_extension": ".py",
   "mimetype": "text/x-python",
   "name": "python",
   "nbconvert_exporter": "python",
   "pygments_lexer": "ipython3",
   "version": "3.12.5"
  }
 },
 "nbformat": 4,
 "nbformat_minor": 4
}
