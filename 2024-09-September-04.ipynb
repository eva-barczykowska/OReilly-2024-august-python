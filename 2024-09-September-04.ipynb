{
 "cells": [
  {
   "cell_type": "markdown",
   "metadata": {},
   "source": [
    "# Agenda: Loops, lists, and tuples\n",
    "\n",
    "1. Q&A\n",
    "2. Loops\n",
    "    - `for`\n",
    "    - Looping a number of times with `range`\n",
    "    - Indexes (or the lack thereof)\n",
    "    - `while`\n",
    "    - `break` and `continue`\n",
    "3. Lists\n",
    "    - Creating lists\n",
    "    - Retrieving from lists\n",
    "    - Lists are mutable -- what that means, and list methods\n",
    "4. Strings to lists, and back\n",
    "    - Turning a string into a list with `str.split`\n",
    "    - Turning a list into a string with `str.join`\n",
    "5. Tuples\n",
    "    - What are they?\n",
    "    - How are they similar to / different from lists and strings?\n",
    "    - Tuple unpacking"
   ]
  },
  {
   "cell_type": "markdown",
   "metadata": {},
   "source": [
    "# Loops\n",
    "\n",
    "One of the most important ideas in programming is DRY (don't repeat yourself). If you see that you're repeating code, or semi-repeating code, then you should think again about how you're writing things."
   ]
  },
  {
   "cell_type": "code",
   "execution_count": 1,
   "metadata": {},
   "outputs": [
    {
     "name": "stdout",
     "output_type": "stream",
     "text": [
      "a\n",
      "b\n",
      "c\n",
      "d\n"
     ]
    }
   ],
   "source": [
    "# I want to print all of the characters in s. How can I do that?\n",
    "\n",
    "s = 'abcd'\n",
    "\n",
    "print(s[0])\n",
    "print(s[1])\n",
    "print(s[2])\n",
    "print(s[3])"
   ]
  },
  {
   "cell_type": "code",
   "execution_count": 3,
   "metadata": {},
   "outputs": [
    {
     "name": "stdout",
     "output_type": "stream",
     "text": [
      "Before\n",
      "a\n",
      "b\n",
      "c\n",
      "d\n",
      "After\n"
     ]
    }
   ],
   "source": [
    "# if I can find a way to tell it:\n",
    "# go through each character in s, and print it\n",
    "\n",
    "# that's what a loop is -- especially a \"for\" loop\n",
    "\n",
    "# let's see how a for loop would look in this case\n",
    "\n",
    "s = 'abcd'\n",
    "\n",
    "print('Before')\n",
    "for one_character in s:\n",
    "    print(one_character)\n",
    "print('After')    "
   ]
  },
  {
   "cell_type": "markdown",
   "metadata": {},
   "source": [
    "# The `for` loop's syntax\n",
    "\n",
    "- `for` VARIABLE `if` in OBJECT\n",
    "- At the end of that line, we have a `:`\n",
    "- Then we have an indented block, the loop body\n",
    "\n",
    "# What's happening inside\n",
    "\n",
    "1. `for` turns to the object at the end of the line (`s`) and asks it: Are you iterable?\n",
    "    - If the answer is \"no,\" then the loop exits with an error.\n",
    "2. `for` asks the object for its next value.\n",
    "    - If there are no more values, then the loop exits (normally, no error).\n",
    "3. The value we got is assigned to the loop variable (in this case, `one_character`)\n",
    "4. The loop body (in this case, just one line containing `print`) is executed. It's an indented block, just like we saw last week with `if` and `else`.\n",
    "5. At the end of the loop body's execution, we return to step 2.\n",
    "\n",
    "Many people think that we're getting one character at a time because I called my loop variable `one_character`. That is COMPLETELY BACKWARDS. I called that variable `one_character` because I know that strings will give me one character at a time inside of a loop.\n",
    "\n",
    "I can call that variable anything I want; the fact that `s` is a string dictates our getting one character in each iteration.\n",
    "\n",
    "`one_character` is a variable that is assigned to once per iteration.\n",
    "\n",
    "What code can we put inside of a loop body? ANYTHING WE WANT:\n",
    "\n",
    "- `print`\n",
    "- `input`\n",
    "- assignment\n",
    "- `if`\n",
    "- `for` loops inside of `for` loops -- these are known as \"nested loops.\""
   ]
  },
  {
   "cell_type": "markdown",
   "metadata": {},
   "source": [
    "# Exercise: Vowels, digits, and others\n",
    "\n",
    "1. Define three variables (`vowels`, `digits`, and `others`), and set them all to be 0.\n",
    "2. Ask the user to enter some text.\n",
    "3. Go over each character in the user's input:\n",
    "    - If it's a vowel, add 1 to `vowels`\n",
    "    - If it's a digit, add 1 to `digits`\n",
    "    - If it's something else, add 1 to `others`\n",
    "4. At the end of the loop, print all three values.\n",
    "\n",
    "Example:\n",
    "\n",
    "    Enter text: hello!! 123\n",
    "    vowels: 2\n",
    "    digits: 3\n",
    "    others: 6"
   ]
  },
  {
   "cell_type": "code",
   "execution_count": 4,
   "metadata": {},
   "outputs": [
    {
     "data": {
      "text/plain": [
       "True"
      ]
     },
     "execution_count": 4,
     "metadata": {},
     "output_type": "execute_result"
    }
   ],
   "source": [
    "# one way to find out if a character is a vowel is with the \"in\" operator\n",
    "\n",
    "'a' in 'aeiou'   # is the thing on the left in the thing on the right? This will return True/False"
   ]
  },
  {
   "cell_type": "code",
   "execution_count": 5,
   "metadata": {},
   "outputs": [
    {
     "data": {
      "text/plain": [
       "True"
      ]
     },
     "execution_count": 5,
     "metadata": {},
     "output_type": "execute_result"
    }
   ],
   "source": [
    "one_letter = 'a'\n",
    "\n",
    "one_letter in 'aeiou'"
   ]
  },
  {
   "cell_type": "markdown",
   "metadata": {},
   "source": [
    "# Strategy \n",
    "\n",
    "1. Define the three variables (`vowels`, `digits`, and `others`) to be 0.\n",
    "2. Use `input` to get input from the user.  This will be returned as a string; assign it to a variable.\n",
    "3. Use a `for` loop to iterate over each character in the user's input string.\n",
    "4. Check each character:\n",
    "    - if the current character is `in 'aeiou'`, then it's a vowel\n",
    "    - elif the current character `.isdigit()`, then it's a digit\n",
    "    - otherwise, add 1 to `others`\n",
    "5. Print the three variables."
   ]
  },
  {
   "cell_type": "code",
   "execution_count": 6,
   "metadata": {},
   "outputs": [
    {
     "name": "stdin",
     "output_type": "stream",
     "text": [
      "Enter text:  hello!! 123\n"
     ]
    },
    {
     "name": "stdout",
     "output_type": "stream",
     "text": [
      "vowels = 2\n",
      "digits = 3\n",
      "others = 6\n"
     ]
    }
   ],
   "source": [
    "vowels = 0\n",
    "digits = 0\n",
    "others = 0\n",
    "\n",
    "s = input('Enter text: ').strip()    # we get input from the user, then immediately remove leading/trailing whitespace, then assign to s\n",
    "\n",
    "for one_character in s:\n",
    "    if one_character in 'aeiou':     # if the current character is a vowel, add 1 to the \"vowels\" variable\n",
    "        vowels += 1\n",
    "    elif one_character.isdigit():    # if the current character is 0-9, then add 1 to the \"digits\" variable\n",
    "        digits += 1\n",
    "    else:\n",
    "        others += 1\n",
    "\n",
    "print(f'vowels = {vowels}')\n",
    "print(f'digits = {digits}')\n",
    "print(f'others = {others}')\n"
   ]
  },
  {
   "cell_type": "code",
   "execution_count": 7,
   "metadata": {},
   "outputs": [
    {
     "name": "stdin",
     "output_type": "stream",
     "text": [
      "Enter some text : hello!! 123\n"
     ]
    },
    {
     "name": "stdout",
     "output_type": "stream",
     "text": [
      "Vowels=2 , Digits=3, Others=6\n"
     ]
    }
   ],
   "source": [
    "# GK\n",
    "\n",
    "vowels =0\n",
    "digits = 0\n",
    "others = 0\n",
    "some_text = input('Enter some text :')\n",
    "\n",
    "for a_character in some_text:\n",
    "    if a_character in 'aeuio':\n",
    "        vowels=vowels+1\n",
    "    elif a_character in '0123456789':\n",
    "        digits=digits+1\n",
    "    else:\n",
    "        others=others+1\n",
    "\n",
    "print(f\"Vowels={vowels} , Digits={digits}, Others={others}\")\n"
   ]
  },
  {
   "cell_type": "code",
   "execution_count": 8,
   "metadata": {},
   "outputs": [
    {
     "name": "stdin",
     "output_type": "stream",
     "text": [
      "Enter Text:  hello!! 123\n"
     ]
    },
    {
     "name": "stdout",
     "output_type": "stream",
     "text": [
      "Count of Vowels 2\n",
      "Count of Digits 3\n",
      "Count of Others 6\n"
     ]
    }
   ],
   "source": [
    "# SS\n",
    "\n",
    "vowels = 0\n",
    "digits = 0\n",
    "others = 0\n",
    "\n",
    "text = input('Enter Text: ')\n",
    "\n",
    "for txt in text:\n",
    "  if txt in 'aeiou':\n",
    "    vowels +=1\n",
    "  elif txt.isdigit():\n",
    "    digits += 1\n",
    "  else:\n",
    "    others += 1\n",
    "print('Count of Vowels',vowels)        \n",
    "print('Count of Digits',digits)        \n",
    "print('Count of Others', others) "
   ]
  },
  {
   "cell_type": "code",
   "execution_count": 9,
   "metadata": {},
   "outputs": [
    {
     "name": "stdin",
     "output_type": "stream",
     "text": [
      "Enter a string hello!! 123\n"
     ]
    },
    {
     "name": "stdout",
     "output_type": "stream",
     "text": [
      "vowels = 2 digits =  3 others =  6\n"
     ]
    }
   ],
   "source": [
    "# KK \n",
    "\n",
    "vowels = 0\n",
    "digits = 0\n",
    "others = 0\n",
    "user_string = input ('Enter a string')\n",
    "for one_char in user_string:\n",
    "    if one_char in 'aeiou':\n",
    "        vowels += 1\n",
    "    elif one_char in '0123456789':\n",
    "        digits += 1\n",
    "    else:\n",
    "        others += 1\n",
    "print('vowels =', vowels, 'digits = ', digits, 'others = ', others)"
   ]
  },
  {
   "cell_type": "code",
   "execution_count": 11,
   "metadata": {},
   "outputs": [
    {
     "data": {
      "text/plain": [
       "'3'"
      ]
     },
     "execution_count": 11,
     "metadata": {},
     "output_type": "execute_result"
    }
   ],
   "source": [
    "# the end of a for loop does *not* remove the variables defined/assigned/changed inside of the loop\n",
    "\n",
    "one_character"
   ]
  },
  {
   "cell_type": "code",
   "execution_count": 12,
   "metadata": {},
   "outputs": [
    {
     "name": "stdin",
     "output_type": "stream",
     "text": [
      "enter some text.  hello!! 123\n"
     ]
    },
    {
     "name": "stdout",
     "output_type": "stream",
     "text": [
      "2\n",
      "3\n",
      "6\n"
     ]
    }
   ],
   "source": [
    "# JH\n",
    "\n",
    "vowels = 0\n",
    "digits = 0\n",
    "others = 0 \n",
    "\n",
    "user_text = input('enter some text. ')    # the user's input will now be in \"user_text\"\n",
    "\n",
    "for one_character in user_text:\n",
    "    if one_character in 'aeiou':\n",
    "        vowels += 1   # add 1 to the previous value of vowels\n",
    "    elif one_character in '1234567890':\n",
    "        digits += 1\n",
    "    else:\n",
    "        others += 1 \n",
    "\n",
    "print(vowels)\n",
    "print(digits)\n",
    "print(others)"
   ]
  },
  {
   "cell_type": "code",
   "execution_count": 18,
   "metadata": {},
   "outputs": [
    {
     "name": "stdout",
     "output_type": "stream",
     "text": [
      " others = 6yyyyyyyyyyy, xxxxxxxxx, \n"
     ]
    }
   ],
   "source": [
    "# KK\n",
    "\n",
    "# If I print this I only print others, why? \n",
    "print( f'vowels = {vowels}xxxxxxxxxxxxxxxxxxxxxxx, \\r digits = {digits}yyyyyyyyyyy, \\r others = {others}')      "
   ]
  },
  {
   "cell_type": "markdown",
   "metadata": {},
   "source": [
    "# Computer history time!\n",
    "\n",
    "When people used printers (and not screens), a new line on the printer required two different commands for the printhead\n",
    "\n",
    "- line feed/newline (go down one)\n",
    "- carriage return (move the printhead to the far left)\n",
    "\n",
    "If you just used line feed, you could print a vertical line.\n",
    "\n",
    "If you used carriage return multiple times, you would overwrite what you had previously written.\n",
    "\n",
    "In Python, we normally use `\\n` for a new line. However, on Windows, that is silently translated into `\\r\\n`, because Windows retains this historical need to have two characters at the end of the line. On Unix, we know that just line feed is enough to do both.\n",
    "\n",
    "You used `\\r`, which returns the print head (virtual) to the start of the line."
   ]
  },
  {
   "cell_type": "code",
   "execution_count": 19,
   "metadata": {},
   "outputs": [
    {
     "name": "stdout",
     "output_type": "stream",
     "text": [
      "vowels = 2xxxxxxxxxxxxxxxxxxxxxxx, \n",
      " digits = 3yyyyyyyyyyy, \n",
      " others = 6\n"
     ]
    }
   ],
   "source": [
    "print( f'vowels = {vowels}xxxxxxxxxxxxxxxxxxxxxxx, \\n digits = {digits}yyyyyyyyyyy, \\n others = {others}')      "
   ]
  },
  {
   "cell_type": "markdown",
   "metadata": {},
   "source": [
    "# What if I want to iterate a number of times?\n",
    "\n",
    "We've seen that we can iterate over a string, and get each character. What if I just want to do something 3 times?"
   ]
  },
  {
   "cell_type": "code",
   "execution_count": 20,
   "metadata": {},
   "outputs": [
    {
     "name": "stdout",
     "output_type": "stream",
     "text": [
      "Hooray!\n",
      "Hooray!\n",
      "Hooray!\n"
     ]
    }
   ],
   "source": [
    "# I'm teaching Python. I want to express my sheer joy!\n",
    "\n",
    "print('Hooray!')\n",
    "print('Hooray!')\n",
    "print('Hooray!')\n"
   ]
  },
  {
   "cell_type": "code",
   "execution_count": 21,
   "metadata": {},
   "outputs": [
    {
     "ename": "TypeError",
     "evalue": "'int' object is not iterable",
     "output_type": "error",
     "traceback": [
      "\u001b[0;31m---------------------------------------------------------------------------\u001b[0m",
      "\u001b[0;31mTypeError\u001b[0m                                 Traceback (most recent call last)",
      "Cell \u001b[0;32mIn[21], line 3\u001b[0m\n\u001b[1;32m      1\u001b[0m \u001b[38;5;66;03m# isn't there a way we can use a loop to tighten that up?\u001b[39;00m\n\u001b[0;32m----> 3\u001b[0m \u001b[38;5;28;01mfor\u001b[39;00m one_time \u001b[38;5;129;01min\u001b[39;00m \u001b[38;5;241m3\u001b[39m:\n\u001b[1;32m      4\u001b[0m     \u001b[38;5;28mprint\u001b[39m(\u001b[38;5;124m'\u001b[39m\u001b[38;5;124mHooray!\u001b[39m\u001b[38;5;124m'\u001b[39m)   \n",
      "\u001b[0;31mTypeError\u001b[0m: 'int' object is not iterable"
     ]
    }
   ],
   "source": [
    "# isn't there a way we can use a loop to tighten that up?\n",
    "\n",
    "for one_time in 3:  # \"for\" loop turns to 3, and asks: Are you iterable? The answer: NO!\n",
    "    print('Hooray!')   "
   ]
  },
  {
   "cell_type": "code",
   "execution_count": 22,
   "metadata": {},
   "outputs": [
    {
     "name": "stdout",
     "output_type": "stream",
     "text": [
      "Hooray!\n",
      "Hooray!\n",
      "Hooray!\n"
     ]
    }
   ],
   "source": [
    "# we can use the \"range\" builtin function, whose job is to take a number \n",
    "# and let us iterate that number of times.\n",
    "\n",
    "for one_time in range(3):   # 3 is not iterable, but range(3) is!\n",
    "    print('Hooray!')"
   ]
  },
  {
   "cell_type": "code",
   "execution_count": 24,
   "metadata": {},
   "outputs": [
    {
     "name": "stdout",
     "output_type": "stream",
     "text": [
      "0: Hooray!\n",
      "1: Hooray!\n",
      "2: Hooray!\n"
     ]
    }
   ],
   "source": [
    "# we said before that in each iteration, the for loop asks the object\n",
    "# for its next value. That value is assigned to our loop variable. What,\n",
    "# if anything, is being assigned from range(3) to one_time? What is the value\n",
    "# of one_time in each iteration?\n",
    "\n",
    "for one_time in range(3):\n",
    "    print(f'{one_time}: Hooray!')"
   ]
  },
  {
   "cell_type": "markdown",
   "metadata": {},
   "source": [
    "# `range`\n",
    "\n",
    "`range` takes an integer as an argument, and that is the number of times we'll iterate.\n",
    "\n",
    "Each iteration returns a number, starting at 0 and going up to `n-1`, where `n` is the argument to `range`.\n",
    "\n",
    "Saying `range(3)` will give us 3 values: 0, 1, and 2."
   ]
  },
  {
   "cell_type": "code",
   "execution_count": 25,
   "metadata": {},
   "outputs": [
    {
     "data": {
      "text/plain": [
       "range(0, 5)"
      ]
     },
     "execution_count": 25,
     "metadata": {},
     "output_type": "execute_result"
    }
   ],
   "source": [
    "n = 5\n",
    "range(n)   # the range object shows us the start and the end number, which is really end+1"
   ]
  },
  {
   "cell_type": "markdown",
   "metadata": {},
   "source": [
    "# Exercise: Sum some numbers\n",
    "\n",
    "We're going to ask the user how many numbers they want to sum up, and then we'll ask them for that many numbers. If any of the numbers they give us aren't numeric, then we'll scold them and ignore the input.\n",
    "\n",
    "1. Define `total` to be 0.\n",
    "2. Ask the user how many numbers they want to sum up?\n",
    "    - Let's assume they'll give us numeric input\n",
    "3. Ask, that many times, for input.\n",
    "    - If it's not numeric, ignore the number but scold the user\n",
    "4. Print the final total.\n",
    "\n",
    "Example:\n",
    "\n",
    "    How many numbers? 3\n",
    "    Enter number 0: 100\n",
    "    Enter number 1: 50\n",
    "    Enter number 2: hello\n",
    "        hello is not numeric; ignoring\n",
    "    Total is 150\n",
    "    "
   ]
  },
  {
   "cell_type": "code",
   "execution_count": 26,
   "metadata": {},
   "outputs": [
    {
     "name": "stdin",
     "output_type": "stream",
     "text": [
      "How many numbers?  3\n",
      "Enter number 0:  100\n",
      "Enter number 1:  50\n",
      "Enter number 2:  hello\n"
     ]
    },
    {
     "name": "stdout",
     "output_type": "stream",
     "text": [
      "hello is not numeric; ignoring\n",
      "Total is 150\n"
     ]
    }
   ],
   "source": [
    "total = 0\n",
    "\n",
    "s = input('How many numbers? ').strip()\n",
    "how_many = int(s)\n",
    "\n",
    "for counter in range(how_many):\n",
    "    one_input = input(f'Enter number {counter}: ')\n",
    "\n",
    "    if one_input.isdigit():   # does the string one_input only contain digits?\n",
    "        total += int(one_input)\n",
    "    else:\n",
    "        print(f'{one_input} is not numeric; ignoring')\n",
    "\n",
    "print(f'Total is {total}')"
   ]
  },
  {
   "cell_type": "code",
   "execution_count": 28,
   "metadata": {},
   "outputs": [
    {
     "name": "stdin",
     "output_type": "stream",
     "text": [
      "Enter how many times you want to sum:  3\n",
      "Enter the value to sum: 10\n",
      "Enter the value to sum: 20\n",
      "Enter the value to sum: asdfsa\n"
     ]
    },
    {
     "name": "stdout",
     "output_type": "stream",
     "text": [
      "Please enter an integer to sum\n",
      "30\n"
     ]
    }
   ],
   "source": [
    "# SS\n",
    "\n",
    "total = 0\n",
    "howMany = int(input('Enter how many times you want to sum: '))\n",
    "\n",
    "for val in range(howMany):\n",
    "  value = input('Enter the value to sum:')\n",
    "  if not value.isdigit():  # str.isdigit asks -- can we turn this into an integer? \n",
    "    print('Please enter an integer to sum')\n",
    "  else:\n",
    "    total += int(value)\n",
    "print(total) "
   ]
  },
  {
   "cell_type": "code",
   "execution_count": 29,
   "metadata": {},
   "outputs": [
    {
     "name": "stdin",
     "output_type": "stream",
     "text": [
      "How many numbers to sum up ?  3\n",
      "Enter number 0:  10\n",
      "Enter number 1:  20\n",
      "Enter number 2:  asdfa\n"
     ]
    },
    {
     "name": "stdout",
     "output_type": "stream",
     "text": [
      "asdfa is not numeric! Ignoring!\n",
      "total = 30\n"
     ]
    }
   ],
   "source": [
    "# GK\n",
    "\n",
    "total = 0\n",
    "n = int(input('How many numbers to sum up ? ').strip())\n",
    "\n",
    "for i in range(n):\n",
    "    a_number = input(f\"Enter number {i}: \")\n",
    "    if a_number.isdigit():\n",
    "        total+=int(a_number)\n",
    "    else:\n",
    "        print(f\"{a_number} is not numeric! Ignoring!\")\n",
    "\n",
    "print(f\"total = {total}\")"
   ]
  },
  {
   "cell_type": "code",
   "execution_count": 31,
   "metadata": {},
   "outputs": [
    {
     "name": "stdin",
     "output_type": "stream",
     "text": [
      "how many numbers do you want to sum? 3\n",
      "enter a number:  10\n",
      "enter a number:  20\n",
      "enter a number:  asdfsa\n"
     ]
    },
    {
     "name": "stdout",
     "output_type": "stream",
     "text": [
      "This is not a number!\n",
      "Total Sum = 30\n"
     ]
    }
   ],
   "source": [
    "# AK\n",
    "\n",
    "total=0\n",
    "\n",
    "num=int(input('how many numbers do you want to sum?'))\n",
    "\n",
    "for each_number in range(num):\n",
    "  number = input('enter a number: ')\n",
    "  if not number.isdigit():\n",
    "    print(f'This is not a number!')\n",
    "  else:\n",
    "    total += int(number)\n",
    "print(f'Total Sum = {total}') "
   ]
  },
  {
   "cell_type": "markdown",
   "metadata": {},
   "source": [
    "# Next up\n",
    "\n",
    "- `while`\n",
    "- Where is the index?"
   ]
  },
  {
   "cell_type": "code",
   "execution_count": 32,
   "metadata": {},
   "outputs": [],
   "source": [
    "total = 0  # this is how we assign to a variable in Python, including a totally new variable"
   ]
  },
  {
   "cell_type": "code",
   "execution_count": 33,
   "metadata": {},
   "outputs": [
    {
     "ename": "SyntaxError",
     "evalue": "expected '(' (152018501.py, line 1)",
     "output_type": "error",
     "traceback": [
      "\u001b[0;36m  Cell \u001b[0;32mIn[33], line 1\u001b[0;36m\u001b[0m\n\u001b[0;31m    def total = 0\u001b[0m\n\u001b[0m              ^\u001b[0m\n\u001b[0;31mSyntaxError\u001b[0m\u001b[0;31m:\u001b[0m expected '('\n"
     ]
    }
   ],
   "source": [
    "def total = 0     # def is how we define a *function* in Python, not how we assign to a variable"
   ]
  },
  {
   "cell_type": "markdown",
   "metadata": {},
   "source": [
    "# Where is the index?\n",
    "\n",
    "If you're coming from another programming language, you've probably grown to expect that a `for` loop starts at 0, stops when it reaches another number, and we tell how much to increment with each iteration. Then we use the index in our loop to retrieve the appropriate value from a string or other data structure.\n",
    "\n",
    "That's a *LOT* of work! \n",
    "\n",
    "In Python, we say: I want the characters, let's get the characters. Why mess an index as a middleman?\n",
    "\n",
    "In other langauges, I need to use the index to get the characters, because I can't get them directly. But in Python, we can!\n",
    "\n",
    "Sometimes, we still want the index -- maybe for display purposes. What then?"
   ]
  },
  {
   "cell_type": "code",
   "execution_count": 34,
   "metadata": {},
   "outputs": [
    {
     "name": "stdout",
     "output_type": "stream",
     "text": [
      "0: a\n",
      "1: b\n",
      "2: c\n",
      "3: d\n"
     ]
    }
   ],
   "source": [
    "# option 1: do it yourself\n",
    "\n",
    "index = 0\n",
    "\n",
    "for one_character in 'abcd':\n",
    "    print(f'{index}: {one_character}')    # we'll print the index and the character\n",
    "    index += 1                            # increment the index"
   ]
  },
  {
   "cell_type": "code",
   "execution_count": 35,
   "metadata": {},
   "outputs": [
    {
     "name": "stdout",
     "output_type": "stream",
     "text": [
      "0: a\n",
      "1: b\n",
      "2: c\n",
      "3: d\n"
     ]
    }
   ],
   "source": [
    "# option 2: Use \"enumerate\"\n",
    "# enumerate is a function that wraps itself around an iterable (e.g., a string)\n",
    "# we still get the characters of the string, but we *also* get the current index, which enumerate calculates for us\n",
    "\n",
    "for index, one_character in enumerate('abcd'):   # that's right -- we get *TWO* values, assigned to *TWO* loop variables!\n",
    "    print(f'{index}: {one_character}')"
   ]
  },
  {
   "cell_type": "markdown",
   "metadata": {},
   "source": [
    "# `enumerate`'s arguments\n",
    "\n",
    "`enumerate` must take an iterable as its argument. \n",
    "\n",
    "But it can take an optional second argument, the integer with which it starts to count."
   ]
  },
  {
   "cell_type": "code",
   "execution_count": 36,
   "metadata": {},
   "outputs": [
    {
     "name": "stdout",
     "output_type": "stream",
     "text": [
      "7: a\n",
      "8: b\n",
      "9: c\n",
      "10: d\n"
     ]
    }
   ],
   "source": [
    "for index, one_character in enumerate('abcd', 7):\n",
    "    print(f'{index}: {one_character}')"
   ]
  },
  {
   "cell_type": "markdown",
   "metadata": {},
   "source": [
    "# Exercise: Powers of 10\n",
    "\n",
    "As you probably know, we can rewrite an integer with multiple digits as addition of powers of 10. If I have the number:\n",
    "\n",
    "    2485\n",
    "\n",
    "this can be rewritten as\n",
    "\n",
    "    (2 * 10**3) + (4 * 10**2) + (8 * 10**1) + (5 * 10**0)\n",
    "\n",
    "Ask the user to enter a multi-digit number. Print the number in the above format.\n",
    "\n",
    "Remember:\n",
    "- You're getting a string as input.\n",
    "- You can get the length of the string with `len()`\n",
    "- Use `enumerate` to know where you are in the string\n",
    "- Calculate with a combination of `len` and `enumerate` to know what power you should use."
   ]
  },
  {
   "cell_type": "code",
   "execution_count": 37,
   "metadata": {},
   "outputs": [
    {
     "data": {
      "text/plain": [
       "5"
      ]
     },
     "execution_count": 37,
     "metadata": {},
     "output_type": "execute_result"
    }
   ],
   "source": [
    "len('12345')   # len on a string works fine"
   ]
  },
  {
   "cell_type": "code",
   "execution_count": 38,
   "metadata": {},
   "outputs": [
    {
     "ename": "TypeError",
     "evalue": "object of type 'int' has no len()",
     "output_type": "error",
     "traceback": [
      "\u001b[0;31m---------------------------------------------------------------------------\u001b[0m",
      "\u001b[0;31mTypeError\u001b[0m                                 Traceback (most recent call last)",
      "Cell \u001b[0;32mIn[38], line 1\u001b[0m\n\u001b[0;32m----> 1\u001b[0m \u001b[38;5;28;43mlen\u001b[39;49m\u001b[43m(\u001b[49m\u001b[38;5;241;43m12345\u001b[39;49m\u001b[43m)\u001b[49m   \u001b[38;5;66;03m# len on an integer doesn't!\u001b[39;00m\n",
      "\u001b[0;31mTypeError\u001b[0m: object of type 'int' has no len()"
     ]
    }
   ],
   "source": [
    "len(12345)   # len on an integer doesn't!"
   ]
  },
  {
   "cell_type": "code",
   "execution_count": 47,
   "metadata": {},
   "outputs": [
    {
     "name": "stdin",
     "output_type": "stream",
     "text": [
      "Enter number:  2485\n"
     ]
    },
    {
     "name": "stdout",
     "output_type": "stream",
     "text": [
      "(2 * 10**3) + (4 * 10**2) + (8 * 10**1) + (5 * 10**0)\n"
     ]
    }
   ],
   "source": [
    "output = ''\n",
    "\n",
    "s = input('Enter number: ').strip()\n",
    "\n",
    "for index, one_digit in enumerate(s):   # go through the string, one character at a time... get the index + the digit\n",
    "    output += f'({one_digit} * 10**{len(s) - index - 1})'\n",
    "\n",
    "    if index < (len(s) - 1):\n",
    "        output += ' + '\n",
    "\n",
    "print(output)"
   ]
  },
  {
   "cell_type": "code",
   "execution_count": 48,
   "metadata": {},
   "outputs": [
    {
     "data": {
      "text/plain": [
       "2485"
      ]
     },
     "execution_count": 48,
     "metadata": {},
     "output_type": "execute_result"
    }
   ],
   "source": [
    "(2 * 10**3) + (4 * 10**2) + (8 * 10**1) + (5 * 10**0)"
   ]
  },
  {
   "cell_type": "code",
   "execution_count": null,
   "metadata": {},
   "outputs": [],
   "source": [
    "# PW\n",
    "\n",
    "      1 leng=0\n",
    "      2 usernum=input(\"enter a long integer: \").strip()\n",
    "----> 3 leng=len(usernum)\n",
    "      4 for pow, val in enumerate(usernum):\n",
    "      5   print(f\"({val}*10**{leng-pow}) +\")\n",
    "\n",
    "TypeError: 'int' object is not callable\n"
   ]
  },
  {
   "cell_type": "markdown",
   "metadata": {},
   "source": [
    "You can accidentally define `len` (a function!) to be a variable!\n",
    "\n",
    "    len = 5\n",
    "\n",
    "Then bad news! Or you can say\n",
    "\n",
    "    del(len)\n",
    "\n",
    "and get rid of the variable, allowing you to use `len` later on.    "
   ]
  },
  {
   "cell_type": "code",
   "execution_count": 53,
   "metadata": {},
   "outputs": [
    {
     "name": "stdin",
     "output_type": "stream",
     "text": [
      "enter a number: 2485\n"
     ]
    },
    {
     "name": "stdout",
     "output_type": "stream",
     "text": [
      "2 * 10**3\n",
      "4 * 10**2\n",
      "8 * 10**1\n",
      "5 * 10**0\n"
     ]
    }
   ],
   "source": [
    "# KK\n",
    "\n",
    "number = input('enter a number:')\n",
    "for length, digit in enumerate (number):\n",
    "    maxlength = len(number) - length - 1\n",
    "    print(f'{digit} * 10**{maxlength}')"
   ]
  },
  {
   "cell_type": "code",
   "execution_count": null,
   "metadata": {},
   "outputs": [],
   "source": [
    "# this here shows you the full power of range\n",
    "# and also uses hexadecimal numbers\n",
    "\n",
    "for dac_code in range(0, 0x1F + 1, 1):    # range(start, stop, stepsize)"
   ]
  },
  {
   "cell_type": "code",
   "execution_count": 54,
   "metadata": {},
   "outputs": [
    {
     "data": {
      "text/plain": [
       "range(0, 10)"
      ]
     },
     "execution_count": 54,
     "metadata": {},
     "output_type": "execute_result"
    }
   ],
   "source": [
    "range(10)"
   ]
  },
  {
   "cell_type": "code",
   "execution_count": 55,
   "metadata": {},
   "outputs": [
    {
     "data": {
      "text/plain": [
       "range(10, 20)"
      ]
     },
     "execution_count": 55,
     "metadata": {},
     "output_type": "execute_result"
    }
   ],
   "source": [
    "range(10, 20)"
   ]
  },
  {
   "cell_type": "code",
   "execution_count": 58,
   "metadata": {},
   "outputs": [
    {
     "name": "stdin",
     "output_type": "stream",
     "text": [
      "Enter multi digit number:  2485\n"
     ]
    },
    {
     "name": "stdout",
     "output_type": "stream",
     "text": [
      "len  4\n",
      "2 * 10 ** 3   4 * 10 ** 2   8 * 10 ** 1   5 * 10 ** 0   \n"
     ]
    }
   ],
   "source": [
    "# JF\n",
    "\n",
    "output = ''   # start output as an empty string\n",
    "\n",
    "number = input(\"Enter multi digit number: \").strip()\n",
    "\n",
    "length = len(number)\n",
    "\n",
    "print(\"len \" , len(number))\n",
    "\n",
    "for index, one_character in enumerate(number):\n",
    "    output += (f'{one_character} * 10 ** {length - index - 1}   ')\n",
    "\n",
    "print(output)"
   ]
  },
  {
   "cell_type": "markdown",
   "metadata": {},
   "source": [
    "# `while`\n",
    "\n",
    "The other kind of loop we commonly use in Python is `while`.\n",
    "\n",
    "- `for` is used when you want to go through every element in an iterable or sequence.\n",
    "- `while` is for when you don't know how many times you'll need to execute the loop, but you know when you want to stop\n",
    "\n",
    "A `while` loop is a lot like `if`, in that it has a condition, and the condition is checked before the block runs.\n",
    "\n",
    "The difference is that we return to the `while` and its condition after the block runs. If the condition is still `True`, then the block runs again."
   ]
  },
  {
   "cell_type": "code",
   "execution_count": 59,
   "metadata": {},
   "outputs": [
    {
     "name": "stdout",
     "output_type": "stream",
     "text": [
      "5\n",
      "4\n",
      "3\n",
      "2\n",
      "1\n"
     ]
    }
   ],
   "source": [
    "# one good way to make sure you don't end up with infinite loops -- check that the condition\n",
    "# will (or might) change during the loop body\n",
    "\n",
    "x = 5\n",
    "\n",
    "while x > 0:    # this loop will keep running so long as x > 0\n",
    "    print(x)\n",
    "    x -= 1      # this reduces x by 1"
   ]
  },
  {
   "cell_type": "markdown",
   "metadata": {},
   "source": [
    "# Exercise: Sum to 100\n",
    "\n",
    "1. Set `total` to be 0.\n",
    "2. Ask the user to enter a number.\n",
    "    - If they enter a non-number, scold them and go on\n",
    "3. Add the number to `total`.\n",
    "4. When `total` is > 100, stop asking and print the total.\n",
    "\n",
    "Example:\n",
    "\n",
    "    Enter a number: 20\n",
    "    Enter a number: 60\n",
    "    Enter a number: 19\n",
    "    Enter a number: 5\n",
    "    Total is 104\n",
    "\n",
    "    "
   ]
  },
  {
   "cell_type": "code",
   "execution_count": 60,
   "metadata": {},
   "outputs": [
    {
     "name": "stdin",
     "output_type": "stream",
     "text": [
      "Enter a number:  20\n",
      "Enter a number:  60\n",
      "Enter a number:  19\n",
      "Enter a number:  5\n"
     ]
    },
    {
     "name": "stdout",
     "output_type": "stream",
     "text": [
      "total = 104\n"
     ]
    }
   ],
   "source": [
    "total = 0\n",
    "\n",
    "while total < 100:\n",
    "    s = input('Enter a number: ').strip()\n",
    "    if not s.isdigit():\n",
    "        print(f'{s} is not numeric; try again!')\n",
    "    else:\n",
    "        total += int(s)   # we know that we can turn s into an integer, so we do it\n",
    "\n",
    "print(f'total = {total}')"
   ]
  },
  {
   "cell_type": "code",
   "execution_count": 62,
   "metadata": {},
   "outputs": [
    {
     "name": "stdin",
     "output_type": "stream",
     "text": [
      "Please enter a number:  asdfsafsaa\n"
     ]
    },
    {
     "ename": "ValueError",
     "evalue": "invalid literal for int() with base 10: 'asdfsafsaa'",
     "output_type": "error",
     "traceback": [
      "\u001b[0;31m---------------------------------------------------------------------------\u001b[0m",
      "\u001b[0;31mValueError\u001b[0m                                Traceback (most recent call last)",
      "Cell \u001b[0;32mIn[62], line 6\u001b[0m\n\u001b[1;32m      4\u001b[0m \u001b[38;5;28;01mwhile\u001b[39;00m total \u001b[38;5;241m<\u001b[39m\u001b[38;5;241m=\u001b[39m \u001b[38;5;241m100\u001b[39m:\n\u001b[1;32m      5\u001b[0m     num \u001b[38;5;241m=\u001b[39m \u001b[38;5;28minput\u001b[39m(\u001b[38;5;124m'\u001b[39m\u001b[38;5;124mPlease enter a number: \u001b[39m\u001b[38;5;124m'\u001b[39m)\n\u001b[0;32m----> 6\u001b[0m     total \u001b[38;5;241m=\u001b[39m total \u001b[38;5;241m+\u001b[39m \u001b[38;5;28;43mint\u001b[39;49m\u001b[43m(\u001b[49m\u001b[43mnum\u001b[49m\u001b[43m)\u001b[49m\n\u001b[1;32m      7\u001b[0m \u001b[38;5;28mprint\u001b[39m(total)\n",
      "\u001b[0;31mValueError\u001b[0m: invalid literal for int() with base 10: 'asdfsafsaa'"
     ]
    }
   ],
   "source": [
    "# KM\n",
    "\n",
    "total = 0\n",
    "while total <= 100:\n",
    "    num = input('Please enter a number: ')\n",
    "    total = total + int(num)\n",
    "print(total)"
   ]
  },
  {
   "cell_type": "code",
   "execution_count": 63,
   "metadata": {},
   "outputs": [
    {
     "name": "stdin",
     "output_type": "stream",
     "text": [
      "Enter a number : 20\n",
      "Enter a number : 50\n",
      "Enter a number : 20\n",
      "Enter a number : 30\n"
     ]
    },
    {
     "name": "stdout",
     "output_type": "stream",
     "text": [
      "The total is 120\n"
     ]
    }
   ],
   "source": [
    "# GK\n",
    "\n",
    "total = 0\n",
    "\n",
    "while total<100:\n",
    "    nombre =input(\"Enter a number :\").strip()\n",
    "    if nombre.isdigit():\n",
    "        total+=int(nombre)\n",
    "\n",
    "print(f\"The total is {total}\")\n"
   ]
  },
  {
   "cell_type": "code",
   "execution_count": 67,
   "metadata": {},
   "outputs": [
    {
     "name": "stdin",
     "output_type": "stream",
     "text": [
      "Enter a number:  20\n",
      "Enter a number:  40\n",
      "Enter a number:  50\n"
     ]
    },
    {
     "name": "stdout",
     "output_type": "stream",
     "text": [
      "110\n"
     ]
    }
   ],
   "source": [
    "# NH\n",
    "\n",
    "total = 0\n",
    "\n",
    "while total < 100:\n",
    "    \n",
    "    user = input('Enter a number: ').strip()\n",
    "    \n",
    "    if user.isdigit():\n",
    "        total += int(user)\n",
    "    else:\n",
    "        print(f'{user} is not numeric')\n",
    "\n",
    "print(total)\n"
   ]
  },
  {
   "cell_type": "code",
   "execution_count": 69,
   "metadata": {},
   "outputs": [
    {
     "name": "stdout",
     "output_type": "stream",
     "text": [
      "Yes, it is numeric\n"
     ]
    }
   ],
   "source": [
    "s = 'abcde'\n",
    "\n",
    "if s.isdigit:  # no parentheses! we get the function object, which is True in this context\n",
    "    print('Yes, it is numeric')\n",
    "else:\n",
    "    print('No, it is not numeric')"
   ]
  },
  {
   "cell_type": "code",
   "execution_count": 70,
   "metadata": {},
   "outputs": [
    {
     "name": "stdout",
     "output_type": "stream",
     "text": [
      "No, it is not numeric\n"
     ]
    }
   ],
   "source": [
    "s = 'abcde'\n",
    "\n",
    "if s.isdigit():\n",
    "    print('Yes, it is numeric')\n",
    "else:\n",
    "    print('No, it is not numeric')"
   ]
  },
  {
   "cell_type": "markdown",
   "metadata": {},
   "source": [
    "# Next up\n",
    "\n",
    "1. Lists\n",
    "2. Creating them\n",
    "3. Modifying them\n",
    "4. Turning strings into lists (and back)"
   ]
  },
  {
   "cell_type": "markdown",
   "metadata": {},
   "source": [
    "# Lists\n",
    "\n",
    "Lists are Python's default \"container\" class. Meaning, if you want to store things, you'll probably first reach for a list.\n",
    "\n",
    "- A list can contain any type of data at all\n",
    "- It can contain any number of elements\n",
    "- It can contain any combination of types of elements\n",
    "- Over time, you can change the contents of a list, as well as add and remove elements\n",
    "- Traditionally, lists are used to store a *single* type of value, but that's a tradition, not a technical necessarity\n",
    "\n",
    "List syntax: \n",
    "\n",
    "- We define a list with `[]` and commas between the elements.\n",
    "- We can retrieve elements from a list using `[]` for either the index or slices.\n",
    "- We can search in a list with `in`\n",
    "- We can iterate over a list with `for`\n",
    "\n",
    "If all this sounds familiar from strings, that's on purpose!\n",
    "\n",
    "Don't use Python's builtin names (e.g., `str`, `list`, `len`) as variable names. In Jupyter, they'll show up in green. Don't define them! Python might let you, but it won't work out well."
   ]
  },
  {
   "cell_type": "code",
   "execution_count": 71,
   "metadata": {},
   "outputs": [
    {
     "data": {
      "text/plain": [
       "5"
      ]
     },
     "execution_count": 71,
     "metadata": {},
     "output_type": "execute_result"
    }
   ],
   "source": [
    "mylist = [10, 20, 30, 40, 50]\n",
    "\n",
    "len(mylist)  # how many elements does it have?"
   ]
  },
  {
   "cell_type": "code",
   "execution_count": 72,
   "metadata": {},
   "outputs": [
    {
     "data": {
      "text/plain": [
       "10"
      ]
     },
     "execution_count": 72,
     "metadata": {},
     "output_type": "execute_result"
    }
   ],
   "source": [
    "mylist[0]"
   ]
  },
  {
   "cell_type": "code",
   "execution_count": 73,
   "metadata": {},
   "outputs": [
    {
     "data": {
      "text/plain": [
       "20"
      ]
     },
     "execution_count": 73,
     "metadata": {},
     "output_type": "execute_result"
    }
   ],
   "source": [
    "mylist[1]"
   ]
  },
  {
   "cell_type": "code",
   "execution_count": 74,
   "metadata": {},
   "outputs": [
    {
     "data": {
      "text/plain": [
       "50"
      ]
     },
     "execution_count": 74,
     "metadata": {},
     "output_type": "execute_result"
    }
   ],
   "source": [
    "mylist[4]  # final element in a 5-element list"
   ]
  },
  {
   "cell_type": "code",
   "execution_count": 75,
   "metadata": {},
   "outputs": [
    {
     "data": {
      "text/plain": [
       "50"
      ]
     },
     "execution_count": 75,
     "metadata": {},
     "output_type": "execute_result"
    }
   ],
   "source": [
    "mylist[-1]  # get the final element"
   ]
  },
  {
   "cell_type": "code",
   "execution_count": 76,
   "metadata": {},
   "outputs": [
    {
     "data": {
      "text/plain": [
       "40"
      ]
     },
     "execution_count": 76,
     "metadata": {},
     "output_type": "execute_result"
    }
   ],
   "source": [
    "mylist[-2]"
   ]
  },
  {
   "cell_type": "code",
   "execution_count": 77,
   "metadata": {},
   "outputs": [
    {
     "data": {
      "text/plain": [
       "[30, 40]"
      ]
     },
     "execution_count": 77,
     "metadata": {},
     "output_type": "execute_result"
    }
   ],
   "source": [
    "mylist[2:4]  # returns from index 2 until (not including) index 4"
   ]
  },
  {
   "cell_type": "code",
   "execution_count": 78,
   "metadata": {},
   "outputs": [
    {
     "data": {
      "text/plain": [
       "True"
      ]
     },
     "execution_count": 78,
     "metadata": {},
     "output_type": "execute_result"
    }
   ],
   "source": [
    "30 in mylist"
   ]
  },
  {
   "cell_type": "code",
   "execution_count": 79,
   "metadata": {},
   "outputs": [
    {
     "data": {
      "text/plain": [
       "False"
      ]
     },
     "execution_count": 79,
     "metadata": {},
     "output_type": "execute_result"
    }
   ],
   "source": [
    "100 in mylist"
   ]
  },
  {
   "cell_type": "code",
   "execution_count": 81,
   "metadata": {},
   "outputs": [
    {
     "name": "stdout",
     "output_type": "stream",
     "text": [
      "10\n",
      "20\n",
      "30\n",
      "40\n",
      "50\n"
     ]
    }
   ],
   "source": [
    "for one_item in mylist:\n",
    "    print(one_item)"
   ]
  },
  {
   "cell_type": "markdown",
   "metadata": {},
   "source": [
    "# Aren't these just arrays?\n",
    "\n",
    "Technically speaking, an array has two qualities that lists lack:\n",
    "\n",
    "- We know the size when the array is defined, and it cannot change.\n",
    "- All elements need to be of the same type.\n"
   ]
  },
  {
   "cell_type": "markdown",
   "metadata": {},
   "source": [
    "# Lists are mutable\n",
    "\n",
    "This means that we can do three things with them:\n",
    "\n",
    "1. We can update an existing value at an index by assigning to that index\n",
    "2. We can add new elements to the list, typically at the end\n",
    "3. We can remove existing elements from the list, typically from the end\n",
    "\n"
   ]
  },
  {
   "cell_type": "code",
   "execution_count": 82,
   "metadata": {},
   "outputs": [
    {
     "data": {
      "text/plain": [
       "[10, 20, 30, 999, 50]"
      ]
     },
     "execution_count": 82,
     "metadata": {},
     "output_type": "execute_result"
    }
   ],
   "source": [
    "mylist = [10, 20, 30, 40, 50]\n",
    "\n",
    "mylist[3] = 999   # here, we replace the element at index 3\n",
    "mylist"
   ]
  },
  {
   "cell_type": "code",
   "execution_count": 83,
   "metadata": {},
   "outputs": [
    {
     "ename": "IndexError",
     "evalue": "list assignment index out of range",
     "output_type": "error",
     "traceback": [
      "\u001b[0;31m---------------------------------------------------------------------------\u001b[0m",
      "\u001b[0;31mIndexError\u001b[0m                                Traceback (most recent call last)",
      "Cell \u001b[0;32mIn[83], line 3\u001b[0m\n\u001b[1;32m      1\u001b[0m \u001b[38;5;66;03m# what happens if I try to replace the element at index 10 (which doesn't exist)?\u001b[39;00m\n\u001b[0;32m----> 3\u001b[0m \u001b[43mmylist\u001b[49m\u001b[43m[\u001b[49m\u001b[38;5;241;43m10\u001b[39;49m\u001b[43m]\u001b[49m \u001b[38;5;241m=\u001b[39m \u001b[38;5;241m888\u001b[39m\n",
      "\u001b[0;31mIndexError\u001b[0m: list assignment index out of range"
     ]
    }
   ],
   "source": [
    "# what happens if I try to replace the element at index 10 (which doesn't exist)?\n",
    "\n",
    "mylist[10] = 888"
   ]
  },
  {
   "cell_type": "code",
   "execution_count": 84,
   "metadata": {},
   "outputs": [
    {
     "data": {
      "text/plain": [
       "[10, 20, 30, 999, 50, 777]"
      ]
     },
     "execution_count": 84,
     "metadata": {},
     "output_type": "execute_result"
    }
   ],
   "source": [
    "# How can I add new elements to the end of the list?\n",
    "# To add one thing, I use the list.append method\n",
    "\n",
    "mylist.append(777)\n",
    "mylist"
   ]
  },
  {
   "cell_type": "code",
   "execution_count": 85,
   "metadata": {},
   "outputs": [
    {
     "data": {
      "text/plain": [
       "[10, 20, 30, 999, 50, 777, 'abcde']"
      ]
     },
     "execution_count": 85,
     "metadata": {},
     "output_type": "execute_result"
    }
   ],
   "source": [
    "# we can append anything we want to the list\n",
    "mylist.append('abcde')\n",
    "mylist"
   ]
  },
  {
   "cell_type": "code",
   "execution_count": 86,
   "metadata": {},
   "outputs": [
    {
     "data": {
      "text/plain": [
       "[10, 20, 30, 999, 50, 777, 'abcde', 100, 200, 300]"
      ]
     },
     "execution_count": 86,
     "metadata": {},
     "output_type": "execute_result"
    }
   ],
   "source": [
    "# sometimes we want to add more than one thing\n",
    "# list.append won't let us do that; it only adds one\n",
    "# for such times, we need to say +=\n",
    "# this runs a \"for\" loop on the right-side item, appending each element to the list\n",
    "\n",
    "mylist += [100, 200, 300]\n",
    "mylist"
   ]
  },
  {
   "cell_type": "code",
   "execution_count": 87,
   "metadata": {},
   "outputs": [
    {
     "data": {
      "text/plain": [
       "[10, 20, 30, 999, 50, 777, 'abcde', 100, 200, 300, 'a', 'b', 'c', 'd', 'e']"
      ]
     },
     "execution_count": 87,
     "metadata": {},
     "output_type": "execute_result"
    }
   ],
   "source": [
    "# I can also do this\n",
    "\n",
    "mylist += 'abcde'\n",
    "mylist"
   ]
  },
  {
   "cell_type": "code",
   "execution_count": 88,
   "metadata": {},
   "outputs": [
    {
     "data": {
      "text/plain": [
       "'e'"
      ]
     },
     "execution_count": 88,
     "metadata": {},
     "output_type": "execute_result"
    }
   ],
   "source": [
    "# Removing items\n",
    "# to remove an item from the end of a list, we use list.pop\n",
    "# this removes + returns the final item\n",
    "\n",
    "mylist.pop()"
   ]
  },
  {
   "cell_type": "code",
   "execution_count": 89,
   "metadata": {},
   "outputs": [
    {
     "data": {
      "text/plain": [
       "'d'"
      ]
     },
     "execution_count": 89,
     "metadata": {},
     "output_type": "execute_result"
    }
   ],
   "source": [
    "mylist.pop()"
   ]
  },
  {
   "cell_type": "code",
   "execution_count": 90,
   "metadata": {},
   "outputs": [
    {
     "data": {
      "text/plain": [
       "[10, 20, '!!!!', 30, 999, 50, 777, 'abcde', 100, 200, 300, 'a', 'b', 'c']"
      ]
     },
     "execution_count": 90,
     "metadata": {},
     "output_type": "execute_result"
    }
   ],
   "source": [
    "# to insert into a list, you use the list.insert method\n",
    "# specify an index and a value, and what was previously at that index will be pushed one to the right\n",
    "\n",
    "mylist.insert(2, '!!!!')\n",
    "mylist"
   ]
  },
  {
   "cell_type": "code",
   "execution_count": 91,
   "metadata": {},
   "outputs": [
    {
     "data": {
      "text/plain": [
       "'!!!!'"
      ]
     },
     "execution_count": 91,
     "metadata": {},
     "output_type": "execute_result"
    }
   ],
   "source": [
    "# to remove from somewhere else on the list, \n",
    "# use list.pop, specifying an index\n",
    "\n",
    "mylist.pop(2)"
   ]
  },
  {
   "cell_type": "code",
   "execution_count": 92,
   "metadata": {},
   "outputs": [
    {
     "data": {
      "text/plain": [
       "[10, 20, 30, 999, 50, 777, 'abcde', 100, 200, 300, 'a', 'b', 'c']"
      ]
     },
     "execution_count": 92,
     "metadata": {},
     "output_type": "execute_result"
    }
   ],
   "source": [
    "mylist"
   ]
  },
  {
   "cell_type": "markdown",
   "metadata": {},
   "source": [
    "# Exercise: Odds and evens\n",
    "\n",
    "1. Define two empty lists, `odds` and `evens`.\n",
    "2. We're going to ask the user to enter 5 numbers.\n",
    "3. For each input, check that it's numeric and can be turned into an `int`. (If not, scold the user.)\n",
    "4. Check if the number is odd or even.\n",
    "    - If it's odd, append to `odds`\n",
    "    - If it's even append to `evens`\n",
    "5. When you're done, print both lists.\n",
    "\n",
    "Example:\n",
    "\n",
    "    Enter number 0: 15\n",
    "    Enter number 1: 23\n",
    "    Enter number 2: 88\n",
    "    Enter number 3: exit\n",
    "        exit is not numeric; try again\n",
    "    Enter number 4: 7\n",
    "    odds: [15, 23, 7]\n",
    "    evens: [88]"
   ]
  },
  {
   "cell_type": "code",
   "execution_count": 93,
   "metadata": {},
   "outputs": [
    {
     "data": {
      "text/plain": [
       "['!!!', 20, '???']"
      ]
     },
     "execution_count": 93,
     "metadata": {},
     "output_type": "execute_result"
    }
   ],
   "source": [
    "mylist = [10, 20, 30]\n",
    "also_mylist = mylist\n",
    "\n",
    "# we now have two variables referring to the same list!\n",
    "\n",
    "mylist[0] = '!!!'\n",
    "also_mylist[2] = '???'\n",
    "\n",
    "mylist"
   ]
  },
  {
   "cell_type": "code",
   "execution_count": 94,
   "metadata": {},
   "outputs": [
    {
     "data": {
      "text/plain": [
       "['!!!', 20, '???']"
      ]
     },
     "execution_count": 94,
     "metadata": {},
     "output_type": "execute_result"
    }
   ],
   "source": [
    "also_mylist"
   ]
  },
  {
   "cell_type": "code",
   "execution_count": 95,
   "metadata": {},
   "outputs": [
    {
     "data": {
      "text/plain": [
       "['!!!', 20, 30]"
      ]
     },
     "execution_count": 95,
     "metadata": {},
     "output_type": "execute_result"
    }
   ],
   "source": [
    "# we can avoid this by copying the list with list.copy()\n",
    "\n",
    "mylist = [10, 20, 30]\n",
    "also_mylist = mylist.copy()\n",
    "\n",
    "mylist[0] = '!!!'\n",
    "also_mylist[2] = '???'\n",
    "\n",
    "mylist"
   ]
  },
  {
   "cell_type": "code",
   "execution_count": 96,
   "metadata": {},
   "outputs": [
    {
     "data": {
      "text/plain": [
       "[10, 20, '???']"
      ]
     },
     "execution_count": 96,
     "metadata": {},
     "output_type": "execute_result"
    }
   ],
   "source": [
    "also_mylist"
   ]
  },
  {
   "cell_type": "code",
   "execution_count": 99,
   "metadata": {},
   "outputs": [],
   "source": [
    "# does list[5].insert(list[2]) move the value in 2 to 5 or make a copy?\n",
    "\n",
    "mylist = [10, 20, 30, 40, 50, 60, 70]\n",
    "\n",
    "mylist.insert(5, mylist[2])"
   ]
  },
  {
   "cell_type": "code",
   "execution_count": 100,
   "metadata": {},
   "outputs": [
    {
     "data": {
      "text/plain": [
       "[10, 20, 30, 40, 50, 30, 60, 70]"
      ]
     },
     "execution_count": 100,
     "metadata": {},
     "output_type": "execute_result"
    }
   ],
   "source": [
    "mylist"
   ]
  },
  {
   "cell_type": "code",
   "execution_count": 101,
   "metadata": {},
   "outputs": [
    {
     "data": {
      "text/plain": [
       "[]"
      ]
     },
     "execution_count": 101,
     "metadata": {},
     "output_type": "execute_result"
    }
   ],
   "source": [
    "# to empty a list, you can use list.clear()\n",
    "\n",
    "mylist.clear()\n",
    "\n",
    "mylist"
   ]
  },
  {
   "cell_type": "code",
   "execution_count": null,
   "metadata": {},
   "outputs": [],
   "source": [
    "x"
   ]
  },
  {
   "cell_type": "markdown",
   "metadata": {},
   "source": [
    "# Agenda: Welcome!\n",
    "\n",
    "1. Fundamentals and core concepts\n",
    "    - What is a programming language? What is Python? (Why Python?)\n",
    "    - Jupyter, the Web-based environment I use (and you can, too)\n",
    "    - Basic integers and strings (text)\n",
    "    - Variables and assignment\n",
    "    - Printing things on the screen\n",
    "    - Getting input from the user\n",
    "    - Comparing values with `==`\n",
    "    - Making decisions with `if`/`elif`/`else`\n",
    "    - Working with numbers\n",
    "    - Working with text\n",
    "    - Methods vs. functions\n",
    "2. Loops, lists, and tuples\n",
    "    - Looping with `for` and `while`\n",
    "    - Lists -- creating them and working with them\n",
    "    - Turning strings into lists, and vice versa\n",
    "    - Tuples and tuple unpacking\n",
    "3. Dictionaries and files\n",
    "    - Dicts -- what are they, and how can we use them?\n",
    "    - Files -- reading from them, and (a little bit of) writing to them\n",
    "4. Functions\n",
    "    - Defining functions\n",
    "    - Arguments and parameters\n",
    "    - Return values\n",
    "5. Modules and packages\n",
    "    - Using Python's standard library\n",
    "    - Writing our own modules\n",
    "    - Downloading and installing modules from the Internet using `pip`"
   ]
  },
  {
   "cell_type": "markdown",
   "metadata": {},
   "source": [
    "# What is a programming language? How does Python fit into this?\n",
    "\n",
    "When computers were first invented, each computer could solve a single problem. If you wanted to change the problem you were solving, or how you were solving it, you needed to build a new computer.\n",
    "\n",
    "At a certain point, computers then became general purpose. The idea was that you could use the same computer to solve many different problems. This was done by allowing us to write programs. These first programs were just 1s and 0s. But at a certain point, it became clear that no one wants to write with 1s and 0s. The idea of a programming language started. \n",
    "\n",
    "Fast forward to today, and there are tens of thousands (or hundreds of thousands) of programming langauges. All of them allow us to express problems we want to solve, and how we want to solve them, in different ways. However, they're all translated into 1s and 0s.\n",
    "\n",
    "Different languages give us different advantages and disadvantages:\n",
    "\n",
    "- C: Runs very quickly, but we have to write code in a way that's very close to the 1s and 0s. (The translator, known as a compiler, doesn't need to do that much work.)\n",
    "- Java: Runs almost as quickly as C, but is \"higher level,\" meaning that people don't have to work as hard to write it.\n",
    "- Python: Runs very slowly, but is as high-level as you can get -- meaning that it's easy for people to write, easy for people to read (and thus debug), and also handles solving many different problems.\n",
    "\n",
    "Python is 30 years old now, but it's very very popular nowadays. It's used in a wide variety of applications:\n",
    "- Web applications\n",
    "- System administration and devops\n",
    "- Data analysis\n",
    "- Machine learning and data science\n",
    "- Education\n",
    "- Testing\n",
    "\n",
    "Python is popular in no small part because it tries to be readable and clear. Once you learn a rule in Python, you can apply it for the rest of your career. There very very few exceptional cases in the language. "
   ]
  },
  {
   "cell_type": "markdown",
   "metadata": {},
   "source": [
    "# Jupyter (the environment I'm using)\n",
    "\n",
    "You can write Python code using an editor (sometimes known as an IDE), and that's fine -- if you have VSCode and/or PyCharm on your computer, you can use that. However, you'll also need to install Python.\n",
    "\n",
    "You can, if you want to, install Python by going to Python.org, downloading it, and installing it (for free).  But then you'll need to install an editor as well... and it can get complex.\n",
    "\n",
    "I use Jupyter, which is a Web-based Python system. Installing Jupyter is a little complex (you need to have Python + the Jupyter package). You don't have to! You can use Jupyter via Google Colab, or another Jupyter test system online.\n",
    "\n",
    "You need a way to write Python and execute it. It doesn't really matter (for this course) if you use a Web-based notebook, your own Jupyter installation, PyCharm, VSCode, or anything else. The bottom line is you should be able to write Python and run it.\n",
    "\n",
    "Another good way to install Python + Jupyter is with Anaconda!"
   ]
  },
  {
   "cell_type": "markdown",
   "metadata": {},
   "source": [
    "# A 2-3 minute introduction to Jupyter\n",
    "\n",
    "I'm typing into what Jupyter calls a \"cell.\" A notebook contains many cells. A cell can be in Markdown mode (for writing documentation) or in Python/code mode (for writing code).\n",
    "\n",
    "This cell is currently in Markdown mode.\n",
    "\n",
    "When I type into a cell, one of two things can happen:\n",
    "\n",
    "- If the cell is currently being run for editing, then what I type is entered. I can enter \"edit mode\" by pressing ENTER or by clicking inside of the cell. When that happens, you see a blue outline.\n",
    "- If the cell is currently being run for commands, then what I type is *NOT* seen, but goes to Jupyter to tell it what to do. I can enter \"command mode\" by pressing ESC or by clicking to the left of the cell.\n",
    "\n",
    "In command mode, I can use a bunch of one-character commands to modify my notebook:\n",
    "- `c` -- copies the current cell\n",
    "- `x` -- cuts the current cell\n",
    "- `v` -- pastes the most recent cut/copy\n",
    "- `a` -- adds a new blank cell above the current one\n",
    "- `b` -- adds a new blank cell below the current one\n",
    "- `m` -- turns the current cell into a documentation/Markdown cell\n",
    "- `y` -- turns the current cell into a Python/code cell\n",
    "\n",
    "When you're done typing into a cell, you can use shift+ENTER together to \"run\" the cell. If it's Python code, it'll run/execute. If it's Markdown documentation (like I'm typing now), then it'll be formatted."
   ]
  },
  {
   "cell_type": "code",
   "execution_count": null,
   "metadata": {},
   "outputs": [],
   "source": []
  },
  {
   "cell_type": "code",
   "execution_count": 1,
   "metadata": {},
   "outputs": [
    {
     "name": "stdout",
     "output_type": "stream",
     "text": [
      "Hello!\n"
     ]
    }
   ],
   "source": [
    "# this is a Python/code cell that I'm going to program in, and then execute\n",
    "# these first lines are comments. They start with a # and go to the end of the line.\n",
    "# Python ignores these comments completely. They are for other humans to read and\n",
    "# understand (hopefully!) what we have written in our code\n",
    "\n",
    "print('Hello!')     # this is the \"print\" function, and here I'm going to print the greeting \"Hello!\""
   ]
  },
  {
   "cell_type": "markdown",
   "metadata": {},
   "source": [
    "# What did I just do?\n",
    "\n",
    "- I invoked a function, which is a verb\n",
    "- I invoked it with `()`, which tell the function to execute\n",
    "- Inside of the `()`, I gave an *argument*, a value that is passed to the function\n",
    "- The argument here was text, the *string* `'Hello!', which `print` then printed on the screen.\n",
    "- Strings in Python must have quotes around them, you can choose either `''` or `\"\"`"
   ]
  },
  {
   "cell_type": "code",
   "execution_count": 2,
   "metadata": {},
   "outputs": [
    {
     "name": "stdout",
     "output_type": "stream",
     "text": [
      "a\n",
      "b\n",
      "c\n"
     ]
    }
   ],
   "source": [
    "# in Jupyter, a cell can contain as many lines of code as I want\n",
    "# when I do shift+ENTER, all of them will be run\n",
    "\n",
    "print('a')\n",
    "print('b')\n",
    "print('c')"
   ]
  },
  {
   "cell_type": "code",
   "execution_count": 3,
   "metadata": {},
   "outputs": [
    {
     "name": "stdout",
     "output_type": "stream",
     "text": [
      "10\n"
     ]
    }
   ],
   "source": [
    "# can I print numbers? Or perform mathematical calculations?\n",
    "\n",
    "print(10)"
   ]
  },
  {
   "cell_type": "code",
   "execution_count": 4,
   "metadata": {},
   "outputs": [
    {
     "name": "stdout",
     "output_type": "stream",
     "text": [
      "13\n",
      "5\n"
     ]
    }
   ],
   "source": [
    "print(10 + 3)\n",
    "print(10 - 5)"
   ]
  },
  {
   "cell_type": "markdown",
   "metadata": {},
   "source": [
    "# Things to notice so far\n",
    "\n",
    "1. You can have (basically) one statement per line in Python -- the end of the line is the end of the command\n",
    "2. Other programming languages often require that you end a command with `;` or the like; not in Python"
   ]
  },
  {
   "cell_type": "markdown",
   "metadata": {},
   "source": [
    "This is kind of boring... instead of saying each time what I want to print, can I store a value somewhere, and then refer to that storage?\n",
    "\n",
    "Yes! This is known as a variable.\n",
    "\n",
    "# Assignment and variables\n",
    "\n",
    "If we want to store a value, we can use a *variable*. That is a named storage facility. We assign to a variable using the `=` operator, known as \"the assignment operator.\"\n",
    "\n",
    "Assignment in Python means: Take the value on the right side of `=`, and assign it to the variable on the left side of `=`.\n",
    "\n",
    "Note that we don't have to declare variables in advance, and that any variable can contain any value of any type.\n",
    "\n",
    "The first time that you assign to a variable in Python, the variable is created. Subsequent assignments replace the old value with a new value."
   ]
  },
  {
   "cell_type": "code",
   "execution_count": 5,
   "metadata": {},
   "outputs": [
    {
     "name": "stdout",
     "output_type": "stream",
     "text": [
      "100\n"
     ]
    }
   ],
   "source": [
    "x = 100     # assign the integer 100 to x\n",
    "\n",
    "print(x)    # print the value of x"
   ]
  },
  {
   "cell_type": "code",
   "execution_count": 6,
   "metadata": {},
   "outputs": [
    {
     "name": "stdout",
     "output_type": "stream",
     "text": [
      "105\n"
     ]
    }
   ],
   "source": [
    "print(x + 5)   # add 5 to x, and print the result"
   ]
  },
  {
   "cell_type": "markdown",
   "metadata": {},
   "source": [
    "How does Python know that x is a variable, and not a text string?\n",
    "\n",
    "No quotes.\n",
    "\n"
   ]
  },
  {
   "cell_type": "code",
   "execution_count": 7,
   "metadata": {},
   "outputs": [
    {
     "name": "stdout",
     "output_type": "stream",
     "text": [
      "x\n"
     ]
    }
   ],
   "source": [
    "print('x')   # this is totally different -- this means, print the one-character string 'x'"
   ]
  },
  {
   "cell_type": "markdown",
   "metadata": {},
   "source": [
    "# Variable names\n",
    "\n",
    "A variable can contain almost any combination of:\n",
    "- Letters\n",
    "- Digits\n",
    "- Underscore `_`\n",
    "\n",
    "A few things to keep in mind:\n",
    "- Capital letters and lowercase letters are *COMPLETELY DIFFERENT*. So the variable `x` and the variable `X` have nothing in common, and asking for one when you have defined the other, will give you an error message.\n",
    "- Traditionally, we only use lowercase letters in variable names.\n",
    "- Try to make your variable names long enough to be meaningful\n",
    "- You cannot start a variable name with a digit.\n",
    "- You can, but shouldn't, start or end a variable name with `_`, because Python people have certain guidelines about when to do that"
   ]
  },
  {
   "cell_type": "code",
   "execution_count": 8,
   "metadata": {},
   "outputs": [
    {
     "name": "stdout",
     "output_type": "stream",
     "text": [
      "Reuven\n"
     ]
    }
   ],
   "source": [
    "name = 'Reuven'\n",
    "\n",
    "print(name)"
   ]
  },
  {
   "cell_type": "code",
   "execution_count": 9,
   "metadata": {},
   "outputs": [
    {
     "name": "stdout",
     "output_type": "stream",
     "text": [
      "Hello, Reuven\n"
     ]
    }
   ],
   "source": [
    "# what if I want to print a greeting?\n",
    "\n",
    "print('Hello, ' + name)   # we can use + on two strings, or on variables containing strings"
   ]
  },
  {
   "cell_type": "code",
   "execution_count": 10,
   "metadata": {},
   "outputs": [
    {
     "name": "stdout",
     "output_type": "stream",
     "text": [
      "Hello, Reuven!\n"
     ]
    }
   ],
   "source": [
    "print('Hello, ' + name + '!')"
   ]
  },
  {
   "cell_type": "code",
   "execution_count": 11,
   "metadata": {},
   "outputs": [
    {
     "name": "stdout",
     "output_type": "stream",
     "text": [
      "30\n"
     ]
    }
   ],
   "source": [
    "# what if we have integers?\n",
    "\n",
    "x = 10\n",
    "y = 20\n",
    "\n",
    "print(x + y)"
   ]
  },
  {
   "cell_type": "code",
   "execution_count": 12,
   "metadata": {},
   "outputs": [
    {
     "ename": "TypeError",
     "evalue": "unsupported operand type(s) for +: 'int' and 'str'",
     "output_type": "error",
     "traceback": [
      "\u001b[0;31m---------------------------------------------------------------------------\u001b[0m",
      "\u001b[0;31mTypeError\u001b[0m                                 Traceback (most recent call last)",
      "Cell \u001b[0;32mIn[12], line 6\u001b[0m\n\u001b[1;32m      3\u001b[0m x \u001b[38;5;241m=\u001b[39m \u001b[38;5;241m10\u001b[39m\n\u001b[1;32m      4\u001b[0m y \u001b[38;5;241m=\u001b[39m \u001b[38;5;124m'\u001b[39m\u001b[38;5;124m20\u001b[39m\u001b[38;5;124m'\u001b[39m   \u001b[38;5;66;03m# notice -- this is a text string containing '20', not the integer 20!\u001b[39;00m\n\u001b[0;32m----> 6\u001b[0m \u001b[38;5;28mprint\u001b[39m(\u001b[43mx\u001b[49m\u001b[43m \u001b[49m\u001b[38;5;241;43m+\u001b[39;49m\u001b[43m \u001b[49m\u001b[43my\u001b[49m)\n",
      "\u001b[0;31mTypeError\u001b[0m: unsupported operand type(s) for +: 'int' and 'str'"
     ]
    }
   ],
   "source": [
    "# what if I try to mix them up a bit?\n",
    "\n",
    "x = 10\n",
    "y = '20'   # notice -- this is a text string containing '20', not the integer 20!\n",
    "\n",
    "print(x + y)"
   ]
  },
  {
   "cell_type": "code",
   "execution_count": 13,
   "metadata": {},
   "outputs": [
    {
     "ename": "SyntaxError",
     "evalue": "invalid syntax. Perhaps you forgot a comma? (4092214543.py, line 1)",
     "output_type": "error",
     "traceback": [
      "\u001b[0;36m  Cell \u001b[0;32mIn[13], line 1\u001b[0;36m\u001b[0m\n\u001b[0;31m    print(x y)\u001b[0m\n\u001b[0m          ^\u001b[0m\n\u001b[0;31mSyntaxError\u001b[0m\u001b[0;31m:\u001b[0m invalid syntax. Perhaps you forgot a comma?\n"
     ]
    }
   ],
   "source": [
    "print(x y)"
   ]
  },
  {
   "cell_type": "code",
   "execution_count": 16,
   "metadata": {},
   "outputs": [
    {
     "name": "stdout",
     "output_type": "stream",
     "text": [
      "HelloReuven\n"
     ]
    }
   ],
   "source": [
    "print('Hello' + name)"
   ]
  },
  {
   "cell_type": "markdown",
   "metadata": {},
   "source": [
    "# Always remember\n",
    "\n",
    "Computers do what you tell them to do, not what you want them to do."
   ]
  },
  {
   "cell_type": "code",
   "execution_count": 17,
   "metadata": {},
   "outputs": [
    {
     "ename": "SyntaxError",
     "evalue": "invalid syntax. Perhaps you forgot a comma? (2580141536.py, line 1)",
     "output_type": "error",
     "traceback": [
      "\u001b[0;36m  Cell \u001b[0;32mIn[17], line 1\u001b[0;36m\u001b[0m\n\u001b[0;31m    print('Hello' name)\u001b[0m\n\u001b[0m          ^\u001b[0m\n\u001b[0;31mSyntaxError\u001b[0m\u001b[0;31m:\u001b[0m invalid syntax. Perhaps you forgot a comma?\n"
     ]
    }
   ],
   "source": [
    "print('Hello' name)"
   ]
  },
  {
   "cell_type": "markdown",
   "metadata": {},
   "source": [
    "# Exercises: Practice with assignment and printing\n",
    "\n",
    "1. Define a variable `name` with your name, and print a nice greeting to yourself on the screen.\n",
    "2. Define two variables, `x` and `y`, with integer values, and print their sum (using `+`). Note that because we still haven't seen how to combine text strings and integers, we'll need to just print the result, not anything fancy around it."
   ]
  },
  {
   "cell_type": "code",
   "execution_count": 18,
   "metadata": {},
   "outputs": [],
   "source": [
    "x = 10"
   ]
  },
  {
   "cell_type": "code",
   "execution_count": 19,
   "metadata": {},
   "outputs": [
    {
     "name": "stdout",
     "output_type": "stream",
     "text": [
      "10\n"
     ]
    }
   ],
   "source": [
    "print(x)"
   ]
  },
  {
   "cell_type": "code",
   "execution_count": 26,
   "metadata": {},
   "outputs": [
    {
     "name": "stdout",
     "output_type": "stream",
     "text": [
      "Hello, Reuven!\n"
     ]
    }
   ],
   "source": [
    "# Define a variable name with your name, and print a nice greeting to yourself on the screen.\n",
    "\n",
    "name = 'Reuven'\n",
    "\n",
    "print('Hello, ' + name + '!')"
   ]
  },
  {
   "cell_type": "code",
   "execution_count": 27,
   "metadata": {},
   "outputs": [
    {
     "name": "stdout",
     "output_type": "stream",
     "text": [
      "-333\n"
     ]
    }
   ],
   "source": [
    "# Define two variables, x and y, with integer values, and print their sum (using +). Note that \n",
    "# because we still haven't seen how to combine text strings and integers, we'll need to just print \n",
    "# the result, not anything fancy around it.\n",
    "\n",
    "x = 123\n",
    "y = -456\n",
    "\n",
    "print(x + y)"
   ]
  },
  {
   "cell_type": "markdown",
   "metadata": {},
   "source": [
    "# Typing of variables?\n",
    "\n",
    "In many languages (\"statically typed languages\"), a variable has a type, and you declare that type when you create the variable. Trying to assign the wrong type of value to the wrong variable will result in an error -- often at \"compile time,\" when the language is doing its translation work."
   ]
  },
  {
   "cell_type": "code",
   "execution_count": 28,
   "metadata": {},
   "outputs": [
    {
     "data": {
      "text/plain": [
       "int"
      ]
     },
     "execution_count": 28,
     "metadata": {},
     "output_type": "execute_result"
    }
   ],
   "source": [
    "x = 100\n",
    "\n",
    "type(x)   # what is the type of x?"
   ]
  },
  {
   "cell_type": "code",
   "execution_count": 29,
   "metadata": {},
   "outputs": [
    {
     "data": {
      "text/plain": [
       "15"
      ]
     },
     "execution_count": 29,
     "metadata": {},
     "output_type": "execute_result"
    }
   ],
   "source": [
    "# in Jupyter, if the final line of a cell has a value, we don't need to print it -- Jupyter will print it for us\n",
    "\n",
    "10 + 5"
   ]
  },
  {
   "cell_type": "code",
   "execution_count": 30,
   "metadata": {},
   "outputs": [
    {
     "data": {
      "text/plain": [
       "str"
      ]
     },
     "execution_count": 30,
     "metadata": {},
     "output_type": "execute_result"
    }
   ],
   "source": [
    "x = 'abcd'\n",
    "\n",
    "type(x)"
   ]
  },
  {
   "cell_type": "markdown",
   "metadata": {},
   "source": [
    "# What's going on here?\n",
    "\n",
    "Python is a \"dynamically typed\" language. Values have types, but variables don't. There is no such thing as \"an integer variable\" or a \"a string variable.\" \n",
    "\n",
    "Any variable can contain any value at any time in the program's run.\n",
    "\n",
    "That's why we don't need to declare our variables in advance. Values do have types, and Python does enforce them (as we saw when trying to add integers and strings). This is known as \"strong typing.\"\n",
    "\n",
    "You can say, then, that Python is both dynamically typed and strongly typed."
   ]
  },
  {
   "cell_type": "markdown",
   "metadata": {},
   "source": [
    "# Next up\n",
    "\n",
    "- Getting input from the user\n",
    "- Comparisons\n",
    "- Making decisions in our programs with `if`\n"
   ]
  },
  {
   "cell_type": "markdown",
   "metadata": {},
   "source": [
    "# Can we get input from the user?\n",
    "\n",
    "Yes! We can ask the user to enter a value, and then get that value into our Python program and use it, including storing it in a variable.\n",
    "\n",
    "The function we'll use is called `input`:\n",
    "\n",
    "- You call `input`\n",
    "- You pass it a string argument, meaning text inside of quotes. This text will be presented to the user as a prompt / question.\n",
    "- The program will then wait for the user to enter some text, pressing ENTER at the end\n",
    "- The function *returns* a value to its caller, a text string containing the user's input\n",
    "- It's pretty common (almost 100% of the time) to assign the return value from `input` to a variable\n",
    "- Meaning: You'll often have a variable, `=`, and then `input` on the right side."
   ]
  },
  {
   "cell_type": "code",
   "execution_count": 34,
   "metadata": {},
   "outputs": [
    {
     "name": "stdin",
     "output_type": "stream",
     "text": [
      "Enter your name:  even better Reuven than before\n"
     ]
    }
   ],
   "source": [
    "# I'm assigning a value to the variable name\n",
    "# the value I'm assigning comes from the user\n",
    "\n",
    "name = input('Enter your name: ')"
   ]
  },
  {
   "cell_type": "code",
   "execution_count": 35,
   "metadata": {},
   "outputs": [
    {
     "name": "stdout",
     "output_type": "stream",
     "text": [
      "Hello, even better Reuven than before!\n"
     ]
    }
   ],
   "source": [
    "print('Hello, ' + name + '!')"
   ]
  },
  {
   "cell_type": "code",
   "execution_count": 36,
   "metadata": {},
   "outputs": [
    {
     "data": {
      "text/plain": [
       "'even better Reuven than before'"
      ]
     },
     "execution_count": 36,
     "metadata": {},
     "output_type": "execute_result"
    }
   ],
   "source": [
    "# in Jupyter, if I put a variable on the final line of a cell, we can see its value\n",
    "\n",
    "name"
   ]
  },
  {
   "cell_type": "markdown",
   "metadata": {},
   "source": [
    "The value we get back from `input` is *ALWAYS* a string, even if it only contains digits.\n",
    "\n",
    "We'll see later today how we can perform a conversion, turning a text string containing digits into an integer."
   ]
  },
  {
   "cell_type": "code",
   "execution_count": 37,
   "metadata": {},
   "outputs": [
    {
     "name": "stdin",
     "output_type": "stream",
     "text": [
      "Enter your favorite number:  72\n"
     ]
    },
    {
     "name": "stdout",
     "output_type": "stream",
     "text": [
      "7272\n"
     ]
    }
   ],
   "source": [
    "favorite_number = input('Enter your favorite number: ')\n",
    "\n",
    "twice_favorite_number = favorite_number * 2  # string * 2 = a string that's twice as long\n",
    "\n",
    "print(twice_favorite_number)"
   ]
  },
  {
   "cell_type": "markdown",
   "metadata": {},
   "source": [
    "In the above code, I asked the user to enter their favorite number. I entered `72`, as a string!\n",
    "\n",
    "We then multiplied that value by 2. If it had been an integer, then we would have gotten 144. \n",
    "\n",
    "But actually, `favorite_number` is a string. And multiplying a string by 2 gives us the string twice in a row."
   ]
  },
  {
   "cell_type": "code",
   "execution_count": 38,
   "metadata": {},
   "outputs": [
    {
     "data": {
      "text/plain": [
       "'abcabcabcabcabc'"
      ]
     },
     "execution_count": 38,
     "metadata": {},
     "output_type": "execute_result"
    }
   ],
   "source": [
    "'abc' * 5"
   ]
  },
  {
   "cell_type": "markdown",
   "metadata": {},
   "source": [
    "# Exercise: Friend greeting\n",
    "\n",
    "1. Ask the user to enter their name, and assign to the variable `name`.\n",
    "2. Ask the user to enter their city, and assign to the variable `city`.\n",
    "3. Print a greeting to the user, indicating their name and city."
   ]
  },
  {
   "cell_type": "code",
   "execution_count": 39,
   "metadata": {},
   "outputs": [
    {
     "name": "stdin",
     "output_type": "stream",
     "text": [
      "Enter your name:  Reuven\n",
      "Enter your city:  Modi'in\n"
     ]
    },
    {
     "name": "stdout",
     "output_type": "stream",
     "text": [
      "Hello, Reuven from Modi'in!\n"
     ]
    }
   ],
   "source": [
    "name = input('Enter your name: ')\n",
    "city = input('Enter your city: ')\n",
    "\n",
    "print('Hello, ' + name + ' from ' + city + '!')"
   ]
  },
  {
   "cell_type": "code",
   "execution_count": 40,
   "metadata": {},
   "outputs": [
    {
     "data": {
      "text/plain": [
       "\"Modi'in\""
      ]
     },
     "execution_count": 40,
     "metadata": {},
     "output_type": "execute_result"
    }
   ],
   "source": [
    "city"
   ]
  },
  {
   "cell_type": "code",
   "execution_count": 41,
   "metadata": {},
   "outputs": [
    {
     "name": "stdout",
     "output_type": "stream",
     "text": [
      "Hello, Reuven from Modi'in!\n"
     ]
    }
   ],
   "source": [
    "# isn't there a way for me to put variables into a string\n",
    "# without using lots of + signs?\n",
    "\n",
    "# besides being ugly, this stops me (to some degree) from being able to include numbers in my output\n",
    "\n",
    "# we can use an f-string\n",
    "# f-strings are regular strings in every way EXCEPT they can have {} in them\n",
    "# inside of the {}, we can have Python expressions -- variables, function  calls, etc.\n",
    "# the values will always be converted into strings\n",
    "\n",
    "output = f'Hello, {name} from {city}!'\n",
    "print(output)"
   ]
  },
  {
   "cell_type": "code",
   "execution_count": 42,
   "metadata": {},
   "outputs": [
    {
     "name": "stdout",
     "output_type": "stream",
     "text": [
      "Hello, Reuven from Modi'in!\n"
     ]
    }
   ],
   "source": [
    "print(f'Hello, {name} from {city}!')"
   ]
  },
  {
   "cell_type": "markdown",
   "metadata": {},
   "source": [
    "# Comparisons\n",
    "\n",
    "Let's say that I have two values. I want to know if the two values are the same. Or I might to know if one value is smaller (or larger) than the other. How can I do that?\n",
    "\n",
    "For this, I use a *comparison operator*. First and foremost, we have the *equality comparison*, which is `==`.\n",
    "\n",
    "## Don't confuse these two operators:\n",
    "\n",
    "- `=` is the assignment operator; it takes the value on its right and assigns to the variable on its left. This performs an action.\n",
    "- `==` is the comparison operator; it tells you whether the things on its left and right are the same. This answers a question."
   ]
  },
  {
   "cell_type": "code",
   "execution_count": 43,
   "metadata": {},
   "outputs": [
    {
     "data": {
      "text/plain": [
       "True"
      ]
     },
     "execution_count": 43,
     "metadata": {},
     "output_type": "execute_result"
    }
   ],
   "source": [
    "10 == 10"
   ]
  },
  {
   "cell_type": "code",
   "execution_count": 44,
   "metadata": {},
   "outputs": [
    {
     "data": {
      "text/plain": [
       "False"
      ]
     },
     "execution_count": 44,
     "metadata": {},
     "output_type": "execute_result"
    }
   ],
   "source": [
    "10 == 11"
   ]
  },
  {
   "cell_type": "code",
   "execution_count": 45,
   "metadata": {},
   "outputs": [
    {
     "data": {
      "text/plain": [
       "True"
      ]
     },
     "execution_count": 45,
     "metadata": {},
     "output_type": "execute_result"
    }
   ],
   "source": [
    "'abcd' == 'abcd'"
   ]
  },
  {
   "cell_type": "code",
   "execution_count": 46,
   "metadata": {},
   "outputs": [
    {
     "data": {
      "text/plain": [
       "False"
      ]
     },
     "execution_count": 46,
     "metadata": {},
     "output_type": "execute_result"
    }
   ],
   "source": [
    "'abcd' == 'abcd '"
   ]
  },
  {
   "cell_type": "code",
   "execution_count": 47,
   "metadata": {},
   "outputs": [
    {
     "data": {
      "text/plain": [
       "False"
      ]
     },
     "execution_count": 47,
     "metadata": {},
     "output_type": "execute_result"
    }
   ],
   "source": [
    "'abcd' == 'ABCD'"
   ]
  },
  {
   "cell_type": "code",
   "execution_count": 48,
   "metadata": {},
   "outputs": [
    {
     "data": {
      "text/plain": [
       "False"
      ]
     },
     "execution_count": 48,
     "metadata": {},
     "output_type": "execute_result"
    }
   ],
   "source": [
    "20 == '20'"
   ]
  },
  {
   "cell_type": "code",
   "execution_count": 49,
   "metadata": {},
   "outputs": [
    {
     "name": "stdin",
     "output_type": "stream",
     "text": [
      "What is your name:  Reuven\n",
      "which City are you from:  Modi'in\n"
     ]
    },
    {
     "name": "stdout",
     "output_type": "stream",
     "text": [
      "Hello Reuven Welcome to Modi'in\n"
     ]
    }
   ],
   "source": [
    "# MS\n",
    "\n",
    "name=input(\"What is your name: \")\n",
    "city=input(\"which City are you from: \")\n",
    "\n",
    "print(f'Hello {name} Welcome to {city}')\n"
   ]
  },
  {
   "cell_type": "code",
   "execution_count": 50,
   "metadata": {},
   "outputs": [
    {
     "name": "stdout",
     "output_type": "stream",
     "text": [
      "3.12.5 (main, Aug 21 2024, 13:09:10) [Clang 15.0.0 (clang-1500.3.9.4)]\n"
     ]
    }
   ],
   "source": [
    "import sys\n",
    "print(sys.version)   # what does your Python tell you? If it's before version 3.6, then it's VERY VERY VERY OLD"
   ]
  },
  {
   "cell_type": "markdown",
   "metadata": {},
   "source": [
    "# Comparison operators\n",
    "\n",
    "These are the comparison operators we can use in Python:\n",
    "\n",
    "- `==`, returns `True` if the two values are equal, or `False` otherwise\n",
    "- `!=`, the inequality operator -- the opposite of `==`, or what we would call ≠ in real life\n",
    "- `>`, greater than\n",
    "- `>=`, greater than or equals\n",
    "- `<`, less than\n",
    "- `<=`, less than or equals\n"
   ]
  },
  {
   "cell_type": "code",
   "execution_count": 52,
   "metadata": {},
   "outputs": [
    {
     "data": {
      "text/plain": [
       "True"
      ]
     },
     "execution_count": 52,
     "metadata": {},
     "output_type": "execute_result"
    }
   ],
   "source": [
    "# What if I compare strings to find out which is \"less\" than the other?\n",
    "\n",
    "'abcd' < 'efgh'    # we're asking here (more or less) if 'abcd' comes before 'efgh' alphabetically"
   ]
  },
  {
   "cell_type": "markdown",
   "metadata": {},
   "source": [
    "# Conditionals\n",
    "\n",
    "Until now, if we wrote code, it executed. Many times, I want code to execute only under certain circumstances:\n",
    "\n",
    "- Only let the user in if they have adequate security clearance\n",
    "- Only show the cursor if the user is typing\n",
    "\n",
    "To do this, we'll need a new construct, which is `if`"
   ]
  },
  {
   "cell_type": "code",
   "execution_count": 59,
   "metadata": {},
   "outputs": [
    {
     "ename": "KeyboardInterrupt",
     "evalue": "Interrupted by user",
     "output_type": "error",
     "traceback": [
      "\u001b[0;31m---------------------------------------------------------------------------\u001b[0m",
      "\u001b[0;31mKeyboardInterrupt\u001b[0m                         Traceback (most recent call last)",
      "Cell \u001b[0;32mIn[59], line 3\u001b[0m\n\u001b[1;32m      1\u001b[0m \u001b[38;5;66;03m# here's an example of using if\u001b[39;00m\n\u001b[0;32m----> 3\u001b[0m name \u001b[38;5;241m=\u001b[39m \u001b[38;5;28;43minput\u001b[39;49m\u001b[43m(\u001b[49m\u001b[38;5;124;43m'\u001b[39;49m\u001b[38;5;124;43mEnter your name: \u001b[39;49m\u001b[38;5;124;43m'\u001b[39;49m\u001b[43m)\u001b[49m\n\u001b[1;32m      5\u001b[0m \u001b[38;5;28;01mif\u001b[39;00m name \u001b[38;5;241m==\u001b[39m \u001b[38;5;124m'\u001b[39m\u001b[38;5;124mReuven\u001b[39m\u001b[38;5;124m'\u001b[39m:\n\u001b[1;32m      6\u001b[0m     \u001b[38;5;28mprint\u001b[39m(\u001b[38;5;124m'\u001b[39m\u001b[38;5;124mHello, boss!\u001b[39m\u001b[38;5;124m'\u001b[39m)\n",
      "File \u001b[0;32m~/.pyenv/versions/3.12.5/lib/python3.12/site-packages/ipykernel/kernelbase.py:1282\u001b[0m, in \u001b[0;36mKernel.raw_input\u001b[0;34m(self, prompt)\u001b[0m\n\u001b[1;32m   1280\u001b[0m     msg \u001b[38;5;241m=\u001b[39m \u001b[38;5;124m\"\u001b[39m\u001b[38;5;124mraw_input was called, but this frontend does not support input requests.\u001b[39m\u001b[38;5;124m\"\u001b[39m\n\u001b[1;32m   1281\u001b[0m     \u001b[38;5;28;01mraise\u001b[39;00m StdinNotImplementedError(msg)\n\u001b[0;32m-> 1282\u001b[0m \u001b[38;5;28;01mreturn\u001b[39;00m \u001b[38;5;28;43mself\u001b[39;49m\u001b[38;5;241;43m.\u001b[39;49m\u001b[43m_input_request\u001b[49m\u001b[43m(\u001b[49m\n\u001b[1;32m   1283\u001b[0m \u001b[43m    \u001b[49m\u001b[38;5;28;43mstr\u001b[39;49m\u001b[43m(\u001b[49m\u001b[43mprompt\u001b[49m\u001b[43m)\u001b[49m\u001b[43m,\u001b[49m\n\u001b[1;32m   1284\u001b[0m \u001b[43m    \u001b[49m\u001b[38;5;28;43mself\u001b[39;49m\u001b[38;5;241;43m.\u001b[39;49m\u001b[43m_parent_ident\u001b[49m\u001b[43m[\u001b[49m\u001b[38;5;124;43m\"\u001b[39;49m\u001b[38;5;124;43mshell\u001b[39;49m\u001b[38;5;124;43m\"\u001b[39;49m\u001b[43m]\u001b[49m\u001b[43m,\u001b[49m\n\u001b[1;32m   1285\u001b[0m \u001b[43m    \u001b[49m\u001b[38;5;28;43mself\u001b[39;49m\u001b[38;5;241;43m.\u001b[39;49m\u001b[43mget_parent\u001b[49m\u001b[43m(\u001b[49m\u001b[38;5;124;43m\"\u001b[39;49m\u001b[38;5;124;43mshell\u001b[39;49m\u001b[38;5;124;43m\"\u001b[39;49m\u001b[43m)\u001b[49m\u001b[43m,\u001b[49m\n\u001b[1;32m   1286\u001b[0m \u001b[43m    \u001b[49m\u001b[43mpassword\u001b[49m\u001b[38;5;241;43m=\u001b[39;49m\u001b[38;5;28;43;01mFalse\u001b[39;49;00m\u001b[43m,\u001b[49m\n\u001b[1;32m   1287\u001b[0m \u001b[43m\u001b[49m\u001b[43m)\u001b[49m\n",
      "File \u001b[0;32m~/.pyenv/versions/3.12.5/lib/python3.12/site-packages/ipykernel/kernelbase.py:1325\u001b[0m, in \u001b[0;36mKernel._input_request\u001b[0;34m(self, prompt, ident, parent, password)\u001b[0m\n\u001b[1;32m   1322\u001b[0m \u001b[38;5;28;01mexcept\u001b[39;00m \u001b[38;5;167;01mKeyboardInterrupt\u001b[39;00m:\n\u001b[1;32m   1323\u001b[0m     \u001b[38;5;66;03m# re-raise KeyboardInterrupt, to truncate traceback\u001b[39;00m\n\u001b[1;32m   1324\u001b[0m     msg \u001b[38;5;241m=\u001b[39m \u001b[38;5;124m\"\u001b[39m\u001b[38;5;124mInterrupted by user\u001b[39m\u001b[38;5;124m\"\u001b[39m\n\u001b[0;32m-> 1325\u001b[0m     \u001b[38;5;28;01mraise\u001b[39;00m \u001b[38;5;167;01mKeyboardInterrupt\u001b[39;00m(msg) \u001b[38;5;28;01mfrom\u001b[39;00m \u001b[38;5;28;01mNone\u001b[39;00m\n\u001b[1;32m   1326\u001b[0m \u001b[38;5;28;01mexcept\u001b[39;00m \u001b[38;5;167;01mException\u001b[39;00m:\n\u001b[1;32m   1327\u001b[0m     \u001b[38;5;28mself\u001b[39m\u001b[38;5;241m.\u001b[39mlog\u001b[38;5;241m.\u001b[39mwarning(\u001b[38;5;124m\"\u001b[39m\u001b[38;5;124mInvalid Message:\u001b[39m\u001b[38;5;124m\"\u001b[39m, exc_info\u001b[38;5;241m=\u001b[39m\u001b[38;5;28;01mTrue\u001b[39;00m)\n",
      "\u001b[0;31mKeyboardInterrupt\u001b[0m: Interrupted by user"
     ]
    }
   ],
   "source": [
    "# here's an example of using if\n",
    "\n",
    "name = input('Enter your name: ')\n",
    "\n",
    "if name == 'Reuven':\n",
    "    print('Hello, boss!')\n",
    "    print('It is so great to see you again!')\n",
    "else:\n",
    "    print(f'Hello, {name}. Who are you?')"
   ]
  },
  {
   "cell_type": "markdown",
   "metadata": {},
   "source": [
    "# Things to notice\n",
    "\n",
    "1. We use `if` to start a conditional block. `if` looks to its right, and checks for a `True` or `False` value. (Very) often, we'll use a comparison operator such as `==` to the right of the `if`\n",
    "2. There are no `()` necessary around the condition.\n",
    "3. At the end of the line, we put `:`\n",
    "4. Following the `:`, we have a block of code. This block will only run if the `if` condition is `True`\n",
    "5. The block is indicated with indentation.\n",
    "    - A block is always preceded by a `:` at the end of a line\n",
    "    - The block's indentation lasts for as long as the block is active.\n",
    "    - You can stop the indentation by backspacing\n",
    "    - The indentation can be any combination of tabs and spaces *BUT* you must be consistent within a block, and traditionally Python uses 4 spaces.\n",
    "    - Any tool that lets you write Python knows about indentation and will probably automate it for you\n",
    "    - We don't use `{}` or `begin`/`end` or other such things to indicate where the block starts and where it stops\n",
    "6. Optionally, we can have an `else` block. It will only run if the condition for the `if` was `False`.\n",
    "7. `else` doesn't have any condition. It's just `else:`, and then a block after.\n",
    "8. One, and only one, of the `if`/`else` blocks will run. It cannot be that zero will run, and it cannot be that both will run. They are mutually exclusive.\n",
    "9. Inside of a block, you can have ANY CODE WHATSOEVER, including `input`, `print`, `=`, or even another `if` statement."
   ]
  },
  {
   "cell_type": "markdown",
   "metadata": {},
   "source": [
    "# Exercise: Which word comes first?\n",
    "\n",
    "1. Ask the user to enter a word, and assign it to `first`.\n",
    "2. Ask the user to enter a second (different) word, and assign it to `second`.\n",
    "3. Tell the user which word comes first alphabetically.\n",
    "4. Note: Keep both words lowercase, and make sure they're different.\n",
    "\n",
    "Example:\n",
    "\n",
    "    Enter first word: chicken\n",
    "    Enter second word: egg\n",
    "    chicken comes before egg"
   ]
  },
  {
   "cell_type": "code",
   "execution_count": 60,
   "metadata": {},
   "outputs": [
    {
     "name": "stdin",
     "output_type": "stream",
     "text": [
      "Enter first word:  chicken\n",
      "Enter second word:  egg\n"
     ]
    }
   ],
   "source": [
    "first = input('Enter first word: ')\n",
    "second = input('Enter second word: ')"
   ]
  },
  {
   "cell_type": "code",
   "execution_count": 61,
   "metadata": {},
   "outputs": [
    {
     "data": {
      "text/plain": [
       "'chicken'"
      ]
     },
     "execution_count": 61,
     "metadata": {},
     "output_type": "execute_result"
    }
   ],
   "source": [
    "first"
   ]
  },
  {
   "cell_type": "code",
   "execution_count": 62,
   "metadata": {},
   "outputs": [
    {
     "data": {
      "text/plain": [
       "'egg'"
      ]
     },
     "execution_count": 62,
     "metadata": {},
     "output_type": "execute_result"
    }
   ],
   "source": [
    "second"
   ]
  },
  {
   "cell_type": "code",
   "execution_count": 63,
   "metadata": {
    "scrolled": true
   },
   "outputs": [
    {
     "data": {
      "text/plain": [
       "True"
      ]
     },
     "execution_count": 63,
     "metadata": {},
     "output_type": "execute_result"
    }
   ],
   "source": [
    "first == first   # are these two values the same?"
   ]
  },
  {
   "cell_type": "code",
   "execution_count": 70,
   "metadata": {
    "scrolled": true
   },
   "outputs": [
    {
     "data": {
      "text/plain": [
       "False"
      ]
     },
     "execution_count": 70,
     "metadata": {},
     "output_type": "execute_result"
    }
   ],
   "source": [
    "first == second   # are these two values the same?"
   ]
  },
  {
   "cell_type": "code",
   "execution_count": 64,
   "metadata": {},
   "outputs": [
    {
     "data": {
      "text/plain": [
       "True"
      ]
     },
     "execution_count": 64,
     "metadata": {},
     "output_type": "execute_result"
    }
   ],
   "source": [
    "first < second    # does first come before second alphabetically?"
   ]
  },
  {
   "cell_type": "code",
   "execution_count": 65,
   "metadata": {},
   "outputs": [
    {
     "data": {
      "text/plain": [
       "False"
      ]
     },
     "execution_count": 65,
     "metadata": {},
     "output_type": "execute_result"
    }
   ],
   "source": [
    "first > second    # does first come *after* second alphabetically"
   ]
  },
  {
   "cell_type": "code",
   "execution_count": 66,
   "metadata": {},
   "outputs": [
    {
     "data": {
      "text/plain": [
       "True"
      ]
     },
     "execution_count": 66,
     "metadata": {},
     "output_type": "execute_result"
    }
   ],
   "source": [
    "first != second   # are they not the same value?"
   ]
  },
  {
   "cell_type": "code",
   "execution_count": 67,
   "metadata": {},
   "outputs": [
    {
     "name": "stdout",
     "output_type": "stream",
     "text": [
      "chicken comes before egg\n"
     ]
    }
   ],
   "source": [
    "if first < second:   \n",
    "    print(f'{first} comes before {second}')\n",
    "else:\n",
    "    print(f'{second} comescv before {first}')"
   ]
  },
  {
   "cell_type": "code",
   "execution_count": 69,
   "metadata": {},
   "outputs": [
    {
     "name": "stdin",
     "output_type": "stream",
     "text": [
      "Enter first word:  cart\n",
      "Enter second word:  horse\n"
     ]
    },
    {
     "name": "stdout",
     "output_type": "stream",
     "text": [
      "cart comes before horse\n"
     ]
    }
   ],
   "source": [
    "first = input('Enter first word: ')\n",
    "second = input('Enter second word: ')\n",
    "\n",
    "if first < second:   \n",
    "    print(f'{first} comes before {second}')\n",
    "else:\n",
    "    print(f'{second} comes before {first}')"
   ]
  },
  {
   "cell_type": "code",
   "execution_count": 73,
   "metadata": {},
   "outputs": [
    {
     "name": "stdin",
     "output_type": "stream",
     "text": [
      "Enter your name:  Naomi \n"
     ]
    },
    {
     "name": "stdout",
     "output_type": "stream",
     "text": [
      "Hello, Naomi . Who are you?\n"
     ]
    }
   ],
   "source": [
    "# NH\n",
    "\n",
    "name = input('Enter your name: ')\n",
    "\n",
    "if name == 'Naomi':\n",
    "    print('Hello, boss!')\n",
    "    print('It is so great to see you again!')\n",
    "\n",
    "else:\n",
    "    print(f'Hello, {name}. Who are you?')"
   ]
  },
  {
   "cell_type": "code",
   "execution_count": null,
   "metadata": {},
   "outputs": [],
   "source": [
    "# JH\n",
    "\n",
    "first = input('enter a word. ')\n",
    "second = input('enter a different word. ')\n",
    "\n",
    "if first == 'rats':\n",
    "    print('this ' + first + 'comes first')\n",
    "    \n",
    "if second == 'pen':\n",
    "    print('this ' + second + 'comes second').   is this correct"
   ]
  },
  {
   "cell_type": "code",
   "execution_count": null,
   "metadata": {},
   "outputs": [],
   "source": []
  },
  {
   "cell_type": "code",
   "execution_count": 74,
   "metadata": {},
   "outputs": [
    {
     "data": {
      "text/plain": [
       "False"
      ]
     },
     "execution_count": 74,
     "metadata": {},
     "output_type": "execute_result"
    }
   ],
   "source": [
    "# Python checks to see which comes first alphabetically\n",
    "# it compares the first characters in both strings\n",
    "#  - if there's a clear winner, we stop\n",
    "#  - if not, we go to the second character\n",
    "\n",
    "first =  'xyz'\n",
    "second = 'a'\n",
    "\n",
    "first < second"
   ]
  },
  {
   "cell_type": "code",
   "execution_count": 75,
   "metadata": {},
   "outputs": [
    {
     "data": {
      "text/plain": [
       "True"
      ]
     },
     "execution_count": 75,
     "metadata": {},
     "output_type": "execute_result"
    }
   ],
   "source": [
    "second < first"
   ]
  },
  {
   "cell_type": "code",
   "execution_count": 76,
   "metadata": {},
   "outputs": [
    {
     "data": {
      "text/plain": [
       "True"
      ]
     },
     "execution_count": 76,
     "metadata": {},
     "output_type": "execute_result"
    }
   ],
   "source": [
    "\n",
    "first = 'abc'\n",
    "second = 'x'\n",
    "\n",
    "first < second"
   ]
  },
  {
   "cell_type": "code",
   "execution_count": null,
   "metadata": {},
   "outputs": [],
   "source": [
    "# which comes first?\n",
    "# we get to character #4, and they're the same\n",
    "# in this case, testing comes later (like in the dictionary), because it's longer\n",
    "\n",
    "first =  'test'\n",
    "second = 'testing'\n"
   ]
  },
  {
   "cell_type": "code",
   "execution_count": 78,
   "metadata": {},
   "outputs": [
    {
     "name": "stdin",
     "output_type": "stream",
     "text": [
      "enter a word.  test\n",
      "enter a different word.  123test\n"
     ]
    },
    {
     "name": "stdout",
     "output_type": "stream",
     "text": [
      "123test comes before test\n"
     ]
    }
   ],
   "source": [
    "# JH\n",
    "\n",
    "first = input('enter a word. ')\n",
    "second = input('enter a different word. ')\n",
    "\n",
    "if first < second:   # does first come before second alphabetically?\n",
    "    print(f'{first} comes before {second}')\n",
    "    \n",
    "else:    # first < second was False, so we'll run the \"else\" block instead\n",
    "    print(f'{second} comes before {first}')"
   ]
  },
  {
   "cell_type": "markdown",
   "metadata": {},
   "source": [
    "When Python compares strings, it doesn't *really* check them alphabetically.\n",
    "\n",
    "It checks them lexicographically -- using the characters, and their numeric representations.\n",
    "\n",
    "- All capital letters come before all lowercase letters\n",
    "- All numbers and symbols come before lowercase letters"
   ]
  },
  {
   "cell_type": "markdown",
   "metadata": {},
   "source": [
    "# Next up\n",
    "\n",
    "1. Combining conditions with `and` and `or`\n",
    "2. Flipping the logic with `not`\n",
    "3. Adding conditional blocks with `elif`\n",
    "4. Numbers\n",
    "5. Strings"
   ]
  },
  {
   "cell_type": "code",
   "execution_count": 79,
   "metadata": {},
   "outputs": [
    {
     "name": "stdout",
     "output_type": "stream",
     "text": [
      "Yes, it is 10!\n"
     ]
    }
   ],
   "source": [
    "x = 10\n",
    "\n",
    "if x == 10:\n",
    "    print('Yes, it is 10!')"
   ]
  },
  {
   "cell_type": "markdown",
   "metadata": {},
   "source": [
    "What if we want to check if two separate things are true?\n",
    "\n",
    "Or if we want to check if one of two things is true?\n",
    "\n",
    "We can use the `and` and `or` operators. Both `and` and `or` expect to get `True` or `False` values on their left and right.\n",
    "\n",
    "- `and` returns `True` if it sees `True` values on both left and right\n",
    "- `or` returns `True` if it sees a `True` value on *either* its left or right (or both)"
   ]
  },
  {
   "cell_type": "code",
   "execution_count": 80,
   "metadata": {},
   "outputs": [
    {
     "data": {
      "text/plain": [
       "True"
      ]
     },
     "execution_count": 80,
     "metadata": {},
     "output_type": "execute_result"
    }
   ],
   "source": [
    "x = 10\n",
    "y = 20\n",
    "\n",
    "#  True    and         True  --> True\n",
    "x == 10     and    y == 20"
   ]
  },
  {
   "cell_type": "code",
   "execution_count": 81,
   "metadata": {},
   "outputs": [
    {
     "data": {
      "text/plain": [
       "False"
      ]
     },
     "execution_count": 81,
     "metadata": {},
     "output_type": "execute_result"
    }
   ],
   "source": [
    "\n",
    "#  False    and         True  --> False\n",
    "x == 45     and    y == 20"
   ]
  },
  {
   "cell_type": "code",
   "execution_count": 82,
   "metadata": {},
   "outputs": [
    {
     "data": {
      "text/plain": [
       "True"
      ]
     },
     "execution_count": 82,
     "metadata": {},
     "output_type": "execute_result"
    }
   ],
   "source": [
    "\n",
    "#  False    or         True  --> True\n",
    "x == 45     or    y == 20"
   ]
  },
  {
   "cell_type": "code",
   "execution_count": 83,
   "metadata": {},
   "outputs": [
    {
     "name": "stdout",
     "output_type": "stream",
     "text": [
      "Both are what I wanted\n"
     ]
    }
   ],
   "source": [
    "if x == 10 and y == 20:\n",
    "    print('Both are what I wanted')"
   ]
  },
  {
   "cell_type": "code",
   "execution_count": 84,
   "metadata": {},
   "outputs": [
    {
     "name": "stdout",
     "output_type": "stream",
     "text": [
      "At least one is what I wanted\n"
     ]
    }
   ],
   "source": [
    "if x == 45 or y == 20:\n",
    "    print('At least one is what I wanted')"
   ]
  },
  {
   "cell_type": "code",
   "execution_count": 88,
   "metadata": {},
   "outputs": [
    {
     "ename": "IndentationError",
     "evalue": "expected an indented block after 'if' statement on line 4 (3682719915.py, line 6)",
     "output_type": "error",
     "traceback": [
      "\u001b[0;36m  Cell \u001b[0;32mIn[88], line 6\u001b[0;36m\u001b[0m\n\u001b[0;31m    print('At least one is what I wanted')\u001b[0m\n\u001b[0m    ^\u001b[0m\n\u001b[0;31mIndentationError\u001b[0m\u001b[0;31m:\u001b[0m expected an indented block after 'if' statement on line 4\n"
     ]
    }
   ],
   "source": [
    "# how can I make this more readable?\n",
    "# If we have open parentheses, then Python sees the line as continuing\n",
    "\n",
    "if (x == 45 or \n",
    "    y == 20)\n",
    "    print('At least one is what I wanted')"
   ]
  },
  {
   "cell_type": "code",
   "execution_count": 86,
   "metadata": {},
   "outputs": [
    {
     "data": {
      "text/plain": [
       "True"
      ]
     },
     "execution_count": 86,
     "metadata": {},
     "output_type": "execute_result"
    }
   ],
   "source": [
    "x = 10\n",
    "y = 20\n",
    "z = 30\n",
    "\n",
    "#       True         \n",
    "x == 10 and y == 20 and z == 30"
   ]
  },
  {
   "cell_type": "code",
   "execution_count": 89,
   "metadata": {},
   "outputs": [
    {
     "name": "stdout",
     "output_type": "stream",
     "text": [
      "Good news! x is not 20!\n"
     ]
    }
   ],
   "source": [
    "# the third logical operator: not\n",
    "# not returns the opposite of the True/False to its right\n",
    "\n",
    "x = 10\n",
    "\n",
    "if not x == 20:    # don't do this... just use !=  , the inequality operator\n",
    "    print('Good news! x is not 20!')"
   ]
  },
  {
   "cell_type": "code",
   "execution_count": 91,
   "metadata": {},
   "outputs": [
    {
     "ename": "SyntaxError",
     "evalue": "incomplete input (125968667.py, line 2)",
     "output_type": "error",
     "traceback": [
      "\u001b[0;36m  Cell \u001b[0;32mIn[91], line 2\u001b[0;36m\u001b[0m\n\u001b[0;31m    # this is a comment\u001b[0m\n\u001b[0m                         ^\u001b[0m\n\u001b[0;31mSyntaxError\u001b[0m\u001b[0;31m:\u001b[0m incomplete input\n"
     ]
    }
   ],
   "source": [
    "if x == 10:\n",
    "  # this is a comment  \n",
    "    pass   # this means: do nothing, but I have to fill this in here"
   ]
  },
  {
   "cell_type": "markdown",
   "metadata": {},
   "source": [
    "# What if there are more than two options?\n",
    "\n",
    "`if`/`else` is great if you have two options. But if you have three or more options, how can you check for them?\n",
    "\n",
    "1. Put additional `if`/`else` checks and blocks inside of the outer `if`/`else` blocks.\n",
    "2. Better is to use `elif`, which comes after `if` but before `else`, and it says: I have another condition to check, if the previous one(s) were `False`\n",
    "\n"
   ]
  },
  {
   "cell_type": "code",
   "execution_count": null,
   "metadata": {},
   "outputs": [],
   "source": [
    "first = input('Enter first word: ')\n",
    "second = input('Enter second word: ')\n",
    "\n",
    "if first < second:   \n",
    "    print(f'{first} comes before {second}')\n",
    "elif second < first:\n",
    "    print(f'{second} comes before {first}')\n",
    "else:\n",
    "    print(f'You entered {first} twice.')"
   ]
  },
  {
   "cell_type": "code",
   "execution_count": 92,
   "metadata": {},
   "outputs": [
    {
     "name": "stdout",
     "output_type": "stream",
     "text": [
      "more than 10\n"
     ]
    }
   ],
   "source": [
    "x = 50\n",
    "\n",
    "if x > 10:\n",
    "    print('more than 10')\n",
    "elif x > 20:\n",
    "    print('more than 20')\n",
    "elif x > 40:\n",
    "    print('more than 40')\n",
    "elif x > 60:\n",
    "    print('more than 60')\n",
    "elif x > 80:\n",
    "    print('more than 80')\n",
    "else:\n",
    "    print('higher than I can count')"
   ]
  },
  {
   "cell_type": "code",
   "execution_count": 93,
   "metadata": {},
   "outputs": [
    {
     "name": "stdout",
     "output_type": "stream",
     "text": [
      "more than 40\n"
     ]
    }
   ],
   "source": [
    "x = 50\n",
    "\n",
    "if x > 80:\n",
    "    print('more than 80')\n",
    "elif x > 60:\n",
    "    print('more than 60')\n",
    "elif x > 40:\n",
    "    print('more than 40')\n",
    "elif x > 20:\n",
    "    print('more than 20')\n",
    "elif x > 10:\n",
    "    print('more than 10')\n",
    "else:\n",
    "    print('higher than I can count')"
   ]
  },
  {
   "cell_type": "code",
   "execution_count": 95,
   "metadata": {},
   "outputs": [
    {
     "name": "stdout",
     "output_type": "stream",
     "text": [
      "less than 10\n"
     ]
    }
   ],
   "source": [
    "x = 5\n",
    "\n",
    "if x > 80:\n",
    "    print('more than 80')\n",
    "elif x > 60:\n",
    "    print('more than 60')\n",
    "elif x > 40:\n",
    "    print('more than 40')\n",
    "elif x > 20:\n",
    "    print('more than 20')\n",
    "elif x > 10:\n",
    "    print('more than 10')\n",
    "else:\n",
    "    print('less than 10')"
   ]
  },
  {
   "cell_type": "markdown",
   "metadata": {},
   "source": [
    "# Exercise: Name and company\n",
    "\n",
    "0. Decide what name and company will be yours. You can either put these in variables, or you can just hard-code and compare them in the program.\n",
    "1. Ask the user to enter their name\n",
    "2. Ask the user to enter their company's name\n",
    "3. Print one of four things:\n",
    "    - If the user's name matches your name, and the user's company matches your company, say \"You must be me!\"\n",
    "    - If the name is the same, but not the company, then say, \"Great name, but a terrible company\"\n",
    "    - If the company is the same, but not the name, then say, \"Greetings, colleague!\"\n",
    "    - If neither is the same, say something snarky"
   ]
  },
  {
   "cell_type": "code",
   "execution_count": null,
   "metadata": {},
   "outputs": [],
   "source": [
    "a"
   ]
  },
  {
   "cell_type": "code",
   "execution_count": 96,
   "metadata": {},
   "outputs": [
    {
     "name": "stdin",
     "output_type": "stream",
     "text": [
      "What's your name? \n"
     ]
    },
    {
     "data": {
      "text/plain": [
       "''"
      ]
     },
     "execution_count": 96,
     "metadata": {},
     "output_type": "execute_result"
    }
   ],
   "source": [
    "input(\"What's your name?\")"
   ]
  },
  {
   "cell_type": "code",
   "execution_count": 98,
   "metadata": {},
   "outputs": [
    {
     "name": "stdin",
     "output_type": "stream",
     "text": [
      "Enter your name:  Someone\n",
      "Enter your company:  Somewhere\n"
     ]
    },
    {
     "name": "stdout",
     "output_type": "stream",
     "text": [
      "Hello, person with a bad name and worse employer!\n"
     ]
    }
   ],
   "source": [
    "name = input('Enter your name: ')\n",
    "company = input('Enter your company: ')\n",
    "\n",
    "if name == 'Reuven' and company == 'Lerner':\n",
    "    print('You must be me!')\n",
    "elif name == 'Reuven':\n",
    "    print('Great name, terrible company!')\n",
    "elif company == 'Lerner':\n",
    "    print(f'Greetings, {name}, my colleague!')\n",
    "else:\n",
    "    print('Hello, person with a bad name and worse employer!')"
   ]
  },
  {
   "cell_type": "code",
   "execution_count": null,
   "metadata": {},
   "outputs": [],
   "source": [
    "# AK\n",
    "\n",
    "company = 'Acme'\n",
    "name = 'Bugs'\n",
    "\n",
    "nm = input('Enter your name: ')\n",
    "cmp = input('Enter your company: ')\n",
    "\n",
    "if nm==name and cmp==company:\n",
    "  print(f'I am here!')\n",
    "elif nm==name and cmp!=company:\n",
    "  print(f'Hi {nm}, did you get fired?')\n",
    "elif nm!=name and cmp==company:\n",
    "  print(f'Hi {nm}')\n",
    "else:\n",
    "  print('WTF are you?')"
   ]
  },
  {
   "cell_type": "code",
   "execution_count": 100,
   "metadata": {},
   "outputs": [
    {
     "name": "stdin",
     "output_type": "stream",
     "text": [
      "Please enter your name:  Reuven\n",
      "Please enter your company name:  Wherever\n"
     ]
    },
    {
     "name": "stdout",
     "output_type": "stream",
     "text": [
      " Reuven does your Wherever pay well?\n"
     ]
    }
   ],
   "source": [
    "# AR\n",
    "\n",
    "mycomp='MS'\n",
    "myname='Alex'\n",
    "name = input('Please enter your name: ')\n",
    "compname = input('Please enter your company name: ')\n",
    "\n",
    "\n",
    "if name == myname and compname == mycomp:\n",
    "    print (f'Congrats, you are my clone')\n",
    "elif name != myname and compname == mycomp:\n",
    "    print (f' We work for the same shop {mycomp}')\n",
    "elif name == myname and compname == mycomp:\n",
    "    print (f' Nice name {myname}' )\n",
    "else:\n",
    "    print (f' {name} does your {compname} pay well?')"
   ]
  },
  {
   "cell_type": "markdown",
   "metadata": {},
   "source": [
    "# Data structures\n",
    "\n",
    "We're now going to talk about ways in which we can organize our data inside of a program. There are many different types -- we've already seen integers and strings -- and each has different capabilities.\n",
    "\n",
    "Today, we're going to talk more about integers and strings. Next time, we'll talk about lists and tuples. After that, we'll talk about dictionaries and files.\n",
    "\n"
   ]
  },
  {
   "cell_type": "markdown",
   "metadata": {},
   "source": [
    "# Integers\n",
    "\n",
    "Integers are whole numbers, containing just digits. Unlike some other languages, Python's numbers aren't limited by the number of bits they contain. \n",
    "\n",
    "If we have integers, we can run a bunch of different operations on them."
   ]
  },
  {
   "cell_type": "code",
   "execution_count": 101,
   "metadata": {},
   "outputs": [],
   "source": [
    "x = 10\n",
    "y = 3"
   ]
  },
  {
   "cell_type": "code",
   "execution_count": 102,
   "metadata": {},
   "outputs": [
    {
     "data": {
      "text/plain": [
       "13"
      ]
     },
     "execution_count": 102,
     "metadata": {},
     "output_type": "execute_result"
    }
   ],
   "source": [
    "x + y    # addition"
   ]
  },
  {
   "cell_type": "code",
   "execution_count": 103,
   "metadata": {},
   "outputs": [
    {
     "data": {
      "text/plain": [
       "7"
      ]
     },
     "execution_count": 103,
     "metadata": {},
     "output_type": "execute_result"
    }
   ],
   "source": [
    "x - y    # subtraction"
   ]
  },
  {
   "cell_type": "code",
   "execution_count": 104,
   "metadata": {},
   "outputs": [
    {
     "data": {
      "text/plain": [
       "30"
      ]
     },
     "execution_count": 104,
     "metadata": {},
     "output_type": "execute_result"
    }
   ],
   "source": [
    "x * y    # multiplication"
   ]
  },
  {
   "cell_type": "code",
   "execution_count": 105,
   "metadata": {},
   "outputs": [
    {
     "data": {
      "text/plain": [
       "3.3333333333333335"
      ]
     },
     "execution_count": 105,
     "metadata": {},
     "output_type": "execute_result"
    }
   ],
   "source": [
    "x / y    # truediv, returning a floating point number (i.e., with a fractional part)"
   ]
  },
  {
   "cell_type": "code",
   "execution_count": 106,
   "metadata": {},
   "outputs": [
    {
     "data": {
      "text/plain": [
       "3"
      ]
     },
     "execution_count": 106,
     "metadata": {},
     "output_type": "execute_result"
    }
   ],
   "source": [
    "x // y   # floordiv, returning the integer part of the division"
   ]
  },
  {
   "cell_type": "code",
   "execution_count": 107,
   "metadata": {},
   "outputs": [
    {
     "data": {
      "text/plain": [
       "1"
      ]
     },
     "execution_count": 107,
     "metadata": {},
     "output_type": "execute_result"
    }
   ],
   "source": [
    "x % y     # modulo, returning the remainder from division"
   ]
  },
  {
   "cell_type": "code",
   "execution_count": 108,
   "metadata": {},
   "outputs": [
    {
     "data": {
      "text/plain": [
       "1000"
      ]
     },
     "execution_count": 108,
     "metadata": {},
     "output_type": "execute_result"
    }
   ],
   "source": [
    "x ** y    # exponentation"
   ]
  },
  {
   "cell_type": "code",
   "execution_count": 109,
   "metadata": {},
   "outputs": [
    {
     "data": {
      "text/plain": [
       "11"
      ]
     },
     "execution_count": 109,
     "metadata": {},
     "output_type": "execute_result"
    }
   ],
   "source": [
    "x = 10\n",
    "\n",
    "x = x + 1    # this is not valid math, but it is very valid and very common Python code\n",
    "\n",
    "x"
   ]
  },
  {
   "cell_type": "code",
   "execution_count": 110,
   "metadata": {},
   "outputs": [],
   "source": [
    "# we can write this is in a shorter way\n",
    "\n",
    "x = 10\n",
    "x += 1    # += is a shorthand for  x = x + 1"
   ]
  },
  {
   "cell_type": "code",
   "execution_count": 111,
   "metadata": {},
   "outputs": [
    {
     "data": {
      "text/plain": [
       "11"
      ]
     },
     "execution_count": 111,
     "metadata": {},
     "output_type": "execute_result"
    }
   ],
   "source": [
    "x"
   ]
  },
  {
   "cell_type": "code",
   "execution_count": 112,
   "metadata": {},
   "outputs": [
    {
     "data": {
      "text/plain": [
       "10"
      ]
     },
     "execution_count": 112,
     "metadata": {},
     "output_type": "execute_result"
    }
   ],
   "source": [
    "# what if we have a string and we want to get an integer from it?\n",
    "# we can call int() on the string, and we'll get back an integer\n",
    "# (we don't modify the string -- we get a new value back)\n",
    "\n",
    "x = '10'\n",
    "y = int(x)\n",
    "\n",
    "y"
   ]
  },
  {
   "cell_type": "code",
   "execution_count": 113,
   "metadata": {},
   "outputs": [
    {
     "data": {
      "text/plain": [
       "15"
      ]
     },
     "execution_count": 113,
     "metadata": {},
     "output_type": "execute_result"
    }
   ],
   "source": [
    "y + 5"
   ]
  },
  {
   "cell_type": "code",
   "execution_count": 114,
   "metadata": {},
   "outputs": [
    {
     "data": {
      "text/plain": [
       "10"
      ]
     },
     "execution_count": 114,
     "metadata": {},
     "output_type": "execute_result"
    }
   ],
   "source": [
    "x = int(x)   # this means: take the string x, get a new int based on it, then assign the result back to x\n",
    "\n",
    "x"
   ]
  },
  {
   "cell_type": "code",
   "execution_count": 115,
   "metadata": {},
   "outputs": [
    {
     "ename": "ValueError",
     "evalue": "invalid literal for int() with base 10: 'abcd'",
     "output_type": "error",
     "traceback": [
      "\u001b[0;31m---------------------------------------------------------------------------\u001b[0m",
      "\u001b[0;31mValueError\u001b[0m                                Traceback (most recent call last)",
      "Cell \u001b[0;32mIn[115], line 3\u001b[0m\n\u001b[1;32m      1\u001b[0m \u001b[38;5;66;03m# what if the argument to int cannot be turned into an integer? We get an error\u001b[39;00m\n\u001b[0;32m----> 3\u001b[0m \u001b[38;5;28;43mint\u001b[39;49m\u001b[43m(\u001b[49m\u001b[38;5;124;43m'\u001b[39;49m\u001b[38;5;124;43mabcd\u001b[39;49m\u001b[38;5;124;43m'\u001b[39;49m\u001b[43m)\u001b[49m\n",
      "\u001b[0;31mValueError\u001b[0m: invalid literal for int() with base 10: 'abcd'"
     ]
    }
   ],
   "source": [
    "# what if the argument to int cannot be turned into an integer? We get an error\n",
    "\n",
    "int('abcd')"
   ]
  },
  {
   "cell_type": "code",
   "execution_count": 116,
   "metadata": {},
   "outputs": [
    {
     "data": {
      "text/plain": [
       "5"
      ]
     },
     "execution_count": 116,
     "metadata": {},
     "output_type": "execute_result"
    }
   ],
   "source": [
    "int(5)  # if you really way, we'll get an integer 5 back from this"
   ]
  },
  {
   "cell_type": "code",
   "execution_count": 117,
   "metadata": {},
   "outputs": [
    {
     "data": {
      "text/plain": [
       "123"
      ]
     },
     "execution_count": 117,
     "metadata": {},
     "output_type": "execute_result"
    }
   ],
   "source": [
    "int(123.456)  # pass in a float, and we get the integer part -- this doesn't round!"
   ]
  },
  {
   "cell_type": "markdown",
   "metadata": {},
   "source": [
    "# Exercise: Bad guessing game\n",
    "\n",
    "1. Define a variable, `number`, with a number the user should guess.\n",
    "2. Ask the user to enter a guess, and assign it to `guess`.\n",
    "3. Tell the user one of these:\n",
    "    - You got it! (if they guessed correctly)\n",
    "    - Too low! (if too low)\n",
    "    - Too high! (if too high)\n",
    "4. The user gets a single chance to guess the number."
   ]
  },
  {
   "cell_type": "code",
   "execution_count": 122,
   "metadata": {},
   "outputs": [
    {
     "name": "stdin",
     "output_type": "stream",
     "text": [
      "Enter a guess:  98\n"
     ]
    },
    {
     "name": "stdout",
     "output_type": "stream",
     "text": [
      "Too high!\n"
     ]
    }
   ],
   "source": [
    "number = 72\n",
    "\n",
    "guess = input('Enter a guess: ')\n",
    "guess = int(guess)\n",
    "\n",
    "if guess == number:\n",
    "    print('You got it!')\n",
    "elif guess < number:\n",
    "    print('Too low!')\n",
    "else:\n",
    "    print('Too high!')"
   ]
  },
  {
   "cell_type": "code",
   "execution_count": 119,
   "metadata": {},
   "outputs": [
    {
     "data": {
      "text/plain": [
       "False"
      ]
     },
     "execution_count": 119,
     "metadata": {},
     "output_type": "execute_result"
    }
   ],
   "source": [
    "72 == '72'"
   ]
  },
  {
   "cell_type": "code",
   "execution_count": null,
   "metadata": {},
   "outputs": [],
   "source": [
    "# this will work, too...\n",
    "\n",
    "number = 72\n",
    "\n",
    "guess = int(input('Enter a guess: '))\n",
    "\n",
    "if guess == number:\n",
    "    print('You got it!')\n",
    "elif guess < number:\n",
    "    print('Too low!')\n",
    "else:\n",
    "    print('Too high!')"
   ]
  },
  {
   "cell_type": "markdown",
   "metadata": {},
   "source": [
    "# Next up\n",
    "\n",
    "- Defining them\n",
    "- Retrieving from them\n",
    "- Searching in them\n",
    "- String methods"
   ]
  },
  {
   "cell_type": "markdown",
   "metadata": {},
   "source": [
    "# Strings\n",
    "\n",
    "Python strings can contain any characters we want, from any language. (Plus musical notation and emojis.) We define strings inside of quotes -- either `''` or `\"\"`. You can use either, but you need to use the same type of quote at the start and end of your string.\n",
    "\n",
    "What if the string contains either `'` or `\"`? Then you have two options:\n",
    "\n",
    "1. Use the other kind of quote on the outside\n",
    "2. Use a `\\` before the quote, to indicate that it's part of the string, and not ending it"
   ]
  },
  {
   "cell_type": "code",
   "execution_count": 125,
   "metadata": {},
   "outputs": [
    {
     "data": {
      "text/plain": [
       "\"He's very nice\""
      ]
     },
     "execution_count": 125,
     "metadata": {},
     "output_type": "execute_result"
    }
   ],
   "source": [
    "s = 'He\\'s very nice'\n",
    "s"
   ]
  },
  {
   "cell_type": "code",
   "execution_count": 126,
   "metadata": {},
   "outputs": [
    {
     "data": {
      "text/plain": [
       "str"
      ]
     },
     "execution_count": 126,
     "metadata": {},
     "output_type": "execute_result"
    }
   ],
   "source": [
    "# let's define a string\n",
    "\n",
    "s = 'abcdefghijklmnopqrstuvwxyz'\n",
    "\n",
    "type(s)  # what kind of data have we stored in s?"
   ]
  },
  {
   "cell_type": "code",
   "execution_count": 127,
   "metadata": {},
   "outputs": [
    {
     "data": {
      "text/plain": [
       "26"
      ]
     },
     "execution_count": 127,
     "metadata": {},
     "output_type": "execute_result"
    }
   ],
   "source": [
    "# how many characters are in the string? \n",
    "\n",
    "len(s)   # the len function returns the length of the string"
   ]
  },
  {
   "cell_type": "code",
   "execution_count": 131,
   "metadata": {},
   "outputs": [
    {
     "data": {
      "text/plain": [
       "'a'"
      ]
     },
     "execution_count": 131,
     "metadata": {},
     "output_type": "execute_result"
    }
   ],
   "source": [
    "# how can I retrieve one or more characters from the string?\n",
    "# use [] on the string, and put a numeric index inside of the []\n",
    "# indexes start with 0\n",
    "\n",
    "s[0]  # first character"
   ]
  },
  {
   "cell_type": "code",
   "execution_count": 132,
   "metadata": {},
   "outputs": [
    {
     "data": {
      "text/plain": [
       "'b'"
      ]
     },
     "execution_count": 132,
     "metadata": {},
     "output_type": "execute_result"
    }
   ],
   "source": [
    "s[1]   # second character"
   ]
  },
  {
   "cell_type": "code",
   "execution_count": 133,
   "metadata": {},
   "outputs": [
    {
     "data": {
      "text/plain": [
       "'k'"
      ]
     },
     "execution_count": 133,
     "metadata": {},
     "output_type": "execute_result"
    }
   ],
   "source": [
    "i = 10\n",
    "\n",
    "s[i]  # use a variable as an index"
   ]
  },
  {
   "cell_type": "code",
   "execution_count": 134,
   "metadata": {},
   "outputs": [
    {
     "ename": "IndexError",
     "evalue": "string index out of range",
     "output_type": "error",
     "traceback": [
      "\u001b[0;31m---------------------------------------------------------------------------\u001b[0m",
      "\u001b[0;31mIndexError\u001b[0m                                Traceback (most recent call last)",
      "Cell \u001b[0;32mIn[134], line 3\u001b[0m\n\u001b[1;32m      1\u001b[0m \u001b[38;5;66;03m# how can I get the final character in a string?\u001b[39;00m\n\u001b[0;32m----> 3\u001b[0m \u001b[43ms\u001b[49m\u001b[43m[\u001b[49m\u001b[43m \u001b[49m\u001b[38;5;28;43mlen\u001b[39;49m\u001b[43m(\u001b[49m\u001b[43ms\u001b[49m\u001b[43m)\u001b[49m\u001b[43m \u001b[49m\u001b[43m]\u001b[49m\n",
      "\u001b[0;31mIndexError\u001b[0m: string index out of range"
     ]
    }
   ],
   "source": [
    "# how can I get the final character in a string?\n",
    "\n",
    "s[ len(s) ]"
   ]
  },
  {
   "cell_type": "code",
   "execution_count": 135,
   "metadata": {
    "scrolled": true
   },
   "outputs": [
    {
     "data": {
      "text/plain": [
       "'z'"
      ]
     },
     "execution_count": 135,
     "metadata": {},
     "output_type": "execute_result"
    }
   ],
   "source": [
    "s[ len(s) - 1 ]"
   ]
  },
  {
   "cell_type": "code",
   "execution_count": 136,
   "metadata": {},
   "outputs": [
    {
     "data": {
      "text/plain": [
       "'z'"
      ]
     },
     "execution_count": 136,
     "metadata": {},
     "output_type": "execute_result"
    }
   ],
   "source": [
    "# there's another way, too: negative indexes!\n",
    "\n",
    "s[-1]  "
   ]
  },
  {
   "cell_type": "code",
   "execution_count": 137,
   "metadata": {
    "scrolled": true
   },
   "outputs": [
    {
     "data": {
      "text/plain": [
       "'a'"
      ]
     },
     "execution_count": 137,
     "metadata": {},
     "output_type": "execute_result"
    }
   ],
   "source": [
    "s[-26]"
   ]
  },
  {
   "cell_type": "code",
   "execution_count": 139,
   "metadata": {},
   "outputs": [
    {
     "data": {
      "text/plain": [
       "'klmnopqrst'"
      ]
     },
     "execution_count": 139,
     "metadata": {},
     "output_type": "execute_result"
    }
   ],
   "source": [
    "# we can retrieve subsets of the string (substrings) with [] and a \"slice\"\n",
    "# a slice is two numbers, separated by a :\n",
    "# it'll look like:   s[start:end]\n",
    "\n",
    "s[10:20]  # starting at index 10, up to and not including index 20"
   ]
  },
  {
   "cell_type": "code",
   "execution_count": 140,
   "metadata": {},
   "outputs": [
    {
     "data": {
      "text/plain": [
       "'abcdefghijklmnopqrst'"
      ]
     },
     "execution_count": 140,
     "metadata": {},
     "output_type": "execute_result"
    }
   ],
   "source": [
    "s[:20]   # starting at the beginning, until (not including) index 20"
   ]
  },
  {
   "cell_type": "code",
   "execution_count": 145,
   "metadata": {},
   "outputs": [
    {
     "data": {
      "text/plain": [
       "'pqrstuvwxyz'"
      ]
     },
     "execution_count": 145,
     "metadata": {},
     "output_type": "execute_result"
    }
   ],
   "source": [
    "s[15:]   # starting at index 15, through the end"
   ]
  },
  {
   "cell_type": "code",
   "execution_count": 142,
   "metadata": {},
   "outputs": [
    {
     "data": {
      "text/plain": [
       "'klmnopqrst'"
      ]
     },
     "execution_count": 142,
     "metadata": {},
     "output_type": "execute_result"
    }
   ],
   "source": [
    "start_index = 10\n",
    "end_index = 20\n",
    "\n",
    "s[start_index:end_index]"
   ]
  },
  {
   "cell_type": "markdown",
   "metadata": {},
   "source": [
    "Search in the string with `in`.\n",
    "\n"
   ]
  },
  {
   "cell_type": "code",
   "execution_count": 143,
   "metadata": {},
   "outputs": [
    {
     "data": {
      "text/plain": [
       "True"
      ]
     },
     "execution_count": 143,
     "metadata": {},
     "output_type": "execute_result"
    }
   ],
   "source": [
    "'c' in s  # does the 'c' string occur in s?"
   ]
  },
  {
   "cell_type": "code",
   "execution_count": 144,
   "metadata": {
    "scrolled": true
   },
   "outputs": [
    {
     "data": {
      "text/plain": [
       "True"
      ]
     },
     "execution_count": 144,
     "metadata": {},
     "output_type": "execute_result"
    }
   ],
   "source": [
    "'bcd' in s  # does the substring 'bcd' occur in s?"
   ]
  },
  {
   "cell_type": "code",
   "execution_count": 146,
   "metadata": {},
   "outputs": [
    {
     "data": {
      "text/plain": [
       "11"
      ]
     },
     "execution_count": 146,
     "metadata": {},
     "output_type": "execute_result"
    }
   ],
   "source": [
    "s = '   hello   '\n",
    "len(s)"
   ]
  },
  {
   "cell_type": "code",
   "execution_count": 147,
   "metadata": {},
   "outputs": [
    {
     "data": {
      "text/plain": [
       "' '"
      ]
     },
     "execution_count": 147,
     "metadata": {},
     "output_type": "execute_result"
    }
   ],
   "source": [
    "s[1]"
   ]
  },
  {
   "cell_type": "code",
   "execution_count": 148,
   "metadata": {},
   "outputs": [
    {
     "data": {
      "text/plain": [
       "'  h'"
      ]
     },
     "execution_count": 148,
     "metadata": {},
     "output_type": "execute_result"
    }
   ],
   "source": [
    "s[1:4]"
   ]
  },
  {
   "cell_type": "code",
   "execution_count": 149,
   "metadata": {},
   "outputs": [
    {
     "name": "stdout",
     "output_type": "stream",
     "text": [
      "abcde\n"
     ]
    }
   ],
   "source": [
    "# let's say I want to define a string \n",
    "\n",
    "text = 'abcde'\n",
    "\n",
    "print(text)"
   ]
  },
  {
   "cell_type": "code",
   "execution_count": 150,
   "metadata": {},
   "outputs": [
    {
     "ename": "SyntaxError",
     "evalue": "unterminated string literal (detected at line 3) (1849011361.py, line 3)",
     "output_type": "error",
     "traceback": [
      "\u001b[0;36m  Cell \u001b[0;32mIn[150], line 3\u001b[0;36m\u001b[0m\n\u001b[0;31m    text = 'abc\u001b[0m\n\u001b[0m           ^\u001b[0m\n\u001b[0;31mSyntaxError\u001b[0m\u001b[0;31m:\u001b[0m unterminated string literal (detected at line 3)\n"
     ]
    }
   ],
   "source": [
    "# what if my text needs to be spread over two lines?\n",
    "\n",
    "text = 'abc\n",
    "de'"
   ]
  },
  {
   "cell_type": "code",
   "execution_count": 151,
   "metadata": {},
   "outputs": [
    {
     "data": {
      "text/plain": [
       "6"
      ]
     },
     "execution_count": 151,
     "metadata": {},
     "output_type": "execute_result"
    }
   ],
   "source": [
    "# I can use \\n, which we write as two characters (\\ and n), but is really only one character in the string\n",
    "# and that character (\"newline\") when printed goes down one line\n",
    "\n",
    "text = 'abc\\nde'\n",
    "\n",
    "len(text)"
   ]
  },
  {
   "cell_type": "code",
   "execution_count": 152,
   "metadata": {},
   "outputs": [
    {
     "name": "stdout",
     "output_type": "stream",
     "text": [
      "abc\n",
      "de\n"
     ]
    }
   ],
   "source": [
    "print(text)"
   ]
  },
  {
   "cell_type": "markdown",
   "metadata": {},
   "source": [
    "# What can strings not do?\n",
    "\n",
    "The one thing that you cannot EVER EVER EVER do to a string is modify it. Once a string is defined, it cannot be changed. It's known as \"immutable.\" "
   ]
  },
  {
   "cell_type": "code",
   "execution_count": 153,
   "metadata": {},
   "outputs": [
    {
     "data": {
      "text/plain": [
       "'   hello   '"
      ]
     },
     "execution_count": 153,
     "metadata": {},
     "output_type": "execute_result"
    }
   ],
   "source": [
    "s"
   ]
  },
  {
   "cell_type": "code",
   "execution_count": 154,
   "metadata": {},
   "outputs": [
    {
     "ename": "TypeError",
     "evalue": "'str' object does not support item assignment",
     "output_type": "error",
     "traceback": [
      "\u001b[0;31m---------------------------------------------------------------------------\u001b[0m",
      "\u001b[0;31mTypeError\u001b[0m                                 Traceback (most recent call last)",
      "Cell \u001b[0;32mIn[154], line 1\u001b[0m\n\u001b[0;32m----> 1\u001b[0m \u001b[43ms\u001b[49m\u001b[43m[\u001b[49m\u001b[38;5;241;43m3\u001b[39;49m\u001b[43m]\u001b[49m \u001b[38;5;241m=\u001b[39m \u001b[38;5;124m'\u001b[39m\u001b[38;5;124m!\u001b[39m\u001b[38;5;124m'\u001b[39m   \u001b[38;5;66;03m# can we replace the existing character with !\u001b[39;00m\n",
      "\u001b[0;31mTypeError\u001b[0m: 'str' object does not support item assignment"
     ]
    }
   ],
   "source": [
    "s[3] = '!'   # can we replace the existing character with !"
   ]
  },
  {
   "cell_type": "code",
   "execution_count": 156,
   "metadata": {},
   "outputs": [],
   "source": [
    "s = s[3:8]   # here, I've created a new string (with the slice) and assigned back to s"
   ]
  },
  {
   "cell_type": "code",
   "execution_count": 157,
   "metadata": {},
   "outputs": [
    {
     "data": {
      "text/plain": [
       "'hello'"
      ]
     },
     "execution_count": 157,
     "metadata": {},
     "output_type": "execute_result"
    }
   ],
   "source": [
    "s"
   ]
  },
  {
   "cell_type": "code",
   "execution_count": 159,
   "metadata": {},
   "outputs": [
    {
     "data": {
      "text/plain": [
       "True"
      ]
     },
     "execution_count": 159,
     "metadata": {},
     "output_type": "execute_result"
    }
   ],
   "source": [
    "'\\n' in text"
   ]
  },
  {
   "cell_type": "markdown",
   "metadata": {},
   "source": [
    "# Exercise: Pig Latin\n",
    "\n",
    "Pig Latin is a children's secret language. The rules are:\n",
    "\n",
    "- If a word starts with a vowel (a, e, i, o, u) then we add `way` to the word\n",
    "- In all other cases, we move the first letter to the end, and add `ay`\n",
    "\n",
    "- I want you to ask the user for a word (all lowercase, one word, no punctuation)\n",
    "- Print the word's translation into Pig Latin\n",
    "\n",
    "Examples:\n",
    "\n",
    "- `table` -> `abletay`\n",
    "- `elephant` -> `elephantway`\n",
    "- `octopus` -> `octopusway`\n",
    "- `papaya` -> `apayapay` "
   ]
  },
  {
   "cell_type": "markdown",
   "metadata": {},
   "source": [
    "# Strategy\n",
    "\n",
    "1. Get input from the user, and assign to `word`. (Use the `input` function)\n",
    "2. Check the first letter of `word`, aka `word[0]`, and see if it's a vowels.\n",
    "3. If it's a vowel, then print the word + `way`.\n",
    "4. Otherwise, print the word from index 1 to the end, then index 0, then `ay`."
   ]
  },
  {
   "cell_type": "code",
   "execution_count": 163,
   "metadata": {},
   "outputs": [
    {
     "name": "stdin",
     "output_type": "stream",
     "text": [
      "Enter a word:  banana\n"
     ]
    }
   ],
   "source": [
    "word = input('Enter a word: ')\n",
    "\n",
    "if word[0] == 'a' or word[0] == 'e' or word[0] == 'i' or word[0] == 'o' or word[0] == 'u':\n",
    "    print(word + 'way')"
   ]
  },
  {
   "cell_type": "code",
   "execution_count": 165,
   "metadata": {},
   "outputs": [
    {
     "name": "stdin",
     "output_type": "stream",
     "text": [
      "Enter a word:  banana\n"
     ]
    },
    {
     "name": "stdout",
     "output_type": "stream",
     "text": [
      "bananaway\n"
     ]
    }
   ],
   "source": [
    "word = input('Enter a word: ')\n",
    "\n",
    "# if     False or True or True or True or True:\n",
    "if word[0] == 'a' or 'e' or 'i' or 'o' or 'u':\n",
    "    print(word + 'way')"
   ]
  },
  {
   "cell_type": "code",
   "execution_count": 167,
   "metadata": {},
   "outputs": [
    {
     "name": "stdin",
     "output_type": "stream",
     "text": [
      "Enter a word:  papaya\n"
     ]
    },
    {
     "name": "stdout",
     "output_type": "stream",
     "text": [
      "apayapay\n"
     ]
    }
   ],
   "source": [
    "# there is a better way:\n",
    "\n",
    "word = input('Enter a word: ')\n",
    "\n",
    "if word[0] in 'aeiou':   # use the string as as container and search inside of it!\n",
    "    print(word + 'way')\n",
    "else:\n",
    "    print(word[1:] + word[0] + 'ay')"
   ]
  },
  {
   "cell_type": "code",
   "execution_count": 169,
   "metadata": {},
   "outputs": [
    {
     "data": {
      "text/plain": [
       "'p'"
      ]
     },
     "execution_count": 169,
     "metadata": {},
     "output_type": "execute_result"
    }
   ],
   "source": [
    "# I want to know if the first letter in 'papaya', aka word, is a vowel\n",
    "\n",
    "word[0]  # the first character in word"
   ]
  },
  {
   "cell_type": "code",
   "execution_count": 170,
   "metadata": {},
   "outputs": [
    {
     "data": {
      "text/plain": [
       "False"
      ]
     },
     "execution_count": 170,
     "metadata": {},
     "output_type": "execute_result"
    }
   ],
   "source": [
    "word[0] in 'aeiou'   # is the first letter in word in 'aeiou'?"
   ]
  },
  {
   "cell_type": "code",
   "execution_count": null,
   "metadata": {},
   "outputs": [],
   "source": [
    "# Why are we searching for \n",
    "\n",
    "word[0] in 'aeiou'\n",
    "\n",
    "# shouldn't it be the other way around?\n",
    "\n",
    "# in is always\n",
    "# SMALL in BIG\n",
    "# or\n",
    "# SEARCHING_FOR in TARGET"
   ]
  },
  {
   "cell_type": "markdown",
   "metadata": {},
   "source": [
    "# Methods\n",
    "\n",
    "So far, we have seen an number of Python \"verbs,\" aka functions:\n",
    "\n",
    "- `print`\n",
    "- `input`\n",
    "- `len`\n",
    "\n",
    "There are functions in Python, as we've seen. But a lot of the verbs are actually a bit different. They are \"methods,\" which are verbs defined in the world of object-oriented programming.\n",
    "\n",
    "What you need to know is that methods are also verbs, just like functions, but they are \"attached\" to existing objects. Meaning that with a function, we say FUNCTION(DATA). But with a method, we say DATA.METHOD().  We basically turn it around.\n",
    "\n",
    "Why? This way, we can't accidentally call a method on the wrong kind of object. Strings have certain methods, lists have certain methods, dicts have certain methods... and if you try to use a method that doesn't exist, you'll get an error message.  But better that than calling a function, passing it data that isn't appropriate, and maybe it'll even work (but do the wrong thing).\n",
    "\n",
    "Strings have *lots* of methods! Let's look at a few."
   ]
  },
  {
   "cell_type": "code",
   "execution_count": 173,
   "metadata": {},
   "outputs": [
    {
     "name": "stdin",
     "output_type": "stream",
     "text": [
      "Enter your name:          Reuven        \n"
     ]
    },
    {
     "name": "stdout",
     "output_type": "stream",
     "text": [
      "Hello,         Reuven        !\n"
     ]
    }
   ],
   "source": [
    "name = input('Enter your name: ')\n",
    "\n",
    "print(f'Hello, {name}!')"
   ]
  },
  {
   "cell_type": "code",
   "execution_count": 174,
   "metadata": {},
   "outputs": [
    {
     "data": {
      "text/plain": [
       "'        Reuven        '"
      ]
     },
     "execution_count": 174,
     "metadata": {},
     "output_type": "execute_result"
    }
   ],
   "source": [
    "name"
   ]
  },
  {
   "cell_type": "code",
   "execution_count": 175,
   "metadata": {},
   "outputs": [
    {
     "data": {
      "text/plain": [
       "'Reuven'"
      ]
     },
     "execution_count": 175,
     "metadata": {},
     "output_type": "execute_result"
    }
   ],
   "source": [
    "# the str.strip method (meaning: the strip method for strings) returns a new string\n",
    "# without any whitespace (i.e., spaces, \\n, and their friends) at the start and end\n",
    "\n",
    "name.strip()  "
   ]
  },
  {
   "cell_type": "code",
   "execution_count": 176,
   "metadata": {},
   "outputs": [
    {
     "name": "stdin",
     "output_type": "stream",
     "text": [
      "Enter your name:           Reuven      \n"
     ]
    },
    {
     "name": "stdout",
     "output_type": "stream",
     "text": [
      "Hello, Reuven!\n"
     ]
    }
   ],
   "source": [
    "name = input('Enter your name: ')\n",
    "name = name.strip()   # remove leading/trailing whitespace, and assign back to name\n",
    "\n",
    "print(f'Hello, {name}!')"
   ]
  },
  {
   "cell_type": "code",
   "execution_count": 177,
   "metadata": {},
   "outputs": [
    {
     "data": {
      "text/plain": [
       "'Reuven'"
      ]
     },
     "execution_count": 177,
     "metadata": {},
     "output_type": "execute_result"
    }
   ],
   "source": [
    "name"
   ]
  },
  {
   "cell_type": "code",
   "execution_count": 178,
   "metadata": {},
   "outputs": [
    {
     "name": "stdin",
     "output_type": "stream",
     "text": [
      "Enter your name:           Reuven      \n"
     ]
    },
    {
     "name": "stdout",
     "output_type": "stream",
     "text": [
      "Hello, Reuven!\n"
     ]
    }
   ],
   "source": [
    "# even better!\n",
    "\n",
    "name = input('Enter your name: ').strip()   # run str.strip on the result from input, and then return the result from stripping to name\n",
    "print(f'Hello, {name}!')"
   ]
  },
  {
   "cell_type": "code",
   "execution_count": 179,
   "metadata": {},
   "outputs": [
    {
     "data": {
      "text/plain": [
       "'Reuven'"
      ]
     },
     "execution_count": 179,
     "metadata": {},
     "output_type": "execute_result"
    }
   ],
   "source": [
    "name"
   ]
  },
  {
   "cell_type": "code",
   "execution_count": 180,
   "metadata": {},
   "outputs": [],
   "source": [
    "# whitespace = space, \\n (newline), \\t (tab), \\r (carriage return), and \\v (vertical tab)"
   ]
  },
  {
   "cell_type": "code",
   "execution_count": 181,
   "metadata": {},
   "outputs": [
    {
     "data": {
      "text/plain": [
       "True"
      ]
     },
     "execution_count": 181,
     "metadata": {},
     "output_type": "execute_result"
    }
   ],
   "source": [
    "'eu' in name"
   ]
  },
  {
   "cell_type": "code",
   "execution_count": 182,
   "metadata": {},
   "outputs": [
    {
     "data": {
      "text/plain": [
       "False"
      ]
     },
     "execution_count": 182,
     "metadata": {},
     "output_type": "execute_result"
    }
   ],
   "source": [
    "'ev' in name"
   ]
  },
  {
   "cell_type": "markdown",
   "metadata": {},
   "source": [
    "# Some other useful string methods\n",
    "\n",
    "- `str.lower` -- returns a new string, in which all of the characters are lowercase\n",
    "- `str.upper` -- returns a new string, in which all of the characters are uppercase\n",
    "- `str.index` -- takes one argument, the thing to look for, and tells us where it is\n",
    "- `str.removeprefix` -- takes one argument, the thing to remove from the start of the string\n",
    "- `str.removesuffix` -- takes one argument, the thing to remove from the end of the string\n",
    "- `str.isdigit` -- returns `True` if the string contains only digits 0-9 and isn't empty"
   ]
  },
  {
   "cell_type": "code",
   "execution_count": 184,
   "metadata": {},
   "outputs": [
    {
     "data": {
      "text/plain": [
       "'abcd efgh'"
      ]
     },
     "execution_count": 184,
     "metadata": {},
     "output_type": "execute_result"
    }
   ],
   "source": [
    "s = 'aBcD eFgH'\n",
    "\n",
    "s.lower()   # this returns a new string, but doesn't modify s"
   ]
  },
  {
   "cell_type": "code",
   "execution_count": 185,
   "metadata": {},
   "outputs": [
    {
     "data": {
      "text/plain": [
       "'ABCD EFGH'"
      ]
     },
     "execution_count": 185,
     "metadata": {},
     "output_type": "execute_result"
    }
   ],
   "source": [
    "s.upper()"
   ]
  },
  {
   "cell_type": "code",
   "execution_count": 188,
   "metadata": {},
   "outputs": [
    {
     "data": {
      "text/plain": [
       "6"
      ]
     },
     "execution_count": 188,
     "metadata": {},
     "output_type": "execute_result"
    }
   ],
   "source": [
    "s.index('F')  # at what index can we find 'F' in s?"
   ]
  },
  {
   "cell_type": "code",
   "execution_count": null,
   "metadata": {},
   "outputs": [],
   "source": []
  },
  {
   "cell_type": "markdown",
   "metadata": {},
   "source": [
    "# String method reference\n",
    "\n",
    "https://docs.python.org/3/library/stdtypes.html#text-sequence-type-str"
   ]
  },
  {
   "cell_type": "code",
   "execution_count": 190,
   "metadata": {},
   "outputs": [
    {
     "name": "stdin",
     "output_type": "stream",
     "text": [
      "Enter a number:  hello\n"
     ]
    },
    {
     "name": "stdout",
     "output_type": "stream",
     "text": [
      "hello is not numeric; try again.\n"
     ]
    }
   ],
   "source": [
    "s = input('Enter a number: ').strip()\n",
    "\n",
    "if s.isdigit():   # isdigit is a STRING method that tells us if we CAN turn it into an integer, but it remains a string\n",
    "    n = int(s)   # get an integer based on the user's input\n",
    "    print(f'{n} * 3 = {n*3}')\n",
    "else:\n",
    "    print(f'{s} is not numeric; try again.')"
   ]
  },
  {
   "cell_type": "code",
   "execution_count": 191,
   "metadata": {},
   "outputs": [
    {
     "ename": "ValueError",
     "evalue": "substring not found",
     "output_type": "error",
     "traceback": [
      "\u001b[0;31m---------------------------------------------------------------------------\u001b[0m",
      "\u001b[0;31mValueError\u001b[0m                                Traceback (most recent call last)",
      "Cell \u001b[0;32mIn[191], line 3\u001b[0m\n\u001b[1;32m      1\u001b[0m \u001b[38;5;66;03m# what about method chaining?\u001b[39;00m\n\u001b[0;32m----> 3\u001b[0m \u001b[43ms\u001b[49m\u001b[38;5;241;43m.\u001b[39;49m\u001b[43mlower\u001b[49m\u001b[43m(\u001b[49m\u001b[43m)\u001b[49m\u001b[38;5;241;43m.\u001b[39;49m\u001b[43mupper\u001b[49m\u001b[43m(\u001b[49m\u001b[43m)\u001b[49m\u001b[38;5;241;43m.\u001b[39;49m\u001b[43mindex\u001b[49m\u001b[43m(\u001b[49m\u001b[38;5;124;43m'\u001b[39;49m\u001b[38;5;124;43m*\u001b[39;49m\u001b[38;5;124;43m'\u001b[39;49m\u001b[43m)\u001b[49m\n",
      "\u001b[0;31mValueError\u001b[0m: substring not found"
     ]
    }
   ],
   "source": [
    "# what about method chaining?\n",
    "\n",
    "s.lower().upper().index('*')"
   ]
  },
  {
   "cell_type": "code",
   "execution_count": 192,
   "metadata": {},
   "outputs": [
    {
     "data": {
      "text/plain": [
       "-1"
      ]
     },
     "execution_count": 192,
     "metadata": {},
     "output_type": "execute_result"
    }
   ],
   "source": [
    "s.lower().upper().find('*')"
   ]
  },
  {
   "cell_type": "code",
   "execution_count": 194,
   "metadata": {},
   "outputs": [
    {
     "name": "stdin",
     "output_type": "stream",
     "text": [
      "numnber hello\n"
     ]
    },
    {
     "data": {
      "text/plain": [
       "False"
      ]
     },
     "execution_count": 194,
     "metadata": {},
     "output_type": "execute_result"
    }
   ],
   "source": []
  },
  {
   "cell_type": "code",
   "execution_count": null,
   "metadata": {},
   "outputs": [],
   "source": []
  }
 ],
 "metadata": {
  "kernelspec": {
   "display_name": "Python 3 (ipykernel)",
   "language": "python",
   "name": "python3"
  },
  "language_info": {
   "codemirror_mode": {
    "name": "ipython",
    "version": 3
   },
   "file_extension": ".py",
   "mimetype": "text/x-python",
   "name": "python",
   "nbconvert_exporter": "python",
   "pygments_lexer": "ipython3",
   "version": "3.12.5"
  }
 },
 "nbformat": 4,
 "nbformat_minor": 4
}
