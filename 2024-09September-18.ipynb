{
 "cells": [
  {
   "cell_type": "markdown",
   "id": "e048ff18-bdd1-4c3c-b83c-f9bc574ae213",
   "metadata": {},
   "source": [
    "# Agenda, week 4: Functions\n",
    "\n",
    "0. Q&A\n",
    "1. What are functions? Why do we need them? (Do we need them?)\n",
    "2. Writing our own functions\n",
    "3. Arguments and parameters\n",
    "4. Return values (simple vs. complex values)\n",
    "5. Default argument values\n",
    "6. Docstrings\n",
    "7. Local vs. global values"
   ]
  },
  {
   "cell_type": "markdown",
   "id": "37f8a054-32a7-4b10-a64f-5515a8440d47",
   "metadata": {},
   "source": [
    "# Methods vs. functions\n",
    "\n",
    "Both functions and methods are Python's verbs -- that is, they tell Python to do something.\n",
    "\n",
    "- In the case of a function, the verb is unattached to any particular object. Its name isn't preceeded by a `.` character; it's freely floating. Some examples are `len` and `sum` and even `int` and `str`, which aren't really functions but we'll call them that for now.\n",
    "- In the case of a method, it has to be anchored to an existing object. It has to have a home of some sort, and that home is always going to be a type of data, such as `str`. So we can't really talk about `strip` or `split`, but we can talk about `str.strip` and `str.split`.\n",
    "\n",
    "As a general rule, if there is a `.` before a verb's name, then it is a method. If not, then it's a function.\n",
    "\n",
    "One of the many reasons we have methods vs. functions is that this lets us be more precise with both defining and using them. Python can, if I call a method on the wrong kind of object, try to correct me. Certainly an IDE, which has lots of hints and checks, will do that.\n",
    "\n"
   ]
  },
  {
   "cell_type": "markdown",
   "id": "a5dcf13d-f490-40bc-9b51-50ed4e88f649",
   "metadata": {},
   "source": [
    "# Functions\n",
    "\n",
    "A function (again) is a verb in Python, that tells Python what to do. We \"execute\" or \"run\" a function by putting round parentheses (`()`) after its name. If you don't use the parentheses, then the function doesn't run! A function is a plan for execution, and only with the `()` does anything actually get executed.\n",
    "\n",
    "If we define our own function, then do we get any new capabilities in the language?\n",
    "\n",
    "The answer is \"no.\"  We don't need functions to do anything new.\n",
    "\n",
    "But we do need functions for us, as humans, to be able to keep track of things and think about our software at a higher level.\n",
    "\n",
    "When we define a function, we're taking a list of existing commands/instructions and we're putting that combination under a single name. By putting a set of instructions under a single name, we can then cut down on the amount of detail we need to accomplish something, and then we can use that single name as an instruction in higher-level things.\n",
    "\n",
    "Suddenly, we can talk about very high level instructions, each of which is using functions that are themselves built on lower-level abstractions.\n",
    "\n",
    "The other way to think about functions is with the DRY (don't repeat yourself) idea:\n",
    "\n",
    "- If you have several lines in a row that are (roughly) the same, you can replace them with a loop.\n",
    "- If you have the same code in several places in your program, you can write a function and then run that function everywhere that you had the code before.\n",
    "\n",
    "Wherever you write code that might be reused, or that would benefit from being wrapped up in a name and never exposed in its details in the future, then you should write a function."
   ]
  },
  {
   "cell_type": "markdown",
   "id": "d22bec0f-42a5-4600-9e97-4974cc9abe9f",
   "metadata": {},
   "source": [
    "# How do we define a function?\n",
    "\n",
    "- We use the keyword `def`\n",
    "- We name the function -- just as we would name a variable\n",
    "- After that, we have `()` containing the parameters; so far, we won't have any, so it'll just be empty parentheses\n",
    "- At the end of the line, we have `:`\n",
    "- Finally we have an indented block, which is the \"function body.\"\n",
    "\n",
    "In the function body, you can write **ANY** Python code that you want -- `print`, `for` loops, asking the user for input, etc."
   ]
  },
  {
   "cell_type": "code",
   "execution_count": 2,
   "id": "1abdefe1-3ba7-4f84-af9a-70800f59e555",
   "metadata": {},
   "outputs": [],
   "source": [
    "def hello():\n",
    "    print('Hello!')"
   ]
  },
  {
   "cell_type": "markdown",
   "id": "bfc244e0-dd85-4450-b070-8f76befeabe0",
   "metadata": {},
   "source": [
    "# What have I done?\n",
    "\n",
    "1. I created a function object. In other words, I have created a set of instructions that Python can than execute whenever I want.\n",
    "2. I assigned that function object to a variable, named `hello`.\n",
    "\n",
    "In Python, functions are object -- no less, and no more than strings, ints, dicts, etc. When we use `def`, we are assigning to a variable."
   ]
  },
  {
   "cell_type": "code",
   "execution_count": 3,
   "id": "a084b7e4-30c6-40b5-831c-edf659d3098e",
   "metadata": {},
   "outputs": [
    {
     "data": {
      "text/plain": [
       "function"
      ]
     },
     "execution_count": 3,
     "metadata": {},
     "output_type": "execute_result"
    }
   ],
   "source": [
    "type(hello)  # what kind of object did I assign here?"
   ]
  },
  {
   "cell_type": "markdown",
   "id": "eaca1a8a-4650-4087-bb43-032a048d6969",
   "metadata": {},
   "source": [
    "# Watch your names!\n",
    "\n",
    "In some languages, it's not only permitted, but even encouraged, to use the same name for both a variable and a function. You can't do that in Python; the last (final) one to be defined will be the one with the definition."
   ]
  },
  {
   "cell_type": "code",
   "execution_count": 4,
   "id": "d00263ec-17a5-4090-a627-56f60f854ee0",
   "metadata": {},
   "outputs": [
    {
     "name": "stdout",
     "output_type": "stream",
     "text": [
      "Hello!\n"
     ]
    }
   ],
   "source": [
    "# let's run the function!\n",
    "\n",
    "hello()    # name the function + ()  == execute it!"
   ]
  },
  {
   "cell_type": "markdown",
   "id": "2e0fb06a-60d1-4e49-8870-b04659146ebc",
   "metadata": {},
   "source": [
    "# Exercise: Calculator\n",
    "\n",
    "1. Define a function, `calc`, that when run:\n",
    "    - Asks the user to enter an integer\n",
    "    - Asks the user to enter an operator, either `+` or `-`\n",
    "    - Asks the user to enter another integer\n",
    "    - It then prints the full expression, including the answer\n",
    "    - If the operator is unknown, then it shows the result to be `unknown operator`\n",
    "2. Run the function, and make sure it works\n",
    "3. You can, if you want, check the inputs -- but it's OK to assume that the user will enter integers when asked.\n",
    "\n",
    "Example:\n",
    "\n",
    "    calc()\n",
    "    Enter first number: 10\n",
    "    Enter operator: +\n",
    "    Enter second: 3\n",
    "    10 + 3 = 13\n",
    "\n",
    "    calc()\n",
    "    Enter first number: 15\n",
    "    Enter operator: *\n",
    "    Enter second number: 2\n",
    "    15 * 2 = unknown operator"
   ]
  },
  {
   "cell_type": "code",
   "execution_count": 5,
   "id": "d1dfa119-207c-4f8a-9ede-cd967353107d",
   "metadata": {},
   "outputs": [],
   "source": [
    "def calc():\n",
    "    first = input('Enter first number: ').strip()\n",
    "    op = input('Enter operator: ').strip()\n",
    "    second = input('Enter second number: ').strip()\n",
    "\n",
    "    first = int(first)\n",
    "    second = int(second)\n",
    "\n",
    "    if op == '+':\n",
    "        result = first + second\n",
    "    elif op == '-':\n",
    "        result = first - second\n",
    "    else:\n",
    "        result = f'Unknown operator {op}'\n",
    "\n",
    "    print(f'{first} {op} {second} = {result}')"
   ]
  },
  {
   "cell_type": "code",
   "execution_count": 7,
   "id": "bbc4d071-a9cf-46cf-9548-b49f76667c66",
   "metadata": {},
   "outputs": [
    {
     "name": "stdin",
     "output_type": "stream",
     "text": [
      "Enter first number:  20\n",
      "Enter operator:  *\n",
      "Enter second number:  4\n"
     ]
    },
    {
     "name": "stdout",
     "output_type": "stream",
     "text": [
      "20 * 4 = Unknown operator *\n"
     ]
    }
   ],
   "source": [
    "calc()"
   ]
  },
  {
   "cell_type": "code",
   "execution_count": 8,
   "id": "f3cda3f4-eaf4-4f22-a28d-3ff80c7c30e2",
   "metadata": {},
   "outputs": [
    {
     "name": "stdin",
     "output_type": "stream",
     "text": [
      "Enter your first num: 10\n",
      "Enter your arithmetic operator: +\n",
      "Enter your second num: 5\n"
     ]
    },
    {
     "data": {
      "text/plain": [
       "15"
      ]
     },
     "execution_count": 8,
     "metadata": {},
     "output_type": "execute_result"
    }
   ],
   "source": [
    "# SS\n",
    "\n",
    "def my_calc():\n",
    "  firstnum = int(input('Enter your first num:'))\n",
    "  operator = input('Enter your arithmetic operator:')\n",
    "  secondnum = int(input('Enter your second num:'))\n",
    "  \n",
    "  if operator == '+':\n",
    "    return firstnum + secondnum\n",
    "  elif operator == '*':\n",
    "    return firstnum * secondnum\n",
    "  elif operator == '-':\n",
    "    return firstnum - secondnum\n",
    "  elif operator == '/':\n",
    "    return firstnum / secondnum\n",
    "  else:\n",
    "    print('Enter valid arithmetic operator')\n",
    "my_calc()  "
   ]
  },
  {
   "cell_type": "code",
   "execution_count": null,
   "id": "4ba70523-5bc9-40a1-9d13-0fc1e30df113",
   "metadata": {},
   "outputs": [],
   "source": [
    "# GK\n",
    "\n",
    "def calc():\n",
    "    first = int(input(\"Enter first number: \").strip())\n",
    "    oper = input(\"Enter Operator: \").strip()\n",
    "    second = int(input(\"Enter second number: \").strip())\n",
    "    if oper in \"+-\":\n",
    "        if oper==\"+\":\n",
    "            result = first+second\n",
    "        else:\n",
    "            result = first-second\n",
    "        print(f\"{first} {oper} {second} = {result}\")\n",
    "    else:\n",
    "        print(f\"{first} {oper} {second} = unknown operator\")"
   ]
  },
  {
   "cell_type": "code",
   "execution_count": 10,
   "id": "5a0020c6-a1d4-491e-8321-4a84270bb1e3",
   "metadata": {
    "scrolled": true
   },
   "outputs": [
    {
     "name": "stdin",
     "output_type": "stream",
     "text": [
      "Please enter your first number 20\n",
      "Please enter another number 3\n",
      "Please enter an operator: +\n"
     ]
    },
    {
     "name": "stdout",
     "output_type": "stream",
     "text": [
      "The sum of 2 numbers you entered is 23 \n"
     ]
    }
   ],
   "source": [
    "# AR\n",
    "\n",
    "def calc():\n",
    "    firstnumber=int(input('Please enter your first number'))\n",
    "    secondnumber=int(input('Please enter another number'))\n",
    "    operator=input('Please enter an operator:')\n",
    "    if operator == '+':\n",
    "        sum=firstnumber+secondnumber\n",
    "        print(f'The sum of 2 numbers you entered is {sum} ')\n",
    "    elif operator == '-':\n",
    "        diff=firstnumber-secondnumber\n",
    "        print(f'The difference of 2 numbers you entered is {diff} ')\n",
    "    else:\n",
    "        print('You have entered an unknown operator')\n",
    "calc()"
   ]
  },
  {
   "cell_type": "code",
   "execution_count": null,
   "id": "9be8f5b5-1b40-4e76-a4c7-d0c398ec1b34",
   "metadata": {},
   "outputs": [],
   "source": [
    "# KK\n",
    "\n",
    "def calc():\n",
    "    integer = int(input('Enter an integer').strip())\n",
    "    operator = input('Enter an operator').strip()\n",
    "    sec_integer = int(input('Enter another integer').strip())\n",
    "    if operator == '+':\n",
    "        value = integer + sec_integer\n",
    "        print (f'{integer} {operator} {sec_integer} = {value}')\n",
    "    elif operator == '-':\n",
    "        value2 = integer - sec_integer\n",
    "        print (f'{integer} {operator} {sec_integer} = {value2}')\n",
    "    else:\n",
    "        print (f'{integer} {operator} {sec_integer} = unknown operator')\n",
    "\n",
    "calc()"
   ]
  },
  {
   "cell_type": "markdown",
   "id": "8bf55ec3-0dd6-4eec-b438-d1fd04847397",
   "metadata": {},
   "source": [
    "# Don't use `eval`\n",
    "\n",
    "There is an `eval` function that takes a string, treats it as a tiny Python program, and then gives us the result. But getting user input and running `eval` on it is a *TERRIBLE* idea."
   ]
  },
  {
   "cell_type": "code",
   "execution_count": 11,
   "id": "51c20536-c486-48ce-b3db-0dc4c2c9f5ee",
   "metadata": {},
   "outputs": [],
   "source": [
    "# JD\n",
    "\n",
    "def calc():\n",
    "  firstnum = input('Enter first number: ')\n",
    "  operator = input('Enter an operator - either a + or - : ')\n",
    "  secondnum = input('Enter second number: ')\n",
    "\n",
    "  if operator == '+':\n",
    "    print(f'{firstnum} + {secondnum} = {int(firstnum) + int(secondnum)}')\n",
    "  elif operator == '-':\n",
    "    print(f'{firstnum} - {secondnum} = {int(firstnum) - int(secondnum)}')\n",
    "  else:\n",
    "      print(f'{firstnum} + {operator} + {secondnum} = unknown operator')"
   ]
  },
  {
   "cell_type": "code",
   "execution_count": 12,
   "id": "5d547452-df3c-4342-805e-830ad0aaa8ac",
   "metadata": {
    "scrolled": true
   },
   "outputs": [
    {
     "name": "stdin",
     "output_type": "stream",
     "text": [
      "Enter first number:  10\n",
      "Enter an operator - either a + or - :  +\n",
      "Enter second number:  3\n"
     ]
    },
    {
     "name": "stdout",
     "output_type": "stream",
     "text": [
      "10 + 3 = 13\n"
     ]
    }
   ],
   "source": [
    "calc()"
   ]
  },
  {
   "cell_type": "markdown",
   "id": "0e6d64c5-6ff1-43d2-8a04-70c73f9ca79c",
   "metadata": {},
   "source": [
    "# Arguments and parameters\n",
    "\n",
    "Rather than getting input from the user, a function can have *parameters*, variables whose values are set by whoever calls the function.\n",
    "\n",
    "Some terminology:\n",
    "\n",
    "- Parameters are variables, and they are defined in a function.\n",
    "- Arguments are *values*, which are passed to the function when we call it, and which are assigned to parameters.\n",
    "\n",
    "We call a function as:\n",
    "\n",
    "    func(arg1, arg2)\n",
    "\n",
    "Here, we pass two arguments (two values) to the function. The function can be defined with parameters:\n",
    "\n",
    "    def func(x, y):\n",
    "        # stuff\n",
    "\n",
    "In this case, arg1 (the value) will be assigned to the parameter `x`, and arg2 (the value) will be assigned to the parameter `y`. These are assigned as *positional arguments*, because the first argument is assigned to the first parameter, and the second argument is assigned to the second parameter.        "
   ]
  },
  {
   "cell_type": "code",
   "execution_count": 13,
   "id": "67e0e276-5122-4580-9f93-296868de3a1f",
   "metadata": {},
   "outputs": [],
   "source": [
    "def hello(name):\n",
    "    print(f'Hello, {name}!')"
   ]
  },
  {
   "cell_type": "code",
   "execution_count": 15,
   "id": "830fbd7c-caa1-4e0d-9ffe-2034d12b64ac",
   "metadata": {},
   "outputs": [
    {
     "name": "stdout",
     "output_type": "stream",
     "text": [
      "Hello, world!\n"
     ]
    }
   ],
   "source": [
    "# parameters: name\n",
    "# arguments: 'world'\n",
    "\n",
    "hello('world')"
   ]
  },
  {
   "cell_type": "code",
   "execution_count": 16,
   "id": "676d850e-08a8-4269-aeb5-f8548ff93a96",
   "metadata": {},
   "outputs": [
    {
     "name": "stdout",
     "output_type": "stream",
     "text": [
      "Hello, Reuven!\n"
     ]
    }
   ],
   "source": [
    "hello('Reuven')"
   ]
  },
  {
   "cell_type": "code",
   "execution_count": 17,
   "id": "9cfd2c39-da1a-4c34-8043-185b8b33b6fb",
   "metadata": {},
   "outputs": [
    {
     "ename": "TypeError",
     "evalue": "hello() missing 1 required positional argument: 'name'",
     "output_type": "error",
     "traceback": [
      "\u001b[0;31m---------------------------------------------------------------------------\u001b[0m",
      "\u001b[0;31mTypeError\u001b[0m                                 Traceback (most recent call last)",
      "Cell \u001b[0;32mIn[17], line 3\u001b[0m\n\u001b[1;32m      1\u001b[0m \u001b[38;5;66;03m# what if I call the function now with zero arguments?\u001b[39;00m\n\u001b[0;32m----> 3\u001b[0m \u001b[43mhello\u001b[49m\u001b[43m(\u001b[49m\u001b[43m)\u001b[49m\n",
      "\u001b[0;31mTypeError\u001b[0m: hello() missing 1 required positional argument: 'name'"
     ]
    }
   ],
   "source": [
    "# what if I call the function now with zero arguments?\n",
    "\n",
    "hello()"
   ]
  },
  {
   "cell_type": "markdown",
   "id": "369c60e3-161c-47e7-88f0-a9ef7796e2a7",
   "metadata": {},
   "source": [
    "# Each function is defined *once*\n",
    "\n",
    "Remember that when we use `def`, we are assigning to a variable. If we use `def` twice in a row on the same function name, the second defintion replaces the first definition. The first one *goes away*.\n",
    "\n",
    "Python doesn't have the concept of defining a function multiple times, with different numbers of parameters, and the language choosing the appropriate one."
   ]
  },
  {
   "cell_type": "code",
   "execution_count": 18,
   "id": "fbb95918-8b2d-49b4-adb9-c4fd0df51305",
   "metadata": {},
   "outputs": [
    {
     "name": "stdout",
     "output_type": "stream",
     "text": [
      "Hello, out there!\n"
     ]
    }
   ],
   "source": [
    "# what about values that can/cannot be passed?\n",
    "\n",
    "hello('out there')"
   ]
  },
  {
   "cell_type": "code",
   "execution_count": 19,
   "id": "4f0ae5ce-f333-4bd7-8bc5-d63130f464b4",
   "metadata": {},
   "outputs": [
    {
     "name": "stdout",
     "output_type": "stream",
     "text": [
      "Hello, 5!\n"
     ]
    }
   ],
   "source": [
    "# can I call the function with another type?\n",
    "hello(5)"
   ]
  },
  {
   "cell_type": "code",
   "execution_count": 20,
   "id": "81dfdec5-2b86-42ea-b0ce-357d9bb08915",
   "metadata": {},
   "outputs": [
    {
     "name": "stdout",
     "output_type": "stream",
     "text": [
      "Hello, [10, 20, 30]!\n"
     ]
    }
   ],
   "source": [
    "hello([10, 20, 30])"
   ]
  },
  {
   "cell_type": "code",
   "execution_count": 21,
   "id": "43c5f77d-4e5a-474e-8d67-2357c1590741",
   "metadata": {},
   "outputs": [
    {
     "name": "stdout",
     "output_type": "stream",
     "text": [
      "Hello, {'a': 10, 'b': 20, 'c': 30}!\n"
     ]
    }
   ],
   "source": [
    "hello({'a':10, 'b':20, 'c':30})"
   ]
  },
  {
   "cell_type": "code",
   "execution_count": 22,
   "id": "0902b320-a6a5-4b55-b618-bd2732118626",
   "metadata": {},
   "outputs": [
    {
     "name": "stdout",
     "output_type": "stream",
     "text": [
      "Hello, <function hello at 0x10ae95580>!\n"
     ]
    }
   ],
   "source": [
    "# I can even do this:\n",
    "\n",
    "hello(hello)   # the function hello was passed to itself as an argument!"
   ]
  },
  {
   "cell_type": "code",
   "execution_count": 23,
   "id": "469e0a8d-6615-419e-a558-605e69c5641c",
   "metadata": {},
   "outputs": [],
   "source": [
    "def add(first, second):\n",
    "    print(first + second)"
   ]
  },
  {
   "cell_type": "code",
   "execution_count": 24,
   "id": "7e3beb1b-c2dc-408a-a667-62b66c1b5054",
   "metadata": {},
   "outputs": [
    {
     "name": "stdout",
     "output_type": "stream",
     "text": [
      "12\n"
     ]
    }
   ],
   "source": [
    "add(10, 2)"
   ]
  },
  {
   "cell_type": "code",
   "execution_count": 25,
   "id": "af75965d-f7dc-4ad0-acdd-3cd14e02b8af",
   "metadata": {},
   "outputs": [
    {
     "name": "stdout",
     "output_type": "stream",
     "text": [
      "abcdef\n"
     ]
    }
   ],
   "source": [
    "add('abcd', 'ef')"
   ]
  },
  {
   "cell_type": "code",
   "execution_count": 26,
   "id": "05152f46-0933-4c70-a9f4-d7e4202caf61",
   "metadata": {},
   "outputs": [
    {
     "name": "stdout",
     "output_type": "stream",
     "text": [
      "[10, 20, 30, 40, 50]\n"
     ]
    }
   ],
   "source": [
    "add([10, 20, 30], [40, 50])"
   ]
  },
  {
   "cell_type": "markdown",
   "id": "6f8d6142-8747-4cdb-921b-f77c51b7e32d",
   "metadata": {},
   "source": [
    "# Local variables (a preview)\n",
    "\n",
    "Any variable defined in a function (i.e., a parameter or something to which you've assigned in the function) is known as a *local* variable. That variable disappears after the function finishes running.\n",
    "\n",
    "If every function you write uses the variable `x`, there is no overlap between each of the `x` variables in those functions. Each one is separate/private."
   ]
  },
  {
   "cell_type": "markdown",
   "id": "442dc52e-8623-421b-9846-24b3fe560369",
   "metadata": {},
   "source": [
    "# Exercise: Getting arguments\n",
    "\n",
    "Modify `calc` such that instead of asking the user to enter two integers and an operator, the function takes three arguments. \n",
    "\n",
    "Now it should be possible to call\n",
    "\n",
    "    calc(10, '+', 3)  # this will print '10 + 3 = 13' on the screen"
   ]
  },
  {
   "cell_type": "code",
   "execution_count": 27,
   "id": "2fb01677-3491-45d4-bd0b-6d722410bcf7",
   "metadata": {},
   "outputs": [],
   "source": [
    "def calc(first, op, second):\n",
    "    if op == '+':\n",
    "        result = first + second\n",
    "    elif op == '-':\n",
    "        result = first - second\n",
    "    else:\n",
    "        result = f'Unknown operator {op}'\n",
    "\n",
    "    print(f'{first} {op} {second} = {result}')"
   ]
  },
  {
   "cell_type": "code",
   "execution_count": 28,
   "id": "e1027610-1e54-4d19-8de6-dcaa1cbebefe",
   "metadata": {},
   "outputs": [
    {
     "name": "stdout",
     "output_type": "stream",
     "text": [
      "10 + 3 = 13\n"
     ]
    }
   ],
   "source": [
    "calc(10, '+', 3)"
   ]
  },
  {
   "cell_type": "code",
   "execution_count": 29,
   "id": "0131aa4a-711b-4208-82b5-68f60f1c7bf5",
   "metadata": {},
   "outputs": [
    {
     "name": "stdout",
     "output_type": "stream",
     "text": [
      "20 - 7 = 13\n"
     ]
    }
   ],
   "source": [
    "calc(20, '-', 7)"
   ]
  },
  {
   "cell_type": "code",
   "execution_count": 30,
   "id": "580098a8-b3c5-4867-baa2-430426b18c39",
   "metadata": {},
   "outputs": [
    {
     "name": "stdout",
     "output_type": "stream",
     "text": [
      "18 * 2 = Unknown operator *\n"
     ]
    }
   ],
   "source": [
    "calc(18, '*', 2)"
   ]
  },
  {
   "cell_type": "code",
   "execution_count": 31,
   "id": "2e53e56a-65e4-45ec-baf5-883677469e60",
   "metadata": {},
   "outputs": [
    {
     "data": {
      "text/plain": [
       "10"
      ]
     },
     "execution_count": 31,
     "metadata": {},
     "output_type": "execute_result"
    }
   ],
   "source": [
    "# SS \n",
    "\n",
    "def my_calc(firstnum, operator,secondnum):\n",
    "  \n",
    "  if operator == '+':\n",
    "    return firstnum + secondnum\n",
    "  elif operator == '*':\n",
    "    return firstnum * secondnum\n",
    "  elif operator == '-':\n",
    "    return firstnum - secondnum\n",
    "  elif operator == '/':\n",
    "    return firstnum / secondnum\n",
    "  else:\n",
    "    print('Enter valid arithmetic operator')\n",
    "my_calc(5,'+',5)  "
   ]
  },
  {
   "cell_type": "code",
   "execution_count": 33,
   "id": "6b2cd6ff-f7b3-48a6-b525-b16b52395c94",
   "metadata": {},
   "outputs": [
    {
     "name": "stdout",
     "output_type": "stream",
     "text": [
      "The sum of 2 numbers you entered is 60 \n"
     ]
    }
   ],
   "source": [
    "# AR\n",
    "\n",
    "def calc(firstnumber,secondnumber,operator):\n",
    "    #firstnumber=int(input('Please enter your first number'))\n",
    "    #secondnumber=int(input('Please enter another number'))\n",
    "    #operator=input('Please enter an operator:')\n",
    "    if operator == '+':\n",
    "        addition=firstnumber+secondnumber\n",
    "        print(f'The sum of 2 numbers you entered is {addition} ')\n",
    "    elif operator == '-':\n",
    "        diff=firstnumber - secondnumber\n",
    "        print(f'The difference of 2 numbers you entered is {diff} ')\n",
    "    else:\n",
    "        print('You have entered an unknown operator')\n",
    "calc(40,20,'+')\n",
    "\n"
   ]
  },
  {
   "cell_type": "code",
   "execution_count": 34,
   "id": "63d11867-8bdf-4b9d-92c9-0ce45dc9e869",
   "metadata": {},
   "outputs": [],
   "source": [
    "#  GK\n",
    "\n",
    "def calc(first_num, oper, second_num):\n",
    "    if oper=='+':\n",
    "        result = first_num+second_num\n",
    "    elif oper=='-':\n",
    "        result = first_num-second_num\n",
    "    else:\n",
    "        result = 'unkown operator'\n",
    "    print(f\"{first_num} {oper} {second_num} = {result}\")"
   ]
  },
  {
   "cell_type": "code",
   "execution_count": 35,
   "id": "72a0a5bd-a53e-4813-9def-ac020bb0524f",
   "metadata": {},
   "outputs": [
    {
     "name": "stdout",
     "output_type": "stream",
     "text": [
      "2 + 3 = 5\n"
     ]
    }
   ],
   "source": [
    "calc(2, '+', 3)"
   ]
  },
  {
   "cell_type": "markdown",
   "id": "ddd65f01-63fb-4637-8f89-09d2c7d7a139",
   "metadata": {},
   "source": [
    "# Next up\n",
    "\n",
    "1. Docstrings\n",
    "2. Return values"
   ]
  },
  {
   "cell_type": "markdown",
   "id": "8b6b07bf-ed17-4a4d-9c26-b7d6523f3392",
   "metadata": {},
   "source": [
    "# What does a function do?\n",
    "\n",
    "We can document a function in many ways and places. But in Python, it's typical/traditional to document a function using a \"docstring.\"\n",
    "\n",
    "A docstring is where the first line of a function is a string. This string is *not* assigned or printed; it's just there on the first line of the function. If it's there, then Python (and Python-related tools) will notice it and display it for the user."
   ]
  },
  {
   "cell_type": "code",
   "execution_count": 36,
   "id": "b7f699ea-0cfb-4543-aecd-48fe84cee207",
   "metadata": {},
   "outputs": [
    {
     "name": "stdout",
     "output_type": "stream",
     "text": [
      "Hello, world!\n"
     ]
    }
   ],
   "source": [
    "# I want to tell people who call this function that they should call it\n",
    "# with just a string. Any other value is bad / unsupported.\n",
    "\n",
    "def hello(name):\n",
    "    print(f'Hello, {name}!')\n",
    "\n",
    "hello('world')"
   ]
  },
  {
   "cell_type": "code",
   "execution_count": 37,
   "id": "7c9e70f9-a8ae-4ff1-a265-19208b88ac64",
   "metadata": {},
   "outputs": [
    {
     "name": "stdout",
     "output_type": "stream",
     "text": [
      "Hello, world!\n"
     ]
    }
   ],
   "source": [
    "# here is my docstring\n",
    "\n",
    "def hello(name):\n",
    "    'This function expects that you pass it a string.'\n",
    "    print(f'Hello, {name}!')\n",
    "\n",
    "hello('world')"
   ]
  },
  {
   "cell_type": "code",
   "execution_count": 38,
   "id": "7af498ae-9a8b-4c8b-be79-a5be84ff0075",
   "metadata": {},
   "outputs": [
    {
     "name": "stdout",
     "output_type": "stream",
     "text": [
      "Hello, 5!\n"
     ]
    }
   ],
   "source": [
    "hello(5)"
   ]
  },
  {
   "cell_type": "code",
   "execution_count": 39,
   "id": "d907a8c0-6983-484c-9e3a-f73018192585",
   "metadata": {},
   "outputs": [
    {
     "name": "stdout",
     "output_type": "stream",
     "text": [
      "Help on function hello in module __main__:\n",
      "\n",
      "hello(name)\n",
      "    This function expects that you pass it a string.\n",
      "\n"
     ]
    }
   ],
   "source": [
    "# in Jupyter, we can use the \"help\" function to learn about a function, and get its docstring\n",
    "\n",
    "help(hello)   # notice that we are not invoking hello here ! We are passing it to help"
   ]
  },
  {
   "cell_type": "code",
   "execution_count": 40,
   "id": "aa3ebead-1abf-42e1-aa9c-9e1e104b93e2",
   "metadata": {},
   "outputs": [
    {
     "name": "stdout",
     "output_type": "stream",
     "text": [
      "Help on built-in function len in module builtins:\n",
      "\n",
      "len(obj, /)\n",
      "    Return the number of items in a container.\n",
      "\n"
     ]
    }
   ],
   "source": [
    "help(len)"
   ]
  },
  {
   "cell_type": "code",
   "execution_count": 42,
   "id": "3e3217bc-64f3-45fe-a473-cef95dfc3fef",
   "metadata": {},
   "outputs": [
    {
     "name": "stdout",
     "output_type": "stream",
     "text": [
      "Help on method_descriptor:\n",
      "\n",
      "split(self, /, sep=None, maxsplit=-1)\n",
      "    Return a list of the substrings in the string, using sep as the separator string.\n",
      "\n",
      "      sep\n",
      "        The separator used to split the string.\n",
      "\n",
      "        When set to None (the default value), will split on any whitespace\n",
      "        character (including \\n \\r \\t \\f and spaces) and will discard\n",
      "        empty strings from the result.\n",
      "      maxsplit\n",
      "        Maximum number of splits.\n",
      "        -1 (the default value) means no limit.\n",
      "\n",
      "    Splitting starts at the front of the string and works to the end.\n",
      "\n",
      "    Note, str.split() is mainly useful for data that has been intentionally\n",
      "    delimited.  With natural text that includes punctuation, consider using\n",
      "    the regular expression module.\n",
      "\n"
     ]
    }
   ],
   "source": [
    "help(str.split)"
   ]
  },
  {
   "cell_type": "markdown",
   "id": "4755f7fb-b2a1-45fc-adec-9147b24a9400",
   "metadata": {},
   "source": [
    "# One line isn't enough!\n",
    "\n",
    "Normally, we want a docstring to be a bit longer. When we document a function, I was taught that we should list three things:\n",
    "\n",
    "- Expects:\n",
    "- Modifies:\n",
    "- Returns:\n",
    "\n",
    "How can we do all of that on a single line?\n",
    "\n",
    "Answer: A triple-quoted string. If we start a string with `'''` (and end it with the same), then the string can contain `\\n` characters. Meaning, we can have as many lines inside of the string as we want. It's traditional to use a triple-quoted string here."
   ]
  },
  {
   "cell_type": "code",
   "execution_count": 43,
   "id": "de4c6783-28a3-4bda-b7b5-7b92a30cb43f",
   "metadata": {},
   "outputs": [
    {
     "name": "stdout",
     "output_type": "stream",
     "text": [
      "Hello, world!\n"
     ]
    }
   ],
   "source": [
    "\n",
    "def hello(name):\n",
    "    \"\"\"Simple function that greets the user\n",
    "    \n",
    "    Expects: A string argument\n",
    "    Modifies: Nothing but the screen output\n",
    "    Returns: Nothing\n",
    "    \"\"\"\n",
    "\n",
    "    print(f'Hello, {name}!')\n",
    "\n",
    "hello('world')"
   ]
  },
  {
   "cell_type": "code",
   "execution_count": 44,
   "id": "80cac6db-b866-4153-bf60-bfe79f5d02c0",
   "metadata": {},
   "outputs": [
    {
     "name": "stdout",
     "output_type": "stream",
     "text": [
      "Help on function hello in module __main__:\n",
      "\n",
      "hello(name)\n",
      "    Simple function that greets the user\n",
      "\n",
      "    Expects: A string argument\n",
      "    Modifies: Nothing but the screen output\n",
      "    Returns: Nothing\n",
      "\n"
     ]
    }
   ],
   "source": [
    "help(hello)"
   ]
  },
  {
   "cell_type": "markdown",
   "id": "f3159c1d-42e1-4f1e-9f60-17065d857639",
   "metadata": {},
   "source": [
    "# Docstrings vs. comments\n",
    "\n",
    "It's common to mix up docstrings and comments. But they are very different!\n",
    "\n",
    "- Docstrings are for the people who will *invoke* the function. It's about how to use the function, and what is (and isn't) allowed/expected as an argument or return value.\n",
    "- Comments are for the people who will *modify* and *maintain* the function. Those should be about how the function works, not about its inputs and output."
   ]
  },
  {
   "cell_type": "markdown",
   "id": "61b03327-98c4-4254-b922-d027be2468e7",
   "metadata": {},
   "source": [
    "# Exercise: Docstringify our `calc` function\n",
    "\n",
    "1. Add a docstring to `calc`\n",
    "2. Use `help` to check that it works correctly."
   ]
  },
  {
   "cell_type": "code",
   "execution_count": 45,
   "id": "db7606a1-0a48-447b-b22a-84713b38b95a",
   "metadata": {},
   "outputs": [],
   "source": [
    "def calc(first, op, second):\n",
    "    \"\"\"\n",
    "    Simple calculator function\n",
    "\n",
    "    Expects: Three arguments:\n",
    "        - first, an integer\n",
    "        - op, a string that is either '+' or '-'\n",
    "        - second, an integer\n",
    "    Modifies: Nothing but the output on the screen\n",
    "    Returns: Nothing\n",
    "    \"\"\"\n",
    "    if op == '+':\n",
    "        result = first + second\n",
    "    elif op == '-':\n",
    "        result = first - second\n",
    "    else:\n",
    "        result = f'Unknown operator {op}'\n",
    "\n",
    "    print(f'{first} {op} {second} = {result}')"
   ]
  },
  {
   "cell_type": "code",
   "execution_count": 46,
   "id": "84755e23-c00c-49d0-b47d-99b77996a999",
   "metadata": {},
   "outputs": [
    {
     "name": "stdout",
     "output_type": "stream",
     "text": [
      "10 + 42 = 52\n"
     ]
    }
   ],
   "source": [
    "calc(10, '+', 42)"
   ]
  },
  {
   "cell_type": "code",
   "execution_count": 47,
   "id": "f81d130c-a7ae-46f1-913c-1a699df1a234",
   "metadata": {},
   "outputs": [
    {
     "name": "stdout",
     "output_type": "stream",
     "text": [
      "Help on function calc in module __main__:\n",
      "\n",
      "calc(first, op, second)\n",
      "    Simple calculator function\n",
      "\n",
      "    Expects: Three arguments:\n",
      "        - first, an integer\n",
      "        - op, a string that is either '+' or '-'\n",
      "        - second, an integer\n",
      "    Modifies: Nothing but the output on the screen\n",
      "    Returns: Nothing\n",
      "\n"
     ]
    }
   ],
   "source": [
    "help(calc)"
   ]
  },
  {
   "cell_type": "code",
   "execution_count": 48,
   "id": "08b72ee1-0e21-492a-b409-ceadbd518a41",
   "metadata": {},
   "outputs": [],
   "source": [
    "# GK\n",
    "\n",
    "def calc():\n",
    "    '''Simple calculator with only addition and substraction\n",
    "\n",
    "    Expects : 'first number', 'operator', 'second_number'\n",
    "    Modifies : Nothing\n",
    "    Return : Nothing\n",
    "    '''\n",
    "    first = int(input(\"Enter first number: \").strip())\n",
    "    oper = input(\"Enter Operator: \").strip()\n",
    "    second = int(input(\"Enter second number: \").strip())\n",
    "    if oper in \"+-\":\n",
    "        if oper==\"+\":\n",
    "            result = first+second\n",
    "        else:\n",
    "            result = first-second\n",
    "        print(f\"{first} {oper} {second} = {result}\")\n",
    "    else:\n",
    "        print(f\"{first} {oper} {second} = unknown operator\")"
   ]
  },
  {
   "cell_type": "code",
   "execution_count": 50,
   "id": "e46ddaf8-d64c-49fb-a846-c34c7c50086a",
   "metadata": {},
   "outputs": [],
   "source": [
    "# JD\n",
    "\n",
    "def calc():\n",
    "  \"\"\"\n",
    "  This is my calulator function.\n",
    "\n",
    "  Expects: Two integers and an operator\n",
    "  Modifies: Nothing\n",
    "  Returns: The result of the calculation\n",
    "  \"\"\""
   ]
  },
  {
   "cell_type": "code",
   "execution_count": 51,
   "id": "9a426724-72ee-4518-8e90-5221e89189fd",
   "metadata": {},
   "outputs": [
    {
     "name": "stdout",
     "output_type": "stream",
     "text": [
      "Help on function calc in module __main__:\n",
      "\n",
      "calc()\n",
      "    This is my calulator function.\n",
      "\n",
      "    Expects: Two integers and an operator\n",
      "    Modifies: Nothing\n",
      "    Returns: The result of the calculation\n",
      "\n"
     ]
    }
   ],
   "source": [
    "help(calc)"
   ]
  },
  {
   "cell_type": "code",
   "execution_count": 55,
   "id": "758d7579-90a5-4c53-acfc-fa725c862273",
   "metadata": {},
   "outputs": [
    {
     "name": "stdout",
     "output_type": "stream",
     "text": [
      "Help on function calc in module __main__:\n",
      "\n",
      "calc(firstnumber, secondnumber, operator)\n",
      "    Calculator function\n",
      "    Expects: two intergers and a plus or minus operator\n",
      "    Modifies: Adds or subtracts the numbers\n",
      "    Returns: Result of the math operation\n",
      "\n"
     ]
    }
   ],
   "source": [
    "# AR\n",
    "\n",
    "def calc(firstnumber,secondnumber,operator):\n",
    "    \"\"\"Calculator function\n",
    "        Expects: two intergers and a plus or minus operator\n",
    "        Modifies: Adds or subtracts the numbers\n",
    "        Returns: Result of the math operation\n",
    "        \"\"\"\n",
    "    if operator == '+':\n",
    "        addition=firstnumber+secondnumber\n",
    "        print(f'The sum of 2 numbers you entered is {addition} ')\n",
    "    elif operator == '-':\n",
    "        diff=firstnumber-secondnumber\n",
    "        print(f'The difference of 2 numbers you entered is {diff} ')\n",
    "    else:\n",
    "        print('You have entered an unknown operator')\n",
    "#calc(40,20,'+')\n",
    "\n",
    "help(calc)    "
   ]
  },
  {
   "cell_type": "markdown",
   "id": "c6a5fc94-e4fb-4314-b882-5ea1ab8c03bb",
   "metadata": {},
   "source": [
    "# Return values\n",
    "\n",
    "We have seen, many times, that a function can *return* a value to us:\n",
    "\n",
    "- `x = len(y)` -- `x` will contain the length of the value of `y`, which is a value, and thus can be on the right side of assignment.\n",
    "- `name = input('Enter your name: ')`, we see that `input` returns a string, which we assign to `name`"
   ]
  },
  {
   "cell_type": "code",
   "execution_count": 57,
   "id": "e6d3068c-af1c-4e91-a539-6b6ab3604016",
   "metadata": {},
   "outputs": [
    {
     "name": "stdout",
     "output_type": "stream",
     "text": [
      "Hello, world!\n",
      "None\n"
     ]
    }
   ],
   "source": [
    "x = hello('world')\n",
    "print(x)"
   ]
  },
  {
   "cell_type": "markdown",
   "id": "5edcb57f-2d8f-416b-a340-c495eda003f3",
   "metadata": {},
   "source": [
    "# Return values from functions\n",
    "\n",
    "A function can `print` as much or as little as it wants. Printing on the screen is completely separate from returning a value. Each invocation of a function returns *one* value. Returning a value is the last thing that a function does.\n",
    "\n",
    "We can return a value with the `return` keyword:\n",
    "\n",
    "- If we don't use `return` in a function, then it returns the value `None`.\n",
    "- If we use `return` by itself, then we return `None`, too\n",
    "- If we put a value after `return`, then that value is returned to the caller. This is what we want to do most of the time.\n",
    "\n",
    "We can return *ANY* Python value at all -- strings, lists, tuples, dicts, etc."
   ]
  },
  {
   "cell_type": "code",
   "execution_count": 58,
   "id": "da070c47-cf2c-4d9c-a2d1-95c5bb14ff3a",
   "metadata": {},
   "outputs": [],
   "source": [
    "def hello(name):\n",
    "    return f'Hello, {name}!'"
   ]
  },
  {
   "cell_type": "code",
   "execution_count": 59,
   "id": "e48f6589-5c36-4206-a138-7bb3cf0bd99b",
   "metadata": {},
   "outputs": [
    {
     "data": {
      "text/plain": [
       "'Hello, world!'"
      ]
     },
     "execution_count": 59,
     "metadata": {},
     "output_type": "execute_result"
    }
   ],
   "source": [
    "# in Jupyter, it doesn't look like things are very different\n",
    "\n",
    "hello('world')"
   ]
  },
  {
   "cell_type": "code",
   "execution_count": 60,
   "id": "4aa5b2e5-ae44-4d2f-9149-7063b22e7bec",
   "metadata": {},
   "outputs": [],
   "source": [
    "# the big difference is that we can now put our function call on the right side of assignment\n",
    "\n",
    "greeting = hello('world')"
   ]
  },
  {
   "cell_type": "code",
   "execution_count": 61,
   "id": "34ec1962-8383-4093-8ca2-85e03b438180",
   "metadata": {},
   "outputs": [
    {
     "name": "stdout",
     "output_type": "stream",
     "text": [
      "The greeting was \"Hello, world!\".\n"
     ]
    }
   ],
   "source": [
    "print(f'The greeting was \"{greeting}\".')"
   ]
  },
  {
   "cell_type": "markdown",
   "id": "d08f735f-7b8e-4a92-b348-4666ec940d05",
   "metadata": {},
   "source": [
    "# Writing good comments\n",
    "\n",
    "1. Don't tell what is happening, but why it's happening.\n",
    "2. If your code needs lots of comments, then it probably needs fixing up / rewriting to be clearer.\n",
    "3. Especially: Don't write comments that say, \"The below code is a mess!\"\n",
    "4. Remember that your audience is programmers who want to maintain your code.\n",
    "5. That audience is sometimes an audience of one, the future you who *will* forget all of the cool and brilliant things you did in your function."
   ]
  },
  {
   "cell_type": "markdown",
   "id": "3a8f1052-9afc-43bf-8828-be666608d0af",
   "metadata": {},
   "source": [
    "# Exercise: Return from our function\n",
    "\n",
    "1. Modify `calc` such that instead of printing the string on the screen, it returns the string.\n",
    "2. Modify the docstring as well, to reflect what is happening and returned."
   ]
  },
  {
   "cell_type": "code",
   "execution_count": null,
   "id": "79dfb9c9-79c2-4aa9-ac35-dd0c2aade8d5",
   "metadata": {},
   "outputs": [],
   "source": []
  }
 ],
 "metadata": {
  "kernelspec": {
   "display_name": "Python 3 (ipykernel)",
   "language": "python",
   "name": "python3"
  },
  "language_info": {
   "codemirror_mode": {
    "name": "ipython",
    "version": 3
   },
   "file_extension": ".py",
   "mimetype": "text/x-python",
   "name": "python",
   "nbconvert_exporter": "python",
   "pygments_lexer": "ipython3",
   "version": "3.12.2"
  },
  "widgets": {
   "application/vnd.jupyter.widget-state+json": {
    "state": {},
    "version_major": 2,
    "version_minor": 0
   }
  }
 },
 "nbformat": 4,
 "nbformat_minor": 5
}
