{
 "cells": [
  {
   "cell_type": "markdown",
   "metadata": {},
   "source": [
    "# Agenda, week 3\n",
    "\n",
    "- Q&A\n",
    "- Dictionaries\n",
    "    - Creating them\n",
    "    - Working with them (in several ways)\n",
    "    - Modifying and updating them\n",
    "    - How are dictionaries implemented?\n",
    "- Files\n",
    "    - Reading from text files\n",
    "    - Reading from text files in a `for` loop\n",
    "    - (A little bit) about writing to text files\n",
    "    - Please download https://files.lerner.co.il/exercise-files.zip to your computer"
   ]
  },
  {
   "cell_type": "code",
   "execution_count": 3,
   "metadata": {
    "scrolled": true
   },
   "outputs": [
    {
     "name": "stdin",
     "output_type": "stream",
     "text": [
      "Enter number 0:  10\n",
      "Enter number 1:  11\n",
      "Enter number 2:  14\n",
      "Enter number 3:  15\n",
      "Enter number 4:  16\n"
     ]
    },
    {
     "name": "stdout",
     "output_type": "stream",
     "text": [
      "Even [10, 14, 16] Odd [11, 15]\n"
     ]
    }
   ],
   "source": [
    "odds = []\n",
    "evens = []\n",
    "\n",
    "for one_char in range(5):  # iterate 5 times, putting the numbers 0-4 into the one_char variable\n",
    "    num = input(f\"Enter number {one_char}: \") \n",
    "\n",
    "    if not num.isdigit():\n",
    "        print(\"Not a number, try again..\")\n",
    "    else:\n",
    "        num = int(num)\n",
    "        if (num % 2) == 0:\n",
    "            evens.append(num)\n",
    "        else:\n",
    "            odds.append(num)\n",
    "\n",
    "print(f'Even {evens} Odd {odds}')"
   ]
  },
  {
   "cell_type": "code",
   "execution_count": null,
   "metadata": {},
   "outputs": [],
   "source": []
  },
  {
   "cell_type": "code",
   "execution_count": null,
   "metadata": {},
   "outputs": [],
   "source": []
  },
  {
   "cell_type": "code",
   "execution_count": 4,
   "metadata": {},
   "outputs": [],
   "source": [
    "# 2. Also can you explain what you mena by immutable and mutable, you used it in List and tuples?\n",
    "\n",
    "\n"
   ]
  },
  {
   "cell_type": "markdown",
   "metadata": {},
   "source": [
    "# Mutable vs. immutable\n",
    "\n",
    "- Mutable data is a value that we can change. We can replace existing values, we can add new values, and we can remove existing values. If we can modify the contents of the data structure, without creating a new one,\n",
    "then that is considered to be mutable. So far, the only mutable value we've encountered is the *list*. Today, we'll be looking at\n",
    "dicts, which are also mutable.\n",
    "- Immutable data is a value that can never change. You cannot replace any of its values, you cannot make it longer, and you cannot make it shorter. Strings and tuples are both immutable values in Python.\n",
    "\n",
    "Some questions:\n",
    "- Why do we want immutable data? It makes things more efficient, so it's better for Python to have some immutable values. Also, some values won't ever change, such as integers. It doesn't make sense for the number `5` to suddenly have the value `9`.\n",
    "- Can't we really modify immutable data? After all, we can use `+=` on a string."
   ]
  },
  {
   "cell_type": "code",
   "execution_count": 6,
   "metadata": {},
   "outputs": [
    {
     "data": {
      "text/plain": [
       "'abcdef'"
      ]
     },
     "execution_count": 6,
     "metadata": {},
     "output_type": "execute_result"
    }
   ],
   "source": [
    "s = 'abcd'\n",
    "s += 'ef'   # we aren't extending s by two characters. Rather, we're creating a new string (s + 'ef') and assigning back to s\n",
    "\n",
    "s"
   ]
  },
  {
   "cell_type": "code",
   "execution_count": 7,
   "metadata": {},
   "outputs": [
    {
     "data": {
      "text/plain": [
       "'ghij'"
      ]
     },
     "execution_count": 7,
     "metadata": {},
     "output_type": "execute_result"
    }
   ],
   "source": [
    "s = ['abcd', 'ef', 'ghij']\n",
    "\n",
    "s.pop()"
   ]
  },
  {
   "cell_type": "markdown",
   "metadata": {},
   "source": [
    "# Dictionaries\n",
    "\n",
    "So far, we've seen two (or three) types of collections, meaning, data structures that contain other data structures:\n",
    "\n",
    "- Strings, which contain characters (or strings of length 1)\n",
    "- Lists, which can contain anything at all\n",
    "- Tuples, immutable values which can contain anything at all\n",
    "\n",
    "There are two major problems with storing data in a list or tuple:\n",
    "1. Searching for a value is very slow; if you aren't sure if the value is in the data structure, you might have to iterate with a `for` loop over the entire thing.\n",
    "2. Working with a list is fine, except that you need to remember the numeric indexes. Those indexes don't have any semantic meaning or power. It would be nice to use something symbolic that makes sense, but the numbers don't work that way.\n",
    "\n",
    "Enter the dictionary, which exists in many programming languages, too:\n",
    "- hash table\n",
    "- hashmap\n",
    "- map\n",
    "- key-value store\n",
    "- name-value store\n",
    "- associative array\n",
    "\n",
    "You can think of a dict in a few ways:\n",
    "1. It's a list where we get to set the index to anything we want, including strings.\n",
    "2. It's a container for pairs of data (known as key-value pairs), where one is the key and the other is the value.\n",
    "\n",
    "Some important things to remember about dictionaries:\n",
    "- Every key has a value, and every value has a key. There is no such thing has an \"empty\" key or value.\n",
    "- Keys must be immutable! If you try to use a mutable key, you'll get an error.\n",
    "- Keys must be unique!\n",
    "- There are no restrictions whatsoever on values\n",
    "\n",
    "Defining a dict:\n",
    "- Use `{}` to define the dictionary, this one is empty\n",
    "- Put a `:` between every key-value pair in the dict\n",
    "- Put a `,` between the pairs\n",
    "- Use `[]` to retrieve from our dict\n",
    "- Use `in` to search in the keys on our dict"
   ]
  },
  {
   "cell_type": "code",
   "execution_count": 8,
   "metadata": {},
   "outputs": [
    {
     "data": {
      "text/plain": [
       "dict"
      ]
     },
     "execution_count": 8,
     "metadata": {},
     "output_type": "execute_result"
    }
   ],
   "source": [
    "d = {'a':10, 'b':20, 'c':30}\n",
    "type(d)"
   ]
  },
  {
   "cell_type": "code",
   "execution_count": 9,
   "metadata": {},
   "outputs": [
    {
     "data": {
      "text/plain": [
       "10"
      ]
     },
     "execution_count": 9,
     "metadata": {},
     "output_type": "execute_result"
    }
   ],
   "source": [
    "d['a']"
   ]
  },
  {
   "cell_type": "code",
   "execution_count": 10,
   "metadata": {},
   "outputs": [
    {
     "data": {
      "text/plain": [
       "20"
      ]
     },
     "execution_count": 10,
     "metadata": {},
     "output_type": "execute_result"
    }
   ],
   "source": [
    "d['b']"
   ]
  },
  {
   "cell_type": "code",
   "execution_count": 11,
   "metadata": {},
   "outputs": [
    {
     "ename": "KeyError",
     "evalue": "'x'",
     "output_type": "error",
     "traceback": [
      "\u001b[0;31m---------------------------------------------------------------------------\u001b[0m",
      "\u001b[0;31mKeyError\u001b[0m                                  Traceback (most recent call last)",
      "Cell \u001b[0;32mIn[11], line 1\u001b[0m\n\u001b[0;32m----> 1\u001b[0m \u001b[43md\u001b[49m\u001b[43m[\u001b[49m\u001b[38;5;124;43m'\u001b[39;49m\u001b[38;5;124;43mx\u001b[39;49m\u001b[38;5;124;43m'\u001b[39;49m\u001b[43m]\u001b[49m\n",
      "\u001b[0;31mKeyError\u001b[0m: 'x'"
     ]
    }
   ],
   "source": [
    "d['x']"
   ]
  },
  {
   "cell_type": "code",
   "execution_count": 12,
   "metadata": {},
   "outputs": [
    {
     "data": {
      "text/plain": [
       "False"
      ]
     },
     "execution_count": 12,
     "metadata": {},
     "output_type": "execute_result"
    }
   ],
   "source": [
    "'x' in d"
   ]
  },
  {
   "cell_type": "code",
   "execution_count": 13,
   "metadata": {},
   "outputs": [
    {
     "name": "stdout",
     "output_type": "stream",
     "text": [
      "Nothing to show\n"
     ]
    }
   ],
   "source": [
    "if 'x' in d:\n",
    "    print(d['x'])\n",
    "else:\n",
    "    print('Nothing to show')"
   ]
  },
  {
   "cell_type": "markdown",
   "metadata": {},
   "source": [
    "# Exercise: Restaurant\n",
    "\n",
    "1. Define a dict, called `menu`, which contains the menu for a restaurant. The keys (strings) are the menu items, and the values (integers) are the prices.\n",
    "2. Ask the user repeatedly to enter the name of the dish they want to order.\n",
    "    - If they give an empty string, exit the loop and stop asking.\n",
    "    - If they give the name of something on the menu, then we print the price and the new total.\n",
    "    - If they give the name of something *not* on the menu, then we scold them\n",
    "3. After the loop, print the total bill.\n",
    "\n",
    "Example:\n",
    "\n",
    "    Order: sandwich\n",
    "    sandwich is 12, total is 12\n",
    "    Order: tea\n",
    "    tea is 8, total is 20\n",
    "    Order: cake\n",
    "    cake is 7, total is 27\n",
    "    Order: elephant\n",
    "    We're fresh out of elephant today!\n",
    "    Order: [ENTER]\n",
    "\n",
    "Total is 27    "
   ]
  },
  {
   "cell_type": "code",
   "execution_count": 14,
   "metadata": {},
   "outputs": [
    {
     "data": {
      "text/plain": [
       "8"
      ]
     },
     "execution_count": 14,
     "metadata": {},
     "output_type": "execute_result"
    }
   ],
   "source": [
    "menu = {   'sandwich':12,  'tea':8,   'cake':7   }\n",
    "\n",
    "menu['tea']"
   ]
  },
  {
   "cell_type": "code",
   "execution_count": 15,
   "metadata": {},
   "outputs": [
    {
     "data": {
      "text/plain": [
       "8"
      ]
     },
     "execution_count": 15,
     "metadata": {},
     "output_type": "execute_result"
    }
   ],
   "source": [
    "x = 'tea'\n",
    "menu[x]"
   ]
  },
  {
   "cell_type": "code",
   "execution_count": 16,
   "metadata": {},
   "outputs": [
    {
     "name": "stdin",
     "output_type": "stream",
     "text": [
      "Order:  sandwich\n"
     ]
    },
    {
     "name": "stdout",
     "output_type": "stream",
     "text": [
      "sandwich costs 12; total is now 12\n"
     ]
    },
    {
     "name": "stdin",
     "output_type": "stream",
     "text": [
      "Order:  coffee\n"
     ]
    },
    {
     "name": "stdout",
     "output_type": "stream",
     "text": [
      "Sorry, we are out of coffee today.\n"
     ]
    },
    {
     "name": "stdin",
     "output_type": "stream",
     "text": [
      "Order:  tea\n"
     ]
    },
    {
     "name": "stdout",
     "output_type": "stream",
     "text": [
      "tea costs 8; total is now 20\n"
     ]
    },
    {
     "name": "stdin",
     "output_type": "stream",
     "text": [
      "Order:  sandwich\n"
     ]
    },
    {
     "name": "stdout",
     "output_type": "stream",
     "text": [
      "sandwich costs 12; total is now 32\n"
     ]
    },
    {
     "name": "stdin",
     "output_type": "stream",
     "text": [
      "Order:  fruit\n"
     ]
    },
    {
     "name": "stdout",
     "output_type": "stream",
     "text": [
      "Sorry, we are out of fruit today.\n"
     ]
    },
    {
     "name": "stdin",
     "output_type": "stream",
     "text": [
      "Order:  salad\n"
     ]
    },
    {
     "name": "stdout",
     "output_type": "stream",
     "text": [
      "Sorry, we are out of salad today.\n"
     ]
    },
    {
     "name": "stdin",
     "output_type": "stream",
     "text": [
      "Order:  \n"
     ]
    },
    {
     "name": "stdout",
     "output_type": "stream",
     "text": [
      "total is 32\n"
     ]
    }
   ],
   "source": [
    "menu = {   'sandwich':12,  'tea':8,   'cake':7   }\n",
    "total = 0\n",
    "\n",
    "while True:\n",
    "    order = input('Order: ').strip()\n",
    "\n",
    "    if order == '':     # did we get an empty string? If so, then break from the loop\n",
    "        break\n",
    "\n",
    "    if order in menu:          # does the user's input exist as a key in the \"menu\" dict?\n",
    "        price = menu[order]    # get the price\n",
    "        total += price\n",
    "        print(f'{order} costs {price}; total is now {total}')\n",
    "    else:\n",
    "        print(f'Sorry, we are out of {order} today.')\n",
    "\n",
    "print(f'total is {total}')\n",
    "    "
   ]
  },
  {
   "cell_type": "code",
   "execution_count": null,
   "metadata": {},
   "outputs": [],
   "source": [
    "# GK\n",
    "menu = {'chips':5 , 'milk shake':6, 'hot dog':9, 'sandwich':10, 'coffee':3, 'cake':7}\n",
    "total_order = 0\n",
    "\n",
    "while True:\n",
    "    order = input(\"Order: \")\n",
    "    if order=='':\n",
    "        break\n",
    "    if order in menu:\n",
    "        price = menu[order]\n",
    "        total_order+=price\n",
    "        print(f\"{order} is {price}, Total is {total_order}\")\n",
    "    else:\n",
    "        print(f\"We're fresh out of {order} today!\") \n"
   ]
  },
  {
   "cell_type": "code",
   "execution_count": 18,
   "metadata": {},
   "outputs": [
    {
     "name": "stdin",
     "output_type": "stream",
     "text": [
      "Enter food cake\n"
     ]
    },
    {
     "name": "stdout",
     "output_type": "stream",
     "text": [
      "We are out of cake\n"
     ]
    },
    {
     "name": "stdin",
     "output_type": "stream",
     "text": [
      "Enter food hot tea\n",
      "Enter food soup\n",
      "Enter food \n"
     ]
    },
    {
     "name": "stdout",
     "output_type": "stream",
     "text": [
      "10.5\n"
     ]
    }
   ],
   "source": [
    "# \n",
    "menu = {'sandwich':15, 'soup':7.50, 'hot tea':3, 'beverage':4.50}\n",
    "total = 0\n",
    "\n",
    "while True:\n",
    "    order =input('Enter food')\n",
    "\n",
    "    if order == '':\n",
    "        break\n",
    "        \n",
    "    if order in menu:\n",
    "        price = menu[order]   # get the value from \"menu\" for the key that the user entered\n",
    "        total += price\n",
    "    else:\n",
    "        \n",
    "        print(f'We are out of {order}')\n",
    "\n",
    "print(total)"
   ]
  },
  {
   "cell_type": "code",
   "execution_count": null,
   "metadata": {},
   "outputs": [],
   "source": [
    "# SS\n",
    "menu = {\n",
    "  'Coffee': 4,\n",
    "  'Latte': 5,\n",
    "  'Espresso': 6,\n",
    "  'Cappucino': 7,\n",
    "  'Hot Chocolate':8,\n",
    "  'Machiato':6\n",
    "}\n",
    "\n",
    "total=0\n",
    "\n",
    "while True:\n",
    "  order = input('Please enter your order:')\n",
    "  if order == '':\n",
    "    break\n",
    "  elif order not in menu:\n",
    "    print('Please choose different item from the menu')\n",
    "  else:\n",
    "    print(f'You ordered {order} and the price is {menu[order]}') \n",
    "    total+=menu[order] \n",
    "  print(f'Your total : ${total}')    \n",
    "    "
   ]
  },
  {
   "cell_type": "markdown",
   "metadata": {},
   "source": [
    "# Dictionaries are mutable\n",
    "\n",
    "1. We can replace an existing value with a new value\n",
    "2. We can add new key-value pairs to the dict\n",
    "3. We can remove existing key-value pairs from the dict"
   ]
  },
  {
   "cell_type": "code",
   "execution_count": 19,
   "metadata": {},
   "outputs": [],
   "source": [
    "d = {'a':10, 'b':20, 'c':30}\n",
    "\n",
    "d['b'] = 9876\n"
   ]
  },
  {
   "cell_type": "code",
   "execution_count": 20,
   "metadata": {},
   "outputs": [
    {
     "data": {
      "text/plain": [
       "{'a': 10, 'b': 9876, 'c': 30}"
      ]
     },
     "execution_count": 20,
     "metadata": {},
     "output_type": "execute_result"
    }
   ],
   "source": [
    "d"
   ]
  },
  {
   "cell_type": "code",
   "execution_count": 21,
   "metadata": {},
   "outputs": [
    {
     "data": {
      "text/plain": [
       "{'a': 10, 'b': 9876, 'c': 30, 'x': 1234}"
      ]
     },
     "execution_count": 21,
     "metadata": {},
     "output_type": "execute_result"
    }
   ],
   "source": [
    "# how can I add a new key-value pair?\n",
    "# in precisely the same way as we update one - with assignment\n",
    "\n",
    "d['x'] = 1234\n",
    "d"
   ]
  },
  {
   "cell_type": "code",
   "execution_count": 22,
   "metadata": {},
   "outputs": [
    {
     "data": {
      "text/plain": [
       "1234"
      ]
     },
     "execution_count": 22,
     "metadata": {},
     "output_type": "execute_result"
    }
   ],
   "source": [
    "# removing?\n",
    "\n",
    "d.pop('x')   # this removes the 'x' key and returns the deleted value"
   ]
  },
  {
   "cell_type": "markdown",
   "metadata": {},
   "source": [
    "# Accumulating in a dict\n",
    "\n",
    "Because dicts are mutable -- we can add/remove keys and we can update values -- they can be useful when we want to accumulate things. Meaning, I want to keep track of how many users logged into my system. \n",
    "\n",
    "In one common paradigm, we define the dictionary, with keys and default/starter values. Then, as the program runs, it uses that dict to keep track of whatever we're counting. "
   ]
  },
  {
   "cell_type": "code",
   "execution_count": 23,
   "metadata": {},
   "outputs": [
    {
     "data": {
      "text/plain": [
       "{'odds': 3, 'evens': 3}"
      ]
     },
     "execution_count": 23,
     "metadata": {},
     "output_type": "execute_result"
    }
   ],
   "source": [
    "counts = {'odds':0, \n",
    "          'evens':0}\n",
    "\n",
    "for one_number in [10, 15, 20, 25, 30, 35]:\n",
    "    if one_number % 2 == 0:\n",
    "        counts['evens'] += 1   # get the current value of counts['evens'], add 1 to it, and assign back to counts['evens']\n",
    "    else:\n",
    "        counts['odds'] += 1\n",
    "\n",
    "counts"
   ]
  },
  {
   "cell_type": "code",
   "execution_count": 24,
   "metadata": {},
   "outputs": [
    {
     "name": "stdout",
     "output_type": "stream",
     "text": [
      "{'odds': 3, 'evens': 3}\n"
     ]
    }
   ],
   "source": [
    "print(counts)"
   ]
  },
  {
   "cell_type": "markdown",
   "metadata": {},
   "source": [
    "# Immutable keys vs. immutable dicts\n",
    "\n",
    "The data we use in the keys must be immutable - meaning, ints, strings, or tuples. But the fact that we're using immutable data as our dict keys doesn't make the dict immutable."
   ]
  },
  {
   "cell_type": "code",
   "execution_count": 25,
   "metadata": {},
   "outputs": [],
   "source": [
    "# if you're looking for a table type in Python for data analysis (or anything else0,\n",
    "# look at Pandas."
   ]
  },
  {
   "cell_type": "markdown",
   "metadata": {},
   "source": [
    "# Exercise: Vowels, digits, and others (dict edition)\n",
    "\n",
    "1. Define a dict with `vowels`, `digits`, and `others` as the keys, and 0 for each value.\n",
    "2. Ask the user to enter a string.\n",
    "3. Go through the string, one character at a time.\n",
    "    - If it's a vowel, add 1 to `vowels`\n",
    "    - If it's a digit, add 1 to `digits`\n",
    "    - Otherwise, add 1 to `others`.\n",
    "\n",
    "Example:\n",
    "\n",
    "    Enter text: hello!! 123\n",
    "    {'vowels':2,\n",
    "    'digits':3,\n",
    "    'others':6}"
   ]
  },
  {
   "cell_type": "code",
   "execution_count": 26,
   "metadata": {},
   "outputs": [
    {
     "name": "stdin",
     "output_type": "stream",
     "text": [
      "Enter text:  hello!! 123\n"
     ]
    },
    {
     "name": "stdout",
     "output_type": "stream",
     "text": [
      "{'vowels': 2, 'digits': 3, 'others': 6}\n"
     ]
    }
   ],
   "source": [
    "counts = {'vowels':0,\n",
    "          'digits':0,\n",
    "          'others':0}\n",
    "\n",
    "s = input('Enter text: ').strip()\n",
    "\n",
    "for one_character in s:\n",
    "    if one_character in 'aeiou':\n",
    "        counts['vowels'] += 1\n",
    "    elif one_character.isdigit():\n",
    "        counts['digits'] += 1\n",
    "    else:\n",
    "        counts['others'] += 1\n",
    "\n",
    "print(counts)"
   ]
  },
  {
   "cell_type": "code",
   "execution_count": null,
   "metadata": {},
   "outputs": [],
   "source": [
    "# SS \n",
    "\n",
    "user_entry = {\n",
    "  'vowels': 0,\n",
    "  'digits': 0,\n",
    "  'Others': 0\n",
    "}\n",
    "\n",
    "user_input = input('Please enter a string: ')\n",
    "\n",
    "for char in user_input:\n",
    "  print(char)\n",
    "  if char in 'aeiou':\n",
    "    user_entry['vowels']+=1\n",
    "  elif char.isdigit():\n",
    "    user_entry['digits']+=1\n",
    "  else:\n",
    "    user_entry['Others']+=1\n",
    "print(user_entry) "
   ]
  },
  {
   "cell_type": "code",
   "execution_count": null,
   "metadata": {},
   "outputs": [],
   "source": [
    "# JD\n",
    "\n",
    "dict = {'vowels':0, 'digits':0, 'others':0}\n",
    "\n",
    "text = input('Enter text: ')\n",
    "\n",
    "for each_character in text:\n",
    "  if each_character in '0123456789':\n",
    "    dict['digits'] += 1\n",
    "  elif each_character in 'aeiou':\n",
    "    dict['vowels'] += 1\n",
    "  else:\n",
    "    dict['others'] += 1\n",
    "dict"
   ]
  },
  {
   "cell_type": "code",
   "execution_count": 27,
   "metadata": {},
   "outputs": [
    {
     "name": "stdin",
     "output_type": "stream",
     "text": [
      "Please enter a sentence: hello!! 123\n"
     ]
    },
    {
     "name": "stdout",
     "output_type": "stream",
     "text": [
      "{'vowels': 2, 'digits': 3, 'others': 6}\n"
     ]
    }
   ],
   "source": [
    "# AR\n",
    "\n",
    "mydict={'vowels':0,'digits':0,'others':0}\n",
    "\n",
    "user_input=input('Please enter a sentence:')\n",
    "for one_char in user_input:\n",
    "    if one_char.isdigit():\n",
    "        mydict['digits'] +=1\n",
    "    elif one_char in 'eaoui':\n",
    "        mydict['vowels'] +=1\n",
    "    else:\n",
    "        mydict['others'] +=1\n",
    "\n",
    "print(mydict)"
   ]
  },
  {
   "cell_type": "markdown",
   "metadata": {},
   "source": [
    "# Next up\n",
    "\n",
    "1. More ways to use dictionaries\n",
    "2. Iterating over dicts\n"
   ]
  },
  {
   "cell_type": "markdown",
   "metadata": {},
   "source": [
    "# Where might we use dicts (so far)?\n",
    "\n",
    "The restaurant example was what I sometimes call an \"in-memory permanent database,\" where we set the keys and values and never modify them during the course of the program. This is just convenient! We can use this sort of structure for:\n",
    "\n",
    "- Names of months and numbers of months\n",
    "- Numbers of months and names of months\n",
    "- Usernames and user info\n",
    "- Usernames and passwords (although this is very insecure)\n",
    "\n",
    "The second paradigm is a bit trickier, but also very useful: We set up the keys in advance, but we don't know what the values will be, beyond integers.  This is perfect for counters:\n",
    "\n",
    "- How many logins did each user have?\n",
    "- How many times did each IP address access our system?"
   ]
  },
  {
   "cell_type": "code",
   "execution_count": 28,
   "metadata": {},
   "outputs": [],
   "source": [
    "\n",
    "\n",
    "cities = {(41.52, 87.37): 'Chicago',\n",
    "         (40.7127, 74.0059): 'New York'}"
   ]
  },
  {
   "cell_type": "code",
   "execution_count": 29,
   "metadata": {},
   "outputs": [
    {
     "data": {
      "text/plain": [
       "{(41.52, 87.37): 'Chicago', (40.7127, 74.0059): 'New York'}"
      ]
     },
     "execution_count": 29,
     "metadata": {},
     "output_type": "execute_result"
    }
   ],
   "source": [
    "cities"
   ]
  },
  {
   "cell_type": "code",
   "execution_count": 32,
   "metadata": {},
   "outputs": [
    {
     "data": {
      "text/plain": [
       "{(5, 4, 2000): 'person1', (10, 12, 2020): 'person2'}"
      ]
     },
     "execution_count": 32,
     "metadata": {},
     "output_type": "execute_result"
    }
   ],
   "source": [
    "people = {(5, 4, 2000):'person1',\n",
    "         (10, 12, 2020):'person2'}\n",
    "\n",
    "people"
   ]
  },
  {
   "cell_type": "code",
   "execution_count": 30,
   "metadata": {},
   "outputs": [
    {
     "data": {
      "text/plain": [
       "'Chicago'"
      ]
     },
     "execution_count": 30,
     "metadata": {},
     "output_type": "execute_result"
    }
   ],
   "source": [
    "cities[(41.52, 87.37)]"
   ]
  },
  {
   "cell_type": "code",
   "execution_count": 31,
   "metadata": {},
   "outputs": [],
   "source": [
    "# PyPI -- Python Package Index"
   ]
  },
  {
   "cell_type": "markdown",
   "metadata": {},
   "source": [
    "# Paradigm 3: Start with an empty dict, add keys as necessary, and update values as necessary\n",
    "\n",
    "The idea here is that I don't know what keys or values I'm going to get, but I know what I want to do with them when I get them.\n",
    "\n",
    "The way this works is:\n",
    "- Every time we get a new key-value pair to store, we check if the key is already there\n",
    "    - If so, then we add the new value to the existing value\n",
    "    - If not, then we add a new key-value pair with the new key and the new value, assigned\n",
    "\n",
    "\n"
   ]
  },
  {
   "cell_type": "code",
   "execution_count": 33,
   "metadata": {},
   "outputs": [
    {
     "ename": "KeyError",
     "evalue": "'h'",
     "output_type": "error",
     "traceback": [
      "\u001b[0;31m---------------------------------------------------------------------------\u001b[0m",
      "\u001b[0;31mKeyError\u001b[0m                                  Traceback (most recent call last)",
      "Cell \u001b[0;32mIn[33], line 8\u001b[0m\n\u001b[1;32m      5\u001b[0m text \u001b[38;5;241m=\u001b[39m \u001b[38;5;124m'\u001b[39m\u001b[38;5;124mhello to everyone\u001b[39m\u001b[38;5;124m'\u001b[39m\n\u001b[1;32m      7\u001b[0m \u001b[38;5;28;01mfor\u001b[39;00m one_character \u001b[38;5;129;01min\u001b[39;00m text:\n\u001b[0;32m----> 8\u001b[0m     \u001b[43mcounts\u001b[49m\u001b[43m[\u001b[49m\u001b[43mone_character\u001b[49m\u001b[43m]\u001b[49m \u001b[38;5;241m+\u001b[39m\u001b[38;5;241m=\u001b[39m \u001b[38;5;241m1\u001b[39m  \u001b[38;5;66;03m# this is what I want to do -- add 1 to the count for each character\u001b[39;00m\n\u001b[1;32m     10\u001b[0m \u001b[38;5;66;03m# this will fail - -the first time we encounter a character, it isn't in our dict as a key!\u001b[39;00m\n",
      "\u001b[0;31mKeyError\u001b[0m: 'h'"
     ]
    }
   ],
   "source": [
    "# character counter\n",
    "\n",
    "counts = {}\n",
    "\n",
    "text = 'hello to everyone'\n",
    "\n",
    "for one_character in text:\n",
    "    counts[one_character] += 1  # this is what I want to do -- add 1 to the count for each character\n",
    "\n",
    "# this will fail - -the first time we encounter a character, it isn't in our dict as a key!"
   ]
  },
  {
   "cell_type": "code",
   "execution_count": 35,
   "metadata": {},
   "outputs": [
    {
     "name": "stdout",
     "output_type": "stream",
     "text": [
      "{'h': 1, 'e': 4, 'l': 2, 'o': 3, ' ': 2, 't': 1, 'v': 1, 'r': 1, 'y': 1, 'n': 1}\n"
     ]
    }
   ],
   "source": [
    "# character counter\n",
    "\n",
    "counts = {}\n",
    "\n",
    "text = 'hello to everyone'\n",
    "\n",
    "for one_character in text:\n",
    "    if one_character in counts:\n",
    "        counts[one_character] += 1    # 2nd and subsequent times   ... same as saying counts[one_character] = counts[one_character] + 1\n",
    "    else:\n",
    "        counts[one_character] = 1   # the first time we see each key\n",
    "\n",
    "print(counts)"
   ]
  },
  {
   "cell_type": "markdown",
   "metadata": {},
   "source": [
    "# Exercise: Rainfall\n",
    "\n",
    "1. Create an empty dict, `rainfall`.\n",
    "2. Repeatedly ask the user to enter a string, the name of a city.\n",
    "    - If they enter an empty string, break from the loop.\n",
    "3. Ask the user how much rain fell in that city yesterday.\n",
    "    - Assume that the user gives us an integer\n",
    "4. If this is the first time we're seeing the city, add a key-value pair to `rainfall`.\n",
    "5. If we've seen this city before, add the new value to the existing one.\n",
    "6. Print `rainfall`\n",
    "\n",
    "Example:\n",
    "\n",
    "    City: a\n",
    "    Rain: 5\n",
    "    City: b\n",
    "    Rain: 4\n",
    "    City: a\n",
    "    Rain: 3\n",
    "    City: [ENTER]\n",
    "    {'a':8, 'b':4]"
   ]
  },
  {
   "cell_type": "markdown",
   "metadata": {},
   "source": [
    "# Want to know how to sort a dict?\n",
    "My Euro Python talk from a few years ago is here: https://www.youtube.com/watch?v=Z3c2LvEJeu0"
   ]
  },
  {
   "cell_type": "code",
   "execution_count": 38,
   "metadata": {},
   "outputs": [
    {
     "name": "stdin",
     "output_type": "stream",
     "text": [
      "City:  a\n",
      "Rain:  5\n",
      "City:  b\n",
      "Rain:  4\n",
      "City:  a\n",
      "Rain:  3\n",
      "City:  \n"
     ]
    },
    {
     "name": "stdout",
     "output_type": "stream",
     "text": [
      "{'a': 8, 'b': 4}\n"
     ]
    }
   ],
   "source": [
    "rainfall = {}\n",
    "\n",
    "while True:\n",
    "    city_name = input('City: ').strip()\n",
    "\n",
    "    if city_name == '':\n",
    "        break\n",
    "    \n",
    "    mm_rain = input('Rain: ').strip()\n",
    "    mm_rain = int(mm_rain)\n",
    "\n",
    "    if city_name in rainfall:   # if we have seen this city before...\n",
    "        rainfall[city_name] += mm_rain   # add the new rainfall to it\n",
    "    else:\n",
    "        rainfall[city_name] = mm_rain    # first time? Just assign\n",
    "\n",
    "print(rainfall)"
   ]
  },
  {
   "cell_type": "code",
   "execution_count": null,
   "metadata": {},
   "outputs": [],
   "source": [
    "# RS\n",
    "\n",
    "rainfall = {}\n",
    "rc = input('Please enter a city name ').strip()\n",
    "\n",
    "while rc != '':\n",
    "    rd = int(input('Enter the rainfall '))\n",
    "    if rc in rainfall:\n",
    "        rainfall[rc] += rd\n",
    "    else:\n",
    "        rainfall[rc] = rd\n",
    "    rc = input('Please enter a city name ').strip()\n",
    "\n",
    "rainfall"
   ]
  },
  {
   "cell_type": "code",
   "execution_count": 41,
   "metadata": {},
   "outputs": [
    {
     "name": "stdin",
     "output_type": "stream",
     "text": [
      "Please enter a city name: a\n",
      "Please tell me how much rain you got 5\n",
      "Please enter a city name: b\n",
      "Please tell me how much rain you got 4\n",
      "Please enter a city name: a\n",
      "Please tell me how much rain you got 3\n",
      "Please enter a city name: \n"
     ]
    },
    {
     "name": "stdout",
     "output_type": "stream",
     "text": [
      "{'a': 8, 'b': 4}\n"
     ]
    }
   ],
   "source": [
    "# AR\n",
    "rainfall ={}\n",
    "\n",
    "while True:\n",
    "    city=input(f'Please enter a city name:').strip()\n",
    "    if city == '':\n",
    "        break\n",
    "    else:\n",
    "        rainam=input(f'Please tell me how much rain you got').strip()\n",
    "        if city in rainfall:\n",
    "            rainfall[city] += int(rainam)\n",
    "        else:\n",
    "            rainfall[city] = int(rainam)\n",
    "print(rainfall)"
   ]
  },
  {
   "cell_type": "markdown",
   "metadata": {},
   "source": [
    "# Can we iterate over a dict?\n",
    "\n",
    "- If we run a `for` loop over a string, we get the characters\n",
    "- If we run a `for` loop over a list or tuple, we get the elements\n",
    "- If we run a `for` loop over a dict, what do we get?"
   ]
  },
  {
   "cell_type": "code",
   "execution_count": 42,
   "metadata": {},
   "outputs": [
    {
     "name": "stdout",
     "output_type": "stream",
     "text": [
      "a\n",
      "b\n",
      "c\n"
     ]
    }
   ],
   "source": [
    "d = {'a':10, 'b':20, 'c':30}\n",
    "\n",
    "for one_item in d:\n",
    "    print(one_item)"
   ]
  },
  {
   "cell_type": "code",
   "execution_count": 43,
   "metadata": {},
   "outputs": [
    {
     "name": "stdout",
     "output_type": "stream",
     "text": [
      "a: 10\n",
      "b: 20\n",
      "c: 30\n"
     ]
    }
   ],
   "source": [
    "# let's print the keys + values\n",
    "\n",
    "for one_key in d:\n",
    "    print(f'{one_key}: {d[one_key]}')"
   ]
  },
  {
   "cell_type": "code",
   "execution_count": 44,
   "metadata": {},
   "outputs": [
    {
     "name": "stdout",
     "output_type": "stream",
     "text": [
      "a: 10\n",
      "b: 20\n",
      "c: 30\n"
     ]
    }
   ],
   "source": [
    "for one_key, one_value in d.items():  # items is a method that returns one key-value pair at a time\n",
    "    print(f'{one_key}: {one_value}')"
   ]
  },
  {
   "cell_type": "code",
   "execution_count": 48,
   "metadata": {},
   "outputs": [
    {
     "name": "stdin",
     "output_type": "stream",
     "text": [
      "Enter the city:  a\n",
      "Enter the rain:  5\n",
      "Enter the city:  b\n",
      "Enter the rain:  4\n",
      "Enter the city:  a\n",
      "Enter the rain:  3\n",
      "Enter the city:  \n"
     ]
    },
    {
     "name": "stdout",
     "output_type": "stream",
     "text": [
      "{'a': 8, 'b': 4}\n"
     ]
    }
   ],
   "source": [
    "# JF\n",
    "\n",
    "rainfall = {}\n",
    "\n",
    "while True:\n",
    "    city = input(\"Enter the city: \").strip()\n",
    "    if city == \"\":\n",
    "        break\n",
    "    rain = input(\"Enter the rain: \").strip()\n",
    "\n",
    "    \n",
    "    if city in rainfall:\n",
    "        rainfall[city] += int(rain)\n",
    "    else:\n",
    "        rainfall[city] = int(rain)\n",
    "\n",
    "print(rainfall)   \n"
   ]
  },
  {
   "cell_type": "code",
   "execution_count": 49,
   "metadata": {},
   "outputs": [
    {
     "data": {
      "text/plain": [
       "4914530938512620729"
      ]
     },
     "execution_count": 49,
     "metadata": {},
     "output_type": "execute_result"
    }
   ],
   "source": [
    "# each iteration of d.items returns a (key, value) tuple\n",
    "\n",
    "\n",
    "hash('a')"
   ]
  },
  {
   "cell_type": "code",
   "execution_count": 50,
   "metadata": {},
   "outputs": [
    {
     "data": {
      "text/plain": [
       "-9020395102301076865"
      ]
     },
     "execution_count": 50,
     "metadata": {},
     "output_type": "execute_result"
    }
   ],
   "source": [
    "hash('b')"
   ]
  },
  {
   "cell_type": "markdown",
   "metadata": {},
   "source": [
    "A hash function takes an input, and returns an integer. The integers look random, and are impossible for predict, but they are deterministic (each call, within one run of Python, gives the same value).\n",
    "\n"
   ]
  },
  {
   "cell_type": "markdown",
   "metadata": {},
   "source": [
    "# Next up: Files!\n",
    "\n",
    "Please do download the file I put in the attendee chat before. "
   ]
  },
  {
   "cell_type": "code",
   "execution_count": null,
   "metadata": {},
   "outputs": [],
   "source": []
  }
 ],
 "metadata": {
  "kernelspec": {
   "display_name": "Python 3 (ipykernel)",
   "language": "python",
   "name": "python3"
  },
  "language_info": {
   "codemirror_mode": {
    "name": "ipython",
    "version": 3
   },
   "file_extension": ".py",
   "mimetype": "text/x-python",
   "name": "python",
   "nbconvert_exporter": "python",
   "pygments_lexer": "ipython3",
   "version": "3.12.5"
  }
 },
 "nbformat": 4,
 "nbformat_minor": 4
}
