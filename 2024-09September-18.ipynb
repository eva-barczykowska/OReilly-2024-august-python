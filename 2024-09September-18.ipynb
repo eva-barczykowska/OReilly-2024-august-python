{
 "cells": [
  {
   "cell_type": "markdown",
   "id": "e048ff18-bdd1-4c3c-b83c-f9bc574ae213",
   "metadata": {},
   "source": [
    "# Agenda, week 4: Functions\n",
    "\n",
    "0. Q&A\n",
    "1. What are functions? Why do we need them? (Do we need them?)\n",
    "2. Writing our own functions\n",
    "3. Arguments and parameters\n",
    "4. Return values (simple vs. complex values)\n",
    "5. Default argument values\n",
    "6. Docstrings\n",
    "7. Local vs. global values"
   ]
  },
  {
   "cell_type": "markdown",
   "id": "37f8a054-32a7-4b10-a64f-5515a8440d47",
   "metadata": {},
   "source": [
    "# Methods vs. functions\n",
    "\n",
    "Both functions and methods are Python's verbs -- that is, they tell Python to do something.\n",
    "\n",
    "- In the case of a function, the verb is unattached to any particular object. Its name isn't preceeded by a `.` character; it's freely floating. Some examples are `len` and `sum` and even `int` and `str`, which aren't really functions but we'll call them that for now.\n",
    "- In the case of a method, it has to be anchored to an existing object. It has to have a home of some sort, and that home is always going to be a type of data, such as `str`. So we can't really talk about `strip` or `split`, but we can talk about `str.strip` and `str.split`.\n",
    "\n",
    "As a general rule, if there is a `.` before a verb's name, then it is a method. If not, then it's a function.\n",
    "\n",
    "One of the many reasons we have methods vs. functions is that this lets us be more precise with both defining and using them. Python can, if I call a method on the wrong kind of object, try to correct me. Certainly an IDE, which has lots of hints and checks, will do that.\n",
    "\n"
   ]
  },
  {
   "cell_type": "markdown",
   "id": "a5dcf13d-f490-40bc-9b51-50ed4e88f649",
   "metadata": {},
   "source": [
    "# Functions\n",
    "\n",
    "A function (again) is a verb in Python, that tells Python what to do. We \"execute\" or \"run\" a function by putting round parentheses (`()`) after its name. If you don't use the parentheses, then the function doesn't run! A function is a plan for execution, and only with the `()` does anything actually get executed.\n",
    "\n",
    "If we define our own function, then do we get any new capabilities in the language?\n",
    "\n",
    "The answer is \"no.\"  We don't need functions to do anything new.\n",
    "\n",
    "But we do need functions for us, as humans, to be able to keep track of things and think about our software at a higher level.\n",
    "\n",
    "When we define a function, we're taking a list of existing commands/instructions and we're putting that combination under a single name. By putting a set of instructions under a single name, we can then cut down on the amount of detail we need to accomplish something, and then we can use that single name as an instruction in higher-level things.\n",
    "\n",
    "Suddenly, we can talk about very high level instructions, each of which is using functions that are themselves built on lower-level abstractions.\n",
    "\n",
    "The other way to think about functions is with the DRY (don't repeat yourself) idea:\n",
    "\n",
    "- If you have several lines in a row that are (roughly) the same, you can replace them with a loop.\n",
    "- If you have the same code in several places in your program, you can write a function and then run that function everywhere that you had the code before.\n",
    "\n",
    "Wherever you write code that might be reused, or that would benefit from being wrapped up in a name and never exposed in its details in the future, then you should write a function."
   ]
  },
  {
   "cell_type": "markdown",
   "id": "d22bec0f-42a5-4600-9e97-4974cc9abe9f",
   "metadata": {},
   "source": [
    "# How do we define a function?\n",
    "\n",
    "- We use the keyword `def`\n",
    "- We name the function -- just as we would name a variable\n",
    "- After that, we have `()` containing the parameters; so far, we won't have any, so it'll just be empty parentheses\n",
    "- At the end of the line, we have `:`\n",
    "- Finally we have an indented block, which is the \"function body.\"\n",
    "\n",
    "In the function body, you can write **ANY** Python code that you want -- `print`, `for` loops, asking the user for input, etc."
   ]
  },
  {
   "cell_type": "code",
   "execution_count": 2,
   "id": "1abdefe1-3ba7-4f84-af9a-70800f59e555",
   "metadata": {},
   "outputs": [],
   "source": [
    "def hello():\n",
    "    print('Hello!')"
   ]
  },
  {
   "cell_type": "markdown",
   "id": "bfc244e0-dd85-4450-b070-8f76befeabe0",
   "metadata": {},
   "source": [
    "# What have I done?\n",
    "\n",
    "1. I created a function object. In other words, I have created a set of instructions that Python can than execute whenever I want.\n",
    "2. I assigned that function object to a variable, named `hello`.\n",
    "\n",
    "In Python, functions are object -- no less, and no more than strings, ints, dicts, etc. When we use `def`, we are assigning to a variable."
   ]
  },
  {
   "cell_type": "code",
   "execution_count": 3,
   "id": "a084b7e4-30c6-40b5-831c-edf659d3098e",
   "metadata": {},
   "outputs": [
    {
     "data": {
      "text/plain": [
       "function"
      ]
     },
     "execution_count": 3,
     "metadata": {},
     "output_type": "execute_result"
    }
   ],
   "source": [
    "type(hello)  # what kind of object did I assign here?"
   ]
  },
  {
   "cell_type": "markdown",
   "id": "eaca1a8a-4650-4087-bb43-032a048d6969",
   "metadata": {},
   "source": [
    "# Watch your names!\n",
    "\n",
    "In some languages, it's not only permitted, but even "
   ]
  }
 ],
 "metadata": {
  "kernelspec": {
   "display_name": "Python 3 (ipykernel)",
   "language": "python",
   "name": "python3"
  },
  "language_info": {
   "codemirror_mode": {
    "name": "ipython",
    "version": 3
   },
   "file_extension": ".py",
   "mimetype": "text/x-python",
   "name": "python",
   "nbconvert_exporter": "python",
   "pygments_lexer": "ipython3",
   "version": "3.12.2"
  },
  "widgets": {
   "application/vnd.jupyter.widget-state+json": {
    "state": {},
    "version_major": 2,
    "version_minor": 0
   }
  }
 },
 "nbformat": 4,
 "nbformat_minor": 5
}
