{
 "cells": [
  {
   "cell_type": "markdown",
   "metadata": {},
   "source": [
    "# Agenda: Loops, lists, and tuples\n",
    "\n",
    "1. Q&A\n",
    "2. Loops\n",
    "    - `for`\n",
    "    - Looping a number of times with `range`\n",
    "    - Indexes (or the lack thereof)\n",
    "    - `while`\n",
    "    - `break` and `continue`\n",
    "3. Lists\n",
    "    - Creating lists\n",
    "    - Retrieving from lists\n",
    "    - Lists are mutable -- what that means, and list methods\n",
    "4. Strings to lists, and back\n",
    "    - Turning a string into a list with `str.split`\n",
    "    - Turning a list into a string with `str.join`\n",
    "5. Tuples\n",
    "    - What are they?\n",
    "    - How are they similar to / different from lists and strings?\n",
    "    - Tuple unpacking"
   ]
  },
  {
   "cell_type": "markdown",
   "metadata": {},
   "source": [
    "# Loops\n",
    "\n",
    "One of the most important ideas in programming is DRY (don't repeat yourself). If you see that you're repeating code, or semi-repeating code, then you should think again about how you're writing things."
   ]
  },
  {
   "cell_type": "code",
   "execution_count": 1,
   "metadata": {},
   "outputs": [
    {
     "name": "stdout",
     "output_type": "stream",
     "text": [
      "a\n",
      "b\n",
      "c\n",
      "d\n"
     ]
    }
   ],
   "source": [
    "# I want to print all of the characters in s. How can I do that?\n",
    "\n",
    "s = 'abcd'\n",
    "\n",
    "print(s[0])\n",
    "print(s[1])\n",
    "print(s[2])\n",
    "print(s[3])"
   ]
  },
  {
   "cell_type": "code",
   "execution_count": 3,
   "metadata": {},
   "outputs": [
    {
     "name": "stdout",
     "output_type": "stream",
     "text": [
      "Before\n",
      "a\n",
      "b\n",
      "c\n",
      "d\n",
      "After\n"
     ]
    }
   ],
   "source": [
    "# if I can find a way to tell it:\n",
    "# go through each character in s, and print it\n",
    "\n",
    "# that's what a loop is -- especially a \"for\" loop\n",
    "\n",
    "# let's see how a for loop would look in this case\n",
    "\n",
    "s = 'abcd'\n",
    "\n",
    "print('Before')\n",
    "for one_character in s:\n",
    "    print(one_character)\n",
    "print('After')    "
   ]
  },
  {
   "cell_type": "markdown",
   "metadata": {},
   "source": [
    "# The `for` loop's syntax\n",
    "\n",
    "- `for` VARIABLE `if` in OBJECT\n",
    "- At the end of that line, we have a `:`\n",
    "- Then we have an indented block, the loop body\n",
    "\n",
    "# What's happening inside\n",
    "\n",
    "1. `for` turns to the object at the end of the line (`s`) and asks it: Are you iterable?\n",
    "    - If the answer is \"no,\" then the loop exits with an error.\n",
    "2. `for` asks the object for its next value.\n",
    "    - If there are no more values, then the loop exits (normally, no error).\n",
    "3. The value we got is assigned to the loop variable (in this case, `one_character`)\n",
    "4. The loop body (in this case, just one line containing `print`) is executed. It's an indented block, just like we saw last week with `if` and `else`.\n",
    "5. At the end of the loop body's execution, we return to step 2.\n",
    "\n",
    "Many people think that we're getting one character at a time because I called my loop variable `one_character`. That is COMPLETELY BACKWARDS. I called that variable `one_character` because I know that strings will give me one character at a time inside of a loop.\n",
    "\n",
    "I can call that variable anything I want; the fact that `s` is a string dictates our getting one character in each iteration.\n",
    "\n",
    "`one_character` is a variable that is assigned to once per iteration.\n",
    "\n",
    "What code can we put inside of a loop body? ANYTHING WE WANT:\n",
    "\n",
    "- `print`\n",
    "- `input`\n",
    "- assignment\n",
    "- `if`\n",
    "- `for` loops inside of `for` loops -- these are known as \"nested loops.\""
   ]
  },
  {
   "cell_type": "markdown",
   "metadata": {},
   "source": [
    "# Exercise: Vowels, digits, and others\n",
    "\n",
    "1. Define three variables (`vowels`, `digits`, and `others`), and set them all to be 0.\n",
    "2. Ask the user to enter some text.\n",
    "3. Go over each character in the user's input:\n",
    "    - If it's a vowel, add 1 to `vowels`\n",
    "    - If it's a digit, add 1 to `digits`\n",
    "    - If it's something else, add 1 to `others`\n",
    "4. At the end of the loop, print all three values.\n",
    "\n",
    "Example:\n",
    "\n",
    "    Enter text: hello!! 123\n",
    "    vowels: 2\n",
    "    digits: 3\n",
    "    others: 6"
   ]
  },
  {
   "cell_type": "code",
   "execution_count": 4,
   "metadata": {},
   "outputs": [
    {
     "data": {
      "text/plain": [
       "True"
      ]
     },
     "execution_count": 4,
     "metadata": {},
     "output_type": "execute_result"
    }
   ],
   "source": [
    "# one way to find out if a character is a vowel is with the \"in\" operator\n",
    "\n",
    "'a' in 'aeiou'   # is the thing on the left in the thing on the right? This will return True/False"
   ]
  },
  {
   "cell_type": "code",
   "execution_count": 5,
   "metadata": {},
   "outputs": [
    {
     "data": {
      "text/plain": [
       "True"
      ]
     },
     "execution_count": 5,
     "metadata": {},
     "output_type": "execute_result"
    }
   ],
   "source": [
    "one_letter = 'a'\n",
    "\n",
    "one_letter in 'aeiou'"
   ]
  },
  {
   "cell_type": "markdown",
   "metadata": {},
   "source": [
    "# Strategy \n",
    "\n",
    "1. Define the three variables (`vowels`, `digits`, and `others`) to be 0.\n",
    "2. Use `input` to get input from the user.  This will be returned as a string; assign it to a variable.\n",
    "3. Use a `for` loop to iterate over each character in the user's input string.\n",
    "4. Check each character:\n",
    "    - if the current character is `in 'aeiou'`, then it's a vowel\n",
    "    - elif the current character `.isdigit()`, then it's a digit\n",
    "    - otherwise, add 1 to `others`\n",
    "5. Print the three variables."
   ]
  },
  {
   "cell_type": "code",
   "execution_count": 6,
   "metadata": {},
   "outputs": [
    {
     "name": "stdin",
     "output_type": "stream",
     "text": [
      "Enter text:  hello!! 123\n"
     ]
    },
    {
     "name": "stdout",
     "output_type": "stream",
     "text": [
      "vowels = 2\n",
      "digits = 3\n",
      "others = 6\n"
     ]
    }
   ],
   "source": [
    "vowels = 0\n",
    "digits = 0\n",
    "others = 0\n",
    "\n",
    "s = input('Enter text: ').strip()    # we get input from the user, then immediately remove leading/trailing whitespace, then assign to s\n",
    "\n",
    "for one_character in s:\n",
    "    if one_character in 'aeiou':     # if the current character is a vowel, add 1 to the \"vowels\" variable\n",
    "        vowels += 1\n",
    "    elif one_character.isdigit():    # if the current character is 0-9, then add 1 to the \"digits\" variable\n",
    "        digits += 1\n",
    "    else:\n",
    "        others += 1\n",
    "\n",
    "print(f'vowels = {vowels}')\n",
    "print(f'digits = {digits}')\n",
    "print(f'others = {others}')\n"
   ]
  },
  {
   "cell_type": "code",
   "execution_count": 7,
   "metadata": {},
   "outputs": [
    {
     "name": "stdin",
     "output_type": "stream",
     "text": [
      "Enter some text : hello!! 123\n"
     ]
    },
    {
     "name": "stdout",
     "output_type": "stream",
     "text": [
      "Vowels=2 , Digits=3, Others=6\n"
     ]
    }
   ],
   "source": [
    "# GK\n",
    "\n",
    "vowels =0\n",
    "digits = 0\n",
    "others = 0\n",
    "some_text = input('Enter some text :')\n",
    "\n",
    "for a_character in some_text:\n",
    "    if a_character in 'aeuio':\n",
    "        vowels=vowels+1\n",
    "    elif a_character in '0123456789':\n",
    "        digits=digits+1\n",
    "    else:\n",
    "        others=others+1\n",
    "\n",
    "print(f\"Vowels={vowels} , Digits={digits}, Others={others}\")\n"
   ]
  },
  {
   "cell_type": "code",
   "execution_count": 8,
   "metadata": {},
   "outputs": [
    {
     "name": "stdin",
     "output_type": "stream",
     "text": [
      "Enter Text:  hello!! 123\n"
     ]
    },
    {
     "name": "stdout",
     "output_type": "stream",
     "text": [
      "Count of Vowels 2\n",
      "Count of Digits 3\n",
      "Count of Others 6\n"
     ]
    }
   ],
   "source": [
    "# SS\n",
    "\n",
    "vowels = 0\n",
    "digits = 0\n",
    "others = 0\n",
    "\n",
    "text = input('Enter Text: ')\n",
    "\n",
    "for txt in text:\n",
    "  if txt in 'aeiou':\n",
    "    vowels +=1\n",
    "  elif txt.isdigit():\n",
    "    digits += 1\n",
    "  else:\n",
    "    others += 1\n",
    "print('Count of Vowels',vowels)        \n",
    "print('Count of Digits',digits)        \n",
    "print('Count of Others', others) "
   ]
  },
  {
   "cell_type": "code",
   "execution_count": 9,
   "metadata": {},
   "outputs": [
    {
     "name": "stdin",
     "output_type": "stream",
     "text": [
      "Enter a string hello!! 123\n"
     ]
    },
    {
     "name": "stdout",
     "output_type": "stream",
     "text": [
      "vowels = 2 digits =  3 others =  6\n"
     ]
    }
   ],
   "source": [
    "# KK \n",
    "\n",
    "vowels = 0\n",
    "digits = 0\n",
    "others = 0\n",
    "user_string = input ('Enter a string')\n",
    "for one_char in user_string:\n",
    "    if one_char in 'aeiou':\n",
    "        vowels += 1\n",
    "    elif one_char in '0123456789':\n",
    "        digits += 1\n",
    "    else:\n",
    "        others += 1\n",
    "print('vowels =', vowels, 'digits = ', digits, 'others = ', others)"
   ]
  },
  {
   "cell_type": "code",
   "execution_count": 11,
   "metadata": {},
   "outputs": [
    {
     "data": {
      "text/plain": [
       "'3'"
      ]
     },
     "execution_count": 11,
     "metadata": {},
     "output_type": "execute_result"
    }
   ],
   "source": [
    "# the end of a for loop does *not* remove the variables defined/assigned/changed inside of the loop\n",
    "\n",
    "one_character"
   ]
  },
  {
   "cell_type": "code",
   "execution_count": 12,
   "metadata": {},
   "outputs": [
    {
     "name": "stdin",
     "output_type": "stream",
     "text": [
      "enter some text.  hello!! 123\n"
     ]
    },
    {
     "name": "stdout",
     "output_type": "stream",
     "text": [
      "2\n",
      "3\n",
      "6\n"
     ]
    }
   ],
   "source": [
    "# JH\n",
    "\n",
    "vowels = 0\n",
    "digits = 0\n",
    "others = 0 \n",
    "\n",
    "user_text = input('enter some text. ')    # the user's input will now be in \"user_text\"\n",
    "\n",
    "for one_character in user_text:\n",
    "    if one_character in 'aeiou':\n",
    "        vowels += 1   # add 1 to the previous value of vowels\n",
    "    elif one_character in '1234567890':\n",
    "        digits += 1\n",
    "    else:\n",
    "        others += 1 \n",
    "\n",
    "print(vowels)\n",
    "print(digits)\n",
    "print(others)"
   ]
  },
  {
   "cell_type": "code",
   "execution_count": 18,
   "metadata": {},
   "outputs": [
    {
     "name": "stdout",
     "output_type": "stream",
     "text": [
      " others = 6yyyyyyyyyyy, xxxxxxxxx, \n"
     ]
    }
   ],
   "source": [
    "# KK\n",
    "\n",
    "# If I print this I only print others, why? \n",
    "print( f'vowels = {vowels}xxxxxxxxxxxxxxxxxxxxxxx, \\r digits = {digits}yyyyyyyyyyy, \\r others = {others}')      "
   ]
  },
  {
   "cell_type": "markdown",
   "metadata": {},
   "source": [
    "# Computer history time!\n",
    "\n",
    "When people used printers (and not screens), a new line on the printer required two different commands for the printhead\n",
    "\n",
    "- line feed/newline (go down one)\n",
    "- carriage return (move the printhead to the far left)\n",
    "\n",
    "If you just used line feed, you could print a vertical line.\n",
    "\n",
    "If you used carriage return multiple times, you would overwrite what you had previously written.\n",
    "\n",
    "In Python, we normally use `\\n` for a new line. However, on Windows, that is silently translated into `\\r\\n`, because Windows retains this historical need to have two characters at the end of the line. On Unix, we know that just line feed is enough to do both.\n",
    "\n",
    "You used `\\r`, which returns the print head (virtual) to the start of the line."
   ]
  },
  {
   "cell_type": "code",
   "execution_count": 19,
   "metadata": {},
   "outputs": [
    {
     "name": "stdout",
     "output_type": "stream",
     "text": [
      "vowels = 2xxxxxxxxxxxxxxxxxxxxxxx, \n",
      " digits = 3yyyyyyyyyyy, \n",
      " others = 6\n"
     ]
    }
   ],
   "source": [
    "print( f'vowels = {vowels}xxxxxxxxxxxxxxxxxxxxxxx, \\n digits = {digits}yyyyyyyyyyy, \\n others = {others}')      "
   ]
  },
  {
   "cell_type": "markdown",
   "metadata": {},
   "source": [
    "# What if I want to iterate a number of times?\n",
    "\n",
    "We've seen that we can iterate over a string, and get each character. What if I just want to do something 3 times?"
   ]
  },
  {
   "cell_type": "code",
   "execution_count": 20,
   "metadata": {},
   "outputs": [
    {
     "name": "stdout",
     "output_type": "stream",
     "text": [
      "Hooray!\n",
      "Hooray!\n",
      "Hooray!\n"
     ]
    }
   ],
   "source": [
    "# I'm teaching Python. I want to express my sheer joy!\n",
    "\n",
    "print('Hooray!')\n",
    "print('Hooray!')\n",
    "print('Hooray!')\n"
   ]
  },
  {
   "cell_type": "code",
   "execution_count": 21,
   "metadata": {},
   "outputs": [
    {
     "ename": "TypeError",
     "evalue": "'int' object is not iterable",
     "output_type": "error",
     "traceback": [
      "\u001b[0;31m---------------------------------------------------------------------------\u001b[0m",
      "\u001b[0;31mTypeError\u001b[0m                                 Traceback (most recent call last)",
      "Cell \u001b[0;32mIn[21], line 3\u001b[0m\n\u001b[1;32m      1\u001b[0m \u001b[38;5;66;03m# isn't there a way we can use a loop to tighten that up?\u001b[39;00m\n\u001b[0;32m----> 3\u001b[0m \u001b[38;5;28;01mfor\u001b[39;00m one_time \u001b[38;5;129;01min\u001b[39;00m \u001b[38;5;241m3\u001b[39m:\n\u001b[1;32m      4\u001b[0m     \u001b[38;5;28mprint\u001b[39m(\u001b[38;5;124m'\u001b[39m\u001b[38;5;124mHooray!\u001b[39m\u001b[38;5;124m'\u001b[39m)   \n",
      "\u001b[0;31mTypeError\u001b[0m: 'int' object is not iterable"
     ]
    }
   ],
   "source": [
    "# isn't there a way we can use a loop to tighten that up?\n",
    "\n",
    "for one_time in 3:  # \"for\" loop turns to 3, and asks: Are you iterable? The answer: NO!\n",
    "    print('Hooray!')   "
   ]
  },
  {
   "cell_type": "code",
   "execution_count": 22,
   "metadata": {},
   "outputs": [
    {
     "name": "stdout",
     "output_type": "stream",
     "text": [
      "Hooray!\n",
      "Hooray!\n",
      "Hooray!\n"
     ]
    }
   ],
   "source": [
    "# we can use the \"range\" builtin function, whose job is to take a number \n",
    "# and let us iterate that number of times.\n",
    "\n",
    "for one_time in range(3):   # 3 is not iterable, but range(3) is!\n",
    "    print('Hooray!')"
   ]
  },
  {
   "cell_type": "code",
   "execution_count": 24,
   "metadata": {},
   "outputs": [
    {
     "name": "stdout",
     "output_type": "stream",
     "text": [
      "0: Hooray!\n",
      "1: Hooray!\n",
      "2: Hooray!\n"
     ]
    }
   ],
   "source": [
    "# we said before that in each iteration, the for loop asks the object\n",
    "# for its next value. That value is assigned to our loop variable. What,\n",
    "# if anything, is being assigned from range(3) to one_time? What is the value\n",
    "# of one_time in each iteration?\n",
    "\n",
    "for one_time in range(3):\n",
    "    print(f'{one_time}: Hooray!')"
   ]
  },
  {
   "cell_type": "markdown",
   "metadata": {},
   "source": [
    "# `range`\n",
    "\n",
    "`range` takes an integer as an argument, and that is the number of times we'll iterate.\n",
    "\n",
    "Each iteration returns a number, starting at 0 and going up to `n-1`, where `n` is the argument to `range`.\n",
    "\n",
    "Saying `range(3)` will give us 3 values: 0, 1, and 2."
   ]
  },
  {
   "cell_type": "code",
   "execution_count": 25,
   "metadata": {},
   "outputs": [
    {
     "data": {
      "text/plain": [
       "range(0, 5)"
      ]
     },
     "execution_count": 25,
     "metadata": {},
     "output_type": "execute_result"
    }
   ],
   "source": [
    "n = 5\n",
    "range(n)   # the range object shows us the start and the end number, which is really end+1"
   ]
  },
  {
   "cell_type": "markdown",
   "metadata": {},
   "source": [
    "# Exercise: Sum some numbers\n",
    "\n",
    "We're going to ask the user how many numbers they want to sum up, and then we'll ask them for that many numbers. If any of the numbers they give us aren't numeric, then we'll scold them and ignore the input.\n",
    "\n",
    "1. Define `total` to be 0.\n",
    "2. Ask the user how many numbers they want to sum up?\n",
    "    - Let's assume they'll give us numeric input\n",
    "3. Ask, that many times, for input.\n",
    "    - If it's not numeric, ignore the number but scold the user\n",
    "4. Print the final total.\n",
    "\n",
    "Example:\n",
    "\n",
    "    How many numbers? 3\n",
    "    Enter number 0: 100\n",
    "    Enter number 1: 50\n",
    "    Enter number 2: hello\n",
    "        hello is not numeric; ignoring\n",
    "    Total is 150\n",
    "    "
   ]
  },
  {
   "cell_type": "code",
   "execution_count": 26,
   "metadata": {},
   "outputs": [
    {
     "name": "stdin",
     "output_type": "stream",
     "text": [
      "How many numbers?  3\n",
      "Enter number 0:  100\n",
      "Enter number 1:  50\n",
      "Enter number 2:  hello\n"
     ]
    },
    {
     "name": "stdout",
     "output_type": "stream",
     "text": [
      "hello is not numeric; ignoring\n",
      "Total is 150\n"
     ]
    }
   ],
   "source": [
    "total = 0\n",
    "\n",
    "s = input('How many numbers? ').strip()\n",
    "how_many = int(s)\n",
    "\n",
    "for counter in range(how_many):\n",
    "    one_input = input(f'Enter number {counter}: ')\n",
    "\n",
    "    if one_input.isdigit():   # does the string one_input only contain digits?\n",
    "        total += int(one_input)\n",
    "    else:\n",
    "        print(f'{one_input} is not numeric; ignoring')\n",
    "\n",
    "print(f'Total is {total}')"
   ]
  },
  {
   "cell_type": "code",
   "execution_count": 28,
   "metadata": {},
   "outputs": [
    {
     "name": "stdin",
     "output_type": "stream",
     "text": [
      "Enter how many times you want to sum:  3\n",
      "Enter the value to sum: 10\n",
      "Enter the value to sum: 20\n",
      "Enter the value to sum: asdfsa\n"
     ]
    },
    {
     "name": "stdout",
     "output_type": "stream",
     "text": [
      "Please enter an integer to sum\n",
      "30\n"
     ]
    }
   ],
   "source": [
    "# SS\n",
    "\n",
    "total = 0\n",
    "howMany = int(input('Enter how many times you want to sum: '))\n",
    "\n",
    "for val in range(howMany):\n",
    "  value = input('Enter the value to sum:')\n",
    "  if not value.isdigit():  # str.isdigit asks -- can we turn this into an integer? \n",
    "    print('Please enter an integer to sum')\n",
    "  else:\n",
    "    total += int(value)\n",
    "print(total) "
   ]
  },
  {
   "cell_type": "code",
   "execution_count": 29,
   "metadata": {},
   "outputs": [
    {
     "name": "stdin",
     "output_type": "stream",
     "text": [
      "How many numbers to sum up ?  3\n",
      "Enter number 0:  10\n",
      "Enter number 1:  20\n",
      "Enter number 2:  asdfa\n"
     ]
    },
    {
     "name": "stdout",
     "output_type": "stream",
     "text": [
      "asdfa is not numeric! Ignoring!\n",
      "total = 30\n"
     ]
    }
   ],
   "source": [
    "# GK\n",
    "\n",
    "total = 0\n",
    "n = int(input('How many numbers to sum up ? ').strip())\n",
    "\n",
    "for i in range(n):\n",
    "    a_number = input(f\"Enter number {i}: \")\n",
    "    if a_number.isdigit():\n",
    "        total+=int(a_number)\n",
    "    else:\n",
    "        print(f\"{a_number} is not numeric! Ignoring!\")\n",
    "\n",
    "print(f\"total = {total}\")"
   ]
  },
  {
   "cell_type": "code",
   "execution_count": 31,
   "metadata": {},
   "outputs": [
    {
     "name": "stdin",
     "output_type": "stream",
     "text": [
      "how many numbers do you want to sum? 3\n",
      "enter a number:  10\n",
      "enter a number:  20\n",
      "enter a number:  asdfsa\n"
     ]
    },
    {
     "name": "stdout",
     "output_type": "stream",
     "text": [
      "This is not a number!\n",
      "Total Sum = 30\n"
     ]
    }
   ],
   "source": [
    "# AK\n",
    "\n",
    "total=0\n",
    "\n",
    "num=int(input('how many numbers do you want to sum?'))\n",
    "\n",
    "for each_number in range(num):\n",
    "  number = input('enter a number: ')\n",
    "  if not number.isdigit():\n",
    "    print(f'This is not a number!')\n",
    "  else:\n",
    "    total += int(number)\n",
    "print(f'Total Sum = {total}') "
   ]
  },
  {
   "cell_type": "markdown",
   "metadata": {},
   "source": [
    "# Next up\n",
    "\n",
    "- `while`\n",
    "- Where is the index?"
   ]
  },
  {
   "cell_type": "code",
   "execution_count": 32,
   "metadata": {},
   "outputs": [],
   "source": [
    "total = 0  # this is how we assign to a variable in Python, including a totally new variable"
   ]
  },
  {
   "cell_type": "code",
   "execution_count": 33,
   "metadata": {},
   "outputs": [
    {
     "ename": "SyntaxError",
     "evalue": "expected '(' (152018501.py, line 1)",
     "output_type": "error",
     "traceback": [
      "\u001b[0;36m  Cell \u001b[0;32mIn[33], line 1\u001b[0;36m\u001b[0m\n\u001b[0;31m    def total = 0\u001b[0m\n\u001b[0m              ^\u001b[0m\n\u001b[0;31mSyntaxError\u001b[0m\u001b[0;31m:\u001b[0m expected '('\n"
     ]
    }
   ],
   "source": [
    "def total = 0     # def is how we define a *function* in Python, not how we assign to a variable"
   ]
  },
  {
   "cell_type": "markdown",
   "metadata": {},
   "source": [
    "# Where is the index?\n",
    "\n",
    "If you're coming from another programming language, you've probably gro"
   ]
  }
 ],
 "metadata": {
  "kernelspec": {
   "display_name": "Python 3 (ipykernel)",
   "language": "python",
   "name": "python3"
  },
  "language_info": {
   "codemirror_mode": {
    "name": "ipython",
    "version": 3
   },
   "file_extension": ".py",
   "mimetype": "text/x-python",
   "name": "python",
   "nbconvert_exporter": "python",
   "pygments_lexer": "ipython3",
   "version": "3.12.5"
  }
 },
 "nbformat": 4,
 "nbformat_minor": 4
}
