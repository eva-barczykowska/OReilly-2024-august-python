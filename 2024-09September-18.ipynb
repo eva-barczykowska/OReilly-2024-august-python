{
 "cells": [
  {
   "cell_type": "markdown",
   "id": "e048ff18-bdd1-4c3c-b83c-f9bc574ae213",
   "metadata": {},
   "source": [
    "# Agenda, week 4: Functions\n",
    "\n",
    "0. Q&A\n",
    "1. What are functions? Why do we need them? (Do we need them?)\n",
    "2. Writing our own functions\n",
    "3. Arguments and parameters\n",
    "4. Return values (simple vs. complex values)\n",
    "5. Default argument values\n",
    "6. Docstrings\n",
    "7. Local vs. global values"
   ]
  },
  {
   "cell_type": "markdown",
   "id": "37f8a054-32a7-4b10-a64f-5515a8440d47",
   "metadata": {},
   "source": [
    "# Methods vs. functions\n",
    "\n",
    "Both functions and methods are Python's verbs -- that is, they tell Python to do something.\n",
    "\n",
    "- In the case of a function, the verb is unattached to any particular object. Its name isn't preceeded by a `.` character; it's freely floating. Some examples are `len` and `sum` and even `int` and `str`, which aren't really functions but we'll call them that for now.\n",
    "- In the case of a method, it has to be anchored to an existing object. It has to have a home of some sort, and that home is always going to be a type of data, such as `str`. So we can't really talk about `strip` or `split`, but we can talk about `str.strip` and `str.split`.\n",
    "\n",
    "As a general rule, if there is a `.` before a verb's name, then it is a method. If not, then it's a function.\n",
    "\n",
    "One of the many reasons we have methods vs. functions is that this lets us be more precise with both defining and using them. Python can, if I call a method on the wrong kind of object, try to correct me. Certainly an IDE, which has lots of hints and checks, will do that.\n",
    "\n"
   ]
  },
  {
   "cell_type": "markdown",
   "id": "a5dcf13d-f490-40bc-9b51-50ed4e88f649",
   "metadata": {},
   "source": [
    "# Functions\n",
    "\n",
    "A function (again) is a verb in Python, that tells Python what to do. We \"execute\" or \"run\" a function by putting round parentheses (`()`) after its name. If you don't use the parentheses, then the function doesn't run! A function is a plan for execution, and only with the `()` does anything actually get executed.\n",
    "\n",
    "If we define our own function, then do we get any new capabilities in the language?\n",
    "\n",
    "The answer is \"no.\"  We don't need functions to do anything new.\n",
    "\n",
    "But we do need functions for us, as humans, to be able to keep track of things and think about our software at a higher level.\n",
    "\n",
    "When we define a function, we're taking a list of existing commands/instructions and we're putting that combination under a single name. By putting a set of instructions under a single name, we can then cut down on the amount of detail we need to accomplish something, and then we can use that single name as an instruction in higher-level things.\n",
    "\n",
    "Suddenly, we can talk about very high level instructions, each of which is using functions that are themselves built on lower-level abstractions.\n",
    "\n",
    "The other way to think about functions is with the DRY (don't repeat yourself) idea:\n",
    "\n",
    "- If you have several lines in a row that are (roughly) the same, you can replace them with a loop.\n",
    "- If you have the same code in several places in your program, you can write a function and then run that function everywhere that you had the code before.\n",
    "\n",
    "Wherever you write code that might be reused, or that would benefit from being wrapped up in a name and never exposed in its details in the future, then you should write a function."
   ]
  },
  {
   "cell_type": "markdown",
   "id": "d22bec0f-42a5-4600-9e97-4974cc9abe9f",
   "metadata": {},
   "source": [
    "# How do we define a function?\n",
    "\n",
    "- We use the keyword `def`\n",
    "- We name the function -- just as we would name a variable\n",
    "- After that, we have `()` containing the parameters; so far, we won't have any, so it'll just be empty parentheses\n",
    "- At the end of the line, we have `:`\n",
    "- Finally we have an indented block, which is the \"function body.\"\n",
    "\n",
    "In the function body, you can write **ANY** Python code that you want -- `print`, `for` loops, asking the user for input, etc."
   ]
  },
  {
   "cell_type": "code",
   "execution_count": 2,
   "id": "1abdefe1-3ba7-4f84-af9a-70800f59e555",
   "metadata": {},
   "outputs": [],
   "source": [
    "def hello():\n",
    "    print('Hello!')"
   ]
  },
  {
   "cell_type": "markdown",
   "id": "bfc244e0-dd85-4450-b070-8f76befeabe0",
   "metadata": {},
   "source": [
    "# What have I done?\n",
    "\n",
    "1. I created a function object. In other words, I have created a set of instructions that Python can than execute whenever I want.\n",
    "2. I assigned that function object to a variable, named `hello`.\n",
    "\n",
    "In Python, functions are object -- no less, and no more than strings, ints, dicts, etc. When we use `def`, we are assigning to a variable."
   ]
  },
  {
   "cell_type": "code",
   "execution_count": 3,
   "id": "a084b7e4-30c6-40b5-831c-edf659d3098e",
   "metadata": {},
   "outputs": [
    {
     "data": {
      "text/plain": [
       "function"
      ]
     },
     "execution_count": 3,
     "metadata": {},
     "output_type": "execute_result"
    }
   ],
   "source": [
    "type(hello)  # what kind of object did I assign here?"
   ]
  },
  {
   "cell_type": "markdown",
   "id": "eaca1a8a-4650-4087-bb43-032a048d6969",
   "metadata": {},
   "source": [
    "# Watch your names!\n",
    "\n",
    "In some languages, it's not only permitted, but even encouraged, to use the same name for both a variable and a function. You can't do that in Python; the last (final) one to be defined will be the one with the definition."
   ]
  },
  {
   "cell_type": "code",
   "execution_count": 4,
   "id": "d00263ec-17a5-4090-a627-56f60f854ee0",
   "metadata": {},
   "outputs": [
    {
     "name": "stdout",
     "output_type": "stream",
     "text": [
      "Hello!\n"
     ]
    }
   ],
   "source": [
    "# let's run the function!\n",
    "\n",
    "hello()    # name the function + ()  == execute it!"
   ]
  },
  {
   "cell_type": "markdown",
   "id": "2e0fb06a-60d1-4e49-8870-b04659146ebc",
   "metadata": {},
   "source": [
    "# Exercise: Calculator\n",
    "\n",
    "1. Define a function, `calc`, that when run:\n",
    "    - Asks the user to enter an integer\n",
    "    - Asks the user to enter an operator, either `+` or `-`\n",
    "    - Asks the user to enter another integer\n",
    "    - It then prints the full expression, including the answer\n",
    "    - If the operator is unknown, then it shows the result to be `unknown operator`\n",
    "2. Run the function, and make sure it works\n",
    "3. You can, if you want, check the inputs -- but it's OK to assume that the user will enter integers when asked.\n",
    "\n",
    "Example:\n",
    "\n",
    "    calc()\n",
    "    Enter first number: 10\n",
    "    Enter operator: +\n",
    "    Enter second: 3\n",
    "    10 + 3 = 13\n",
    "\n",
    "    calc()\n",
    "    Enter first number: 15\n",
    "    Enter operator: *\n",
    "    Enter second number: 2\n",
    "    15 * 2 = unknown operator"
   ]
  },
  {
   "cell_type": "code",
   "execution_count": 5,
   "id": "d1dfa119-207c-4f8a-9ede-cd967353107d",
   "metadata": {},
   "outputs": [],
   "source": [
    "def calc():\n",
    "    first = input('Enter first number: ').strip()\n",
    "    op = input('Enter operator: ').strip()\n",
    "    second = input('Enter second number: ').strip()\n",
    "\n",
    "    first = int(first)\n",
    "    second = int(second)\n",
    "\n",
    "    if op == '+':\n",
    "        result = first + second\n",
    "    elif op == '-':\n",
    "        result = first - second\n",
    "    else:\n",
    "        result = f'Unknown operator {op}'\n",
    "\n",
    "    print(f'{first} {op} {second} = {result}')"
   ]
  },
  {
   "cell_type": "code",
   "execution_count": 7,
   "id": "bbc4d071-a9cf-46cf-9548-b49f76667c66",
   "metadata": {},
   "outputs": [
    {
     "name": "stdin",
     "output_type": "stream",
     "text": [
      "Enter first number:  20\n",
      "Enter operator:  *\n",
      "Enter second number:  4\n"
     ]
    },
    {
     "name": "stdout",
     "output_type": "stream",
     "text": [
      "20 * 4 = Unknown operator *\n"
     ]
    }
   ],
   "source": [
    "calc()"
   ]
  },
  {
   "cell_type": "code",
   "execution_count": 8,
   "id": "f3cda3f4-eaf4-4f22-a28d-3ff80c7c30e2",
   "metadata": {},
   "outputs": [
    {
     "name": "stdin",
     "output_type": "stream",
     "text": [
      "Enter your first num: 10\n",
      "Enter your arithmetic operator: +\n",
      "Enter your second num: 5\n"
     ]
    },
    {
     "data": {
      "text/plain": [
       "15"
      ]
     },
     "execution_count": 8,
     "metadata": {},
     "output_type": "execute_result"
    }
   ],
   "source": [
    "# SS\n",
    "\n",
    "def my_calc():\n",
    "  firstnum = int(input('Enter your first num:'))\n",
    "  operator = input('Enter your arithmetic operator:')\n",
    "  secondnum = int(input('Enter your second num:'))\n",
    "  \n",
    "  if operator == '+':\n",
    "    return firstnum + secondnum\n",
    "  elif operator == '*':\n",
    "    return firstnum * secondnum\n",
    "  elif operator == '-':\n",
    "    return firstnum - secondnum\n",
    "  elif operator == '/':\n",
    "    return firstnum / secondnum\n",
    "  else:\n",
    "    print('Enter valid arithmetic operator')\n",
    "my_calc()  "
   ]
  },
  {
   "cell_type": "code",
   "execution_count": null,
   "id": "4ba70523-5bc9-40a1-9d13-0fc1e30df113",
   "metadata": {},
   "outputs": [],
   "source": [
    "# GK\n",
    "\n",
    "def calc():\n",
    "    first = int(input(\"Enter first number: \").strip())\n",
    "    oper = input(\"Enter Operator: \").strip()\n",
    "    second = int(input(\"Enter second number: \").strip())\n",
    "    if oper in \"+-\":\n",
    "        if oper==\"+\":\n",
    "            result = first+second\n",
    "        else:\n",
    "            result = first-second\n",
    "        print(f\"{first} {oper} {second} = {result}\")\n",
    "    else:\n",
    "        print(f\"{first} {oper} {second} = unknown operator\")"
   ]
  },
  {
   "cell_type": "code",
   "execution_count": 10,
   "id": "5a0020c6-a1d4-491e-8321-4a84270bb1e3",
   "metadata": {
    "scrolled": true
   },
   "outputs": [
    {
     "name": "stdin",
     "output_type": "stream",
     "text": [
      "Please enter your first number 20\n",
      "Please enter another number 3\n",
      "Please enter an operator: +\n"
     ]
    },
    {
     "name": "stdout",
     "output_type": "stream",
     "text": [
      "The sum of 2 numbers you entered is 23 \n"
     ]
    }
   ],
   "source": [
    "# AR\n",
    "\n",
    "def calc():\n",
    "    firstnumber=int(input('Please enter your first number'))\n",
    "    secondnumber=int(input('Please enter another number'))\n",
    "    operator=input('Please enter an operator:')\n",
    "    if operator == '+':\n",
    "        sum=firstnumber+secondnumber\n",
    "        print(f'The sum of 2 numbers you entered is {sum} ')\n",
    "    elif operator == '-':\n",
    "        diff=firstnumber-secondnumber\n",
    "        print(f'The difference of 2 numbers you entered is {diff} ')\n",
    "    else:\n",
    "        print('You have entered an unknown operator')\n",
    "calc()"
   ]
  },
  {
   "cell_type": "code",
   "execution_count": null,
   "id": "9be8f5b5-1b40-4e76-a4c7-d0c398ec1b34",
   "metadata": {},
   "outputs": [],
   "source": [
    "# KK\n",
    "\n",
    "def calc():\n",
    "    integer = int(input('Enter an integer').strip())\n",
    "    operator = input('Enter an operator').strip()\n",
    "    sec_integer = int(input('Enter another integer').strip())\n",
    "    if operator == '+':\n",
    "        value = integer + sec_integer\n",
    "        print (f'{integer} {operator} {sec_integer} = {value}')\n",
    "    elif operator == '-':\n",
    "        value2 = integer - sec_integer\n",
    "        print (f'{integer} {operator} {sec_integer} = {value2}')\n",
    "    else:\n",
    "        print (f'{integer} {operator} {sec_integer} = unknown operator')\n",
    "\n",
    "calc()"
   ]
  },
  {
   "cell_type": "markdown",
   "id": "8bf55ec3-0dd6-4eec-b438-d1fd04847397",
   "metadata": {},
   "source": [
    "# Don't use `eval`\n",
    "\n",
    "There is an `eval` function that takes a string, treats it as a tiny Python program, and then gives us the result. But getting user input and running `eval` on it is a *TERRIBLE* idea."
   ]
  },
  {
   "cell_type": "code",
   "execution_count": 11,
   "id": "51c20536-c486-48ce-b3db-0dc4c2c9f5ee",
   "metadata": {},
   "outputs": [],
   "source": [
    "# JD\n",
    "\n",
    "def calc():\n",
    "  firstnum = input('Enter first number: ')\n",
    "  operator = input('Enter an operator - either a + or - : ')\n",
    "  secondnum = input('Enter second number: ')\n",
    "\n",
    "  if operator == '+':\n",
    "    print(f'{firstnum} + {secondnum} = {int(firstnum) + int(secondnum)}')\n",
    "  elif operator == '-':\n",
    "    print(f'{firstnum} - {secondnum} = {int(firstnum) - int(secondnum)}')\n",
    "  else:\n",
    "      print(f'{firstnum} + {operator} + {secondnum} = unknown operator')"
   ]
  },
  {
   "cell_type": "code",
   "execution_count": 12,
   "id": "5d547452-df3c-4342-805e-830ad0aaa8ac",
   "metadata": {},
   "outputs": [
    {
     "name": "stdin",
     "output_type": "stream",
     "text": [
      "Enter first number:  10\n",
      "Enter an operator - either a + or - :  +\n",
      "Enter second number:  3\n"
     ]
    },
    {
     "name": "stdout",
     "output_type": "stream",
     "text": [
      "10 + 3 = 13\n"
     ]
    }
   ],
   "source": [
    "calc()"
   ]
  },
  {
   "cell_type": "code",
   "execution_count": null,
   "id": "5ef2aba2-728e-49c7-9590-fc20305cc7bf",
   "metadata": {},
   "outputs": [],
   "source": []
  }
 ],
 "metadata": {
  "kernelspec": {
   "display_name": "Python 3 (ipykernel)",
   "language": "python",
   "name": "python3"
  },
  "language_info": {
   "codemirror_mode": {
    "name": "ipython",
    "version": 3
   },
   "file_extension": ".py",
   "mimetype": "text/x-python",
   "name": "python",
   "nbconvert_exporter": "python",
   "pygments_lexer": "ipython3",
   "version": "3.12.2"
  },
  "widgets": {
   "application/vnd.jupyter.widget-state+json": {
    "state": {},
    "version_major": 2,
    "version_minor": 0
   }
  }
 },
 "nbformat": 4,
 "nbformat_minor": 5
}
