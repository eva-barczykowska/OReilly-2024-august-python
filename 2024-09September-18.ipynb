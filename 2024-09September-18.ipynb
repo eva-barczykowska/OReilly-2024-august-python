{
 "cells": [
  {
   "cell_type": "markdown",
   "id": "e048ff18-bdd1-4c3c-b83c-f9bc574ae213",
   "metadata": {},
   "source": [
    "# Agenda, week 4: Functions\n",
    "\n",
    "0. Q&A\n",
    "1. What are functions? Why do we need them? (Do we need them?)\n",
    "2. Writing our own functions\n",
    "3. Arguments and parameters\n",
    "4. Return values (simple vs. complex values)\n",
    "5. Default argument values\n",
    "6. Docstrings\n",
    "7. Local vs. global values"
   ]
  },
  {
   "cell_type": "markdown",
   "id": "37f8a054-32a7-4b10-a64f-5515a8440d47",
   "metadata": {},
   "source": [
    "# Methods vs. functions\n",
    "\n",
    "Both functions and methods are Python's verbs -- that is, they tell Python to do something.\n",
    "\n",
    "- In the case of a function, the verb is unattached to any particular object. Its name isn't preceeded by a `.` character; it's freely floating. Some examples are `len` and `sum` and even `int` and `str`, which aren't really functions but we'll call them that for now.\n",
    "- In the case of a method, it has to be anchored to an existing object. It has to have a home of some sort, and that home is always going to be a type of data, such as `str`. So we can't really talk about `strip` or `split`, but we can talk about `str.strip` and `str.split`.\n",
    "\n",
    "As a general rule, if there is a `.` before a verb's name, then it is a method. If not, then it's a function.\n",
    "\n",
    "One of the many reasons we have methods vs. functions is that this lets us be more precise with both defining and using them. Python can, if I call a method on the wrong kind of object, try to correct me. Certainly an IDE, which has lots of hints and checks, will do that.\n",
    "\n"
   ]
  },
  {
   "cell_type": "markdown",
   "id": "a5dcf13d-f490-40bc-9b51-50ed4e88f649",
   "metadata": {},
   "source": [
    "# Functions\n",
    "\n",
    "A function (again) is a verb in Python, that tells Python what to do. We \"execute\" or \"run\" a function by putting round parentheses (`()`) after its name. If you don't use the parentheses, then the function doesn't run! A function is a plan for execution, and only with the `()` does anything actually get executed.\n",
    "\n"
   ]
  }
 ],
 "metadata": {
  "kernelspec": {
   "display_name": "Python 3 (ipykernel)",
   "language": "python",
   "name": "python3"
  },
  "language_info": {
   "codemirror_mode": {
    "name": "ipython",
    "version": 3
   },
   "file_extension": ".py",
   "mimetype": "text/x-python",
   "name": "python",
   "nbconvert_exporter": "python",
   "pygments_lexer": "ipython3",
   "version": "3.12.2"
  },
  "widgets": {
   "application/vnd.jupyter.widget-state+json": {
    "state": {},
    "version_major": 2,
    "version_minor": 0
   }
  }
 },
 "nbformat": 4,
 "nbformat_minor": 5
}
