{
 "cells": [
  {
   "cell_type": "markdown",
   "metadata": {},
   "source": [
    "# Agenda, week 3\n",
    "\n",
    "- Q&A\n",
    "- Dictionaries\n",
    "    - Creating them\n",
    "    - Working with them (in several ways)\n",
    "    - Modifying and updating them\n",
    "    - How are dictionaries implemented?\n",
    "- Files\n",
    "    - Reading from text files\n",
    "    - Reading from text files in a `for` loop\n",
    "    - (A little bit) about writing to text files\n",
    "    - Please download https://files.lerner.co.il/exercise-files.zip to your computer"
   ]
  },
  {
   "cell_type": "code",
   "execution_count": 3,
   "metadata": {
    "scrolled": true
   },
   "outputs": [
    {
     "name": "stdin",
     "output_type": "stream",
     "text": [
      "Enter number 0:  10\n",
      "Enter number 1:  11\n",
      "Enter number 2:  14\n",
      "Enter number 3:  15\n",
      "Enter number 4:  16\n"
     ]
    },
    {
     "name": "stdout",
     "output_type": "stream",
     "text": [
      "Even [10, 14, 16] Odd [11, 15]\n"
     ]
    }
   ],
   "source": [
    "odds = []\n",
    "evens = []\n",
    "\n",
    "for one_char in range(5):  # iterate 5 times, putting the numbers 0-4 into the one_char variable\n",
    "    num = input(f\"Enter number {one_char}: \") \n",
    "\n",
    "    if not num.isdigit():\n",
    "        print(\"Not a number, try again..\")\n",
    "    else:\n",
    "        num = int(num)\n",
    "        if (num % 2) == 0:\n",
    "            evens.append(num)\n",
    "        else:\n",
    "            odds.append(num)\n",
    "\n",
    "print(f'Even {evens} Odd {odds}')"
   ]
  },
  {
   "cell_type": "code",
   "execution_count": null,
   "metadata": {},
   "outputs": [],
   "source": []
  },
  {
   "cell_type": "code",
   "execution_count": null,
   "metadata": {},
   "outputs": [],
   "source": []
  },
  {
   "cell_type": "code",
   "execution_count": 4,
   "metadata": {},
   "outputs": [],
   "source": [
    "# 2. Also can you explain what you mena by immutable and mutable, you used it in List and tuples?\n",
    "\n",
    "\n"
   ]
  },
  {
   "cell_type": "markdown",
   "metadata": {},
   "source": [
    "# Mutable vs. immutable\n",
    "\n",
    "- Mutable data is a value that we can change. We can replace existing values, we can add new values, and we can remove existing values. If we can modify the contents of the data structure, without creating a new one,\n",
    "then that is considered to be mutable. So far, the only mutable value we've encountered is the *list*. Today, we'll be looking at\n",
    "dicts, which are also mutable.\n",
    "- Immutable data is a value that can never change. You cannot replace any of its values, you cannot make it longer, and you cannot make it shorter. Strings and tuples are both immutable values in Python.\n",
    "\n",
    "Some questions:\n",
    "- Why do we want immutable data? It makes things more efficient, so it's better for Python to have some immutable values. Also, some values won't ever change, such as integers. It doesn't make sense for the number `5` to suddenly have the value `9`.\n",
    "- Can't we really modify immutable data? After all, we can use `+=` on a string."
   ]
  },
  {
   "cell_type": "code",
   "execution_count": 6,
   "metadata": {},
   "outputs": [
    {
     "data": {
      "text/plain": [
       "'abcdef'"
      ]
     },
     "execution_count": 6,
     "metadata": {},
     "output_type": "execute_result"
    }
   ],
   "source": [
    "s = 'abcd'\n",
    "s += 'ef'   # we aren't extending s by two characters. Rather, we're creating a new string (s + 'ef') and assigning back to s\n",
    "\n",
    "s"
   ]
  },
  {
   "cell_type": "code",
   "execution_count": 7,
   "metadata": {},
   "outputs": [
    {
     "data": {
      "text/plain": [
       "'ghij'"
      ]
     },
     "execution_count": 7,
     "metadata": {},
     "output_type": "execute_result"
    }
   ],
   "source": [
    "s = ['abcd', 'ef', 'ghij']\n",
    "\n",
    "s.pop()"
   ]
  },
  {
   "cell_type": "markdown",
   "metadata": {},
   "source": [
    "# Dictionaries\n",
    "\n",
    "So far, we've seen two (or three) types of collections, meaning, data structures that contain other data structures:\n",
    "\n",
    "- Strings, which contain characters (or strings of length 1)\n",
    "- Lists, which can contain anything at all\n",
    "- Tuples, immutable values which can contain anything at all\n",
    "\n",
    "There are two major problems with storing data in a list or tuple:\n",
    "1. Searching for a value is very slow; if you aren't sure if the value is in the data structure, you might have to iterate with a `for` loop over the entire thing.\n",
    "2. Working with a list is fine, except that you need to remember the numeric indexes. Those indexes don't have any semantic meaning or power. It would be nice to use something symbolic that makes sense, but the numbers don't work that way.\n",
    "\n",
    "Enter the dictionary, which exists in many programming languages, too:\n",
    "- hash table\n",
    "- hashmap\n",
    "- map\n",
    "- key-value store\n",
    "- name-value store\n",
    "- associative array\n",
    "\n",
    "You can think of a dict in a few ways:\n",
    "1. It's a list where we get to set the index to anything we want, including strings.\n",
    "2. It's a container for pairs of data (known as key-value pairs), where one is the key and the other is the value.\n",
    "\n",
    "Some important things to remember about dictionaries:\n",
    "- Every key has a value, and every value has a key. There is no such thing has an \"empty\" key or value.\n",
    "- Keys must be immutable! If you try to use a mutable key, you'll get an error.\n",
    "- Keys must be unique!\n",
    "- There are no restrictions whatsoever on values\n",
    "\n",
    "Defining a dict:\n",
    "- Use `{}` to define the dictionary, this one is empty\n",
    "- Put a `:` between every key-value pair in the dict\n",
    "- Put a `,` between the pairs\n",
    "- Use `[]` to retrieve from our dict\n",
    "- Use `in` to search in the keys on our dict"
   ]
  },
  {
   "cell_type": "code",
   "execution_count": 8,
   "metadata": {},
   "outputs": [
    {
     "data": {
      "text/plain": [
       "dict"
      ]
     },
     "execution_count": 8,
     "metadata": {},
     "output_type": "execute_result"
    }
   ],
   "source": [
    "d = {'a':10, 'b':20, 'c':30}\n",
    "type(d)"
   ]
  },
  {
   "cell_type": "code",
   "execution_count": 9,
   "metadata": {},
   "outputs": [
    {
     "data": {
      "text/plain": [
       "10"
      ]
     },
     "execution_count": 9,
     "metadata": {},
     "output_type": "execute_result"
    }
   ],
   "source": [
    "d['a']"
   ]
  },
  {
   "cell_type": "code",
   "execution_count": 10,
   "metadata": {},
   "outputs": [
    {
     "data": {
      "text/plain": [
       "20"
      ]
     },
     "execution_count": 10,
     "metadata": {},
     "output_type": "execute_result"
    }
   ],
   "source": [
    "d['b']"
   ]
  },
  {
   "cell_type": "code",
   "execution_count": 11,
   "metadata": {},
   "outputs": [
    {
     "ename": "KeyError",
     "evalue": "'x'",
     "output_type": "error",
     "traceback": [
      "\u001b[0;31m---------------------------------------------------------------------------\u001b[0m",
      "\u001b[0;31mKeyError\u001b[0m                                  Traceback (most recent call last)",
      "Cell \u001b[0;32mIn[11], line 1\u001b[0m\n\u001b[0;32m----> 1\u001b[0m \u001b[43md\u001b[49m\u001b[43m[\u001b[49m\u001b[38;5;124;43m'\u001b[39;49m\u001b[38;5;124;43mx\u001b[39;49m\u001b[38;5;124;43m'\u001b[39;49m\u001b[43m]\u001b[49m\n",
      "\u001b[0;31mKeyError\u001b[0m: 'x'"
     ]
    }
   ],
   "source": [
    "d['x']"
   ]
  },
  {
   "cell_type": "code",
   "execution_count": 12,
   "metadata": {},
   "outputs": [
    {
     "data": {
      "text/plain": [
       "False"
      ]
     },
     "execution_count": 12,
     "metadata": {},
     "output_type": "execute_result"
    }
   ],
   "source": [
    "'x' in d"
   ]
  },
  {
   "cell_type": "code",
   "execution_count": 13,
   "metadata": {},
   "outputs": [
    {
     "name": "stdout",
     "output_type": "stream",
     "text": [
      "Nothing to show\n"
     ]
    }
   ],
   "source": [
    "if 'x' in d:\n",
    "    print(d['x'])\n",
    "else:\n",
    "    print('Nothing to show')"
   ]
  },
  {
   "cell_type": "markdown",
   "metadata": {},
   "source": [
    "# Exercise: Restaurant\n",
    "\n",
    "1. Define a dict, called `menu`, which contains the menu for a restaurant. The keys (strings) are the menu items, and the values (integers) are the prices.\n",
    "2. Ask the user repeatedly to enter the name of the dish they want to order.\n",
    "    - If they give an empty string, exit the loop and stop asking.\n",
    "    - If they give the name of something on the menu, then we print the price and the new total.\n",
    "    - If they give the name of something *not* on the menu, then we scold them\n",
    "3. A"
   ]
  }
 ],
 "metadata": {
  "kernelspec": {
   "display_name": "Python 3 (ipykernel)",
   "language": "python",
   "name": "python3"
  },
  "language_info": {
   "codemirror_mode": {
    "name": "ipython",
    "version": 3
   },
   "file_extension": ".py",
   "mimetype": "text/x-python",
   "name": "python",
   "nbconvert_exporter": "python",
   "pygments_lexer": "ipython3",
   "version": "3.12.5"
  }
 },
 "nbformat": 4,
 "nbformat_minor": 4
}
