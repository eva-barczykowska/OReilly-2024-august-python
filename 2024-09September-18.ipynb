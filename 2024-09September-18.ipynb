{
 "cells": [
  {
   "cell_type": "markdown",
   "id": "e048ff18-bdd1-4c3c-b83c-f9bc574ae213",
   "metadata": {},
   "source": [
    "# Agenda, week 4: Functions\n",
    "\n",
    "1. What are functions? Why do we need them? (Do we need them?)\n",
    "2. Writing our own functions\n",
    "3. Arguments and parameters\n",
    "4. Return values ()\n",
    "5. Default argument values\n",
    "6. Docstrings\n",
    "7. Local vs. global values"
   ]
  },
  {
   "cell_type": "code",
   "execution_count": null,
   "id": "1adf9670-c066-46db-89aa-ae3f8158b915",
   "metadata": {},
   "outputs": [],
   "source": []
  }
 ],
 "metadata": {
  "kernelspec": {
   "display_name": "Python 3 (ipykernel)",
   "language": "python",
   "name": "python3"
  },
  "language_info": {
   "codemirror_mode": {
    "name": "ipython",
    "version": 3
   },
   "file_extension": ".py",
   "mimetype": "text/x-python",
   "name": "python",
   "nbconvert_exporter": "python",
   "pygments_lexer": "ipython3",
   "version": "3.12.2"
  },
  "widgets": {
   "application/vnd.jupyter.widget-state+json": {
    "state": {},
    "version_major": 2,
    "version_minor": 0
   }
  }
 },
 "nbformat": 4,
 "nbformat_minor": 5
}
