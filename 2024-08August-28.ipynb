{
 "cells": [
  {
   "cell_type": "markdown",
   "metadata": {},
   "source": [
    "# Agenda: Welcome!\n",
    "\n",
    "1. Fundamentals and core concepts\n",
    "    - What is a programming language? What is Python? (Why Python?)\n",
    "    - Jupyter, the Web-based environment I use (and you can, too)\n",
    "    - Basic integers and strings (text)\n",
    "    - Variables and assignment\n",
    "    - Printing things on the screen\n",
    "    - Getting input from the user\n",
    "    - Comparing values with `==`\n",
    "    - Making decisions with `if`/`elif`/`else`\n",
    "    - Working with numbers\n",
    "    - Working with text\n",
    "    - Methods vs. functions\n",
    "2. Loops, lists, and tuples\n",
    "    - Looping with `for` and `while`\n",
    "    - Lists -- creating them and working with them\n",
    "    - Turning strings into lists, and vice versa\n",
    "    - Tuples and tuple unpacking\n",
    "3. Dictionaries and files\n",
    "    - Dicts -- what are they, and how can we use them?\n",
    "    - Files -- reading from them, and (a little bit of) writing to them\n",
    "4. Functions\n",
    "    - Defining functions\n",
    "    - Arguments and parameters\n",
    "    - Return values\n",
    "5. Modules and packages\n",
    "    - Using Python's standard library\n",
    "    - Writing our own modules\n",
    "    - Downloading and installing modules from the Internet using `pip`"
   ]
  },
  {
   "cell_type": "markdown",
   "metadata": {},
   "source": [
    "# What is a programming language? How does Python fit into this?\n",
    "\n",
    "When computers were first invented, each computer could solve a single problem. If you wanted to change the problem you were solving, or how you were solving it, you needed to build a new computer.\n",
    "\n",
    "At a certain point, computers then became general purpose. The idea was that you could use the same computer to solve many different problems. This was done by allowing us to write programs. These first programs were just 1s and 0s. But at a certain point, it became clear that no one wants to write with 1s and 0s. The idea of a programming language started. \n",
    "\n",
    "Fast forward to today, and there are tens of thousands (or hundreds of thousands) of programming langauges. All of them allow us to express problems we want to solve, and how we want to solve them, in different ways. However, they're all translated into 1s and 0s.\n",
    "\n",
    "Different languages give us different advantages and disadvantages:\n",
    "\n",
    "- C: Runs very quickly, but we have to write code in a way that's very close to the 1s and 0s. (The translator, known as a compiler, doesn't need to do that much work.)\n",
    "- Java: Runs almost as quickly as C, but is \"higher level,\" meaning that people don't have to work as hard to write it.\n",
    "- Python: Runs very slowly, but is as high-level as you can get -- meaning that it's easy for people to write, easy for people to read (and thus debug), and also handles solving many different problems.\n",
    "\n",
    "Python is 30 years old now, but it's very very popular nowadays. It's used in a wide variety of applications:\n",
    "- Web applications\n",
    "- System administration and devops\n",
    "- Data analysis\n",
    "- Machine learning and data science\n",
    "- Education\n",
    "- Testing\n",
    "\n",
    "Python is popular in no small part because it tries to be readable and clear. Once you learn a rule in Python, you can apply it for the rest of your career. There very very few exceptional cases in the language. "
   ]
  },
  {
   "cell_type": "markdown",
   "metadata": {},
   "source": [
    "# Jupyter (the environment I'm using)\n",
    "\n",
    "You can write Python code using an editor (sometimes known as an IDE), and that's fine -- if you have VSCode and/or PyCharm on your computer, you can use that. However, you'll also need to install Python.\n",
    "\n",
    "You can, if you want to, install Python by going to Python.org, downloading it, and installing it (for free).  But then you'll need to install an editor as well... and it can get complex.\n",
    "\n",
    "I use Jupyter, which is a Web-based Python system. Installing Jupyter is a little complex (you need to have Python + the Jupyter package). You don't have to! You can use Jupyter via Google Colab, or another Jupyter test system online.\n",
    "\n",
    "You need a way to write Python and execute it. It doesn't really matter (for this course) if you use a Web-based notebook, your own Jupyter installation, PyCharm, VSCode, or anything else. The bottom line is you should be able to write Python and run it.\n",
    "\n",
    "Another good way to install Python + Jupyter is with Anaconda!"
   ]
  },
  {
   "cell_type": "markdown",
   "metadata": {},
   "source": [
    "# A 2-3 minute introduction to Jupyter\n",
    "\n",
    "I'm typing into what Jupyter calls a \"cell.\" A notebook contains many cells. A cell can be in Markdown mode (for writing documentation) or in Python/code mode (for writing code).\n",
    "\n",
    "This cell is currently in Markdown mode.\n",
    "\n",
    "When I type into a cell, one of two things can happen:\n",
    "\n",
    "- If the cell is currently being run for editing, then what I type is entered. I can enter \"edit mode\" by pressing ENTER or by clicking inside of the cell. When that happens, you see a blue outline.\n",
    "- If the cell is currently being run for commands, then what I type is *NOT* seen, but goes to Jupyter to tell it what to do. I can enter \"command mode\" by pressing ESC or by clicking to the left of the cell.\n",
    "\n",
    "In command mode, I can use a bunch of one-character commands to modify my notebook:\n",
    "- `c` -- copies the current cell\n",
    "- `x` -- cuts the current cell\n",
    "- `v` -- pastes the most recent cut/copy\n",
    "- `a` -- adds a new blank cell above the current one\n",
    "- `b` -- adds a new blank cell below the current one\n",
    "- `m` -- turns the current cell into a documentation/Markdown cell\n",
    "- `y` -- turns the current cell into a Python/code cell\n",
    "\n",
    "When you're done typing into a cell, you can use shift+ENTER together to \"run\" the cell. If it's Python code, it'll run/execute. If it's Markdown documentation (like I'm typing now), then it'll be formatted."
   ]
  },
  {
   "cell_type": "code",
   "execution_count": null,
   "metadata": {},
   "outputs": [],
   "source": []
  },
  {
   "cell_type": "code",
   "execution_count": 1,
   "metadata": {},
   "outputs": [
    {
     "name": "stdout",
     "output_type": "stream",
     "text": [
      "Hello!\n"
     ]
    }
   ],
   "source": [
    "# this is a Python/code cell that I'm going to program in, and then execute\n",
    "# these first lines are comments. They start with a # and go to the end of the line.\n",
    "# Python ignores these comments completely. They are for other humans to read and\n",
    "# understand (hopefully!) what we have written in our code\n",
    "\n",
    "print('Hello!')     # this is the \"print\" function, and here I'm going to print the greeting \"Hello!\""
   ]
  },
  {
   "cell_type": "markdown",
   "metadata": {},
   "source": [
    "# What did I just do?\n",
    "\n",
    "- I invoked a function, which is a verb\n",
    "- I invoked it with `()`, which tell the function to execute\n",
    "- Inside of the `()`, I gave an *argument*, a value that is passed to the function\n",
    "- The argument here was text, the *string* `'Hello!', which `print` then printed on the screen.\n",
    "- Strings in Python must have quotes around them, you can choose either `''` or `\"\"`"
   ]
  },
  {
   "cell_type": "code",
   "execution_count": 2,
   "metadata": {},
   "outputs": [
    {
     "name": "stdout",
     "output_type": "stream",
     "text": [
      "a\n",
      "b\n",
      "c\n"
     ]
    }
   ],
   "source": [
    "# in Jupyter, a cell can contain as many lines of code as I want\n",
    "# when I do shift+ENTER, all of them will be run\n",
    "\n",
    "print('a')\n",
    "print('b')\n",
    "print('c')"
   ]
  },
  {
   "cell_type": "code",
   "execution_count": 3,
   "metadata": {},
   "outputs": [
    {
     "name": "stdout",
     "output_type": "stream",
     "text": [
      "10\n"
     ]
    }
   ],
   "source": [
    "# can I print numbers? Or perform mathematical calculations?\n",
    "\n",
    "print(10)"
   ]
  },
  {
   "cell_type": "code",
   "execution_count": 4,
   "metadata": {},
   "outputs": [
    {
     "name": "stdout",
     "output_type": "stream",
     "text": [
      "13\n",
      "5\n"
     ]
    }
   ],
   "source": [
    "print(10 + 3)\n",
    "print(10 - 5)"
   ]
  },
  {
   "cell_type": "markdown",
   "metadata": {},
   "source": [
    "# Things to notice so far\n",
    "\n",
    "1. You can have (basically) one statement per line in Python -- the end of the line is the end of the command\n",
    "2. Other programming languages often require that you end a command with `;` or the like; not in Python"
   ]
  },
  {
   "cell_type": "markdown",
   "metadata": {},
   "source": [
    "This is kind of boring... instead of saying each time what I want to print, can I store a value somewhere, and then refer to that storage?\n",
    "\n",
    "Yes! This is known as a variable.\n",
    "\n",
    "# Assignment and variables\n",
    "\n",
    "If we want to store a value, we can use a *variable*. That is a named storage facility. We assign to a variable using the `=` operator, known as \"the assignment operator.\"\n",
    "\n",
    "Assignment in Python means: Take the value on the right side of `=`, and assign it to the variable on the left side of `=`.\n",
    "\n",
    "Note that we don't have to declare variables in advance, and that any variable can contain any value of any type.\n",
    "\n",
    "The first time that you assign to a variable in Python, the variable is created. Subsequent assignments replace the old value with a new value."
   ]
  },
  {
   "cell_type": "code",
   "execution_count": 5,
   "metadata": {},
   "outputs": [
    {
     "name": "stdout",
     "output_type": "stream",
     "text": [
      "100\n"
     ]
    }
   ],
   "source": [
    "x = 100     # assign the integer 100 to x\n",
    "\n",
    "print(x)    # print the value of x"
   ]
  },
  {
   "cell_type": "code",
   "execution_count": 6,
   "metadata": {},
   "outputs": [
    {
     "name": "stdout",
     "output_type": "stream",
     "text": [
      "105\n"
     ]
    }
   ],
   "source": [
    "print(x + 5)   # add 5 to x, and print the result"
   ]
  },
  {
   "cell_type": "markdown",
   "metadata": {},
   "source": [
    "How does Python know that x is a variable, and not a text string?\n",
    "\n",
    "No quotes.\n",
    "\n"
   ]
  },
  {
   "cell_type": "code",
   "execution_count": 7,
   "metadata": {},
   "outputs": [
    {
     "name": "stdout",
     "output_type": "stream",
     "text": [
      "x\n"
     ]
    }
   ],
   "source": [
    "print('x')   # this is totally different -- this means, print the one-character string 'x'"
   ]
  },
  {
   "cell_type": "markdown",
   "metadata": {},
   "source": [
    "# Variable names\n",
    "\n",
    "A variable can contain almost any combination of:\n",
    "- Letters\n",
    "- Digits\n",
    "- Underscore `_`\n",
    "\n",
    "A few things to keep in mind:\n",
    "- Capital letters and lowercase letters are *COMPLETELY DIFFERENT*. So the variable `x` and the variable `X` have nothing in common, and asking for one when you have defined the other, will give you an error message.\n",
    "- Traditionally, we only use lowercase letters in variable names.\n",
    "- Try to make your variable names long enough to be meaningful\n",
    "- You cannot start a variable name with a digit.\n",
    "- You can, but shouldn't, start or end a variable name with `_`, because Python people have certain guidelines about when to do that"
   ]
  },
  {
   "cell_type": "code",
   "execution_count": 8,
   "metadata": {},
   "outputs": [
    {
     "name": "stdout",
     "output_type": "stream",
     "text": [
      "Reuven\n"
     ]
    }
   ],
   "source": [
    "name = 'Reuven'\n",
    "\n",
    "print(name)"
   ]
  },
  {
   "cell_type": "code",
   "execution_count": 9,
   "metadata": {},
   "outputs": [
    {
     "name": "stdout",
     "output_type": "stream",
     "text": [
      "Hello, Reuven\n"
     ]
    }
   ],
   "source": [
    "# what if I want to print a greeting?\n",
    "\n",
    "print('Hello, ' + name)   # we can use + on two strings, or on variables containing strings"
   ]
  },
  {
   "cell_type": "code",
   "execution_count": 10,
   "metadata": {},
   "outputs": [
    {
     "name": "stdout",
     "output_type": "stream",
     "text": [
      "Hello, Reuven!\n"
     ]
    }
   ],
   "source": [
    "print('Hello, ' + name + '!')"
   ]
  },
  {
   "cell_type": "code",
   "execution_count": 11,
   "metadata": {},
   "outputs": [
    {
     "name": "stdout",
     "output_type": "stream",
     "text": [
      "30\n"
     ]
    }
   ],
   "source": [
    "# what if we have integers?\n",
    "\n",
    "x = 10\n",
    "y = 20\n",
    "\n",
    "print(x + y)"
   ]
  },
  {
   "cell_type": "code",
   "execution_count": 12,
   "metadata": {},
   "outputs": [
    {
     "ename": "TypeError",
     "evalue": "unsupported operand type(s) for +: 'int' and 'str'",
     "output_type": "error",
     "traceback": [
      "\u001b[0;31m---------------------------------------------------------------------------\u001b[0m",
      "\u001b[0;31mTypeError\u001b[0m                                 Traceback (most recent call last)",
      "Cell \u001b[0;32mIn[12], line 6\u001b[0m\n\u001b[1;32m      3\u001b[0m x \u001b[38;5;241m=\u001b[39m \u001b[38;5;241m10\u001b[39m\n\u001b[1;32m      4\u001b[0m y \u001b[38;5;241m=\u001b[39m \u001b[38;5;124m'\u001b[39m\u001b[38;5;124m20\u001b[39m\u001b[38;5;124m'\u001b[39m   \u001b[38;5;66;03m# notice -- this is a text string containing '20', not the integer 20!\u001b[39;00m\n\u001b[0;32m----> 6\u001b[0m \u001b[38;5;28mprint\u001b[39m(\u001b[43mx\u001b[49m\u001b[43m \u001b[49m\u001b[38;5;241;43m+\u001b[39;49m\u001b[43m \u001b[49m\u001b[43my\u001b[49m)\n",
      "\u001b[0;31mTypeError\u001b[0m: unsupported operand type(s) for +: 'int' and 'str'"
     ]
    }
   ],
   "source": [
    "# what if I try to mix them up a bit?\n",
    "\n",
    "x = 10\n",
    "y = '20'   # notice -- this is a text string containing '20', not the integer 20!\n",
    "\n",
    "print(x + y)"
   ]
  },
  {
   "cell_type": "code",
   "execution_count": 13,
   "metadata": {},
   "outputs": [
    {
     "ename": "SyntaxError",
     "evalue": "invalid syntax. Perhaps you forgot a comma? (4092214543.py, line 1)",
     "output_type": "error",
     "traceback": [
      "\u001b[0;36m  Cell \u001b[0;32mIn[13], line 1\u001b[0;36m\u001b[0m\n\u001b[0;31m    print(x y)\u001b[0m\n\u001b[0m          ^\u001b[0m\n\u001b[0;31mSyntaxError\u001b[0m\u001b[0;31m:\u001b[0m invalid syntax. Perhaps you forgot a comma?\n"
     ]
    }
   ],
   "source": [
    "print(x y)"
   ]
  },
  {
   "cell_type": "code",
   "execution_count": 16,
   "metadata": {},
   "outputs": [
    {
     "name": "stdout",
     "output_type": "stream",
     "text": [
      "HelloReuven\n"
     ]
    }
   ],
   "source": [
    "print('Hello' + name)"
   ]
  },
  {
   "cell_type": "markdown",
   "metadata": {},
   "source": [
    "# Always remember\n",
    "\n",
    "Computers do what you tell them to do, not what you want them to do."
   ]
  },
  {
   "cell_type": "code",
   "execution_count": 17,
   "metadata": {},
   "outputs": [
    {
     "ename": "SyntaxError",
     "evalue": "invalid syntax. Perhaps you forgot a comma? (2580141536.py, line 1)",
     "output_type": "error",
     "traceback": [
      "\u001b[0;36m  Cell \u001b[0;32mIn[17], line 1\u001b[0;36m\u001b[0m\n\u001b[0;31m    print('Hello' name)\u001b[0m\n\u001b[0m          ^\u001b[0m\n\u001b[0;31mSyntaxError\u001b[0m\u001b[0;31m:\u001b[0m invalid syntax. Perhaps you forgot a comma?\n"
     ]
    }
   ],
   "source": [
    "print('Hello' name)"
   ]
  },
  {
   "cell_type": "markdown",
   "metadata": {},
   "source": [
    "# Exercises: Practice with assignment and printing\n",
    "\n",
    "1. Define a variable `name` with your name, and print a nice greeting to yourself on the screen.\n",
    "2. Define two variables, `x` and `y`, with integer values, and print their sum (using `+`). Note that because we still haven't seen how to combine text strings and integers, we'll need to just print the result, not anything fancy around it."
   ]
  },
  {
   "cell_type": "code",
   "execution_count": 18,
   "metadata": {},
   "outputs": [],
   "source": [
    "x = 10"
   ]
  },
  {
   "cell_type": "code",
   "execution_count": 19,
   "metadata": {},
   "outputs": [
    {
     "name": "stdout",
     "output_type": "stream",
     "text": [
      "10\n"
     ]
    }
   ],
   "source": [
    "print(x)"
   ]
  },
  {
   "cell_type": "code",
   "execution_count": 26,
   "metadata": {},
   "outputs": [
    {
     "name": "stdout",
     "output_type": "stream",
     "text": [
      "Hello, Reuven!\n"
     ]
    }
   ],
   "source": [
    "# Define a variable name with your name, and print a nice greeting to yourself on the screen.\n",
    "\n",
    "name = 'Reuven'\n",
    "\n",
    "print('Hello, ' + name + '!')"
   ]
  },
  {
   "cell_type": "code",
   "execution_count": 27,
   "metadata": {},
   "outputs": [
    {
     "name": "stdout",
     "output_type": "stream",
     "text": [
      "-333\n"
     ]
    }
   ],
   "source": [
    "# Define two variables, x and y, with integer values, and print their sum (using +). Note that \n",
    "# because we still haven't seen how to combine text strings and integers, we'll need to just print \n",
    "# the result, not anything fancy around it.\n",
    "\n",
    "x = 123\n",
    "y = -456\n",
    "\n",
    "print(x + y)"
   ]
  },
  {
   "cell_type": "markdown",
   "metadata": {},
   "source": [
    "# Typing of variables?\n",
    "\n",
    "In many languages (\"statically typed languages\"), a variable has a type, and you declare that type when you create the variable. Trying to assign the wrong type of value to the wrong variable will result in an error -- often at \"compile time,\" when the language is doing its translation work."
   ]
  },
  {
   "cell_type": "code",
   "execution_count": 28,
   "metadata": {},
   "outputs": [
    {
     "data": {
      "text/plain": [
       "int"
      ]
     },
     "execution_count": 28,
     "metadata": {},
     "output_type": "execute_result"
    }
   ],
   "source": [
    "x = 100\n",
    "\n",
    "type(x)   # what is the type of x?"
   ]
  },
  {
   "cell_type": "code",
   "execution_count": 29,
   "metadata": {},
   "outputs": [
    {
     "data": {
      "text/plain": [
       "15"
      ]
     },
     "execution_count": 29,
     "metadata": {},
     "output_type": "execute_result"
    }
   ],
   "source": [
    "# in Jupyter, if the final line of a cell has a value, we don't need to print it -- Jupyter will print it for us\n",
    "\n",
    "10 + 5"
   ]
  },
  {
   "cell_type": "code",
   "execution_count": 30,
   "metadata": {},
   "outputs": [
    {
     "data": {
      "text/plain": [
       "str"
      ]
     },
     "execution_count": 30,
     "metadata": {},
     "output_type": "execute_result"
    }
   ],
   "source": [
    "x = 'abcd'\n",
    "\n",
    "type(x)"
   ]
  },
  {
   "cell_type": "markdown",
   "metadata": {},
   "source": [
    "# What's going on here?\n",
    "\n",
    "Python is a \"dynamically typed\" language. Values have types, but variables don't. There is no such thing as \"an integer variable\" or a \"a string variable.\" \n",
    "\n",
    "Any variable can contain any value at any time in the program's run.\n",
    "\n",
    "That's why we don't need to declare our variables in advance. Values do have types, and Python does enforce them (as we saw when trying to add integers and strings). This is known as \"strong typing.\"\n",
    "\n",
    "You can say, then, that Python is both dynamically typed and strongly typed."
   ]
  },
  {
   "cell_type": "markdown",
   "metadata": {},
   "source": [
    "# Next up\n",
    "\n",
    "- Getting input from the user\n",
    "- Comparisons\n",
    "- Making decisions in our programs with `if`\n"
   ]
  },
  {
   "cell_type": "markdown",
   "metadata": {},
   "source": [
    "# Can we get input from the user?\n",
    "\n",
    "Yes! We can ask the user to enter a value, and then get that value into our Python program and use it, including storing it in a variable.\n",
    "\n",
    "The function we'll use is called `input`:\n",
    "\n",
    "- You call `input`\n",
    "- You pass it a string argument, meaning text inside of quotes. This text will be presented to the user as a prompt / question.\n",
    "- The program will then wait for the user to enter some text, pressing ENTER at the end\n",
    "- The function *returns* a value to its caller, a text string containing the user's input\n",
    "- It's pretty common (almost 100% of the time) to assign the return value from `input` to a variable\n",
    "- Meaning: You'll often have a variable, `=`, and then `input` on the right side."
   ]
  },
  {
   "cell_type": "code",
   "execution_count": 34,
   "metadata": {},
   "outputs": [
    {
     "name": "stdin",
     "output_type": "stream",
     "text": [
      "Enter your name:  even better Reuven than before\n"
     ]
    }
   ],
   "source": [
    "# I'm assigning a value to the variable name\n",
    "# the value I'm assigning comes from the user\n",
    "\n",
    "name = input('Enter your name: ')"
   ]
  },
  {
   "cell_type": "code",
   "execution_count": 35,
   "metadata": {},
   "outputs": [
    {
     "name": "stdout",
     "output_type": "stream",
     "text": [
      "Hello, even better Reuven than before!\n"
     ]
    }
   ],
   "source": [
    "print('Hello, ' + name + '!')"
   ]
  },
  {
   "cell_type": "code",
   "execution_count": 36,
   "metadata": {},
   "outputs": [
    {
     "data": {
      "text/plain": [
       "'even better Reuven than before'"
      ]
     },
     "execution_count": 36,
     "metadata": {},
     "output_type": "execute_result"
    }
   ],
   "source": [
    "# in Jupyter, if I put a variable on the final line of a cell, we can see its value\n",
    "\n",
    "name"
   ]
  },
  {
   "cell_type": "markdown",
   "metadata": {},
   "source": [
    "The value we get back from `input` is *ALWAYS* a string, even if it only contains digits.\n",
    "\n",
    "We'll see later today how we can perform a conversion, turning a text string containing digits into an integer."
   ]
  },
  {
   "cell_type": "code",
   "execution_count": 37,
   "metadata": {},
   "outputs": [
    {
     "name": "stdin",
     "output_type": "stream",
     "text": [
      "Enter your favorite number:  72\n"
     ]
    },
    {
     "name": "stdout",
     "output_type": "stream",
     "text": [
      "7272\n"
     ]
    }
   ],
   "source": [
    "favorite_number = input('Enter your favorite number: ')\n",
    "\n",
    "twice_favorite_number = favorite_number * 2  # string * 2 = a string that's twice as long\n",
    "\n",
    "print(twice_favorite_number)"
   ]
  },
  {
   "cell_type": "markdown",
   "metadata": {},
   "source": [
    "In the above code, I asked the user to enter their favorite number. I entered `72`, as a string!\n",
    "\n",
    "We then multiplied that value by 2. If it had been an integer, then we would have gotten 144. \n",
    "\n",
    "But actually, `favorite_number` is a string. And multiplying a string by 2 gives us the string twice in a row."
   ]
  },
  {
   "cell_type": "code",
   "execution_count": 38,
   "metadata": {},
   "outputs": [
    {
     "data": {
      "text/plain": [
       "'abcabcabcabcabc'"
      ]
     },
     "execution_count": 38,
     "metadata": {},
     "output_type": "execute_result"
    }
   ],
   "source": [
    "'abc' * 5"
   ]
  },
  {
   "cell_type": "markdown",
   "metadata": {},
   "source": [
    "# Exercise: Friend greeting\n",
    "\n",
    "1. Ask the user to enter their name, and assign to the variable `name`.\n",
    "2. Ask the user to enter their city, and assign to the variable `city`.\n",
    "3. Print a greeting to the user, indicating their name and city."
   ]
  },
  {
   "cell_type": "code",
   "execution_count": 39,
   "metadata": {},
   "outputs": [
    {
     "name": "stdin",
     "output_type": "stream",
     "text": [
      "Enter your name:  Reuven\n",
      "Enter your city:  Modi'in\n"
     ]
    },
    {
     "name": "stdout",
     "output_type": "stream",
     "text": [
      "Hello, Reuven from Modi'in!\n"
     ]
    }
   ],
   "source": [
    "name = input('Enter your name: ')\n",
    "city = input('Enter your city: ')\n",
    "\n",
    "print('Hello, ' + name + ' from ' + city + '!')"
   ]
  },
  {
   "cell_type": "code",
   "execution_count": 40,
   "metadata": {},
   "outputs": [
    {
     "data": {
      "text/plain": [
       "\"Modi'in\""
      ]
     },
     "execution_count": 40,
     "metadata": {},
     "output_type": "execute_result"
    }
   ],
   "source": [
    "city"
   ]
  },
  {
   "cell_type": "code",
   "execution_count": 41,
   "metadata": {},
   "outputs": [
    {
     "name": "stdout",
     "output_type": "stream",
     "text": [
      "Hello, Reuven from Modi'in!\n"
     ]
    }
   ],
   "source": [
    "# isn't there a way for me to put variables into a string\n",
    "# without using lots of + signs?\n",
    "\n",
    "# besides being ugly, this stops me (to some degree) from being able to include numbers in my output\n",
    "\n",
    "# we can use an f-string\n",
    "# f-strings are regular strings in every way EXCEPT they can have {} in them\n",
    "# inside of the {}, we can have Python expressions -- variables, function  calls, etc.\n",
    "# the values will always be converted into strings\n",
    "\n",
    "output = f'Hello, {name} from {city}!'\n",
    "print(output)"
   ]
  },
  {
   "cell_type": "code",
   "execution_count": 42,
   "metadata": {},
   "outputs": [
    {
     "name": "stdout",
     "output_type": "stream",
     "text": [
      "Hello, Reuven from Modi'in!\n"
     ]
    }
   ],
   "source": [
    "print(f'Hello, {name} from {city}!')"
   ]
  },
  {
   "cell_type": "markdown",
   "metadata": {},
   "source": [
    "# Comparisons\n",
    "\n",
    "Let's say that I have two values. I want to know if the two values are the same. Or I might to know if one value is smaller (or larger) than the other. How can I do that?\n",
    "\n",
    "For this, I use a *comparison operator*. First and foremost, we have the *equality comparison*, which is `==`.\n",
    "\n",
    "## Don't confuse these two operators:\n",
    "\n",
    "- `=` is the assignment operator; it takes the value on its right and assigns to the variable on its left. This performs an action.\n",
    "- `==` is the comparison operator; it tells you whether the things on its left and right are the same. This answers a question."
   ]
  },
  {
   "cell_type": "code",
   "execution_count": 43,
   "metadata": {},
   "outputs": [
    {
     "data": {
      "text/plain": [
       "True"
      ]
     },
     "execution_count": 43,
     "metadata": {},
     "output_type": "execute_result"
    }
   ],
   "source": [
    "10 == 10"
   ]
  },
  {
   "cell_type": "code",
   "execution_count": 44,
   "metadata": {},
   "outputs": [
    {
     "data": {
      "text/plain": [
       "False"
      ]
     },
     "execution_count": 44,
     "metadata": {},
     "output_type": "execute_result"
    }
   ],
   "source": [
    "10 == 11"
   ]
  },
  {
   "cell_type": "code",
   "execution_count": 45,
   "metadata": {},
   "outputs": [
    {
     "data": {
      "text/plain": [
       "True"
      ]
     },
     "execution_count": 45,
     "metadata": {},
     "output_type": "execute_result"
    }
   ],
   "source": [
    "'abcd' == 'abcd'"
   ]
  },
  {
   "cell_type": "code",
   "execution_count": 46,
   "metadata": {},
   "outputs": [
    {
     "data": {
      "text/plain": [
       "False"
      ]
     },
     "execution_count": 46,
     "metadata": {},
     "output_type": "execute_result"
    }
   ],
   "source": [
    "'abcd' == 'abcd '"
   ]
  },
  {
   "cell_type": "code",
   "execution_count": 47,
   "metadata": {},
   "outputs": [
    {
     "data": {
      "text/plain": [
       "False"
      ]
     },
     "execution_count": 47,
     "metadata": {},
     "output_type": "execute_result"
    }
   ],
   "source": [
    "'abcd' == 'ABCD'"
   ]
  },
  {
   "cell_type": "code",
   "execution_count": 48,
   "metadata": {},
   "outputs": [
    {
     "data": {
      "text/plain": [
       "False"
      ]
     },
     "execution_count": 48,
     "metadata": {},
     "output_type": "execute_result"
    }
   ],
   "source": [
    "20 == '20'"
   ]
  },
  {
   "cell_type": "code",
   "execution_count": 49,
   "metadata": {},
   "outputs": [
    {
     "name": "stdin",
     "output_type": "stream",
     "text": [
      "What is your name:  Reuven\n",
      "which City are you from:  Modi'in\n"
     ]
    },
    {
     "name": "stdout",
     "output_type": "stream",
     "text": [
      "Hello Reuven Welcome to Modi'in\n"
     ]
    }
   ],
   "source": [
    "# MS\n",
    "\n",
    "name=input(\"What is your name: \")\n",
    "city=input(\"which City are you from: \")\n",
    "\n",
    "print(f'Hello {name} Welcome to {city}')\n"
   ]
  },
  {
   "cell_type": "code",
   "execution_count": 50,
   "metadata": {},
   "outputs": [
    {
     "name": "stdout",
     "output_type": "stream",
     "text": [
      "3.12.5 (main, Aug 21 2024, 13:09:10) [Clang 15.0.0 (clang-1500.3.9.4)]\n"
     ]
    }
   ],
   "source": [
    "import sys\n",
    "print(sys.version)   # what does your Python tell you? If it's before version 3.6, then it's VERY VERY VERY OLD"
   ]
  },
  {
   "cell_type": "markdown",
   "metadata": {},
   "source": [
    "# Comparison operators\n",
    "\n",
    "These are the comparison operators we can use in Python:\n",
    "\n",
    "- `==`, returns `True` if the two values are equal, or `False` otherwise\n",
    "- `!=`, the inequality operator -- the opposite of `==`, or what we would call ≠ in real life\n",
    "- `>`, greater than\n",
    "- `>=`, greater than or equals\n",
    "- `<`, less than\n",
    "- `<=`, less than or equals\n"
   ]
  },
  {
   "cell_type": "code",
   "execution_count": 52,
   "metadata": {},
   "outputs": [
    {
     "data": {
      "text/plain": [
       "True"
      ]
     },
     "execution_count": 52,
     "metadata": {},
     "output_type": "execute_result"
    }
   ],
   "source": [
    "# What if I compare strings to find out which is \"less\" than the other?\n",
    "\n",
    "'abcd' < 'efgh'    # we're asking here (more or less) if 'abcd' comes before 'efgh' alphabetically"
   ]
  },
  {
   "cell_type": "markdown",
   "metadata": {},
   "source": [
    "# Conditionals\n",
    "\n",
    "Until now, if we wrote code, it executed. Many times, I want code to execute only under certain circumstances:\n",
    "\n",
    "- Only let the user in if they have adequate security clearance\n",
    "- Only show the cursor if the user is typing\n",
    "\n",
    "To do this, we'll need a new construct, which is `if`"
   ]
  },
  {
   "cell_type": "code",
   "execution_count": 59,
   "metadata": {},
   "outputs": [
    {
     "ename": "KeyboardInterrupt",
     "evalue": "Interrupted by user",
     "output_type": "error",
     "traceback": [
      "\u001b[0;31m---------------------------------------------------------------------------\u001b[0m",
      "\u001b[0;31mKeyboardInterrupt\u001b[0m                         Traceback (most recent call last)",
      "Cell \u001b[0;32mIn[59], line 3\u001b[0m\n\u001b[1;32m      1\u001b[0m \u001b[38;5;66;03m# here's an example of using if\u001b[39;00m\n\u001b[0;32m----> 3\u001b[0m name \u001b[38;5;241m=\u001b[39m \u001b[38;5;28;43minput\u001b[39;49m\u001b[43m(\u001b[49m\u001b[38;5;124;43m'\u001b[39;49m\u001b[38;5;124;43mEnter your name: \u001b[39;49m\u001b[38;5;124;43m'\u001b[39;49m\u001b[43m)\u001b[49m\n\u001b[1;32m      5\u001b[0m \u001b[38;5;28;01mif\u001b[39;00m name \u001b[38;5;241m==\u001b[39m \u001b[38;5;124m'\u001b[39m\u001b[38;5;124mReuven\u001b[39m\u001b[38;5;124m'\u001b[39m:\n\u001b[1;32m      6\u001b[0m     \u001b[38;5;28mprint\u001b[39m(\u001b[38;5;124m'\u001b[39m\u001b[38;5;124mHello, boss!\u001b[39m\u001b[38;5;124m'\u001b[39m)\n",
      "File \u001b[0;32m~/.pyenv/versions/3.12.5/lib/python3.12/site-packages/ipykernel/kernelbase.py:1282\u001b[0m, in \u001b[0;36mKernel.raw_input\u001b[0;34m(self, prompt)\u001b[0m\n\u001b[1;32m   1280\u001b[0m     msg \u001b[38;5;241m=\u001b[39m \u001b[38;5;124m\"\u001b[39m\u001b[38;5;124mraw_input was called, but this frontend does not support input requests.\u001b[39m\u001b[38;5;124m\"\u001b[39m\n\u001b[1;32m   1281\u001b[0m     \u001b[38;5;28;01mraise\u001b[39;00m StdinNotImplementedError(msg)\n\u001b[0;32m-> 1282\u001b[0m \u001b[38;5;28;01mreturn\u001b[39;00m \u001b[38;5;28;43mself\u001b[39;49m\u001b[38;5;241;43m.\u001b[39;49m\u001b[43m_input_request\u001b[49m\u001b[43m(\u001b[49m\n\u001b[1;32m   1283\u001b[0m \u001b[43m    \u001b[49m\u001b[38;5;28;43mstr\u001b[39;49m\u001b[43m(\u001b[49m\u001b[43mprompt\u001b[49m\u001b[43m)\u001b[49m\u001b[43m,\u001b[49m\n\u001b[1;32m   1284\u001b[0m \u001b[43m    \u001b[49m\u001b[38;5;28;43mself\u001b[39;49m\u001b[38;5;241;43m.\u001b[39;49m\u001b[43m_parent_ident\u001b[49m\u001b[43m[\u001b[49m\u001b[38;5;124;43m\"\u001b[39;49m\u001b[38;5;124;43mshell\u001b[39;49m\u001b[38;5;124;43m\"\u001b[39;49m\u001b[43m]\u001b[49m\u001b[43m,\u001b[49m\n\u001b[1;32m   1285\u001b[0m \u001b[43m    \u001b[49m\u001b[38;5;28;43mself\u001b[39;49m\u001b[38;5;241;43m.\u001b[39;49m\u001b[43mget_parent\u001b[49m\u001b[43m(\u001b[49m\u001b[38;5;124;43m\"\u001b[39;49m\u001b[38;5;124;43mshell\u001b[39;49m\u001b[38;5;124;43m\"\u001b[39;49m\u001b[43m)\u001b[49m\u001b[43m,\u001b[49m\n\u001b[1;32m   1286\u001b[0m \u001b[43m    \u001b[49m\u001b[43mpassword\u001b[49m\u001b[38;5;241;43m=\u001b[39;49m\u001b[38;5;28;43;01mFalse\u001b[39;49;00m\u001b[43m,\u001b[49m\n\u001b[1;32m   1287\u001b[0m \u001b[43m\u001b[49m\u001b[43m)\u001b[49m\n",
      "File \u001b[0;32m~/.pyenv/versions/3.12.5/lib/python3.12/site-packages/ipykernel/kernelbase.py:1325\u001b[0m, in \u001b[0;36mKernel._input_request\u001b[0;34m(self, prompt, ident, parent, password)\u001b[0m\n\u001b[1;32m   1322\u001b[0m \u001b[38;5;28;01mexcept\u001b[39;00m \u001b[38;5;167;01mKeyboardInterrupt\u001b[39;00m:\n\u001b[1;32m   1323\u001b[0m     \u001b[38;5;66;03m# re-raise KeyboardInterrupt, to truncate traceback\u001b[39;00m\n\u001b[1;32m   1324\u001b[0m     msg \u001b[38;5;241m=\u001b[39m \u001b[38;5;124m\"\u001b[39m\u001b[38;5;124mInterrupted by user\u001b[39m\u001b[38;5;124m\"\u001b[39m\n\u001b[0;32m-> 1325\u001b[0m     \u001b[38;5;28;01mraise\u001b[39;00m \u001b[38;5;167;01mKeyboardInterrupt\u001b[39;00m(msg) \u001b[38;5;28;01mfrom\u001b[39;00m \u001b[38;5;28;01mNone\u001b[39;00m\n\u001b[1;32m   1326\u001b[0m \u001b[38;5;28;01mexcept\u001b[39;00m \u001b[38;5;167;01mException\u001b[39;00m:\n\u001b[1;32m   1327\u001b[0m     \u001b[38;5;28mself\u001b[39m\u001b[38;5;241m.\u001b[39mlog\u001b[38;5;241m.\u001b[39mwarning(\u001b[38;5;124m\"\u001b[39m\u001b[38;5;124mInvalid Message:\u001b[39m\u001b[38;5;124m\"\u001b[39m, exc_info\u001b[38;5;241m=\u001b[39m\u001b[38;5;28;01mTrue\u001b[39;00m)\n",
      "\u001b[0;31mKeyboardInterrupt\u001b[0m: Interrupted by user"
     ]
    }
   ],
   "source": [
    "# here's an example of using if\n",
    "\n",
    "name = input('Enter your name: ')\n",
    "\n",
    "if name == 'Reuven':\n",
    "    print('Hello, boss!')\n",
    "    print('It is so great to see you again!')\n",
    "else:\n",
    "    print(f'Hello, {name}. Who are you?')"
   ]
  },
  {
   "cell_type": "markdown",
   "metadata": {},
   "source": [
    "# Things to notice\n",
    "\n",
    "1. We use `if` to start a conditional block. `if` looks to its right, and checks for a `True` or `False` value. (Very) often, we'll use a comparison operator such as `==` to the right of the `if`\n",
    "2. There are no `()` necessary around the condition.\n",
    "3. At the end of the line, we put `:`\n",
    "4. Following the `:`, we have a block of code. This block will only run if the `if` condition is `True`\n",
    "5. The block is indicated with indentation.\n",
    "    - A block is always preceded by a `:` at the end of a line\n",
    "    - The block's indentation lasts for as long as the block is active.\n",
    "    - You can stop the indentation by backspacing\n",
    "    - The indentation can be any combination of tabs and spaces *BUT* you must be consistent within a block, and traditionally Python uses 4 spaces.\n",
    "    - Any tool that lets you write Python knows about indentation and will probably automate it for you\n",
    "    - We don't use `{}` or `begin`/`end` or other such things to indicate where the block starts and where it stops\n",
    "6. Optionally, we can have an `else` block. It will only run if the condition for the `if` was `False`.\n",
    "7. `else` doesn't have any condition. It's just `else:`, and then a block after.\n",
    "8. One, and only one, of the `if`/`else` blocks will run. It cannot be that zero will run, and it cannot be that both will run. They are mutually exclusive.\n",
    "9. Inside of a block, you can have ANY CODE WHATSOEVER, including `input`, `print`, `=`, or even another `if` statement."
   ]
  },
  {
   "cell_type": "markdown",
   "metadata": {},
   "source": [
    "# Exercise: Which word comes first?\n",
    "\n",
    "1. Ask the user to enter a word, and assign it to `first`.\n",
    "2. Ask the user to enter a second (different) word, and assign it to `second`.\n",
    "3. Tell the user which word comes first alphabetically.\n",
    "4. Note: Keep both words lowercase, and make sure they're different.\n",
    "\n",
    "Example:\n",
    "\n",
    "    Enter first word: chicken\n",
    "    Enter second word: egg\n",
    "    chicken comes before egg"
   ]
  },
  {
   "cell_type": "code",
   "execution_count": 60,
   "metadata": {},
   "outputs": [
    {
     "name": "stdin",
     "output_type": "stream",
     "text": [
      "Enter first word:  chicken\n",
      "Enter second word:  egg\n"
     ]
    }
   ],
   "source": [
    "first = input('Enter first word: ')\n",
    "second = input('Enter second word: ')"
   ]
  },
  {
   "cell_type": "code",
   "execution_count": 61,
   "metadata": {},
   "outputs": [
    {
     "data": {
      "text/plain": [
       "'chicken'"
      ]
     },
     "execution_count": 61,
     "metadata": {},
     "output_type": "execute_result"
    }
   ],
   "source": [
    "first"
   ]
  },
  {
   "cell_type": "code",
   "execution_count": 62,
   "metadata": {},
   "outputs": [
    {
     "data": {
      "text/plain": [
       "'egg'"
      ]
     },
     "execution_count": 62,
     "metadata": {},
     "output_type": "execute_result"
    }
   ],
   "source": [
    "second"
   ]
  },
  {
   "cell_type": "code",
   "execution_count": 63,
   "metadata": {
    "scrolled": true
   },
   "outputs": [
    {
     "data": {
      "text/plain": [
       "True"
      ]
     },
     "execution_count": 63,
     "metadata": {},
     "output_type": "execute_result"
    }
   ],
   "source": [
    "first == first   # are these two values the same?"
   ]
  },
  {
   "cell_type": "code",
   "execution_count": 70,
   "metadata": {
    "scrolled": true
   },
   "outputs": [
    {
     "data": {
      "text/plain": [
       "False"
      ]
     },
     "execution_count": 70,
     "metadata": {},
     "output_type": "execute_result"
    }
   ],
   "source": [
    "first == second   # are these two values the same?"
   ]
  },
  {
   "cell_type": "code",
   "execution_count": 64,
   "metadata": {},
   "outputs": [
    {
     "data": {
      "text/plain": [
       "True"
      ]
     },
     "execution_count": 64,
     "metadata": {},
     "output_type": "execute_result"
    }
   ],
   "source": [
    "first < second    # does first come before second alphabetically?"
   ]
  },
  {
   "cell_type": "code",
   "execution_count": 65,
   "metadata": {},
   "outputs": [
    {
     "data": {
      "text/plain": [
       "False"
      ]
     },
     "execution_count": 65,
     "metadata": {},
     "output_type": "execute_result"
    }
   ],
   "source": [
    "first > second    # does first come *after* second alphabetically"
   ]
  },
  {
   "cell_type": "code",
   "execution_count": 66,
   "metadata": {},
   "outputs": [
    {
     "data": {
      "text/plain": [
       "True"
      ]
     },
     "execution_count": 66,
     "metadata": {},
     "output_type": "execute_result"
    }
   ],
   "source": [
    "first != second   # are they not the same value?"
   ]
  },
  {
   "cell_type": "code",
   "execution_count": 67,
   "metadata": {},
   "outputs": [
    {
     "name": "stdout",
     "output_type": "stream",
     "text": [
      "chicken comes before egg\n"
     ]
    }
   ],
   "source": [
    "if first < second:   \n",
    "    print(f'{first} comes before {second}')\n",
    "else:\n",
    "    print(f'{second} comescv before {first}')"
   ]
  },
  {
   "cell_type": "code",
   "execution_count": 69,
   "metadata": {},
   "outputs": [
    {
     "name": "stdin",
     "output_type": "stream",
     "text": [
      "Enter first word:  cart\n",
      "Enter second word:  horse\n"
     ]
    },
    {
     "name": "stdout",
     "output_type": "stream",
     "text": [
      "cart comes before horse\n"
     ]
    }
   ],
   "source": [
    "first = input('Enter first word: ')\n",
    "second = input('Enter second word: ')\n",
    "\n",
    "if first < second:   \n",
    "    print(f'{first} comes before {second}')\n",
    "else:\n",
    "    print(f'{second} comes before {first}')"
   ]
  },
  {
   "cell_type": "code",
   "execution_count": 73,
   "metadata": {},
   "outputs": [
    {
     "name": "stdin",
     "output_type": "stream",
     "text": [
      "Enter your name:  Naomi \n"
     ]
    },
    {
     "name": "stdout",
     "output_type": "stream",
     "text": [
      "Hello, Naomi . Who are you?\n"
     ]
    }
   ],
   "source": [
    "# NH\n",
    "\n",
    "name = input('Enter your name: ')\n",
    "\n",
    "if name == 'Naomi':\n",
    "    print('Hello, boss!')\n",
    "    print('It is so great to see you again!')\n",
    "\n",
    "else:\n",
    "    print(f'Hello, {name}. Who are you?')"
   ]
  },
  {
   "cell_type": "code",
   "execution_count": null,
   "metadata": {},
   "outputs": [],
   "source": [
    "# JH\n",
    "\n",
    "first = input('enter a word. ')\n",
    "second = input('enter a different word. ')\n",
    "\n",
    "if first == 'rats':\n",
    "    print('this ' + first + 'comes first')\n",
    "    \n",
    "if second == 'pen':\n",
    "    print('this ' + second + 'comes second').   is this correct"
   ]
  },
  {
   "cell_type": "code",
   "execution_count": null,
   "metadata": {},
   "outputs": [],
   "source": []
  },
  {
   "cell_type": "code",
   "execution_count": 74,
   "metadata": {},
   "outputs": [
    {
     "data": {
      "text/plain": [
       "False"
      ]
     },
     "execution_count": 74,
     "metadata": {},
     "output_type": "execute_result"
    }
   ],
   "source": [
    "# Python checks to see which comes first alphabetically\n",
    "# it compares the first characters in both strings\n",
    "#  - if there's a clear winner, we stop\n",
    "#  - if not, we go to the second character\n",
    "\n",
    "first =  'xyz'\n",
    "second = 'a'\n",
    "\n",
    "first < second"
   ]
  },
  {
   "cell_type": "code",
   "execution_count": 75,
   "metadata": {},
   "outputs": [
    {
     "data": {
      "text/plain": [
       "True"
      ]
     },
     "execution_count": 75,
     "metadata": {},
     "output_type": "execute_result"
    }
   ],
   "source": [
    "second < first"
   ]
  },
  {
   "cell_type": "code",
   "execution_count": 76,
   "metadata": {},
   "outputs": [
    {
     "data": {
      "text/plain": [
       "True"
      ]
     },
     "execution_count": 76,
     "metadata": {},
     "output_type": "execute_result"
    }
   ],
   "source": [
    "\n",
    "first = 'abc'\n",
    "second = 'x'\n",
    "\n",
    "first < second"
   ]
  },
  {
   "cell_type": "code",
   "execution_count": null,
   "metadata": {},
   "outputs": [],
   "source": [
    "# which comes first?\n",
    "# we get to character #4, and they're the same\n",
    "# in this case, testing comes later (like in the dictionary), because it's longer\n",
    "\n",
    "first =  'test'\n",
    "second = 'testing'\n"
   ]
  },
  {
   "cell_type": "code",
   "execution_count": 78,
   "metadata": {},
   "outputs": [
    {
     "name": "stdin",
     "output_type": "stream",
     "text": [
      "enter a word.  test\n",
      "enter a different word.  123test\n"
     ]
    },
    {
     "name": "stdout",
     "output_type": "stream",
     "text": [
      "123test comes before test\n"
     ]
    }
   ],
   "source": [
    "# JH\n",
    "\n",
    "first = input('enter a word. ')\n",
    "second = input('enter a different word. ')\n",
    "\n",
    "if first < second:   # does first come before second alphabetically?\n",
    "    print(f'{first} comes before {second}')\n",
    "    \n",
    "else:    # first < second was False, so we'll run the \"else\" block instead\n",
    "    print(f'{second} comes before {first}')"
   ]
  },
  {
   "cell_type": "markdown",
   "metadata": {},
   "source": [
    "When Python compares strings, it doesn't *really* check them alphabetically.\n",
    "\n",
    "It checks them lexicographically -- using the characters, and their numeric representations.\n",
    "\n",
    "- All capital letters come before all lowercase letters\n",
    "- All numbers and symbols come before lowercase letters"
   ]
  },
  {
   "cell_type": "markdown",
   "metadata": {},
   "source": [
    "# Next up\n",
    "\n",
    "1. Combining conditions with `and` and `or`\n",
    "2. Flipping the logic with `not`\n",
    "3. Adding conditional blocks with `elif`\n",
    "4. Numbers\n",
    "5. Strings"
   ]
  },
  {
   "cell_type": "code",
   "execution_count": 79,
   "metadata": {},
   "outputs": [
    {
     "name": "stdout",
     "output_type": "stream",
     "text": [
      "Yes, it is 10!\n"
     ]
    }
   ],
   "source": [
    "x = 10\n",
    "\n",
    "if x == 10:\n",
    "    print('Yes, it is 10!')"
   ]
  },
  {
   "cell_type": "markdown",
   "metadata": {},
   "source": [
    "What if we want to check if two separate things are true?\n",
    "\n",
    "Or if we want to check if one of two things is true?\n",
    "\n",
    "We can use the `and` and `or` operators. Both `and` and `or` expect to get `True` or `False` values on their left and right.\n",
    "\n",
    "- `and` returns `True` if it sees `True` values on both left and right\n",
    "- `or` returns `True` if it sees a `True` value on *either* its left or right (or both)"
   ]
  },
  {
   "cell_type": "code",
   "execution_count": 80,
   "metadata": {},
   "outputs": [
    {
     "data": {
      "text/plain": [
       "True"
      ]
     },
     "execution_count": 80,
     "metadata": {},
     "output_type": "execute_result"
    }
   ],
   "source": [
    "x = 10\n",
    "y = 20\n",
    "\n",
    "#  True    and         True  --> True\n",
    "x == 10     and    y == 20"
   ]
  },
  {
   "cell_type": "code",
   "execution_count": 81,
   "metadata": {},
   "outputs": [
    {
     "data": {
      "text/plain": [
       "False"
      ]
     },
     "execution_count": 81,
     "metadata": {},
     "output_type": "execute_result"
    }
   ],
   "source": [
    "\n",
    "#  False    and         True  --> False\n",
    "x == 45     and    y == 20"
   ]
  },
  {
   "cell_type": "code",
   "execution_count": 82,
   "metadata": {},
   "outputs": [
    {
     "data": {
      "text/plain": [
       "True"
      ]
     },
     "execution_count": 82,
     "metadata": {},
     "output_type": "execute_result"
    }
   ],
   "source": [
    "\n",
    "#  False    or         True  --> True\n",
    "x == 45     or    y == 20"
   ]
  },
  {
   "cell_type": "code",
   "execution_count": 83,
   "metadata": {},
   "outputs": [
    {
     "name": "stdout",
     "output_type": "stream",
     "text": [
      "Both are what I wanted\n"
     ]
    }
   ],
   "source": [
    "if x == 10 and y == 20:\n",
    "    print('Both are what I wanted')"
   ]
  },
  {
   "cell_type": "code",
   "execution_count": 84,
   "metadata": {},
   "outputs": [
    {
     "name": "stdout",
     "output_type": "stream",
     "text": [
      "At least one is what I wanted\n"
     ]
    }
   ],
   "source": [
    "if x == 45 or y == 20:\n",
    "    print('At least one is what I wanted')"
   ]
  },
  {
   "cell_type": "code",
   "execution_count": 88,
   "metadata": {},
   "outputs": [
    {
     "ename": "IndentationError",
     "evalue": "expected an indented block after 'if' statement on line 4 (3682719915.py, line 6)",
     "output_type": "error",
     "traceback": [
      "\u001b[0;36m  Cell \u001b[0;32mIn[88], line 6\u001b[0;36m\u001b[0m\n\u001b[0;31m    print('At least one is what I wanted')\u001b[0m\n\u001b[0m    ^\u001b[0m\n\u001b[0;31mIndentationError\u001b[0m\u001b[0;31m:\u001b[0m expected an indented block after 'if' statement on line 4\n"
     ]
    }
   ],
   "source": [
    "# how can I make this more readable?\n",
    "# If we have open parentheses, then Python sees the line as continuing\n",
    "\n",
    "if (x == 45 or \n",
    "    y == 20)\n",
    "    print('At least one is what I wanted')"
   ]
  },
  {
   "cell_type": "code",
   "execution_count": 86,
   "metadata": {},
   "outputs": [
    {
     "data": {
      "text/plain": [
       "True"
      ]
     },
     "execution_count": 86,
     "metadata": {},
     "output_type": "execute_result"
    }
   ],
   "source": [
    "x = 10\n",
    "y = 20\n",
    "z = 30\n",
    "\n",
    "#       True         \n",
    "x == 10 and y == 20 and z == 30"
   ]
  },
  {
   "cell_type": "code",
   "execution_count": 89,
   "metadata": {},
   "outputs": [
    {
     "name": "stdout",
     "output_type": "stream",
     "text": [
      "Good news! x is not 20!\n"
     ]
    }
   ],
   "source": [
    "# the third logical operator: not\n",
    "# not returns the opposite of the True/False to its right\n",
    "\n",
    "x = 10\n",
    "\n",
    "if not x == 20:    # don't do this... just use !=  , the inequality operator\n",
    "    print('Good news! x is not 20!')"
   ]
  },
  {
   "cell_type": "code",
   "execution_count": 91,
   "metadata": {},
   "outputs": [
    {
     "ename": "SyntaxError",
     "evalue": "incomplete input (125968667.py, line 2)",
     "output_type": "error",
     "traceback": [
      "\u001b[0;36m  Cell \u001b[0;32mIn[91], line 2\u001b[0;36m\u001b[0m\n\u001b[0;31m    # this is a comment\u001b[0m\n\u001b[0m                         ^\u001b[0m\n\u001b[0;31mSyntaxError\u001b[0m\u001b[0;31m:\u001b[0m incomplete input\n"
     ]
    }
   ],
   "source": [
    "if x == 10:\n",
    "  # this is a comment  \n",
    "    pass   # this means: do nothing, but I have to fill this in here"
   ]
  },
  {
   "cell_type": "markdown",
   "metadata": {},
   "source": [
    "# What if there are more than two options?\n",
    "\n",
    "`if`/`else` is great if you have two options. But if you have three or more options, how can you check for them?\n",
    "\n",
    "1. Put additional `if`/`else` checks and blocks inside of the outer `if`/`else` blocks.\n",
    "2. Better is to use `elif`, which comes after `if` but before `else`, and it says: I have another condition to check, if the previous one(s) were `False`\n",
    "\n"
   ]
  },
  {
   "cell_type": "code",
   "execution_count": null,
   "metadata": {},
   "outputs": [],
   "source": [
    "first = input('Enter first word: ')\n",
    "second = input('Enter second word: ')\n",
    "\n",
    "if first < second:   \n",
    "    print(f'{first} comes before {second}')\n",
    "elif second < first:\n",
    "    print(f'{second} comes before {first}')\n",
    "else:\n",
    "    print(f'You entered {first} twice.')"
   ]
  },
  {
   "cell_type": "code",
   "execution_count": 92,
   "metadata": {},
   "outputs": [
    {
     "name": "stdout",
     "output_type": "stream",
     "text": [
      "more than 10\n"
     ]
    }
   ],
   "source": [
    "x = 50\n",
    "\n",
    "if x > 10:\n",
    "    print('more than 10')\n",
    "elif x > 20:\n",
    "    print('more than 20')\n",
    "elif x > 40:\n",
    "    print('more than 40')\n",
    "elif x > 60:\n",
    "    print('more than 60')\n",
    "elif x > 80:\n",
    "    print('more than 80')\n",
    "else:\n",
    "    print('higher than I can count')"
   ]
  },
  {
   "cell_type": "code",
   "execution_count": 93,
   "metadata": {},
   "outputs": [
    {
     "name": "stdout",
     "output_type": "stream",
     "text": [
      "more than 40\n"
     ]
    }
   ],
   "source": [
    "x = 50\n",
    "\n",
    "if x > 80:\n",
    "    print('more than 80')\n",
    "elif x > 60:\n",
    "    print('more than 60')\n",
    "elif x > 40:\n",
    "    print('more than 40')\n",
    "elif x > 20:\n",
    "    print('more than 20')\n",
    "elif x > 10:\n",
    "    print('more than 10')\n",
    "else:\n",
    "    print('higher than I can count')"
   ]
  },
  {
   "cell_type": "code",
   "execution_count": 95,
   "metadata": {},
   "outputs": [
    {
     "name": "stdout",
     "output_type": "stream",
     "text": [
      "less than 10\n"
     ]
    }
   ],
   "source": [
    "x = 5\n",
    "\n",
    "if x > 80:\n",
    "    print('more than 80')\n",
    "elif x > 60:\n",
    "    print('more than 60')\n",
    "elif x > 40:\n",
    "    print('more than 40')\n",
    "elif x > 20:\n",
    "    print('more than 20')\n",
    "elif x > 10:\n",
    "    print('more than 10')\n",
    "else:\n",
    "    print('less than 10')"
   ]
  },
  {
   "cell_type": "markdown",
   "metadata": {},
   "source": [
    "# Exercise: Name and company\n",
    "\n",
    "0. Decide what name and company will be yours. You can either put these in variables, or you can just hard-code and compare them in the program.\n",
    "1. Ask the user to enter their name\n",
    "2. Ask the user to enter their company's name\n",
    "3. Print one of four things:\n",
    "    - If the user's name matches your name, and the user's company matches your company, say \"You must be me!\"\n",
    "    - If the name is the same, but not the company, then say, \"Great name, but a terrible company\"\n",
    "    - If the company is the same, but not the name, then say, \"Greetings, colleague!\"\n",
    "    - If neither is the same, say something snarky"
   ]
  },
  {
   "cell_type": "code",
   "execution_count": null,
   "metadata": {},
   "outputs": [],
   "source": [
    "a"
   ]
  },
  {
   "cell_type": "code",
   "execution_count": 96,
   "metadata": {},
   "outputs": [
    {
     "name": "stdin",
     "output_type": "stream",
     "text": [
      "What's your name? \n"
     ]
    },
    {
     "data": {
      "text/plain": [
       "''"
      ]
     },
     "execution_count": 96,
     "metadata": {},
     "output_type": "execute_result"
    }
   ],
   "source": [
    "input(\"What's your name?\")"
   ]
  },
  {
   "cell_type": "code",
   "execution_count": 98,
   "metadata": {},
   "outputs": [
    {
     "name": "stdin",
     "output_type": "stream",
     "text": [
      "Enter your name:  Someone\n",
      "Enter your company:  Somewhere\n"
     ]
    },
    {
     "name": "stdout",
     "output_type": "stream",
     "text": [
      "Hello, person with a bad name and worse employer!\n"
     ]
    }
   ],
   "source": [
    "name = input('Enter your name: ')\n",
    "company = input('Enter your company: ')\n",
    "\n",
    "if name == 'Reuven' and company == 'Lerner':\n",
    "    print('You must be me!')\n",
    "elif name == 'Reuven':\n",
    "    print('Great name, terrible company!')\n",
    "elif company == 'Lerner':\n",
    "    print(f'Greetings, {name}, my colleague!')\n",
    "else:\n",
    "    print('Hello, person with a bad name and worse employer!')"
   ]
  },
  {
   "cell_type": "code",
   "execution_count": null,
   "metadata": {},
   "outputs": [],
   "source": [
    "# AK\n",
    "\n",
    "company = 'Acme'\n",
    "name = 'Bugs'\n",
    "\n",
    "nm = input('Enter your name: ')\n",
    "cmp = input('Enter your company: ')\n",
    "\n",
    "if nm==name and cmp==company:\n",
    "  print(f'I am here!')\n",
    "elif nm==name and cmp!=company:\n",
    "  print(f'Hi {nm}, did you get fired?')\n",
    "elif nm!=name and cmp==company:\n",
    "  print(f'Hi {nm}')\n",
    "else:\n",
    "  print('WTF are you?')"
   ]
  },
  {
   "cell_type": "code",
   "execution_count": 100,
   "metadata": {},
   "outputs": [
    {
     "name": "stdin",
     "output_type": "stream",
     "text": [
      "Please enter your name:  Reuven\n",
      "Please enter your company name:  Wherever\n"
     ]
    },
    {
     "name": "stdout",
     "output_type": "stream",
     "text": [
      " Reuven does your Wherever pay well?\n"
     ]
    }
   ],
   "source": [
    "# AR\n",
    "\n",
    "mycomp='MS'\n",
    "myname='Alex'\n",
    "name = input('Please enter your name: ')\n",
    "compname = input('Please enter your company name: ')\n",
    "\n",
    "\n",
    "if name == myname and compname == mycomp:\n",
    "    print (f'Congrats, you are my clone')\n",
    "elif name != myname and compname == mycomp:\n",
    "    print (f' We work for the same shop {mycomp}')\n",
    "elif name == myname and compname == mycomp:\n",
    "    print (f' Nice name {myname}' )\n",
    "else:\n",
    "    print (f' {name} does your {compname} pay well?')"
   ]
  },
  {
   "cell_type": "markdown",
   "metadata": {},
   "source": [
    "# Data structures\n",
    "\n",
    "We're now going to talk about ways in which we can organize our data inside of a program. There are many different types -- we've already seen integers and strings -- and each has different capabilities.\n",
    "\n",
    "Today, we're going to talk more about integers and strings. Next time, we'll talk about lists and tuples. After that, we'll talk about dictionaries and files.\n",
    "\n"
   ]
  },
  {
   "cell_type": "markdown",
   "metadata": {},
   "source": [
    "# Integers\n",
    "\n",
    "Integers are whole numbers, containing just digits. Unlike some other languages, Python's numbers aren't limited by the number of bits they contain. \n",
    "\n",
    "If we have integers, we can run a bunch of different operations on them."
   ]
  },
  {
   "cell_type": "code",
   "execution_count": 101,
   "metadata": {},
   "outputs": [],
   "source": [
    "x = 10\n",
    "y = 3"
   ]
  },
  {
   "cell_type": "code",
   "execution_count": 102,
   "metadata": {},
   "outputs": [
    {
     "data": {
      "text/plain": [
       "13"
      ]
     },
     "execution_count": 102,
     "metadata": {},
     "output_type": "execute_result"
    }
   ],
   "source": [
    "x + y    # addition"
   ]
  },
  {
   "cell_type": "code",
   "execution_count": 103,
   "metadata": {},
   "outputs": [
    {
     "data": {
      "text/plain": [
       "7"
      ]
     },
     "execution_count": 103,
     "metadata": {},
     "output_type": "execute_result"
    }
   ],
   "source": [
    "x - y    # subtraction"
   ]
  },
  {
   "cell_type": "code",
   "execution_count": 104,
   "metadata": {},
   "outputs": [
    {
     "data": {
      "text/plain": [
       "30"
      ]
     },
     "execution_count": 104,
     "metadata": {},
     "output_type": "execute_result"
    }
   ],
   "source": [
    "x * y    # multiplication"
   ]
  },
  {
   "cell_type": "code",
   "execution_count": 105,
   "metadata": {},
   "outputs": [
    {
     "data": {
      "text/plain": [
       "3.3333333333333335"
      ]
     },
     "execution_count": 105,
     "metadata": {},
     "output_type": "execute_result"
    }
   ],
   "source": [
    "x / y    # truediv, returning a floating point number (i.e., with a fractional part)"
   ]
  },
  {
   "cell_type": "code",
   "execution_count": 106,
   "metadata": {},
   "outputs": [
    {
     "data": {
      "text/plain": [
       "3"
      ]
     },
     "execution_count": 106,
     "metadata": {},
     "output_type": "execute_result"
    }
   ],
   "source": [
    "x // y   # floordiv, returning the integer part of the division"
   ]
  },
  {
   "cell_type": "code",
   "execution_count": 107,
   "metadata": {},
   "outputs": [
    {
     "data": {
      "text/plain": [
       "1"
      ]
     },
     "execution_count": 107,
     "metadata": {},
     "output_type": "execute_result"
    }
   ],
   "source": [
    "x % y     # modulo, returning the remainder from division"
   ]
  },
  {
   "cell_type": "code",
   "execution_count": 108,
   "metadata": {},
   "outputs": [
    {
     "data": {
      "text/plain": [
       "1000"
      ]
     },
     "execution_count": 108,
     "metadata": {},
     "output_type": "execute_result"
    }
   ],
   "source": [
    "x ** y    # exponentation"
   ]
  },
  {
   "cell_type": "code",
   "execution_count": 109,
   "metadata": {},
   "outputs": [
    {
     "data": {
      "text/plain": [
       "11"
      ]
     },
     "execution_count": 109,
     "metadata": {},
     "output_type": "execute_result"
    }
   ],
   "source": [
    "x = 10\n",
    "\n",
    "x = x + 1    # this is not valid math, but it is very valid and very common Python code\n",
    "\n",
    "x"
   ]
  },
  {
   "cell_type": "code",
   "execution_count": 110,
   "metadata": {},
   "outputs": [],
   "source": [
    "# we can write this is in a shorter way\n",
    "\n",
    "x = 10\n",
    "x += 1    # += is a shorthand for  x = x + 1"
   ]
  },
  {
   "cell_type": "code",
   "execution_count": 111,
   "metadata": {},
   "outputs": [
    {
     "data": {
      "text/plain": [
       "11"
      ]
     },
     "execution_count": 111,
     "metadata": {},
     "output_type": "execute_result"
    }
   ],
   "source": [
    "x"
   ]
  },
  {
   "cell_type": "code",
   "execution_count": 112,
   "metadata": {},
   "outputs": [
    {
     "data": {
      "text/plain": [
       "10"
      ]
     },
     "execution_count": 112,
     "metadata": {},
     "output_type": "execute_result"
    }
   ],
   "source": [
    "# what if we have a string and we want to get an integer from it?\n",
    "# we can call int() on the string, and we'll get back an integer\n",
    "# (we don't modify the string -- we get a new value back)\n",
    "\n",
    "x = '10'\n",
    "y = int(x)\n",
    "\n",
    "y"
   ]
  },
  {
   "cell_type": "code",
   "execution_count": 113,
   "metadata": {},
   "outputs": [
    {
     "data": {
      "text/plain": [
       "15"
      ]
     },
     "execution_count": 113,
     "metadata": {},
     "output_type": "execute_result"
    }
   ],
   "source": [
    "y + 5"
   ]
  },
  {
   "cell_type": "code",
   "execution_count": 114,
   "metadata": {},
   "outputs": [
    {
     "data": {
      "text/plain": [
       "10"
      ]
     },
     "execution_count": 114,
     "metadata": {},
     "output_type": "execute_result"
    }
   ],
   "source": [
    "x = int(x)   # this means: take the string x, get a new int based on it, then assign the result back to x\n",
    "\n",
    "x"
   ]
  },
  {
   "cell_type": "code",
   "execution_count": 115,
   "metadata": {},
   "outputs": [
    {
     "ename": "ValueError",
     "evalue": "invalid literal for int() with base 10: 'abcd'",
     "output_type": "error",
     "traceback": [
      "\u001b[0;31m---------------------------------------------------------------------------\u001b[0m",
      "\u001b[0;31mValueError\u001b[0m                                Traceback (most recent call last)",
      "Cell \u001b[0;32mIn[115], line 3\u001b[0m\n\u001b[1;32m      1\u001b[0m \u001b[38;5;66;03m# what if the argument to int cannot be turned into an integer? We get an error\u001b[39;00m\n\u001b[0;32m----> 3\u001b[0m \u001b[38;5;28;43mint\u001b[39;49m\u001b[43m(\u001b[49m\u001b[38;5;124;43m'\u001b[39;49m\u001b[38;5;124;43mabcd\u001b[39;49m\u001b[38;5;124;43m'\u001b[39;49m\u001b[43m)\u001b[49m\n",
      "\u001b[0;31mValueError\u001b[0m: invalid literal for int() with base 10: 'abcd'"
     ]
    }
   ],
   "source": [
    "# what if the argument to int cannot be turned into an integer? We get an error\n",
    "\n",
    "int('abcd')"
   ]
  },
  {
   "cell_type": "code",
   "execution_count": 116,
   "metadata": {},
   "outputs": [
    {
     "data": {
      "text/plain": [
       "5"
      ]
     },
     "execution_count": 116,
     "metadata": {},
     "output_type": "execute_result"
    }
   ],
   "source": [
    "int(5)  # if you really way, we'll get an integer 5 back from this"
   ]
  },
  {
   "cell_type": "code",
   "execution_count": 117,
   "metadata": {},
   "outputs": [
    {
     "data": {
      "text/plain": [
       "123"
      ]
     },
     "execution_count": 117,
     "metadata": {},
     "output_type": "execute_result"
    }
   ],
   "source": [
    "int(123.456)  # pass in a float, and we get the integer part -- this doesn't round!"
   ]
  },
  {
   "cell_type": "markdown",
   "metadata": {},
   "source": [
    "# Exercise: Bad guessing game\n",
    "\n",
    "1. Define a variable, `number`, with a number the user should guess.\n",
    "2. Ask the user to enter a guess, and assign it to `guess`.\n",
    "3. Tell the user one of these:\n",
    "    - You got it! (if they guessed correctly)\n",
    "    - Too low! (if too low)\n",
    "    - Too high! (if too high)\n",
    "4. The user gets a single chance to guess the number."
   ]
  },
  {
   "cell_type": "code",
   "execution_count": 122,
   "metadata": {},
   "outputs": [
    {
     "name": "stdin",
     "output_type": "stream",
     "text": [
      "Enter a guess:  98\n"
     ]
    },
    {
     "name": "stdout",
     "output_type": "stream",
     "text": [
      "Too high!\n"
     ]
    }
   ],
   "source": [
    "number = 72\n",
    "\n",
    "guess = input('Enter a guess: ')\n",
    "guess = int(guess)\n",
    "\n",
    "if guess == number:\n",
    "    print('You got it!')\n",
    "elif guess < number:\n",
    "    print('Too low!')\n",
    "else:\n",
    "    print('Too high!')"
   ]
  },
  {
   "cell_type": "code",
   "execution_count": 119,
   "metadata": {},
   "outputs": [
    {
     "data": {
      "text/plain": [
       "False"
      ]
     },
     "execution_count": 119,
     "metadata": {},
     "output_type": "execute_result"
    }
   ],
   "source": [
    "72 == '72'"
   ]
  },
  {
   "cell_type": "code",
   "execution_count": null,
   "metadata": {},
   "outputs": [],
   "source": [
    "# this will work, too...\n",
    "\n",
    "number = 72\n",
    "\n",
    "guess = int(input('Enter a guess: '))\n",
    "\n",
    "if guess == number:\n",
    "    print('You got it!')\n",
    "elif guess < number:\n",
    "    print('Too low!')\n",
    "else:\n",
    "    print('Too high!')"
   ]
  },
  {
   "cell_type": "code",
   "execution_count": null,
   "metadata": {},
   "outputs": [],
   "source": []
  }
 ],
 "metadata": {
  "kernelspec": {
   "display_name": "Python 3 (ipykernel)",
   "language": "python",
   "name": "python3"
  },
  "language_info": {
   "codemirror_mode": {
    "name": "ipython",
    "version": 3
   },
   "file_extension": ".py",
   "mimetype": "text/x-python",
   "name": "python",
   "nbconvert_exporter": "python",
   "pygments_lexer": "ipython3",
   "version": "3.12.5"
  }
 },
 "nbformat": 4,
 "nbformat_minor": 4
}
